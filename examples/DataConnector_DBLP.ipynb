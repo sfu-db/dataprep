{
 "cells": [
  {
   "cell_type": "markdown",
   "metadata": {},
   "source": [
    "# Connector for DBLP \n",
    "\n",
    "In this example, we will be going over how to use Connector with DBLP."
   ]
  },
  {
   "cell_type": "markdown",
   "metadata": {},
   "source": [
    "## Preprocessing\n",
    "\n",
    "connector is a component in the dataprep library that aims to simplify the data access by providing a standard API set. The goal is to help the users skip the complex API configuration. In this tutorial, we demonstrate how to use connector library with DBLP.\n",
    "\n",
    "If you haven't installed dataprep, run command `pip install dataprep` or execute the following cell."
   ]
  },
  {
   "cell_type": "code",
   "execution_count": null,
   "metadata": {},
   "outputs": [],
   "source": [
    "># Run me if you'd like to install\n",
    ">!pip install dataprep"
   ]
  },
  {
   "cell_type": "markdown",
   "metadata": {},
   "source": [
    "# Download and store the configuration files in dataprep. \n",
    "\n",
    "The configuration files are used to configure the parameters and initial setup for the API. The available configuration files can be manually downloaded here: [Configuration Files](https://github.com/sfu-db/DataConnectorConfigs) or automatically downloaded at usage. \n",
    "\n",
    "Store the configuration file in the dataprep folder. "
   ]
  },
  {
   "cell_type": "markdown",
   "metadata": {},
   "source": [
    "# Initialize connector\n",
    "\n",
    "To initialize run the following code. Unlike Yelp and Spotify, tokens and client information are not needed."
   ]
  },
  {
   "cell_type": "code",
   "execution_count": null,
   "metadata": {},
   "outputs": [],
   "source": [
    "from dataprep.connector import Connector\n",
    "dc = Connector('dblp')"
   ]
  },
  {
   "cell_type": "markdown",
   "metadata": {},
   "source": [
    "# Functionalities\n",
    "\n",
    "Connector has several functions you can perform to gain insight on the data downloaded from DBLP."
   ]
  },
  {
   "cell_type": "markdown",
   "metadata": {},
   "source": [
    "### Connector.info\n",
    "The info method gives information and guidelines of using the connector. There are 3 sections in the response and they are table, parameters and examples.\n",
    ">1. Table - The table(s) being accessed.\n",
    ">2. Parameters - Identifies which parameters can be used to call the method. For DBLP, there is no required **parameter**. \n",
    ">3. Examples - Shows how you can call the methods in the Connector class."
   ]
  },
  {
   "cell_type": "code",
   "execution_count": null,
   "metadata": {},
   "outputs": [],
   "source": [
    "dc.info()"
   ]
  },
  {
   "cell_type": "markdown",
   "metadata": {},
   "source": [
    "### Connector.show_schema\n",
    "The show_schema method returns the schema of the website data to be returned in a Dataframe. There are two columns in the response. The first column is the column name and the second is the datatype.\n",
    "\n",
    "As an example, lets see what is in the publication table."
   ]
  },
  {
   "cell_type": "code",
   "execution_count": null,
   "metadata": {},
   "outputs": [],
   "source": [
    "dc.show_schema(\"publication\")"
   ]
  },
  {
   "cell_type": "markdown",
   "metadata": {},
   "source": [
    "### Connector.query\n",
    "The query method downloads the website data and displays it in a Dataframe. The parameters must meet the requirements as indicated in connector.info for the operation to run.\n",
    "\n",
    "When the data is received from the server, it will either be in a JSON or XML format. The connector reformats the data in pandas Dataframe for the convenience of downstream operations.\n",
    "\n",
    "As an example, let's try to get the data from the \"publication\" table, providing the query search for \"lee\"."
   ]
  },
  {
   "cell_type": "code",
   "execution_count": null,
   "metadata": {},
   "outputs": [],
   "source": [
    "df = dc.query(\"businesses\", term=\"publication\", location=\"lee\")"
   ]
  },
  {
   "cell_type": "markdown",
   "metadata": {},
   "source": [
    "From query results, you can see how easy it is to download the publication data from DBLP into a pandas Dataframe.\n",
    "\n",
    "Now that you have an understanding of how connector operates, you can easily accomplish the task with two lines of code.\n",
    "\n",
    "\n",
    ">1. dc = Connector(...)\n",
    ">2. dc.query(...)"
   ]
  },
  {
   "cell_type": "markdown",
   "metadata": {},
   "source": [
    "# That's all for now. \n",
    "If you are interested in writing your own configuration file or modify an existing one, refer to the [Configuration Files](https://github.com/sfu-db/DataConnectorConfigs>)."
   ]
  }
 ],
 "metadata": {
  "kernelspec": {
   "display_name": "Python 3",
   "language": "python",
   "name": "python3"
  },
  "language_info": {
   "codemirror_mode": {
    "name": "ipython",
    "version": 3
   },
   "file_extension": ".py",
   "mimetype": "text/x-python",
   "name": "python",
   "nbconvert_exporter": "python",
   "pygments_lexer": "ipython3",
   "version": "3.7.4"
  }
 },
 "nbformat": 4,
 "nbformat_minor": 4
}

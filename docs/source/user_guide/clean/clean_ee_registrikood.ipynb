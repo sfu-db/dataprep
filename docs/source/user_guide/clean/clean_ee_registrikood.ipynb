{
 "cells": [
  {
   "cell_type": "raw",
   "id": "nominated-female",
   "metadata": {},
   "source": [
    ".. _registrikood_userguide:\n",
    "\n",
    "Estonian Organisation Registration Codes\n",
    "========================================"
   ]
  },
  {
   "cell_type": "raw",
   "id": "needed-repeat",
   "metadata": {},
   "source": [
    "Introduction\n",
    "------------\n",
    "\n",
    "The function :func:`clean_ee_registrikood() <dataprep.clean.clean_ee_registrikood.clean_ee_registrikood>` cleans a column containing Estonian organisation registration code (Registrikood) strings, and standardizes them in a given format. The function :func:`validate_ee_registrikood() <dataprep.clean.clean_ee_registrikood.validate_ee_registrikood>` validates either a single Registrikood strings, a column of Registrikood strings or a DataFrame of Registrikood strings, returning `True` if the value is valid, and `False` otherwise."
   ]
  },
  {
   "cell_type": "markdown",
   "id": "pregnant-omega",
   "metadata": {},
   "source": [
    "Registrikood strings can be converted to the following formats via the `output_format` parameter:\n",
    "\n",
    "* `compact`: only number strings without any seperators or whitespace, like \"12345678\"\n",
    "* `standard`: Registrikood strings with proper whitespace in the proper places. Note that in the case of Registrikood, the compact format is the same as the standard one.\n",
    "\n",
    "Invalid parsing is handled with the `errors` parameter:\n",
    "\n",
    "* `coerce` (default): invalid parsing will be set to NaN\n",
    "* `ignore`: invalid parsing will return the input\n",
    "* `raise`: invalid parsing will raise an exception\n",
    "\n",
    "The following sections demonstrate the functionality of `clean_ee_registrikood()` and `validate_ee_registrikood()`. "
   ]
  },
  {
   "cell_type": "markdown",
   "id": "private-serum",
   "metadata": {},
   "source": [
    "### An example dataset containing Registrikood strings"
   ]
  },
  {
   "cell_type": "code",
   "execution_count": null,
   "id": "correct-leadership",
   "metadata": {},
   "outputs": [],
   "source": [
    "import pandas as pd\n",
    "import numpy as np\n",
    "df = pd.DataFrame(\n",
    "    {\n",
    "        \"registrikood\": [\n",
    "            '12345678',\n",
    "            '12345679',\n",
    "            'BE 428759497',\n",
    "            'BE431150351',\n",
    "            \"002 724 334\",\n",
    "            \"hello\",\n",
    "            np.nan,\n",
    "            \"NULL\",\n",
    "        ], \n",
    "        \"address\": [\n",
    "            \"123 Pine Ave.\",\n",
    "            \"main st\",\n",
    "            \"1234 west main heights 57033\",\n",
    "            \"apt 1 789 s maple rd manhattan\",\n",
    "            \"robie house, 789 north main street\",\n",
    "            \"1111 S Figueroa St, Los Angeles, CA 90015\",\n",
    "            \"(staples center) 1111 S Figueroa St, Los Angeles\",\n",
    "            \"hello\",\n",
    "        ]\n",
    "    }\n",
    ")\n",
    "df"
   ]
  },
  {
   "cell_type": "markdown",
   "id": "sorted-lloyd",
   "metadata": {},
   "source": [
    "## 1. Default `clean_ee_registrikood`\n",
    "\n",
    "By default, `clean_ee_registrikood` will clean registrikood strings and output them in the standard format with proper separators."
   ]
  },
  {
   "cell_type": "code",
   "execution_count": null,
   "id": "practical-induction",
   "metadata": {},
   "outputs": [],
   "source": [
    "from dataprep.clean import clean_ee_registrikood\n",
    "clean_ee_registrikood(df, column = \"registrikood\")"
   ]
  },
  {
   "cell_type": "markdown",
   "id": "generous-disorder",
   "metadata": {},
   "source": [
    "## 2. Output formats"
   ]
  },
  {
   "cell_type": "markdown",
   "id": "thousand-sharp",
   "metadata": {},
   "source": [
    "This section demonstrates the output parameter."
   ]
  },
  {
   "cell_type": "markdown",
   "id": "labeled-naples",
   "metadata": {},
   "source": [
    "### `standard` (default)"
   ]
  },
  {
   "cell_type": "code",
   "execution_count": null,
   "id": "subject-sight",
   "metadata": {},
   "outputs": [],
   "source": [
    "clean_ee_registrikood(df, column = \"registrikood\", output_format=\"standard\")"
   ]
  },
  {
   "cell_type": "markdown",
   "id": "downtown-accident",
   "metadata": {},
   "source": [
    "### `compact`"
   ]
  },
  {
   "cell_type": "code",
   "execution_count": null,
   "id": "champion-hotel",
   "metadata": {},
   "outputs": [],
   "source": [
    "clean_ee_registrikood(df, column = \"registrikood\", output_format=\"compact\")"
   ]
  },
  {
   "cell_type": "markdown",
   "id": "polyphonic-classics",
   "metadata": {},
   "source": [
    "## 3. `inplace` parameter\n",
    "\n",
    "This deletes the given column from the returned DataFrame. \n",
    "A new column containing cleaned Registrikood strings is added with a title in the format `\"{original title}_clean\"`."
   ]
  },
  {
   "cell_type": "code",
   "execution_count": null,
   "id": "polar-drama",
   "metadata": {},
   "outputs": [],
   "source": [
    "clean_ee_registrikood(df, column=\"registrikood\", inplace=True)"
   ]
  },
  {
   "cell_type": "markdown",
   "id": "racial-blend",
   "metadata": {},
   "source": [
    "## 4. `errors` parameter"
   ]
  },
  {
   "cell_type": "markdown",
   "id": "minimal-tucson",
   "metadata": {},
   "source": [
    "### `coerce` (default)"
   ]
  },
  {
   "cell_type": "code",
   "execution_count": null,
   "id": "political-drama",
   "metadata": {},
   "outputs": [],
   "source": [
    "clean_ee_registrikood(df, \"registrikood\", errors=\"coerce\")"
   ]
  },
  {
   "cell_type": "markdown",
   "id": "excited-arrival",
   "metadata": {},
   "source": [
    "### `ignore`"
   ]
  },
  {
   "cell_type": "code",
   "execution_count": null,
   "id": "placed-democrat",
   "metadata": {},
   "outputs": [],
   "source": [
    "clean_ee_registrikood(df, \"registrikood\", errors=\"ignore\")"
   ]
  },
  {
   "cell_type": "markdown",
   "id": "parallel-travel",
   "metadata": {},
   "source": [
    "## 4. `validate_ee_registrikood()`"
   ]
  },
  {
   "cell_type": "markdown",
   "id": "major-morrison",
   "metadata": {},
   "source": [
    "`validate_ee_registrikood()` returns `True` when the input is a valid Registrikood. Otherwise it returns `False`.\n",
    "\n",
    "The input of `validate_ee_registrikood()` can be a string, a Pandas DataSeries, a Dask DataSeries, a Pandas DataFrame and a dask DataFrame.\n",
    "\n",
    "When the input is a string, a Pandas DataSeries or a Dask DataSeries, user doesn't need to specify a column name to be validated. \n",
    "\n",
    "When the input is a Pandas DataFrame or a dask DataFrame, user can both specify or not specify a column name to be validated. If user specify the column name, `validate_ee_registrikood()` only returns the validation result for the specified column. If user doesn't specify the column name, `validate_ee_registrikood()` returns the validation result for the whole DataFrame."
   ]
  },
  {
   "cell_type": "code",
   "execution_count": null,
   "id": "respective-average",
   "metadata": {},
   "outputs": [],
   "source": [
    "from dataprep.clean import validate_ee_registrikood\n",
    "print(validate_ee_registrikood(\"12345678\"))\n",
    "print(validate_ee_registrikood(\"12345679\"))\n",
    "print(validate_ee_registrikood('BE 428759497'))\n",
    "print(validate_ee_registrikood('BE431150351'))\n",
    "print(validate_ee_registrikood(\"004085616\"))\n",
    "print(validate_ee_registrikood(\"hello\"))\n",
    "print(validate_ee_registrikood(np.nan))\n",
    "print(validate_ee_registrikood(\"NULL\"))"
   ]
  },
  {
   "cell_type": "markdown",
   "id": "integrated-triangle",
   "metadata": {},
   "source": [
    "### Series"
   ]
  },
  {
   "cell_type": "code",
   "execution_count": null,
   "id": "extraordinary-control",
   "metadata": {},
   "outputs": [],
   "source": [
    "validate_ee_registrikood(df[\"registrikood\"])"
   ]
  },
  {
   "cell_type": "markdown",
   "id": "boxed-seventh",
   "metadata": {},
   "source": [
    "### DataFrame + Specify Column"
   ]
  },
  {
   "cell_type": "code",
   "execution_count": null,
   "id": "subtle-corpus",
   "metadata": {},
   "outputs": [],
   "source": [
    "validate_ee_registrikood(df, column=\"registrikood\")"
   ]
  },
  {
   "cell_type": "markdown",
   "id": "floating-arcade",
   "metadata": {},
   "source": [
    "### Only DataFrame"
   ]
  },
  {
   "cell_type": "code",
   "execution_count": null,
   "id": "blind-semiconductor",
   "metadata": {
    "scrolled": true
   },
   "outputs": [],
   "source": [
    "validate_ee_registrikood(df)"
   ]
  },
  {
   "cell_type": "code",
   "execution_count": null,
   "id": "talented-fighter",
   "metadata": {},
   "outputs": [],
   "source": []
  }
 ],
 "metadata": {
  "kernelspec": {
   "display_name": "Python 3",
   "language": "python",
   "name": "python3"
  },
  "language_info": {
   "codemirror_mode": {
    "name": "ipython",
    "version": 3
   },
   "file_extension": ".py",
   "mimetype": "text/x-python",
   "name": "python",
   "nbconvert_exporter": "python",
   "pygments_lexer": "ipython3",
   "version": "3.6.12"
  }
 },
 "nbformat": 4,
 "nbformat_minor": 5
}

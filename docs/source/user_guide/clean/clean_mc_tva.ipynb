{
 "cells": [
  {
   "cell_type": "markdown",
   "id": "threaded-crash",
   "metadata": {},
   "source": [
    "# Monacan TVA Numbers"
   ]
  },
  {
   "cell_type": "markdown",
   "id": "better-adelaide",
   "metadata": {},
   "source": [
    "## Introduction"
   ]
  },
  {
   "cell_type": "markdown",
   "id": "molecular-support",
   "metadata": {},
   "source": [
    "The function `clean_mc_tva()` cleans a column containing Monacan TVA number (TVA) strings, and standardizes them in a given format. The function `validate_mc_tva()` validates either a single TVA strings, a column of TVA strings or a DataFrame of TVA strings, returning `True` if the value is valid, and `False` otherwise."
   ]
  },
  {
   "cell_type": "markdown",
   "id": "intermediate-austria",
   "metadata": {},
   "source": [
    "TVA strings can be converted to the following formats via the `output_format` parameter:\n",
    "\n",
    "* `compact`: only number strings without any seperators or whitespace, like \"FR53000004605\"\n",
    "* `standard`: TVA strings with proper whitespace in the proper places. Note that in the case of TVA, the compact format is the same as the standard one.\n",
    "\n",
    "Invalid parsing is handled with the `errors` parameter:\n",
    "\n",
    "* `coerce` (default): invalid parsing will be set to NaN\n",
    "* `ignore`: invalid parsing will return the input\n",
    "* `raise`: invalid parsing will raise an exception\n",
    "\n",
    "The following sections demonstrate the functionality of `clean_mc_tva()` and `validate_mc_tva()`. "
   ]
  },
  {
   "cell_type": "markdown",
   "id": "primary-liberal",
   "metadata": {},
   "source": [
    "### An example dataset containing TVA strings"
   ]
  },
  {
   "cell_type": "code",
   "execution_count": null,
   "id": "mediterranean-newton",
   "metadata": {},
   "outputs": [],
   "source": [
    "import pandas as pd\n",
    "import numpy as np\n",
    "df = pd.DataFrame(\n",
    "    {\n",
    "        \"tva\": [\n",
    "            '53 0000 04605',\n",
    "            'FR 61 954 506 077',\n",
    "            'BE 428759497',\n",
    "            'BE431150351',\n",
    "            \"002 724 334\",\n",
    "            \"hello\",\n",
    "            np.nan,\n",
    "            \"NULL\",\n",
    "        ], \n",
    "        \"address\": [\n",
    "            \"123 Pine Ave.\",\n",
    "            \"main st\",\n",
    "            \"1234 west main heights 57033\",\n",
    "            \"apt 1 789 s maple rd manhattan\",\n",
    "            \"robie house, 789 north main street\",\n",
    "            \"1111 S Figueroa St, Los Angeles, CA 90015\",\n",
    "            \"(staples center) 1111 S Figueroa St, Los Angeles\",\n",
    "            \"hello\",\n",
    "        ]\n",
    "    }\n",
    ")\n",
    "df"
   ]
  },
  {
   "cell_type": "markdown",
   "id": "present-comparison",
   "metadata": {},
   "source": [
    "## 1. Default `clean_mc_tva`\n",
    "\n",
    "By default, `clean_mc_tva` will clean tva strings and output them in the standard format with proper separators."
   ]
  },
  {
   "cell_type": "code",
   "execution_count": null,
   "id": "prescribed-exception",
   "metadata": {},
   "outputs": [],
   "source": [
    "from dataprep.clean import clean_mc_tva\n",
    "clean_mc_tva(df, column = \"tva\")"
   ]
  },
  {
   "cell_type": "markdown",
   "id": "human-damages",
   "metadata": {},
   "source": [
    "## 2. Output formats"
   ]
  },
  {
   "cell_type": "markdown",
   "id": "living-entrance",
   "metadata": {},
   "source": [
    "This section demonstrates the output parameter."
   ]
  },
  {
   "cell_type": "markdown",
   "id": "severe-determination",
   "metadata": {},
   "source": [
    "### `standard` (default)"
   ]
  },
  {
   "cell_type": "code",
   "execution_count": null,
   "id": "surprising-medium",
   "metadata": {},
   "outputs": [],
   "source": [
    "clean_mc_tva(df, column = \"tva\", output_format=\"standard\")"
   ]
  },
  {
   "cell_type": "markdown",
   "id": "mysterious-truck",
   "metadata": {},
   "source": [
    "### `compact`"
   ]
  },
  {
   "cell_type": "code",
   "execution_count": null,
   "id": "lesbian-canberra",
   "metadata": {},
   "outputs": [],
   "source": [
    "clean_mc_tva(df, column = \"tva\", output_format=\"compact\")"
   ]
  },
  {
   "cell_type": "markdown",
   "id": "enclosed-luxury",
   "metadata": {},
   "source": [
    "## 3. `inplace` parameter\n",
    "\n",
    "This deletes the given column from the returned DataFrame. \n",
    "A new column containing cleaned TVA strings is added with a title in the format `\"{original title}_clean\"`."
   ]
  },
  {
   "cell_type": "code",
   "execution_count": null,
   "id": "electoral-proposition",
   "metadata": {},
   "outputs": [],
   "source": [
    "clean_mc_tva(df, column=\"tva\", inplace=True)"
   ]
  },
  {
   "cell_type": "markdown",
   "id": "studied-toilet",
   "metadata": {},
   "source": [
    "## 4. `errors` parameter"
   ]
  },
  {
   "cell_type": "markdown",
   "id": "medical-acceptance",
   "metadata": {},
   "source": [
    "### `coerce` (default)"
   ]
  },
  {
   "cell_type": "code",
   "execution_count": null,
   "id": "approved-baseball",
   "metadata": {},
   "outputs": [],
   "source": [
    "clean_mc_tva(df, \"tva\", errors=\"coerce\")"
   ]
  },
  {
   "cell_type": "markdown",
   "id": "purple-shield",
   "metadata": {},
   "source": [
    "### `ignore`"
   ]
  },
  {
   "cell_type": "code",
   "execution_count": null,
   "id": "alleged-option",
   "metadata": {},
   "outputs": [],
   "source": [
    "clean_mc_tva(df, \"tva\", errors=\"ignore\")"
   ]
  },
  {
   "cell_type": "markdown",
   "id": "sealed-speech",
   "metadata": {},
   "source": [
    "## 4. `validate_mc_tva()`"
   ]
  },
  {
   "cell_type": "markdown",
   "id": "processed-venice",
   "metadata": {},
   "source": [
    "`validate_mc_tva()` returns `True` when the input is a valid TVA. Otherwise it returns `False`.\n",
    "\n",
    "The input of `validate_mc_tva()` can be a string, a Pandas DataSeries, a Dask DataSeries, a Pandas DataFrame and a dask DataFrame.\n",
    "\n",
    "When the input is a string, a Pandas DataSeries or a Dask DataSeries, user doesn't need to specify a column name to be validated. \n",
    "\n",
    "When the input is a Pandas DataFrame or a dask DataFrame, user can both specify or not specify a column name to be validated. If user specify the column name, `validate_mc_tva()` only returns the validation result for the specified column. If user doesn't specify the column name, `validate_mc_tva()` returns the validation result for the whole DataFrame."
   ]
  },
  {
   "cell_type": "code",
   "execution_count": null,
   "id": "rocky-education",
   "metadata": {},
   "outputs": [],
   "source": [
    "from dataprep.clean import validate_mc_tva\n",
    "print(validate_mc_tva(\"53 0000 04605\"))\n",
    "print(validate_mc_tva(\"FR 61 954 506 077\"))\n",
    "print(validate_mc_tva('BE 428759497'))\n",
    "print(validate_mc_tva('BE431150351'))\n",
    "print(validate_mc_tva(\"004085616\"))\n",
    "print(validate_mc_tva(\"hello\"))\n",
    "print(validate_mc_tva(np.nan))\n",
    "print(validate_mc_tva(\"NULL\"))"
   ]
  },
  {
   "cell_type": "markdown",
   "id": "cooked-maker",
   "metadata": {},
   "source": [
    "### Series"
   ]
  },
  {
   "cell_type": "code",
   "execution_count": null,
   "id": "ideal-taiwan",
   "metadata": {},
   "outputs": [],
   "source": [
    "validate_mc_tva(df[\"tva\"])"
   ]
  },
  {
   "cell_type": "markdown",
   "id": "foster-ghana",
   "metadata": {},
   "source": [
    "### DataFrame + Specify Column"
   ]
  },
  {
   "cell_type": "code",
   "execution_count": null,
   "id": "broadband-northeast",
   "metadata": {},
   "outputs": [],
   "source": [
    "validate_mc_tva(df, column=\"tva\")"
   ]
  },
  {
   "cell_type": "markdown",
   "id": "manual-cache",
   "metadata": {},
   "source": [
    "### Only DataFrame"
   ]
  },
  {
   "cell_type": "code",
   "execution_count": null,
   "id": "reasonable-creativity",
   "metadata": {},
   "outputs": [],
   "source": [
    "validate_mc_tva(df)"
   ]
  },
  {
   "cell_type": "code",
   "execution_count": null,
   "id": "victorian-selection",
   "metadata": {},
   "outputs": [],
   "source": []
  }
 ],
 "metadata": {
  "kernelspec": {
   "display_name": "Python 3",
   "language": "python",
   "name": "python3"
  },
  "language_info": {
   "codemirror_mode": {
    "name": "ipython",
    "version": 3
   },
   "file_extension": ".py",
   "mimetype": "text/x-python",
   "name": "python",
   "nbconvert_exporter": "python",
   "pygments_lexer": "ipython3",
   "version": "3.6.12"
  }
 },
 "nbformat": 4,
 "nbformat_minor": 5
}

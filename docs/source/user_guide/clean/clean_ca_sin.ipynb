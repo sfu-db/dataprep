{
 "cells": [
  {
   "cell_type": "markdown",
   "id": "english-aerospace",
   "metadata": {},
   "source": [
    "# Canadian Social Insurance Numbers"
   ]
  },
  {
   "cell_type": "markdown",
   "id": "inclusive-contractor",
   "metadata": {},
   "source": [
    "## Introduction"
   ]
  },
  {
   "cell_type": "markdown",
   "id": "threatened-chemical",
   "metadata": {},
   "source": [
    "The function `clean_ca_sin()` cleans a column containing Canadian Social Insurance Number (SIN) strings, and standardizes them in a given format. The function `validate_ca_sin()` validates either a single SIN strings, a column of SIN strings or a DataFrame of SIN strings, returning `True` if the value is valid, and `False` otherwise."
   ]
  },
  {
   "cell_type": "markdown",
   "id": "geological-appreciation",
   "metadata": {},
   "source": [
    "SIN strings can be converted to the following formats via the `output_format` parameter:\n",
    "\n",
    "* `compact`: only number strings without any seperators or whitespace, like \"123456782\"\n",
    "* `standard`: SIN strings with proper whitespace in the proper places, like \"123-456-782\"\n",
    "\n",
    "Invalid parsing is handled with the `errors` parameter:\n",
    "\n",
    "* `coerce` (default): invalid parsing will be set to NaN\n",
    "* `ignore`: invalid parsing will return the input\n",
    "* `raise`: invalid parsing will raise an exception\n",
    "\n",
    "The following sections demonstrate the functionality of `clean_ca_sin()` and `validate_ca_sin()`. "
   ]
  },
  {
   "cell_type": "markdown",
   "id": "horizontal-identifier",
   "metadata": {},
   "source": [
    "### An example dataset containing SIN strings"
   ]
  },
  {
   "cell_type": "code",
   "execution_count": null,
   "id": "possible-formula",
   "metadata": {},
   "outputs": [],
   "source": [
    "import pandas as pd\n",
    "import numpy as np\n",
    "df = pd.DataFrame(\n",
    "    {\n",
    "        \"sin\": [\n",
    "            \"123456782\",\n",
    "            \"12345678Z\",\n",
    "            \"51824753556\",\n",
    "            \"51 824 753 556\",\n",
    "            \"hello\",\n",
    "            np.nan,\n",
    "            \"NULL\"\n",
    "        ], \n",
    "        \"address\": [\n",
    "            \"123 Pine Ave.\",\n",
    "            \"main st\",\n",
    "            \"1234 west main heights 57033\",\n",
    "            \"apt 1 789 s maple rd manhattan\",\n",
    "            \"robie house, 789 north main street\",\n",
    "            \"(staples center) 1111 S Figueroa St, Los Angeles\",\n",
    "            \"hello\",\n",
    "        ]\n",
    "    }\n",
    ")\n",
    "df"
   ]
  },
  {
   "cell_type": "markdown",
   "id": "sexual-sharp",
   "metadata": {},
   "source": [
    "## 1. Default `clean_ca_sin`\n",
    "\n",
    "By default, `clean_ca_sin` will clean sin strings and output them in the standard format with proper separators."
   ]
  },
  {
   "cell_type": "code",
   "execution_count": null,
   "id": "reported-remove",
   "metadata": {
    "scrolled": true
   },
   "outputs": [],
   "source": [
    "from dataprep.clean import clean_ca_sin\n",
    "clean_ca_sin(df, column = \"sin\")"
   ]
  },
  {
   "cell_type": "markdown",
   "id": "promising-chest",
   "metadata": {},
   "source": [
    "## 2. Output formats"
   ]
  },
  {
   "cell_type": "markdown",
   "id": "boxed-prairie",
   "metadata": {},
   "source": [
    "This section demonstrates the output parameter."
   ]
  },
  {
   "cell_type": "markdown",
   "id": "elegant-bouquet",
   "metadata": {},
   "source": [
    "### `standard` (default)"
   ]
  },
  {
   "cell_type": "code",
   "execution_count": null,
   "id": "vertical-painting",
   "metadata": {},
   "outputs": [],
   "source": [
    "clean_ca_sin(df, column = \"sin\", output_format=\"standard\")"
   ]
  },
  {
   "cell_type": "markdown",
   "id": "assisted-inspector",
   "metadata": {},
   "source": [
    "### `compact`"
   ]
  },
  {
   "cell_type": "code",
   "execution_count": null,
   "id": "literary-chosen",
   "metadata": {},
   "outputs": [],
   "source": [
    "clean_ca_sin(df, column = \"sin\", output_format=\"compact\")"
   ]
  },
  {
   "cell_type": "markdown",
   "id": "hybrid-mercury",
   "metadata": {},
   "source": [
    "## 3. `inplace` parameter\n",
    "\n",
    "This deletes the given column from the returned DataFrame. \n",
    "A new column containing cleaned SIN strings is added with a title in the format `\"{original title}_clean\"`."
   ]
  },
  {
   "cell_type": "code",
   "execution_count": null,
   "id": "nominated-melbourne",
   "metadata": {},
   "outputs": [],
   "source": [
    "clean_ca_sin(df, column=\"sin\", inplace=True)"
   ]
  },
  {
   "cell_type": "markdown",
   "id": "composed-ontario",
   "metadata": {},
   "source": [
    "## 4. `errors` parameter"
   ]
  },
  {
   "cell_type": "markdown",
   "id": "metropolitan-reviewer",
   "metadata": {},
   "source": [
    "### `coerce` (default)"
   ]
  },
  {
   "cell_type": "code",
   "execution_count": null,
   "id": "completed-recording",
   "metadata": {},
   "outputs": [],
   "source": [
    "clean_ca_sin(df, \"sin\", errors=\"coerce\")"
   ]
  },
  {
   "cell_type": "markdown",
   "id": "sustained-cooler",
   "metadata": {},
   "source": [
    "### `ignore`"
   ]
  },
  {
   "cell_type": "code",
   "execution_count": null,
   "id": "different-procurement",
   "metadata": {},
   "outputs": [],
   "source": [
    "clean_ca_sin(df, \"sin\", errors=\"ignore\")"
   ]
  },
  {
   "cell_type": "markdown",
   "id": "parallel-listening",
   "metadata": {},
   "source": [
    "## 4. `validate_ca_sin()`"
   ]
  },
  {
   "cell_type": "markdown",
   "id": "unexpected-jordan",
   "metadata": {},
   "source": [
    "`validate_ca_sin()` returns `True` when the input is a valid SIN. Otherwise it returns `False`.\n",
    "\n",
    "The input of `validate_ca_sin()` can be a string, a Pandas DataSeries, a Dask DataSeries, a Pandas DataFrame and a dask DataFrame.\n",
    "\n",
    "When the input is a string, a Pandas DataSeries or a Dask DataSeries, user doesn't need to specify a column name to be validated. \n",
    "\n",
    "When the input is a Pandas DataFrame or a dask DataFrame, user can both specify or not specify a column name to be validated. If user specify the column name, `validate_ca_sin()` only returns the validation result for the specified column. If user doesn't specify the column name, `validate_ca_sin()` returns the validation result for the whole DataFrame."
   ]
  },
  {
   "cell_type": "code",
   "execution_count": null,
   "id": "strategic-officer",
   "metadata": {},
   "outputs": [],
   "source": [
    "from dataprep.clean import validate_ca_sin\n",
    "print(validate_ca_sin(\"123456782\"))\n",
    "print(validate_ca_sin(\"12345678Z\"))\n",
    "print(validate_ca_sin(\"51824753556\"))\n",
    "print(validate_ca_sin(\"51 824 753 556\"))\n",
    "print(validate_ca_sin(\"hello\"))\n",
    "print(validate_ca_sin(np.nan))\n",
    "print(validate_ca_sin(\"NULL\"))"
   ]
  },
  {
   "cell_type": "markdown",
   "id": "indoor-chosen",
   "metadata": {},
   "source": [
    "### Series"
   ]
  },
  {
   "cell_type": "code",
   "execution_count": null,
   "id": "scheduled-harrison",
   "metadata": {},
   "outputs": [],
   "source": [
    "validate_ca_sin(df[\"sin\"])"
   ]
  },
  {
   "cell_type": "markdown",
   "id": "wanted-taylor",
   "metadata": {},
   "source": [
    "### DataFrame + Specify Column"
   ]
  },
  {
   "cell_type": "code",
   "execution_count": null,
   "id": "precious-blend",
   "metadata": {},
   "outputs": [],
   "source": [
    "validate_ca_sin(df, column=\"sin\")"
   ]
  },
  {
   "cell_type": "markdown",
   "id": "selective-stake",
   "metadata": {},
   "source": [
    "### Only DataFrame"
   ]
  },
  {
   "cell_type": "code",
   "execution_count": null,
   "id": "organized-pitch",
   "metadata": {},
   "outputs": [],
   "source": [
    "validate_ca_sin(df)"
   ]
  },
  {
   "cell_type": "code",
   "execution_count": null,
   "id": "adaptive-edwards",
   "metadata": {},
   "outputs": [],
   "source": []
  }
 ],
 "metadata": {
  "kernelspec": {
   "display_name": "Python 3",
   "language": "python",
   "name": "python3"
  },
  "language_info": {
   "codemirror_mode": {
    "name": "ipython",
    "version": 3
   },
   "file_extension": ".py",
   "mimetype": "text/x-python",
   "name": "python",
   "nbconvert_exporter": "python",
   "pygments_lexer": "ipython3",
   "version": "3.6.12"
  }
 },
 "nbformat": 4,
 "nbformat_minor": 5
}

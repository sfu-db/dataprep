{
 "cells": [
  {
   "cell_type": "raw",
   "id": "automotive-donor",
   "metadata": {},
   "source": [
    ".. _cpj_userguide:\n",
    "\n",
    "Costa Rica Tax Numbers\n",
    "======================"
   ]
  },
  {
   "cell_type": "raw",
   "id": "great-toner",
   "metadata": {},
   "source": [
    "Introduction\n",
    "------------\n",
    "\n",
    "The function :func:`clean_cr_cpj() <dataprep.clean.clean_cr_cpj.clean_cr_cpj>` cleans a column containing Costa Rica tax number (CPJ) strings, and standardizes them in a given format. The function :func:`validate_cr_cpj() <dataprep.clean.clean_cr_cpj.validate_cr_cpj>` validates either a single CPJ strings, a column of CPJ strings or a DataFrame of CPJ strings, returning `True` if the value is valid, and `False` otherwise."
   ]
  },
  {
   "cell_type": "markdown",
   "id": "incorporated-manner",
   "metadata": {},
   "source": [
    "CPJ strings can be converted to the following formats via the `output_format` parameter:\n",
    "\n",
    "* `compact`: only number strings without any seperators or whitespace, like \"4000042138\"\n",
    "* `standard`: CPJ strings with proper whitespace in the proper places, like \"4-000-042138\"\n",
    "\n",
    "Invalid parsing is handled with the `errors` parameter:\n",
    "\n",
    "* `coerce` (default): invalid parsing will be set to NaN\n",
    "* `ignore`: invalid parsing will return the input\n",
    "* `raise`: invalid parsing will raise an exception\n",
    "\n",
    "The following sections demonstrate the functionality of `clean_cr_cpj()` and `validate_cr_cpj()`. "
   ]
  },
  {
   "cell_type": "markdown",
   "id": "practical-covering",
   "metadata": {},
   "source": [
    "### An example dataset containing CPJ strings"
   ]
  },
  {
   "cell_type": "code",
   "execution_count": null,
   "id": "quarterly-coordinate",
   "metadata": {},
   "outputs": [],
   "source": [
    "import pandas as pd\n",
    "import numpy as np\n",
    "df = pd.DataFrame(\n",
    "    {\n",
    "        \"cpj\": [\n",
    "            \"4 000 042138\",\n",
    "            \"3-534-123559\",\n",
    "            \"51824753556\",\n",
    "            \"51 824 753 556\",\n",
    "            \"hello\",\n",
    "            np.nan,\n",
    "            \"NULL\"\n",
    "        ], \n",
    "        \"address\": [\n",
    "            \"123 Pine Ave.\",\n",
    "            \"main st\",\n",
    "            \"1234 west main heights 57033\",\n",
    "            \"apt 1 789 s maple rd manhattan\",\n",
    "            \"robie house, 789 north main street\",\n",
    "            \"(staples center) 1111 S Figueroa St, Los Angeles\",\n",
    "            \"hello\",\n",
    "        ]\n",
    "    }\n",
    ")\n",
    "df"
   ]
  },
  {
   "cell_type": "markdown",
   "id": "composite-hudson",
   "metadata": {},
   "source": [
    "## 1. Default `clean_cr_cpj`\n",
    "\n",
    "By default, `clean_cr_cpj` will clean cpj strings and output them in the standard format with proper separators."
   ]
  },
  {
   "cell_type": "code",
   "execution_count": null,
   "id": "generic-chance",
   "metadata": {},
   "outputs": [],
   "source": [
    "from dataprep.clean import clean_cr_cpj\n",
    "clean_cr_cpj(df, column = \"cpj\")"
   ]
  },
  {
   "cell_type": "markdown",
   "id": "acknowledged-desire",
   "metadata": {},
   "source": [
    "## 2. Output formats"
   ]
  },
  {
   "cell_type": "markdown",
   "id": "fancy-roller",
   "metadata": {},
   "source": [
    "This section demonstrates the output parameter."
   ]
  },
  {
   "cell_type": "markdown",
   "id": "sublime-employer",
   "metadata": {},
   "source": [
    "### `standard` (default)"
   ]
  },
  {
   "cell_type": "code",
   "execution_count": null,
   "id": "instant-aircraft",
   "metadata": {},
   "outputs": [],
   "source": [
    "clean_cr_cpj(df, column = \"cpj\", output_format=\"standard\")"
   ]
  },
  {
   "cell_type": "markdown",
   "id": "canadian-powell",
   "metadata": {},
   "source": [
    "### `compact`"
   ]
  },
  {
   "cell_type": "code",
   "execution_count": null,
   "id": "hungry-genesis",
   "metadata": {},
   "outputs": [],
   "source": [
    "clean_cr_cpj(df, column = \"cpj\", output_format=\"compact\")"
   ]
  },
  {
   "cell_type": "markdown",
   "id": "celtic-creature",
   "metadata": {},
   "source": [
    "## 3. `inplace` parameter\n",
    "\n",
    "This deletes the given column from the returned DataFrame. \n",
    "A new column containing cleaned CPJ strings is added with a title in the format `\"{original title}_clean\"`."
   ]
  },
  {
   "cell_type": "code",
   "execution_count": null,
   "id": "flying-issue",
   "metadata": {},
   "outputs": [],
   "source": [
    "clean_cr_cpj(df, column=\"cpj\", inplace=True)"
   ]
  },
  {
   "cell_type": "markdown",
   "id": "acoustic-disaster",
   "metadata": {},
   "source": [
    "## 4. `errors` parameter"
   ]
  },
  {
   "cell_type": "markdown",
   "id": "systematic-wireless",
   "metadata": {},
   "source": [
    "### `coerce` (default)"
   ]
  },
  {
   "cell_type": "code",
   "execution_count": null,
   "id": "documentary-developer",
   "metadata": {},
   "outputs": [],
   "source": [
    "clean_cr_cpj(df, \"cpj\", errors=\"coerce\")"
   ]
  },
  {
   "cell_type": "markdown",
   "id": "floppy-psychiatry",
   "metadata": {},
   "source": [
    "### `ignore`"
   ]
  },
  {
   "cell_type": "code",
   "execution_count": null,
   "id": "physical-cooling",
   "metadata": {},
   "outputs": [],
   "source": [
    "clean_cr_cpj(df, \"cpj\", errors=\"ignore\")"
   ]
  },
  {
   "cell_type": "markdown",
   "id": "thermal-regulation",
   "metadata": {},
   "source": [
    "## 4. `validate_cr_cpj()`"
   ]
  },
  {
   "cell_type": "markdown",
   "id": "presidential-intellectual",
   "metadata": {},
   "source": [
    "`validate_cr_cpj()` returns `True` when the input is a valid CPJ. Otherwise it returns `False`.\n",
    "\n",
    "The input of `validate_cr_cpj()` can be a string, a Pandas DataSeries, a Dask DataSeries, a Pandas DataFrame and a dask DataFrame.\n",
    "\n",
    "When the input is a string, a Pandas DataSeries or a Dask DataSeries, user doesn't need to specify a column name to be validated. \n",
    "\n",
    "When the input is a Pandas DataFrame or a dask DataFrame, user can both specify or not specify a column name to be validated. If user specify the column name, `validate_cr_cpj()` only returns the validation result for the specified column. If user doesn't specify the column name, `validate_cr_cpj()` returns the validation result for the whole DataFrame."
   ]
  },
  {
   "cell_type": "code",
   "execution_count": null,
   "id": "patent-latest",
   "metadata": {},
   "outputs": [],
   "source": [
    "from dataprep.clean import validate_cr_cpj\n",
    "print(validate_cr_cpj(\"4 000 042138\"))\n",
    "print(validate_cr_cpj(\"3-534-123559\"))\n",
    "print(validate_cr_cpj(\"51824753556\"))\n",
    "print(validate_cr_cpj(\"51 824 753 556\"))\n",
    "print(validate_cr_cpj(\"hello\"))\n",
    "print(validate_cr_cpj(np.nan))\n",
    "print(validate_cr_cpj(\"NULL\"))"
   ]
  },
  {
   "cell_type": "markdown",
   "id": "promotional-berkeley",
   "metadata": {},
   "source": [
    "### Series"
   ]
  },
  {
   "cell_type": "code",
   "execution_count": null,
   "id": "pursuant-venice",
   "metadata": {},
   "outputs": [],
   "source": [
    "validate_cr_cpj(df[\"cpj\"])"
   ]
  },
  {
   "cell_type": "markdown",
   "id": "celtic-experience",
   "metadata": {},
   "source": [
    "### DataFrame + Specify Column"
   ]
  },
  {
   "cell_type": "code",
   "execution_count": null,
   "id": "absolute-sentence",
   "metadata": {},
   "outputs": [],
   "source": [
    "validate_cr_cpj(df, column=\"cpj\")"
   ]
  },
  {
   "cell_type": "markdown",
   "id": "actual-julian",
   "metadata": {},
   "source": [
    "### Only DataFrame"
   ]
  },
  {
   "cell_type": "code",
   "execution_count": null,
   "id": "norman-mechanics",
   "metadata": {
    "scrolled": true
   },
   "outputs": [],
   "source": [
    "validate_cr_cpj(df)"
   ]
  },
  {
   "cell_type": "code",
   "execution_count": null,
   "id": "attached-tuner",
   "metadata": {},
   "outputs": [],
   "source": []
  }
 ],
 "metadata": {
  "kernelspec": {
   "display_name": "Python 3",
   "language": "python",
   "name": "python3"
  },
  "language_info": {
   "codemirror_mode": {
    "name": "ipython",
    "version": 3
   },
   "file_extension": ".py",
   "mimetype": "text/x-python",
   "name": "python",
   "nbconvert_exporter": "python",
   "pygments_lexer": "ipython3",
   "version": "3.6.12"
  }
 },
 "nbformat": 4,
 "nbformat_minor": 5
}

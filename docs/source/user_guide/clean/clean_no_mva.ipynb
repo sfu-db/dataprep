{
 "cells": [
  {
   "cell_type": "raw",
   "id": "determined-civilian",
   "metadata": {},
   "source": [
    ".. _abn_userguide:\n",
    "\n",
    "Norwegian VAT Numbers\n",
    "====================="
   ]
  },
  {
   "cell_type": "raw",
   "id": "warming-carry",
   "metadata": {},
   "source": [
    "Introduction\n",
    "------------\n",
    "\n",
    "The function :func:`clean_no_mva() <dataprep.clean.clean_no_mva.clean_no_mva>` cleans a column containing Norwegian VAT number (ABN) strings, and standardizes them in a given format. The function :func:`validate_no_mva() <dataprep.clean.clean_no_mva.validate_no_mva>` validates either a single ABN strings, a column of ABN strings or a DataFrame of ABN strings, returning `True` if the value is valid, and `False` otherwise."
   ]
  },
  {
   "cell_type": "markdown",
   "id": "knowing-garbage",
   "metadata": {},
   "source": [
    "ABN strings can be converted to the following formats via the `output_format` parameter:\n",
    "\n",
    "* `compact`: only number strings without any seperators or whitespace, like \"995525828MVA\"\n",
    "* `standard`: ABN strings with proper whitespace in the proper places, like \"NO 995 525 828 MVA\"\n",
    "\n",
    "Invalid parsing is handled with the `errors` parameter:\n",
    "\n",
    "* `coerce` (default): invalid parsing will be set to NaN\n",
    "* `ignore`: invalid parsing will return the input\n",
    "* `raise`: invalid parsing will raise an exception\n",
    "\n",
    "The following sections demonstrate the functionality of `clean_no_mva()` and `validate_no_mva()`. "
   ]
  },
  {
   "cell_type": "markdown",
   "id": "dedicated-copyright",
   "metadata": {},
   "source": [
    "### An example dataset containing ABN strings"
   ]
  },
  {
   "cell_type": "code",
   "execution_count": null,
   "id": "taken-encounter",
   "metadata": {},
   "outputs": [],
   "source": [
    "import pandas as pd\n",
    "import numpy as np\n",
    "df = pd.DataFrame(\n",
    "    {\n",
    "        \"abn\": [\n",
    "            \"995525828MVA\",\n",
    "            \"NO 995 525 829 MVA\",\n",
    "            \"51824753556\",\n",
    "            \"51 824 753 556\",\n",
    "            \"hello\",\n",
    "            np.nan,\n",
    "            \"NULL\"\n",
    "        ], \n",
    "        \"address\": [\n",
    "            \"123 Pine Ave.\",\n",
    "            \"main st\",\n",
    "            \"1234 west main heights 57033\",\n",
    "            \"apt 1 789 s maple rd manhattan\",\n",
    "            \"robie house, 789 north main street\",\n",
    "            \"(staples center) 1111 S Figueroa St, Los Angeles\",\n",
    "            \"hello\",\n",
    "        ]\n",
    "    }\n",
    ")\n",
    "df"
   ]
  },
  {
   "cell_type": "markdown",
   "id": "understood-literature",
   "metadata": {},
   "source": [
    "## 1. Default `clean_no_mva`\n",
    "\n",
    "By default, `clean_no_mva` will clean abn strings and output them in the standard format with proper separators."
   ]
  },
  {
   "cell_type": "code",
   "execution_count": null,
   "id": "exciting-evaluation",
   "metadata": {},
   "outputs": [],
   "source": [
    "from dataprep.clean import clean_no_mva\n",
    "clean_no_mva(df, column = \"abn\")"
   ]
  },
  {
   "cell_type": "markdown",
   "id": "million-finland",
   "metadata": {},
   "source": [
    "## 2. Output formats"
   ]
  },
  {
   "cell_type": "markdown",
   "id": "large-mechanism",
   "metadata": {},
   "source": [
    "This section demonstrates the output parameter."
   ]
  },
  {
   "cell_type": "markdown",
   "id": "equivalent-electric",
   "metadata": {},
   "source": [
    "### `standard` (default)"
   ]
  },
  {
   "cell_type": "code",
   "execution_count": null,
   "id": "banned-tomorrow",
   "metadata": {},
   "outputs": [],
   "source": [
    "clean_no_mva(df, column = \"abn\", output_format=\"standard\")"
   ]
  },
  {
   "cell_type": "markdown",
   "id": "analyzed-yesterday",
   "metadata": {},
   "source": [
    "### `compact`"
   ]
  },
  {
   "cell_type": "code",
   "execution_count": null,
   "id": "biblical-diving",
   "metadata": {},
   "outputs": [],
   "source": [
    "clean_no_mva(df, column = \"abn\", output_format=\"compact\")"
   ]
  },
  {
   "cell_type": "markdown",
   "id": "prescription-hindu",
   "metadata": {},
   "source": [
    "## 3. `inplace` parameter\n",
    "\n",
    "This deletes the given column from the returned DataFrame. \n",
    "A new column containing cleaned ABN strings is added with a title in the format `\"{original title}_clean\"`."
   ]
  },
  {
   "cell_type": "code",
   "execution_count": null,
   "id": "official-basketball",
   "metadata": {},
   "outputs": [],
   "source": [
    "clean_no_mva(df, column=\"abn\", inplace=True)"
   ]
  },
  {
   "cell_type": "markdown",
   "id": "subjective-filling",
   "metadata": {},
   "source": [
    "## 4. `errors` parameter"
   ]
  },
  {
   "cell_type": "markdown",
   "id": "dirty-swiss",
   "metadata": {},
   "source": [
    "### `coerce` (default)"
   ]
  },
  {
   "cell_type": "code",
   "execution_count": null,
   "id": "hourly-montreal",
   "metadata": {},
   "outputs": [],
   "source": [
    "clean_no_mva(df, \"abn\", errors=\"coerce\")"
   ]
  },
  {
   "cell_type": "markdown",
   "id": "eight-single",
   "metadata": {},
   "source": [
    "### `ignore`"
   ]
  },
  {
   "cell_type": "code",
   "execution_count": null,
   "id": "naked-manchester",
   "metadata": {},
   "outputs": [],
   "source": [
    "clean_no_mva(df, \"abn\", errors=\"ignore\")"
   ]
  },
  {
   "cell_type": "markdown",
   "id": "conventional-karaoke",
   "metadata": {},
   "source": [
    "## 4. `validate_no_mva()`"
   ]
  },
  {
   "cell_type": "markdown",
   "id": "sticky-insider",
   "metadata": {},
   "source": [
    "`validate_no_mva()` returns `True` when the input is a valid ABN. Otherwise it returns `False`.\n",
    "\n",
    "The input of `validate_no_mva()` can be a string, a Pandas DataSeries, a Dask DataSeries, a Pandas DataFrame and a dask DataFrame.\n",
    "\n",
    "When the input is a string, a Pandas DataSeries or a Dask DataSeries, user doesn't need to specify a column name to be validated. \n",
    "\n",
    "When the input is a Pandas DataFrame or a dask DataFrame, user can both specify or not specify a column name to be validated. If user specify the column name, `validate_no_mva()` only returns the validation result for the specified column. If user doesn't specify the column name, `validate_no_mva()` returns the validation result for the whole DataFrame."
   ]
  },
  {
   "cell_type": "code",
   "execution_count": null,
   "id": "hazardous-genius",
   "metadata": {},
   "outputs": [],
   "source": [
    "from dataprep.clean import validate_no_mva\n",
    "print(validate_no_mva(\"995525828MVA\"))\n",
    "print(validate_no_mva(\"NO 995 525 829 MVA\"))\n",
    "print(validate_no_mva(\"51824753556\"))\n",
    "print(validate_no_mva(\"51 824 753 556\"))\n",
    "print(validate_no_mva(\"hello\"))\n",
    "print(validate_no_mva(np.nan))\n",
    "print(validate_no_mva(\"NULL\"))"
   ]
  },
  {
   "cell_type": "markdown",
   "id": "massive-bridge",
   "metadata": {},
   "source": [
    "### Series"
   ]
  },
  {
   "cell_type": "code",
   "execution_count": null,
   "id": "dominican-boston",
   "metadata": {},
   "outputs": [],
   "source": [
    "validate_no_mva(df[\"abn\"])"
   ]
  },
  {
   "cell_type": "markdown",
   "id": "laughing-retirement",
   "metadata": {},
   "source": [
    "### DataFrame + Specify Column"
   ]
  },
  {
   "cell_type": "code",
   "execution_count": null,
   "id": "dynamic-technique",
   "metadata": {},
   "outputs": [],
   "source": [
    "validate_no_mva(df, column=\"abn\")"
   ]
  },
  {
   "cell_type": "markdown",
   "id": "cultural-newfoundland",
   "metadata": {},
   "source": [
    "### Only DataFrame"
   ]
  },
  {
   "cell_type": "code",
   "execution_count": null,
   "id": "choice-portrait",
   "metadata": {},
   "outputs": [],
   "source": [
    "validate_no_mva(df)"
   ]
  },
  {
   "cell_type": "code",
   "execution_count": null,
   "id": "considerable-mechanism",
   "metadata": {},
   "outputs": [],
   "source": []
  }
 ],
 "metadata": {
  "kernelspec": {
   "display_name": "Python 3",
   "language": "python",
   "name": "python3"
  },
  "language_info": {
   "codemirror_mode": {
    "name": "ipython",
    "version": 3
   },
   "file_extension": ".py",
   "mimetype": "text/x-python",
   "name": "python",
   "nbconvert_exporter": "python",
   "pygments_lexer": "ipython3",
   "version": "3.6.12"
  }
 },
 "nbformat": 4,
 "nbformat_minor": 5
}

{
 "cells": [
  {
   "cell_type": "raw",
   "id": "rubber-medication",
   "metadata": {},
   "source": [
    ".. _kmkr_userguide:\n",
    "\n",
    "Estonian KMKR Numbers\n",
    "====================="
   ]
  },
  {
   "cell_type": "raw",
   "id": "organized-checklist",
   "metadata": {},
   "source": [
    "Introduction\n",
    "------------\n",
    "\n",
    "The function :func:`clean_ee_kmkr() <dataprep.clean.clean_ee_kmkr.clean_ee_kmkr>` cleans a column containing Estonian KMKR number (KMKR) strings, and standardizes them in a given format. The function :func:`validate_ee_kmkr() <dataprep.clean.clean_ee_kmkr.validate_ee_kmkr>` validates either a single KMKR strings, a column of KMKR strings or a DataFrame of KMKR strings, returning `True` if the value is valid, and `False` otherwise."
   ]
  },
  {
   "cell_type": "markdown",
   "id": "activated-edwards",
   "metadata": {},
   "source": [
    "KMKR strings can be converted to the following formats via the `output_format` parameter:\n",
    "\n",
    "* `compact`: only number strings without any seperators or whitespace, like \"100931558\"\n",
    "* `standard`: KMKR strings with proper whitespace in the proper places. Note that in the case of KMKR, the compact format is the same as the standard one.\n",
    "\n",
    "Invalid parsing is handled with the `errors` parameter:\n",
    "\n",
    "* `coerce` (default): invalid parsing will be set to NaN\n",
    "* `ignore`: invalid parsing will return the input\n",
    "* `raise`: invalid parsing will raise an exception\n",
    "\n",
    "The following sections demonstrate the functionality of `clean_ee_kmkr()` and `validate_ee_kmkr()`. "
   ]
  },
  {
   "cell_type": "markdown",
   "id": "arranged-section",
   "metadata": {},
   "source": [
    "### An example dataset containing KMKR strings"
   ]
  },
  {
   "cell_type": "code",
   "execution_count": null,
   "id": "interracial-extreme",
   "metadata": {},
   "outputs": [],
   "source": [
    "import pandas as pd\n",
    "import numpy as np\n",
    "df = pd.DataFrame(\n",
    "    {\n",
    "        \"kmkr\": [\n",
    "            'EE 100 931 558',\n",
    "            '100594103',\n",
    "            'BE 428759497',\n",
    "            'BE431150351',\n",
    "            \"002 724 334\",\n",
    "            \"hello\",\n",
    "            np.nan,\n",
    "            \"NULL\",\n",
    "        ], \n",
    "        \"address\": [\n",
    "            \"123 Pine Ave.\",\n",
    "            \"main st\",\n",
    "            \"1234 west main heights 57033\",\n",
    "            \"apt 1 789 s maple rd manhattan\",\n",
    "            \"robie house, 789 north main street\",\n",
    "            \"1111 S Figueroa St, Los Angeles, CA 90015\",\n",
    "            \"(staples center) 1111 S Figueroa St, Los Angeles\",\n",
    "            \"hello\",\n",
    "        ]\n",
    "    }\n",
    ")\n",
    "df"
   ]
  },
  {
   "cell_type": "markdown",
   "id": "stopped-baptist",
   "metadata": {},
   "source": [
    "## 1. Default `clean_ee_kmkr`\n",
    "\n",
    "By default, `clean_ee_kmkr` will clean kmkr strings and output them in the standard format with proper separators."
   ]
  },
  {
   "cell_type": "code",
   "execution_count": null,
   "id": "encouraging-aggregate",
   "metadata": {},
   "outputs": [],
   "source": [
    "from dataprep.clean import clean_ee_kmkr\n",
    "clean_ee_kmkr(df, column = \"kmkr\")"
   ]
  },
  {
   "cell_type": "markdown",
   "id": "instructional-roulette",
   "metadata": {},
   "source": [
    "## 2. Output formats"
   ]
  },
  {
   "cell_type": "markdown",
   "id": "extraordinary-newark",
   "metadata": {},
   "source": [
    "This section demonstrates the output parameter."
   ]
  },
  {
   "cell_type": "markdown",
   "id": "departmental-campbell",
   "metadata": {},
   "source": [
    "### `standard` (default)"
   ]
  },
  {
   "cell_type": "code",
   "execution_count": null,
   "id": "demonstrated-concord",
   "metadata": {},
   "outputs": [],
   "source": [
    "clean_ee_kmkr(df, column = \"kmkr\", output_format=\"standard\")"
   ]
  },
  {
   "cell_type": "markdown",
   "id": "formal-basketball",
   "metadata": {},
   "source": [
    "### `compact`"
   ]
  },
  {
   "cell_type": "code",
   "execution_count": null,
   "id": "monthly-technique",
   "metadata": {},
   "outputs": [],
   "source": [
    "clean_ee_kmkr(df, column = \"kmkr\", output_format=\"compact\")"
   ]
  },
  {
   "cell_type": "markdown",
   "id": "narrative-extraction",
   "metadata": {},
   "source": [
    "## 3. `inplace` parameter\n",
    "\n",
    "This deletes the given column from the returned DataFrame. \n",
    "A new column containing cleaned KMKR strings is added with a title in the format `\"{original title}_clean\"`."
   ]
  },
  {
   "cell_type": "code",
   "execution_count": null,
   "id": "gothic-satellite",
   "metadata": {},
   "outputs": [],
   "source": [
    "clean_ee_kmkr(df, column=\"kmkr\", inplace=True)"
   ]
  },
  {
   "cell_type": "markdown",
   "id": "desirable-habitat",
   "metadata": {},
   "source": [
    "## 4. `errors` parameter"
   ]
  },
  {
   "cell_type": "markdown",
   "id": "alive-arkansas",
   "metadata": {},
   "source": [
    "### `coerce` (default)"
   ]
  },
  {
   "cell_type": "code",
   "execution_count": null,
   "id": "super-result",
   "metadata": {},
   "outputs": [],
   "source": [
    "clean_ee_kmkr(df, \"kmkr\", errors=\"coerce\")"
   ]
  },
  {
   "cell_type": "markdown",
   "id": "specific-drain",
   "metadata": {},
   "source": [
    "### `ignore`"
   ]
  },
  {
   "cell_type": "code",
   "execution_count": null,
   "id": "polished-demand",
   "metadata": {},
   "outputs": [],
   "source": [
    "clean_ee_kmkr(df, \"kmkr\", errors=\"ignore\")"
   ]
  },
  {
   "cell_type": "markdown",
   "id": "certain-omaha",
   "metadata": {},
   "source": [
    "## 4. `validate_ee_kmkr()`"
   ]
  },
  {
   "cell_type": "markdown",
   "id": "relative-machine",
   "metadata": {},
   "source": [
    "`validate_ee_kmkr()` returns `True` when the input is a valid KMKR. Otherwise it returns `False`.\n",
    "\n",
    "The input of `validate_ee_kmkr()` can be a string, a Pandas DataSeries, a Dask DataSeries, a Pandas DataFrame and a dask DataFrame.\n",
    "\n",
    "When the input is a string, a Pandas DataSeries or a Dask DataSeries, user doesn't need to specify a column name to be validated. \n",
    "\n",
    "When the input is a Pandas DataFrame or a dask DataFrame, user can both specify or not specify a column name to be validated. If user specify the column name, `validate_ee_kmkr()` only returns the validation result for the specified column. If user doesn't specify the column name, `validate_ee_kmkr()` returns the validation result for the whole DataFrame."
   ]
  },
  {
   "cell_type": "code",
   "execution_count": null,
   "id": "fifty-coordinator",
   "metadata": {},
   "outputs": [],
   "source": [
    "from dataprep.clean import validate_ee_kmkr\n",
    "print(validate_ee_kmkr(\"EE 100 931 558\"))\n",
    "print(validate_ee_kmkr(\"100594103\"))\n",
    "print(validate_ee_kmkr('BE 428759497'))\n",
    "print(validate_ee_kmkr('BE431150351'))\n",
    "print(validate_ee_kmkr(\"004085616\"))\n",
    "print(validate_ee_kmkr(\"hello\"))\n",
    "print(validate_ee_kmkr(np.nan))\n",
    "print(validate_ee_kmkr(\"NULL\"))"
   ]
  },
  {
   "cell_type": "markdown",
   "id": "through-mills",
   "metadata": {},
   "source": [
    "### Series"
   ]
  },
  {
   "cell_type": "code",
   "execution_count": null,
   "id": "adolescent-estimate",
   "metadata": {},
   "outputs": [],
   "source": [
    "validate_ee_kmkr(df[\"kmkr\"])"
   ]
  },
  {
   "cell_type": "markdown",
   "id": "running-texas",
   "metadata": {},
   "source": [
    "### DataFrame + Specify Column"
   ]
  },
  {
   "cell_type": "code",
   "execution_count": null,
   "id": "placed-diving",
   "metadata": {},
   "outputs": [],
   "source": [
    "validate_ee_kmkr(df, column=\"kmkr\")"
   ]
  },
  {
   "cell_type": "markdown",
   "id": "noted-communications",
   "metadata": {},
   "source": [
    "### Only DataFrame"
   ]
  },
  {
   "cell_type": "code",
   "execution_count": null,
   "id": "located-measure",
   "metadata": {
    "scrolled": true
   },
   "outputs": [],
   "source": [
    "validate_ee_kmkr(df)"
   ]
  },
  {
   "cell_type": "code",
   "execution_count": null,
   "id": "equal-scale",
   "metadata": {},
   "outputs": [],
   "source": []
  }
 ],
 "metadata": {
  "kernelspec": {
   "display_name": "Python 3",
   "language": "python",
   "name": "python3"
  },
  "language_info": {
   "codemirror_mode": {
    "name": "ipython",
    "version": 3
   },
   "file_extension": ".py",
   "mimetype": "text/x-python",
   "name": "python",
   "nbconvert_exporter": "python",
   "pygments_lexer": "ipython3",
   "version": "3.6.12"
  }
 },
 "nbformat": 4,
 "nbformat_minor": 5
}

{
 "cells": [
  {
   "cell_type": "markdown",
   "id": "swiss-orbit",
   "metadata": {},
   "source": [
    "# United Kingdom VAT Numbers"
   ]
  },
  {
   "cell_type": "markdown",
   "id": "plastic-involvement",
   "metadata": {},
   "source": [
    "## Introduction"
   ]
  },
  {
   "cell_type": "markdown",
   "id": "compatible-genius",
   "metadata": {},
   "source": [
    "The function `clean_gb_vat()` cleans a column containing United Kingdom VAT number (VAT) strings, and standardizes them in a given format. The function `validate_gb_vat()` validates either a single VAT strings, a column of VAT strings or a DataFrame of VAT strings, returning `True` if the value is valid, and `False` otherwise."
   ]
  },
  {
   "cell_type": "markdown",
   "id": "three-growth",
   "metadata": {},
   "source": [
    "VAT strings can be converted to the following formats via the `output_format` parameter:\n",
    "\n",
    "* `compact`: only number strings without any seperators or whitespace, like \"980780684\"\n",
    "* `standard`: VAT strings with proper whitespace in the proper places, like \"980 7806 84\"\n",
    "\n",
    "Invalid parsing is handled with the `errors` parameter:\n",
    "\n",
    "* `coerce` (default): invalid parsing will be set to NaN\n",
    "* `ignore`: invalid parsing will return the input\n",
    "* `raise`: invalid parsing will raise an exception\n",
    "\n",
    "The following sections demonstrate the functionality of `clean_gb_vat()` and `validate_gb_vat()`. "
   ]
  },
  {
   "cell_type": "markdown",
   "id": "decreased-tongue",
   "metadata": {},
   "source": [
    "### An example dataset containing VAT strings"
   ]
  },
  {
   "cell_type": "code",
   "execution_count": null,
   "id": "dominican-validation",
   "metadata": {},
   "outputs": [],
   "source": [
    "import pandas as pd\n",
    "import numpy as np\n",
    "df = pd.DataFrame(\n",
    "    {\n",
    "        \"vat\": [\n",
    "            \"980780684\",\n",
    "            \"802311781\",\n",
    "            \"51824753556\",\n",
    "            \"51 824 753 556\",\n",
    "            \"hello\",\n",
    "            np.nan,\n",
    "            \"NULL\"\n",
    "        ], \n",
    "        \"address\": [\n",
    "            \"123 Pine Ave.\",\n",
    "            \"main st\",\n",
    "            \"1234 west main heights 57033\",\n",
    "            \"apt 1 789 s maple rd manhattan\",\n",
    "            \"robie house, 789 north main street\",\n",
    "            \"(staples center) 1111 S Figueroa St, Los Angeles\",\n",
    "            \"hello\",\n",
    "        ]\n",
    "    }\n",
    ")\n",
    "df"
   ]
  },
  {
   "cell_type": "markdown",
   "id": "sublime-think",
   "metadata": {},
   "source": [
    "## 1. Default `clean_gb_vat`\n",
    "\n",
    "By default, `clean_gb_vat` will clean vat strings and output them in the standard format with proper separators."
   ]
  },
  {
   "cell_type": "code",
   "execution_count": null,
   "id": "honest-lancaster",
   "metadata": {},
   "outputs": [],
   "source": [
    "from dataprep.clean import clean_gb_vat\n",
    "clean_gb_vat(df, column = \"vat\")"
   ]
  },
  {
   "cell_type": "markdown",
   "id": "determined-bibliography",
   "metadata": {},
   "source": [
    "## 2. Output formats"
   ]
  },
  {
   "cell_type": "markdown",
   "id": "renewable-press",
   "metadata": {},
   "source": [
    "This section demonstrates the output parameter."
   ]
  },
  {
   "cell_type": "markdown",
   "id": "herbal-confusion",
   "metadata": {},
   "source": [
    "### `standard` (default)"
   ]
  },
  {
   "cell_type": "code",
   "execution_count": null,
   "id": "quiet-following",
   "metadata": {},
   "outputs": [],
   "source": [
    "clean_gb_vat(df, column = \"vat\", output_format=\"standard\")"
   ]
  },
  {
   "cell_type": "markdown",
   "id": "rapid-miracle",
   "metadata": {},
   "source": [
    "### `compact`"
   ]
  },
  {
   "cell_type": "code",
   "execution_count": null,
   "id": "proprietary-today",
   "metadata": {},
   "outputs": [],
   "source": [
    "clean_gb_vat(df, column = \"vat\", output_format=\"compact\")"
   ]
  },
  {
   "cell_type": "markdown",
   "id": "visible-definition",
   "metadata": {},
   "source": [
    "## 3. `inplace` parameter\n",
    "\n",
    "This deletes the given column from the returned DataFrame. \n",
    "A new column containing cleaned VAT strings is added with a title in the format `\"{original title}_clean\"`."
   ]
  },
  {
   "cell_type": "code",
   "execution_count": null,
   "id": "absent-activation",
   "metadata": {},
   "outputs": [],
   "source": [
    "clean_gb_vat(df, column=\"vat\", inplace=True)"
   ]
  },
  {
   "cell_type": "markdown",
   "id": "regional-society",
   "metadata": {},
   "source": [
    "## 4. `errors` parameter"
   ]
  },
  {
   "cell_type": "markdown",
   "id": "proprietary-match",
   "metadata": {},
   "source": [
    "### `coerce` (default)"
   ]
  },
  {
   "cell_type": "code",
   "execution_count": null,
   "id": "portable-groove",
   "metadata": {},
   "outputs": [],
   "source": [
    "clean_gb_vat(df, \"vat\", errors=\"coerce\")"
   ]
  },
  {
   "cell_type": "markdown",
   "id": "periodic-french",
   "metadata": {},
   "source": [
    "### `ignore`"
   ]
  },
  {
   "cell_type": "code",
   "execution_count": null,
   "id": "homeless-gambling",
   "metadata": {},
   "outputs": [],
   "source": [
    "clean_gb_vat(df, \"vat\", errors=\"ignore\")"
   ]
  },
  {
   "cell_type": "markdown",
   "id": "acknowledged-report",
   "metadata": {},
   "source": [
    "## 4. `validate_gb_vat()`"
   ]
  },
  {
   "cell_type": "markdown",
   "id": "hawaiian-button",
   "metadata": {},
   "source": [
    "`validate_gb_vat()` returns `True` when the input is a valid VAT. Otherwise it returns `False`.\n",
    "\n",
    "The input of `validate_gb_vat()` can be a string, a Pandas DataSeries, a Dask DataSeries, a Pandas DataFrame and a dask DataFrame.\n",
    "\n",
    "When the input is a string, a Pandas DataSeries or a Dask DataSeries, user doesn't need to specify a column name to be validated. \n",
    "\n",
    "When the input is a Pandas DataFrame or a dask DataFrame, user can both specify or not specify a column name to be validated. If user specify the column name, `validate_gb_vat()` only returns the validation result for the specified column. If user doesn't specify the column name, `validate_gb_vat()` returns the validation result for the whole DataFrame."
   ]
  },
  {
   "cell_type": "code",
   "execution_count": null,
   "id": "banned-projection",
   "metadata": {},
   "outputs": [],
   "source": [
    "from dataprep.clean import validate_gb_vat\n",
    "print(validate_gb_vat(\"980780684\"))\n",
    "print(validate_gb_vat(\"802311781\"))\n",
    "print(validate_gb_vat(\"51824753556\"))\n",
    "print(validate_gb_vat(\"51 824 753 556\"))\n",
    "print(validate_gb_vat(\"hello\"))\n",
    "print(validate_gb_vat(np.nan))\n",
    "print(validate_gb_vat(\"NULL\"))"
   ]
  },
  {
   "cell_type": "markdown",
   "id": "sunrise-spread",
   "metadata": {},
   "source": [
    "### Series"
   ]
  },
  {
   "cell_type": "code",
   "execution_count": null,
   "id": "extensive-isolation",
   "metadata": {},
   "outputs": [],
   "source": [
    "validate_gb_vat(df[\"vat\"])"
   ]
  },
  {
   "cell_type": "markdown",
   "id": "educational-macintosh",
   "metadata": {},
   "source": [
    "### DataFrame + Specify Column"
   ]
  },
  {
   "cell_type": "code",
   "execution_count": null,
   "id": "postal-mandate",
   "metadata": {},
   "outputs": [],
   "source": [
    "validate_gb_vat(df, column=\"vat\")"
   ]
  },
  {
   "cell_type": "markdown",
   "id": "english-puzzle",
   "metadata": {},
   "source": [
    "### Only DataFrame"
   ]
  },
  {
   "cell_type": "code",
   "execution_count": null,
   "id": "separate-worship",
   "metadata": {},
   "outputs": [],
   "source": [
    "validate_gb_vat(df)"
   ]
  },
  {
   "cell_type": "code",
   "execution_count": null,
   "id": "adolescent-prediction",
   "metadata": {},
   "outputs": [],
   "source": []
  }
 ],
 "metadata": {
  "kernelspec": {
   "display_name": "Python 3",
   "language": "python",
   "name": "python3"
  },
  "language_info": {
   "codemirror_mode": {
    "name": "ipython",
    "version": 3
   },
   "file_extension": ".py",
   "mimetype": "text/x-python",
   "name": "python",
   "nbconvert_exporter": "python",
   "pygments_lexer": "ipython3",
   "version": "3.6.12"
  }
 },
 "nbformat": 4,
 "nbformat_minor": 5
}

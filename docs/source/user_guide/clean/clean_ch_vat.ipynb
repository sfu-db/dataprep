{
 "cells": [
  {
   "cell_type": "markdown",
   "id": "trying-mississippi",
   "metadata": {},
   "source": [
    "# Swiss VAT Numbers"
   ]
  },
  {
   "cell_type": "markdown",
   "id": "residential-airport",
   "metadata": {},
   "source": [
    "## Introduction"
   ]
  },
  {
   "cell_type": "markdown",
   "id": "atomic-forestry",
   "metadata": {},
   "source": [
    "The function `clean_ch_vat()` cleans a column containing Swiss VAT number (VAT) strings, and standardizes them in a given format. The function `validate_ch_vat()` validates either a single VAT strings, a column of VAT strings or a DataFrame of VAT strings, returning `True` if the value is valid, and `False` otherwise."
   ]
  },
  {
   "cell_type": "markdown",
   "id": "unusual-interval",
   "metadata": {},
   "source": [
    "VAT strings can be converted to the following formats via the `output_format` parameter:\n",
    "\n",
    "* `compact`: only number strings without any seperators or whitespace, like \"CHE107787577IVA'\"\n",
    "* `standard`: VAT strings with proper whitespace in the proper places, like \"CHE-107.787.577 IVA\"\n",
    "\n",
    "Invalid parsing is handled with the `errors` parameter:\n",
    "\n",
    "* `coerce` (default): invalid parsing will be set to NaN\n",
    "* `ignore`: invalid parsing will return the input\n",
    "* `raise`: invalid parsing will raise an exception\n",
    "\n",
    "The following sections demonstrate the functionality of `clean_ch_vat()` and `validate_ch_vat()`. "
   ]
  },
  {
   "cell_type": "markdown",
   "id": "authorized-unknown",
   "metadata": {},
   "source": [
    "### An example dataset containing VAT strings"
   ]
  },
  {
   "cell_type": "code",
   "execution_count": null,
   "id": "bigger-tradition",
   "metadata": {
    "scrolled": true
   },
   "outputs": [],
   "source": [
    "import pandas as pd\n",
    "import numpy as np\n",
    "df = pd.DataFrame(\n",
    "    {\n",
    "        \"vat\": [\n",
    "            'CHE107787577IVA',\n",
    "            'CHE-107.787.578 IVA',\n",
    "            \"51824753556\",\n",
    "            \"51 824 753 556\",\n",
    "            \"hello\",\n",
    "            np.nan,\n",
    "            \"NULL\"\n",
    "        ], \n",
    "        \"address\": [\n",
    "            \"123 Pine Ave.\",\n",
    "            \"main st\",\n",
    "            \"1234 west main heights 57033\",\n",
    "            \"apt 1 789 s maple rd manhattan\",\n",
    "            \"robie house, 789 north main street\",\n",
    "            \"(staples center) 1111 S Figueroa St, Los Angeles\",\n",
    "            \"hello\",\n",
    "        ]\n",
    "    }\n",
    ")\n",
    "df"
   ]
  },
  {
   "cell_type": "markdown",
   "id": "raised-luther",
   "metadata": {},
   "source": [
    "## 1. Default `clean_ch_vat`\n",
    "\n",
    "By default, `clean_ch_vat` will clean vat strings and output them in the standard format with proper separators."
   ]
  },
  {
   "cell_type": "code",
   "execution_count": null,
   "id": "continent-lebanon",
   "metadata": {},
   "outputs": [],
   "source": [
    "from dataprep.clean import clean_ch_vat\n",
    "clean_ch_vat(df, column = \"vat\")"
   ]
  },
  {
   "cell_type": "markdown",
   "id": "therapeutic-terror",
   "metadata": {},
   "source": [
    "## 2. Output formats"
   ]
  },
  {
   "cell_type": "markdown",
   "id": "certified-murray",
   "metadata": {},
   "source": [
    "This section demonstrates the output parameter."
   ]
  },
  {
   "cell_type": "markdown",
   "id": "latin-brief",
   "metadata": {},
   "source": [
    "### `standard` (default)"
   ]
  },
  {
   "cell_type": "code",
   "execution_count": null,
   "id": "occasional-riverside",
   "metadata": {},
   "outputs": [],
   "source": [
    "clean_ch_vat(df, column = \"vat\", output_format=\"standard\")"
   ]
  },
  {
   "cell_type": "markdown",
   "id": "reflected-representative",
   "metadata": {},
   "source": [
    "### `compact`"
   ]
  },
  {
   "cell_type": "code",
   "execution_count": null,
   "id": "assisted-remainder",
   "metadata": {},
   "outputs": [],
   "source": [
    "clean_ch_vat(df, column = \"vat\", output_format=\"compact\")"
   ]
  },
  {
   "cell_type": "markdown",
   "id": "changing-nigeria",
   "metadata": {},
   "source": [
    "## 3. `inplace` parameter\n",
    "\n",
    "This deletes the given column from the returned DataFrame. \n",
    "A new column containing cleaned VAT strings is added with a title in the format `\"{original title}_clean\"`."
   ]
  },
  {
   "cell_type": "code",
   "execution_count": null,
   "id": "going-preliminary",
   "metadata": {},
   "outputs": [],
   "source": [
    "clean_ch_vat(df, column=\"vat\", inplace=True)"
   ]
  },
  {
   "cell_type": "markdown",
   "id": "medieval-delivery",
   "metadata": {},
   "source": [
    "## 4. `errors` parameter"
   ]
  },
  {
   "cell_type": "markdown",
   "id": "ranging-pennsylvania",
   "metadata": {},
   "source": [
    "### `coerce` (default)"
   ]
  },
  {
   "cell_type": "code",
   "execution_count": null,
   "id": "eight-shooting",
   "metadata": {},
   "outputs": [],
   "source": [
    "clean_ch_vat(df, \"vat\", errors=\"coerce\")"
   ]
  },
  {
   "cell_type": "markdown",
   "id": "thousand-minutes",
   "metadata": {},
   "source": [
    "### `ignore`"
   ]
  },
  {
   "cell_type": "code",
   "execution_count": null,
   "id": "olive-ribbon",
   "metadata": {},
   "outputs": [],
   "source": [
    "clean_ch_vat(df, \"vat\", errors=\"ignore\")"
   ]
  },
  {
   "cell_type": "markdown",
   "id": "sensitive-feature",
   "metadata": {},
   "source": [
    "## 4. `validate_ch_vat()`"
   ]
  },
  {
   "cell_type": "markdown",
   "id": "auburn-roots",
   "metadata": {},
   "source": [
    "`validate_ch_vat()` returns `True` when the input is a valid VAT. Otherwise it returns `False`.\n",
    "\n",
    "The input of `validate_ch_vat()` can be a string, a Pandas DataSeries, a Dask DataSeries, a Pandas DataFrame and a dask DataFrame.\n",
    "\n",
    "When the input is a string, a Pandas DataSeries or a Dask DataSeries, user doesn't need to specify a column name to be validated. \n",
    "\n",
    "When the input is a Pandas DataFrame or a dask DataFrame, user can both specify or not specify a column name to be validated. If user specify the column name, `validate_ch_vat()` only returns the validation result for the specified column. If user doesn't specify the column name, `validate_ch_vat()` returns the validation result for the whole DataFrame."
   ]
  },
  {
   "cell_type": "code",
   "execution_count": null,
   "id": "supreme-surge",
   "metadata": {},
   "outputs": [],
   "source": [
    "from dataprep.clean import validate_ch_vat\n",
    "print(validate_ch_vat(\"CHE107787577IVA\"))\n",
    "print(validate_ch_vat(\"CHE-107.787.578 IVA\"))\n",
    "print(validate_ch_vat(\"51824753556\"))\n",
    "print(validate_ch_vat(\"51 824 753 556\"))\n",
    "print(validate_ch_vat(\"hello\"))\n",
    "print(validate_ch_vat(np.nan))\n",
    "print(validate_ch_vat(\"NULL\"))"
   ]
  },
  {
   "cell_type": "markdown",
   "id": "eleven-architect",
   "metadata": {},
   "source": [
    "### Series"
   ]
  },
  {
   "cell_type": "code",
   "execution_count": null,
   "id": "agreed-nation",
   "metadata": {},
   "outputs": [],
   "source": [
    "validate_ch_vat(df[\"vat\"])"
   ]
  },
  {
   "cell_type": "markdown",
   "id": "informed-comment",
   "metadata": {},
   "source": [
    "### DataFrame + Specify Column"
   ]
  },
  {
   "cell_type": "code",
   "execution_count": null,
   "id": "actual-culture",
   "metadata": {},
   "outputs": [],
   "source": [
    "validate_ch_vat(df, column=\"vat\")"
   ]
  },
  {
   "cell_type": "markdown",
   "id": "obvious-envelope",
   "metadata": {},
   "source": [
    "### Only DataFrame"
   ]
  },
  {
   "cell_type": "code",
   "execution_count": null,
   "id": "liquid-arbitration",
   "metadata": {},
   "outputs": [],
   "source": [
    "validate_ch_vat(df)"
   ]
  },
  {
   "cell_type": "code",
   "execution_count": null,
   "id": "suffering-youth",
   "metadata": {},
   "outputs": [],
   "source": []
  }
 ],
 "metadata": {
  "kernelspec": {
   "display_name": "Python 3",
   "language": "python",
   "name": "python3"
  },
  "language_info": {
   "codemirror_mode": {
    "name": "ipython",
    "version": 3
   },
   "file_extension": ".py",
   "mimetype": "text/x-python",
   "name": "python",
   "nbconvert_exporter": "python",
   "pygments_lexer": "ipython3",
   "version": "3.6.12"
  }
 },
 "nbformat": 4,
 "nbformat_minor": 5
}

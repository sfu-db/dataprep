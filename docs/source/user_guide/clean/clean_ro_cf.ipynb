{
 "cells": [
  {
   "cell_type": "markdown",
   "id": "aggressive-ethernet",
   "metadata": {},
   "source": [
    "# Romanian CF (VAT) Numbers"
   ]
  },
  {
   "cell_type": "markdown",
   "id": "ruled-calculation",
   "metadata": {},
   "source": [
    "## Introduction"
   ]
  },
  {
   "cell_type": "markdown",
   "id": "elementary-marble",
   "metadata": {},
   "source": [
    "The function `clean_ro_cf()` cleans a column containing Romanian CF (CF) number (CF) strings, and standardizes them in a given format. The function `validate_ro_cf()` validates either a single CF strings, a column of CF strings or a DataFrame of CF strings, returning `True` if the value is valid, and `False` otherwise."
   ]
  },
  {
   "cell_type": "markdown",
   "id": "parental-hazard",
   "metadata": {},
   "source": [
    "CF strings can be converted to the following formats via the `output_format` parameter:\n",
    "\n",
    "* `compact`: only number strings without any seperators or whitespace, like \"RO18547290\n",
    "\"\n",
    "* `standard`: CF strings with proper whitespace in the proper places. Note that in the case of CF, the compact format is the same as the standard one.\n",
    "\n",
    "Invalid parsing is handled with the `errors` parameter:\n",
    "\n",
    "* `coerce` (default): invalid parsing will be set to NaN\n",
    "* `ignore`: invalid parsing will return the input\n",
    "* `raise`: invalid parsing will raise an exception\n",
    "\n",
    "The following sections demonstrate the functionality of `clean_ro_cf()` and `validate_ro_cf()`. "
   ]
  },
  {
   "cell_type": "markdown",
   "id": "dried-velvet",
   "metadata": {},
   "source": [
    "### An example dataset containing CF strings"
   ]
  },
  {
   "cell_type": "code",
   "execution_count": null,
   "id": "medical-emerald",
   "metadata": {},
   "outputs": [],
   "source": [
    "import pandas as pd\n",
    "import numpy as np\n",
    "df = pd.DataFrame(\n",
    "    {\n",
    "        \"cf\": [\n",
    "            \"RO 185 472 90\",\n",
    "            \"RO 185 472 903333\",\n",
    "            'BE 428759497',\n",
    "            'BE431150351',\n",
    "            \"002 724 334\",\n",
    "            \"hello\",\n",
    "            np.nan,\n",
    "            \"NULL\",\n",
    "        ], \n",
    "        \"address\": [\n",
    "            \"123 Pine Ave.\",\n",
    "            \"main st\",\n",
    "            \"1234 west main heights 57033\",\n",
    "            \"apt 1 789 s maple rd manhattan\",\n",
    "            \"robie house, 789 north main street\",\n",
    "            \"1111 S Figueroa St, Los Angeles, CA 90015\",\n",
    "            \"(staples center) 1111 S Figueroa St, Los Angeles\",\n",
    "            \"hello\",\n",
    "        ]\n",
    "    }\n",
    ")\n",
    "df"
   ]
  },
  {
   "cell_type": "markdown",
   "id": "wireless-tokyo",
   "metadata": {},
   "source": [
    "## 1. Default `clean_ro_cf`\n",
    "\n",
    "By default, `clean_ro_cf` will clean cf strings and output them in the standard format with proper separators."
   ]
  },
  {
   "cell_type": "code",
   "execution_count": null,
   "id": "printable-access",
   "metadata": {},
   "outputs": [],
   "source": [
    "from dataprep.clean import clean_ro_cf\n",
    "clean_ro_cf(df, column = \"cf\")"
   ]
  },
  {
   "cell_type": "markdown",
   "id": "asian-intent",
   "metadata": {},
   "source": [
    "## 2. Output formats"
   ]
  },
  {
   "cell_type": "markdown",
   "id": "unique-portuguese",
   "metadata": {},
   "source": [
    "This section demonstrates the output parameter."
   ]
  },
  {
   "cell_type": "markdown",
   "id": "amateur-investment",
   "metadata": {},
   "source": [
    "### `standard` (default)"
   ]
  },
  {
   "cell_type": "code",
   "execution_count": null,
   "id": "acting-video",
   "metadata": {},
   "outputs": [],
   "source": [
    "clean_ro_cf(df, column = \"cf\", output_format=\"standard\")"
   ]
  },
  {
   "cell_type": "markdown",
   "id": "revolutionary-chapel",
   "metadata": {},
   "source": [
    "### `compact`"
   ]
  },
  {
   "cell_type": "code",
   "execution_count": null,
   "id": "hollow-skill",
   "metadata": {},
   "outputs": [],
   "source": [
    "clean_ro_cf(df, column = \"cf\", output_format=\"compact\")"
   ]
  },
  {
   "cell_type": "markdown",
   "id": "following-wound",
   "metadata": {},
   "source": [
    "## 3. `inplace` parameter\n",
    "\n",
    "This deletes the given column from the returned DataFrame. \n",
    "A new column containing cleaned CF strings is added with a title in the format `\"{original title}_clean\"`."
   ]
  },
  {
   "cell_type": "code",
   "execution_count": null,
   "id": "ambient-orleans",
   "metadata": {},
   "outputs": [],
   "source": [
    "clean_ro_cf(df, column=\"cf\", inplace=True)"
   ]
  },
  {
   "cell_type": "markdown",
   "id": "extraordinary-partnership",
   "metadata": {},
   "source": [
    "## 4. `errors` parameter"
   ]
  },
  {
   "cell_type": "markdown",
   "id": "optical-garbage",
   "metadata": {},
   "source": [
    "### `coerce` (default)"
   ]
  },
  {
   "cell_type": "code",
   "execution_count": null,
   "id": "rational-thunder",
   "metadata": {},
   "outputs": [],
   "source": [
    "clean_ro_cf(df, \"cf\", errors=\"coerce\")"
   ]
  },
  {
   "cell_type": "markdown",
   "id": "coordinated-briefing",
   "metadata": {},
   "source": [
    "### `ignore`"
   ]
  },
  {
   "cell_type": "code",
   "execution_count": null,
   "id": "opposite-ordinary",
   "metadata": {},
   "outputs": [],
   "source": [
    "clean_ro_cf(df, \"cf\", errors=\"ignore\")"
   ]
  },
  {
   "cell_type": "markdown",
   "id": "confidential-stream",
   "metadata": {},
   "source": [
    "## 4. `validate_ro_cf()`"
   ]
  },
  {
   "cell_type": "markdown",
   "id": "stone-major",
   "metadata": {},
   "source": [
    "`validate_ro_cf()` returns `True` when the input is a valid CF. Otherwise it returns `False`.\n",
    "\n",
    "The input of `validate_ro_cf()` can be a string, a Pandas DataSeries, a Dask DataSeries, a Pandas DataFrame and a dask DataFrame.\n",
    "\n",
    "When the input is a string, a Pandas DataSeries or a Dask DataSeries, user doesn't need to specify a column name to be validated. \n",
    "\n",
    "When the input is a Pandas DataFrame or a dask DataFrame, user can both specify or not specify a column name to be validated. If user specify the column name, `validate_ro_cf()` only returns the validation result for the specified column. If user doesn't specify the column name, `validate_ro_cf()` returns the validation result for the whole DataFrame."
   ]
  },
  {
   "cell_type": "code",
   "execution_count": null,
   "id": "passive-panic",
   "metadata": {},
   "outputs": [],
   "source": [
    "from dataprep.clean import validate_ro_cf\n",
    "print(validate_ro_cf(\"RO 185 472 90\"))\n",
    "print(validate_ro_cf(\"RO 185 472 903333\"))\n",
    "print(validate_ro_cf('BE 428759497'))\n",
    "print(validate_ro_cf('BE431150351'))\n",
    "print(validate_ro_cf(\"004085616\"))\n",
    "print(validate_ro_cf(\"hello\"))\n",
    "print(validate_ro_cf(np.nan))\n",
    "print(validate_ro_cf(\"NULL\"))"
   ]
  },
  {
   "cell_type": "markdown",
   "id": "operating-gentleman",
   "metadata": {},
   "source": [
    "### Series"
   ]
  },
  {
   "cell_type": "code",
   "execution_count": null,
   "id": "useful-designation",
   "metadata": {},
   "outputs": [],
   "source": [
    "validate_ro_cf(df[\"cf\"])"
   ]
  },
  {
   "cell_type": "markdown",
   "id": "treated-fitness",
   "metadata": {},
   "source": [
    "### DataFrame + Specify Column"
   ]
  },
  {
   "cell_type": "code",
   "execution_count": null,
   "id": "modern-enclosure",
   "metadata": {},
   "outputs": [],
   "source": [
    "validate_ro_cf(df, column=\"cf\")"
   ]
  },
  {
   "cell_type": "markdown",
   "id": "comfortable-director",
   "metadata": {},
   "source": [
    "### Only DataFrame"
   ]
  },
  {
   "cell_type": "code",
   "execution_count": null,
   "id": "objective-proportion",
   "metadata": {},
   "outputs": [],
   "source": [
    "validate_ro_cf(df)"
   ]
  },
  {
   "cell_type": "code",
   "execution_count": null,
   "id": "timely-courage",
   "metadata": {},
   "outputs": [],
   "source": []
  }
 ],
 "metadata": {
  "kernelspec": {
   "display_name": "Python 3",
   "language": "python",
   "name": "python3"
  },
  "language_info": {
   "codemirror_mode": {
    "name": "ipython",
    "version": 3
   },
   "file_extension": ".py",
   "mimetype": "text/x-python",
   "name": "python",
   "nbconvert_exporter": "python",
   "pygments_lexer": "ipython3",
   "version": "3.6.12"
  }
 },
 "nbformat": 4,
 "nbformat_minor": 5
}

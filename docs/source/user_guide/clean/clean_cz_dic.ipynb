{
 "cells": [
  {
   "cell_type": "markdown",
   "id": "affecting-merchant",
   "metadata": {},
   "source": [
    "# Czech VAT Numbers"
   ]
  },
  {
   "cell_type": "markdown",
   "id": "hidden-branch",
   "metadata": {},
   "source": [
    "## Introduction"
   ]
  },
  {
   "cell_type": "markdown",
   "id": "later-developer",
   "metadata": {},
   "source": [
    "The function `clean_cz_dic()` cleans a column containing Czech DIC number (DIC) strings, and standardizes them in a given format. The function `validate_cz_dic()` validates either a single DIC strings, a column of DIC strings or a DataFrame of DIC strings, returning `True` if the value is valid, and `False` otherwise."
   ]
  },
  {
   "cell_type": "markdown",
   "id": "nasty-plumbing",
   "metadata": {},
   "source": [
    "DIC strings can be converted to the following formats via the `output_format` parameter:\n",
    "\n",
    "* `compact`: only number strings without any seperators or whitespace, like \"25123891\"\n",
    "* `standard`: DIC strings with proper whitespace in the proper places. Note that in the case of DIC, the compact format is the same as the standard one.\n",
    "\n",
    "Invalid parsing is handled with the `errors` parameter:\n",
    "\n",
    "* `coerce` (default): invalid parsing will be set to NaN\n",
    "* `ignore`: invalid parsing will return the input\n",
    "* `raise`: invalid parsing will raise an exception\n",
    "\n",
    "The following sections demonstrate the functionality of `clean_cz_dic()` and `validate_cz_dic()`. "
   ]
  },
  {
   "cell_type": "markdown",
   "id": "ahead-independence",
   "metadata": {},
   "source": [
    "### An example dataset containing DIC strings"
   ]
  },
  {
   "cell_type": "code",
   "execution_count": null,
   "id": "offshore-costume",
   "metadata": {},
   "outputs": [],
   "source": [
    "import pandas as pd\n",
    "import numpy as np\n",
    "df = pd.DataFrame(\n",
    "    {\n",
    "        \"dic\": [\n",
    "            'CZ 25123891',\n",
    "            '25123890',\n",
    "            'BE 428759497',\n",
    "            'BE431150351',\n",
    "            \"002 724 334\",\n",
    "            \"hello\",\n",
    "            np.nan,\n",
    "            \"NULL\",\n",
    "        ], \n",
    "        \"address\": [\n",
    "            \"123 Pine Ave.\",\n",
    "            \"main st\",\n",
    "            \"1234 west main heights 57033\",\n",
    "            \"apt 1 789 s maple rd manhattan\",\n",
    "            \"robie house, 789 north main street\",\n",
    "            \"1111 S Figueroa St, Los Angeles, CA 90015\",\n",
    "            \"(staples center) 1111 S Figueroa St, Los Angeles\",\n",
    "            \"hello\",\n",
    "        ]\n",
    "    }\n",
    ")\n",
    "df"
   ]
  },
  {
   "cell_type": "markdown",
   "id": "developed-partner",
   "metadata": {},
   "source": [
    "## 1. Default `clean_cz_dic`\n",
    "\n",
    "By default, `clean_cz_dic` will clean dic strings and output them in the standard format with proper separators."
   ]
  },
  {
   "cell_type": "code",
   "execution_count": null,
   "id": "interpreted-sacrifice",
   "metadata": {},
   "outputs": [],
   "source": [
    "from dataprep.clean import clean_cz_dic\n",
    "clean_cz_dic(df, column = \"dic\")"
   ]
  },
  {
   "cell_type": "markdown",
   "id": "loaded-doubt",
   "metadata": {},
   "source": [
    "## 2. Output formats"
   ]
  },
  {
   "cell_type": "markdown",
   "id": "better-chosen",
   "metadata": {},
   "source": [
    "This section demonstrates the output parameter."
   ]
  },
  {
   "cell_type": "markdown",
   "id": "conceptual-browser",
   "metadata": {},
   "source": [
    "### `standard` (default)"
   ]
  },
  {
   "cell_type": "code",
   "execution_count": null,
   "id": "promotional-prerequisite",
   "metadata": {
    "scrolled": true
   },
   "outputs": [],
   "source": [
    "clean_cz_dic(df, column = \"dic\", output_format=\"standard\")"
   ]
  },
  {
   "cell_type": "markdown",
   "id": "presidential-shannon",
   "metadata": {},
   "source": [
    "### `compact`"
   ]
  },
  {
   "cell_type": "code",
   "execution_count": null,
   "id": "atomic-investigation",
   "metadata": {},
   "outputs": [],
   "source": [
    "clean_cz_dic(df, column = \"dic\", output_format=\"compact\")"
   ]
  },
  {
   "cell_type": "markdown",
   "id": "alike-gossip",
   "metadata": {},
   "source": [
    "## 3. `inplace` parameter\n",
    "\n",
    "This deletes the given column from the returned DataFrame. \n",
    "A new column containing cleaned DIC strings is added with a title in the format `\"{original title}_clean\"`."
   ]
  },
  {
   "cell_type": "code",
   "execution_count": null,
   "id": "disturbed-fifth",
   "metadata": {},
   "outputs": [],
   "source": [
    "clean_cz_dic(df, column=\"dic\", inplace=True)"
   ]
  },
  {
   "cell_type": "markdown",
   "id": "formed-spank",
   "metadata": {},
   "source": [
    "## 4. `errors` parameter"
   ]
  },
  {
   "cell_type": "markdown",
   "id": "german-brain",
   "metadata": {},
   "source": [
    "### `coerce` (default)"
   ]
  },
  {
   "cell_type": "code",
   "execution_count": null,
   "id": "chubby-warrior",
   "metadata": {},
   "outputs": [],
   "source": [
    "clean_cz_dic(df, \"dic\", errors=\"coerce\")"
   ]
  },
  {
   "cell_type": "markdown",
   "id": "prostate-opera",
   "metadata": {},
   "source": [
    "### `ignore`"
   ]
  },
  {
   "cell_type": "code",
   "execution_count": null,
   "id": "compatible-church",
   "metadata": {},
   "outputs": [],
   "source": [
    "clean_cz_dic(df, \"dic\", errors=\"ignore\")"
   ]
  },
  {
   "cell_type": "markdown",
   "id": "floral-utility",
   "metadata": {},
   "source": [
    "## 4. `validate_cz_dic()`"
   ]
  },
  {
   "cell_type": "markdown",
   "id": "posted-landscape",
   "metadata": {},
   "source": [
    "`validate_cz_dic()` returns `True` when the input is a valid DIC. Otherwise it returns `False`.\n",
    "\n",
    "The input of `validate_cz_dic()` can be a string, a Pandas DataSeries, a Dask DataSeries, a Pandas DataFrame and a dask DataFrame.\n",
    "\n",
    "When the input is a string, a Pandas DataSeries or a Dask DataSeries, user doesn't need to specify a column name to be validated. \n",
    "\n",
    "When the input is a Pandas DataFrame or a dask DataFrame, user can both specify or not specify a column name to be validated. If user specify the column name, `validate_cz_dic()` only returns the validation result for the specified column. If user doesn't specify the column name, `validate_cz_dic()` returns the validation result for the whole DataFrame."
   ]
  },
  {
   "cell_type": "code",
   "execution_count": null,
   "id": "stable-ontario",
   "metadata": {},
   "outputs": [],
   "source": [
    "from dataprep.clean import validate_cz_dic\n",
    "print(validate_cz_dic('CZ 25123891'))\n",
    "print(validate_cz_dic('25123890'))\n",
    "print(validate_cz_dic('BE 428759497'))\n",
    "print(validate_cz_dic('BE431150351'))\n",
    "print(validate_cz_dic(\"004085616\"))\n",
    "print(validate_cz_dic(\"hello\"))\n",
    "print(validate_cz_dic(np.nan))\n",
    "print(validate_cz_dic(\"NULL\"))"
   ]
  },
  {
   "cell_type": "markdown",
   "id": "swedish-prime",
   "metadata": {},
   "source": [
    "### Series"
   ]
  },
  {
   "cell_type": "code",
   "execution_count": null,
   "id": "undefined-equivalent",
   "metadata": {},
   "outputs": [],
   "source": [
    "validate_cz_dic(df[\"dic\"])"
   ]
  },
  {
   "cell_type": "markdown",
   "id": "continental-fortune",
   "metadata": {},
   "source": [
    "### DataFrame + Specify Column"
   ]
  },
  {
   "cell_type": "code",
   "execution_count": null,
   "id": "selected-benefit",
   "metadata": {},
   "outputs": [],
   "source": [
    "validate_cz_dic(df, column=\"dic\")"
   ]
  },
  {
   "cell_type": "markdown",
   "id": "functioning-biography",
   "metadata": {},
   "source": [
    "### Only DataFrame"
   ]
  },
  {
   "cell_type": "code",
   "execution_count": null,
   "id": "aging-hello",
   "metadata": {},
   "outputs": [],
   "source": [
    "validate_cz_dic(df)"
   ]
  },
  {
   "cell_type": "code",
   "execution_count": null,
   "id": "disciplinary-praise",
   "metadata": {},
   "outputs": [],
   "source": []
  }
 ],
 "metadata": {
  "kernelspec": {
   "display_name": "Python 3",
   "language": "python",
   "name": "python3"
  },
  "language_info": {
   "codemirror_mode": {
    "name": "ipython",
    "version": 3
   },
   "file_extension": ".py",
   "mimetype": "text/x-python",
   "name": "python",
   "nbconvert_exporter": "python",
   "pygments_lexer": "ipython3",
   "version": "3.6.12"
  }
 },
 "nbformat": 4,
 "nbformat_minor": 5
}

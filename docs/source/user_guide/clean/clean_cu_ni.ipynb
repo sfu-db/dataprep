{
 "cells": [
  {
   "cell_type": "markdown",
   "id": "saving-johns",
   "metadata": {},
   "source": [
    "# Cuban Identity Card Numbers"
   ]
  },
  {
   "cell_type": "markdown",
   "id": "numerous-disclaimer",
   "metadata": {},
   "source": [
    "## Introduction"
   ]
  },
  {
   "cell_type": "markdown",
   "id": "collaborative-identity",
   "metadata": {},
   "source": [
    "The function `clean_cu_ni()` cleans a column containing Cuban identity card numbers (NI) strings, and standardizes them in a given format. The function `validate_cu_ni()` validates either a single NI strings, a column of NI strings or a DataFrame of NI strings, returning `True` if the value is valid, and `False` otherwise."
   ]
  },
  {
   "cell_type": "markdown",
   "id": "controlled-drawing",
   "metadata": {},
   "source": [
    "NI strings can be converted to the following formats via the `output_format` parameter:\n",
    "\n",
    "* `compact`: only number strings without any seperators or whitespace, like \"91021027775\"\n",
    "* `standard`: NI strings with proper whitespace in the proper places. Note that in the case of NI, the compact format is the same as the standard one.\n",
    "* `birthdate`: split the date parts from the number and return the birth date, like \"1991-02-10\".\n",
    "* `gender`: return the gender (M/F) from the person's NI.\n",
    "\n",
    "Invalid parsing is handled with the `errors` parameter:\n",
    "\n",
    "* `coerce` (default): invalid parsing will be set to NaN\n",
    "* `ignore`: invalid parsing will return the input\n",
    "* `raise`: invalid parsing will raise an exception\n",
    "\n",
    "The following sections demonstrate the functionality of `clean_cu_ni()` and `validate_cu_ni()`. "
   ]
  },
  {
   "cell_type": "markdown",
   "id": "bright-bacon",
   "metadata": {},
   "source": [
    "### An example dataset containing NI strings"
   ]
  },
  {
   "cell_type": "code",
   "execution_count": null,
   "id": "legendary-concord",
   "metadata": {},
   "outputs": [],
   "source": [
    "import pandas as pd\n",
    "import numpy as np\n",
    "df = pd.DataFrame(\n",
    "    {\n",
    "        \"ni\": [\n",
    "            '91021027775',\n",
    "            '9102102777A',\n",
    "            '7542011030',\n",
    "            '7552A10004',\n",
    "            '8019010008',\n",
    "            \"hello\",\n",
    "            np.nan,\n",
    "            \"NULL\",\n",
    "        ], \n",
    "        \"address\": [\n",
    "            \"123 Pine Ave.\",\n",
    "            \"main st\",\n",
    "            \"1234 west main heights 57033\",\n",
    "            \"apt 1 789 s maple rd manhattan\",\n",
    "            \"robie house, 789 north main street\",\n",
    "            \"1111 S Figueroa St, Los Angeles, CA 90015\",\n",
    "            \"(staples center) 1111 S Figueroa St, Los Angeles\",\n",
    "            \"hello\",\n",
    "        ]\n",
    "    }\n",
    ")\n",
    "df"
   ]
  },
  {
   "cell_type": "markdown",
   "id": "resident-youth",
   "metadata": {},
   "source": [
    "## 1. Default `clean_cu_ni`\n",
    "\n",
    "By default, `clean_cu_ni` will clean ni strings and output them in the standard format with proper separators."
   ]
  },
  {
   "cell_type": "code",
   "execution_count": null,
   "id": "damaged-pulse",
   "metadata": {},
   "outputs": [],
   "source": [
    "from dataprep.clean import clean_cu_ni\n",
    "clean_cu_ni(df, column = \"ni\")"
   ]
  },
  {
   "cell_type": "markdown",
   "id": "configured-wagon",
   "metadata": {},
   "source": [
    "## 2. Output formats"
   ]
  },
  {
   "cell_type": "markdown",
   "id": "danish-paris",
   "metadata": {},
   "source": [
    "This section demonstrates the output parameter."
   ]
  },
  {
   "cell_type": "markdown",
   "id": "bulgarian-eight",
   "metadata": {},
   "source": [
    "### `standard` (default)"
   ]
  },
  {
   "cell_type": "code",
   "execution_count": null,
   "id": "infectious-partition",
   "metadata": {},
   "outputs": [],
   "source": [
    "clean_cu_ni(df, column = \"ni\", output_format=\"standard\")"
   ]
  },
  {
   "cell_type": "markdown",
   "id": "friendly-jamaica",
   "metadata": {},
   "source": [
    "### `compact`"
   ]
  },
  {
   "cell_type": "code",
   "execution_count": null,
   "id": "innovative-speed",
   "metadata": {},
   "outputs": [],
   "source": [
    "clean_cu_ni(df, column = \"ni\", output_format=\"compact\")"
   ]
  },
  {
   "cell_type": "markdown",
   "id": "noticed-colors",
   "metadata": {},
   "source": [
    "### `birthdate`"
   ]
  },
  {
   "cell_type": "code",
   "execution_count": null,
   "id": "confused-logging",
   "metadata": {},
   "outputs": [],
   "source": [
    "clean_cu_ni(df, column = \"ni\", output_format=\"birthdate\")"
   ]
  },
  {
   "cell_type": "markdown",
   "id": "particular-branch",
   "metadata": {},
   "source": [
    "### `gender`"
   ]
  },
  {
   "cell_type": "code",
   "execution_count": null,
   "id": "exempt-house",
   "metadata": {},
   "outputs": [],
   "source": [
    "clean_cu_ni(df, column = \"ni\", output_format=\"gender\")"
   ]
  },
  {
   "cell_type": "markdown",
   "id": "increasing-tower",
   "metadata": {},
   "source": [
    "## 3. `inplace` parameter\n",
    "\n",
    "This deletes the given column from the returned DataFrame. \n",
    "A new column containing cleaned NI strings is added with a title in the format `\"{original title}_clean\"`."
   ]
  },
  {
   "cell_type": "code",
   "execution_count": null,
   "id": "micro-aggregate",
   "metadata": {},
   "outputs": [],
   "source": [
    "clean_cu_ni(df, column=\"ni\", inplace=True)"
   ]
  },
  {
   "cell_type": "markdown",
   "id": "accurate-midnight",
   "metadata": {},
   "source": [
    "## 4. `errors` parameter"
   ]
  },
  {
   "cell_type": "markdown",
   "id": "ruled-thumb",
   "metadata": {},
   "source": [
    "### `coerce` (default)"
   ]
  },
  {
   "cell_type": "code",
   "execution_count": null,
   "id": "powerful-guidance",
   "metadata": {},
   "outputs": [],
   "source": [
    "clean_cu_ni(df, \"ni\", errors=\"coerce\")"
   ]
  },
  {
   "cell_type": "markdown",
   "id": "historical-reach",
   "metadata": {},
   "source": [
    "### `ignore`"
   ]
  },
  {
   "cell_type": "code",
   "execution_count": null,
   "id": "pretty-committee",
   "metadata": {},
   "outputs": [],
   "source": [
    "clean_cu_ni(df, \"ni\", errors=\"ignore\")"
   ]
  },
  {
   "cell_type": "markdown",
   "id": "curious-stationery",
   "metadata": {},
   "source": [
    "## 4. `validate_cu_ni()`"
   ]
  },
  {
   "cell_type": "markdown",
   "id": "becoming-dinner",
   "metadata": {},
   "source": [
    "`validate_cu_ni()` returns `True` when the input is a valid NI. Otherwise it returns `False`.\n",
    "\n",
    "The input of `validate_cu_ni()` can be a string, a Pandas DataSeries, a Dask DataSeries, a Pandas DataFrame and a dask DataFrame.\n",
    "\n",
    "When the input is a string, a Pandas DataSeries or a Dask DataSeries, user doesn't need to specify a column name to be validated. \n",
    "\n",
    "When the input is a Pandas DataFrame or a dask DataFrame, user can both specify or not specify a column name to be validated. If user specify the column name, `validate_cu_ni()` only returns the validation result for the specified column. If user doesn't specify the column name, `validate_cu_ni()` returns the validation result for the whole DataFrame."
   ]
  },
  {
   "cell_type": "code",
   "execution_count": null,
   "id": "cleared-election",
   "metadata": {},
   "outputs": [],
   "source": [
    "from dataprep.clean import validate_cu_ni\n",
    "print(validate_cu_ni('91021027775'))\n",
    "print(validate_cu_ni('9102102777A'))\n",
    "print(validate_cu_ni('7542011030'))\n",
    "print(validate_cu_ni('7552A10004'))\n",
    "print(validate_cu_ni('8019010008'))\n",
    "print(validate_cu_ni(\"hello\"))\n",
    "print(validate_cu_ni(np.nan))\n",
    "print(validate_cu_ni(\"NULL\"))"
   ]
  },
  {
   "cell_type": "markdown",
   "id": "frequent-crossing",
   "metadata": {},
   "source": [
    "### Series"
   ]
  },
  {
   "cell_type": "code",
   "execution_count": null,
   "id": "cooked-superior",
   "metadata": {},
   "outputs": [],
   "source": [
    "validate_cu_ni(df[\"ni\"])"
   ]
  },
  {
   "cell_type": "markdown",
   "id": "administrative-honduras",
   "metadata": {},
   "source": [
    "### DataFrame + Specify Column"
   ]
  },
  {
   "cell_type": "code",
   "execution_count": null,
   "id": "iraqi-recorder",
   "metadata": {},
   "outputs": [],
   "source": [
    "validate_cu_ni(df, column=\"ni\")"
   ]
  },
  {
   "cell_type": "markdown",
   "id": "ongoing-representative",
   "metadata": {},
   "source": [
    "### Only DataFrame"
   ]
  },
  {
   "cell_type": "code",
   "execution_count": null,
   "id": "revolutionary-grain",
   "metadata": {},
   "outputs": [],
   "source": [
    "validate_cu_ni(df)"
   ]
  },
  {
   "cell_type": "code",
   "execution_count": null,
   "id": "respective-samba",
   "metadata": {},
   "outputs": [],
   "source": []
  }
 ],
 "metadata": {
  "kernelspec": {
   "display_name": "Python 3",
   "language": "python",
   "name": "python3"
  },
  "language_info": {
   "codemirror_mode": {
    "name": "ipython",
    "version": 3
   },
   "file_extension": ".py",
   "mimetype": "text/x-python",
   "name": "python",
   "nbconvert_exporter": "python",
   "pygments_lexer": "ipython3",
   "version": "3.6.12"
  }
 },
 "nbformat": 4,
 "nbformat_minor": 5
}

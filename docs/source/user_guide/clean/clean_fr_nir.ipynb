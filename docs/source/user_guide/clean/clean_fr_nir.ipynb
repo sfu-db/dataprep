{
 "cells": [
  {
   "cell_type": "raw",
   "id": "trained-league",
   "metadata": {},
   "source": [
    ".. _nir_userguide:\n",
    "\n",
    "French Personal Identification Numbers\n",
    "======================================"
   ]
  },
  {
   "cell_type": "raw",
   "id": "intensive-nepal",
   "metadata": {},
   "source": [
    "Introduction\n",
    "------------\n",
    "\n",
    "The function :func:`clean_fr_nir() <dataprep.clean.clean_fr_nir.clean_fr_nir>` cleans a column containing French personal identification number (NIR) strings, and standardizes them in a given format. The function :func:`validate_fr_nir() <dataprep.clean.clean_fr_nir.validate_fr_nir>` validates either a single NIR strings, a column of NIR strings or a DataFrame of NIR strings, returning `True` if the value is valid, and `False` otherwise."
   ]
  },
  {
   "cell_type": "markdown",
   "id": "corporate-affairs",
   "metadata": {},
   "source": [
    "NIR strings can be converted to the following formats via the `output_format` parameter:\n",
    "\n",
    "* `compact`: only number strings without any seperators or whitespace, like \"295109912611193\"\n",
    "* `standard`: NIR strings with proper whitespace in the proper places, like \"2 95 10 99 126 111 93\"\n",
    "\n",
    "Invalid parsing is handled with the `errors` parameter:\n",
    "\n",
    "* `coerce` (default): invalid parsing will be set to NaN\n",
    "* `ignore`: invalid parsing will return the input\n",
    "* `raise`: invalid parsing will raise an exception\n",
    "\n",
    "The following sections demonstrate the functionality of `clean_fr_nir()` and `validate_fr_nir()`. "
   ]
  },
  {
   "cell_type": "markdown",
   "id": "lesbian-oracle",
   "metadata": {},
   "source": [
    "### An example dataset containing NIR strings"
   ]
  },
  {
   "cell_type": "code",
   "execution_count": null,
   "id": "sweet-elder",
   "metadata": {},
   "outputs": [],
   "source": [
    "import pandas as pd\n",
    "import numpy as np\n",
    "df = pd.DataFrame(\n",
    "    {\n",
    "        \"nir\": [\n",
    "            \"295109912611193\",\n",
    "            \"253072C07300443\",\n",
    "            \"51824753556\",\n",
    "            \"51 824 753 556\",\n",
    "            \"hello\",\n",
    "            np.nan,\n",
    "            \"NULL\"\n",
    "        ], \n",
    "        \"address\": [\n",
    "            \"123 Pine Ave.\",\n",
    "            \"main st\",\n",
    "            \"1234 west main heights 57033\",\n",
    "            \"apt 1 789 s maple rd manhattan\",\n",
    "            \"robie house, 789 north main street\",\n",
    "            \"(staples center) 1111 S Figueroa St, Los Angeles\",\n",
    "            \"hello\",\n",
    "        ]\n",
    "    }\n",
    ")\n",
    "df"
   ]
  },
  {
   "cell_type": "markdown",
   "id": "subtle-explorer",
   "metadata": {},
   "source": [
    "## 1. Default `clean_fr_nir`\n",
    "\n",
    "By default, `clean_fr_nir` will clean nir strings and output them in the standard format with proper separators."
   ]
  },
  {
   "cell_type": "code",
   "execution_count": null,
   "id": "automatic-flush",
   "metadata": {},
   "outputs": [],
   "source": [
    "from dataprep.clean import clean_fr_nir\n",
    "clean_fr_nir(df, column = \"nir\")"
   ]
  },
  {
   "cell_type": "markdown",
   "id": "ranking-breakdown",
   "metadata": {},
   "source": [
    "## 2. Output formats"
   ]
  },
  {
   "cell_type": "markdown",
   "id": "democratic-bruce",
   "metadata": {},
   "source": [
    "This section demonstrates the output parameter."
   ]
  },
  {
   "cell_type": "markdown",
   "id": "dramatic-sigma",
   "metadata": {},
   "source": [
    "### `standard` (default)"
   ]
  },
  {
   "cell_type": "code",
   "execution_count": null,
   "id": "attached-confusion",
   "metadata": {},
   "outputs": [],
   "source": [
    "clean_fr_nir(df, column = \"nir\", output_format=\"standard\")"
   ]
  },
  {
   "cell_type": "markdown",
   "id": "faced-exemption",
   "metadata": {},
   "source": [
    "### `compact`"
   ]
  },
  {
   "cell_type": "code",
   "execution_count": null,
   "id": "executed-black",
   "metadata": {},
   "outputs": [],
   "source": [
    "clean_fr_nir(df, column = \"nir\", output_format=\"compact\")"
   ]
  },
  {
   "cell_type": "markdown",
   "id": "maritime-youth",
   "metadata": {},
   "source": [
    "## 3. `inplace` parameter\n",
    "\n",
    "This deletes the given column from the returned DataFrame. \n",
    "A new column containing cleaned NIR strings is added with a title in the format `\"{original title}_clean\"`."
   ]
  },
  {
   "cell_type": "code",
   "execution_count": null,
   "id": "auburn-surfing",
   "metadata": {},
   "outputs": [],
   "source": [
    "clean_fr_nir(df, column=\"nir\", inplace=True)"
   ]
  },
  {
   "cell_type": "markdown",
   "id": "amino-fifty",
   "metadata": {},
   "source": [
    "## 4. `errors` parameter"
   ]
  },
  {
   "cell_type": "markdown",
   "id": "conceptual-denver",
   "metadata": {},
   "source": [
    "### `coerce` (default)"
   ]
  },
  {
   "cell_type": "code",
   "execution_count": null,
   "id": "selected-possibility",
   "metadata": {},
   "outputs": [],
   "source": [
    "clean_fr_nir(df, \"nir\", errors=\"coerce\")"
   ]
  },
  {
   "cell_type": "markdown",
   "id": "published-objective",
   "metadata": {},
   "source": [
    "### `ignore`"
   ]
  },
  {
   "cell_type": "code",
   "execution_count": null,
   "id": "improved-roman",
   "metadata": {},
   "outputs": [],
   "source": [
    "clean_fr_nir(df, \"nir\", errors=\"ignore\")"
   ]
  },
  {
   "cell_type": "markdown",
   "id": "incoming-crack",
   "metadata": {},
   "source": [
    "## 4. `validate_fr_nir()`"
   ]
  },
  {
   "cell_type": "markdown",
   "id": "electronic-success",
   "metadata": {},
   "source": [
    "`validate_fr_nir()` returns `True` when the input is a valid NIR. Otherwise it returns `False`.\n",
    "\n",
    "The input of `validate_fr_nir()` can be a string, a Pandas DataSeries, a Dask DataSeries, a Pandas DataFrame and a dask DataFrame.\n",
    "\n",
    "When the input is a string, a Pandas DataSeries or a Dask DataSeries, user doesn't need to specify a column name to be validated. \n",
    "\n",
    "When the input is a Pandas DataFrame or a dask DataFrame, user can both specify or not specify a column name to be validated. If user specify the column name, `validate_fr_nir()` only returns the validation result for the specified column. If user doesn't specify the column name, `validate_fr_nir()` returns the validation result for the whole DataFrame."
   ]
  },
  {
   "cell_type": "code",
   "execution_count": null,
   "id": "automated-wiring",
   "metadata": {},
   "outputs": [],
   "source": [
    "from dataprep.clean import validate_fr_nir\n",
    "print(validate_fr_nir(\"295109912611193\"))\n",
    "print(validate_fr_nir(\"253072C07300443\"))\n",
    "print(validate_fr_nir(\"51824753556\"))\n",
    "print(validate_fr_nir(\"51 824 753 556\"))\n",
    "print(validate_fr_nir(\"hello\"))\n",
    "print(validate_fr_nir(np.nan))\n",
    "print(validate_fr_nir(\"NULL\"))"
   ]
  },
  {
   "cell_type": "markdown",
   "id": "alpha-surrey",
   "metadata": {},
   "source": [
    "### Series"
   ]
  },
  {
   "cell_type": "code",
   "execution_count": null,
   "id": "limited-enterprise",
   "metadata": {},
   "outputs": [],
   "source": [
    "validate_fr_nir(df[\"nir\"])"
   ]
  },
  {
   "cell_type": "markdown",
   "id": "three-breeding",
   "metadata": {},
   "source": [
    "### DataFrame + Specify Column"
   ]
  },
  {
   "cell_type": "code",
   "execution_count": null,
   "id": "former-lucas",
   "metadata": {},
   "outputs": [],
   "source": [
    "validate_fr_nir(df, column=\"nir\")"
   ]
  },
  {
   "cell_type": "markdown",
   "id": "cooperative-surname",
   "metadata": {},
   "source": [
    "### Only DataFrame"
   ]
  },
  {
   "cell_type": "code",
   "execution_count": null,
   "id": "phantom-opening",
   "metadata": {
    "scrolled": true
   },
   "outputs": [],
   "source": [
    "validate_fr_nir(df)"
   ]
  },
  {
   "cell_type": "code",
   "execution_count": null,
   "id": "known-filter",
   "metadata": {},
   "outputs": [],
   "source": []
  }
 ],
 "metadata": {
  "kernelspec": {
   "display_name": "Python 3",
   "language": "python",
   "name": "python3"
  },
  "language_info": {
   "codemirror_mode": {
    "name": "ipython",
    "version": 3
   },
   "file_extension": ".py",
   "mimetype": "text/x-python",
   "name": "python",
   "nbconvert_exporter": "python",
   "pygments_lexer": "ipython3",
   "version": "3.6.12"
  }
 },
 "nbformat": 4,
 "nbformat_minor": 5
}

{
 "cells": [
  {
   "cell_type": "raw",
   "id": "informed-fireplace",
   "metadata": {},
   "source": [
    ".. _cups_userguide:\n",
    "\n",
    "Spanish Meter Point Numbers\n",
    "==========================="
   ]
  },
  {
   "cell_type": "raw",
   "id": "focused-brake",
   "metadata": {},
   "source": [
    "Introduction\n",
    "------------\n",
    "\n",
    "The function :func:`clean_es_cups() <dataprep.clean.clean_es_cups.clean_es_cups>` cleans a column containing Spanish meter point number (CUPS) strings, and standardizes them in a given format. The function :func:`validate_es_cups() <dataprep.clean.clean_es_cups.validate_es_cups>` validates either a single CUPS strings, a column of CUPS strings or a DataFrame of CUPS strings, returning `True` if the value is valid, and `False` otherwise."
   ]
  },
  {
   "cell_type": "markdown",
   "id": "following-patch",
   "metadata": {},
   "source": [
    "CUPS strings can be converted to the following formats via the `output_format` parameter:\n",
    "\n",
    "* `compact`: only number strings without any seperators or whitespace, like \"ES1234123456789012JY1F\"\n",
    "* `standard`: CUPS strings with proper whitespace in the proper places, like \"ES 1234 1234 5678 9012 JY 1F\"\n",
    "\n",
    "Invalid parsing is handled with the `errors` parameter:\n",
    "\n",
    "* `coerce` (default): invalid parsing will be set to NaN\n",
    "* `ignore`: invalid parsing will return the input\n",
    "* `raise`: invalid parsing will raise an exception\n",
    "\n",
    "The following sections demonstrate the functionality of `clean_es_cups()` and `validate_es_cups()`. "
   ]
  },
  {
   "cell_type": "markdown",
   "id": "affecting-intranet",
   "metadata": {},
   "source": [
    "### An example dataset containing CUPS strings"
   ]
  },
  {
   "cell_type": "code",
   "execution_count": null,
   "id": "intensive-genius",
   "metadata": {},
   "outputs": [],
   "source": [
    "import pandas as pd\n",
    "import numpy as np\n",
    "df = pd.DataFrame(\n",
    "    {\n",
    "        \"cups\": [\n",
    "            \"ES1234123456789012JY1F\",\n",
    "            \"ES 1234-123456789012-XY 1F\",\n",
    "            \"51824753556\",\n",
    "            \"51 824 753 556\",\n",
    "            \"hello\",\n",
    "            np.nan,\n",
    "            \"NULL\"\n",
    "        ], \n",
    "        \"address\": [\n",
    "            \"123 Pine Ave.\",\n",
    "            \"main st\",\n",
    "            \"1234 west main heights 57033\",\n",
    "            \"apt 1 789 s maple rd manhattan\",\n",
    "            \"robie house, 789 north main street\",\n",
    "            \"(staples center) 1111 S Figueroa St, Los Angeles\",\n",
    "            \"hello\",\n",
    "        ]\n",
    "    }\n",
    ")\n",
    "df"
   ]
  },
  {
   "cell_type": "markdown",
   "id": "flexible-island",
   "metadata": {},
   "source": [
    "## 1. Default `clean_es_cups`\n",
    "\n",
    "By default, `clean_es_cups` will clean cups strings and output them in the standard format with proper separators."
   ]
  },
  {
   "cell_type": "code",
   "execution_count": null,
   "id": "continuous-instruction",
   "metadata": {},
   "outputs": [],
   "source": [
    "from dataprep.clean import clean_es_cups\n",
    "clean_es_cups(df, column = \"cups\")"
   ]
  },
  {
   "cell_type": "markdown",
   "id": "tamil-timing",
   "metadata": {},
   "source": [
    "## 2. Output formats"
   ]
  },
  {
   "cell_type": "markdown",
   "id": "fatty-secretariat",
   "metadata": {},
   "source": [
    "This section demonstrates the output parameter."
   ]
  },
  {
   "cell_type": "markdown",
   "id": "commercial-amateur",
   "metadata": {},
   "source": [
    "### `standard` (default)"
   ]
  },
  {
   "cell_type": "code",
   "execution_count": null,
   "id": "opening-questionnaire",
   "metadata": {},
   "outputs": [],
   "source": [
    "clean_es_cups(df, column = \"cups\", output_format=\"standard\")"
   ]
  },
  {
   "cell_type": "markdown",
   "id": "collective-knowing",
   "metadata": {},
   "source": [
    "### `compact`"
   ]
  },
  {
   "cell_type": "code",
   "execution_count": null,
   "id": "naked-leonard",
   "metadata": {},
   "outputs": [],
   "source": [
    "clean_es_cups(df, column = \"cups\", output_format=\"compact\")"
   ]
  },
  {
   "cell_type": "markdown",
   "id": "organizational-machinery",
   "metadata": {},
   "source": [
    "## 3. `inplace` parameter\n",
    "\n",
    "This deletes the given column from the returned DataFrame. \n",
    "A new column containing cleaned CUPS strings is added with a title in the format `\"{original title}_clean\"`."
   ]
  },
  {
   "cell_type": "code",
   "execution_count": null,
   "id": "talented-float",
   "metadata": {},
   "outputs": [],
   "source": [
    "clean_es_cups(df, column=\"cups\", inplace=True)"
   ]
  },
  {
   "cell_type": "markdown",
   "id": "dangerous-privilege",
   "metadata": {},
   "source": [
    "## 4. `errors` parameter"
   ]
  },
  {
   "cell_type": "markdown",
   "id": "hairy-correspondence",
   "metadata": {},
   "source": [
    "### `coerce` (default)"
   ]
  },
  {
   "cell_type": "code",
   "execution_count": null,
   "id": "north-transsexual",
   "metadata": {},
   "outputs": [],
   "source": [
    "clean_es_cups(df, \"cups\", errors=\"coerce\")"
   ]
  },
  {
   "cell_type": "markdown",
   "id": "liked-auditor",
   "metadata": {},
   "source": [
    "### `ignore`"
   ]
  },
  {
   "cell_type": "code",
   "execution_count": null,
   "id": "ideal-pursuit",
   "metadata": {},
   "outputs": [],
   "source": [
    "clean_es_cups(df, \"cups\", errors=\"ignore\")"
   ]
  },
  {
   "cell_type": "markdown",
   "id": "defined-teaching",
   "metadata": {},
   "source": [
    "## 4. `validate_es_cups()`"
   ]
  },
  {
   "cell_type": "markdown",
   "id": "democratic-scene",
   "metadata": {},
   "source": [
    "`validate_es_cups()` returns `True` when the input is a valid CUPS. Otherwise it returns `False`.\n",
    "\n",
    "The input of `validate_es_cups()` can be a string, a Pandas DataSeries, a Dask DataSeries, a Pandas DataFrame and a dask DataFrame.\n",
    "\n",
    "When the input is a string, a Pandas DataSeries or a Dask DataSeries, user doesn't need to specify a column name to be validated. \n",
    "\n",
    "When the input is a Pandas DataFrame or a dask DataFrame, user can both specify or not specify a column name to be validated. If user specify the column name, `validate_es_cups()` only returns the validation result for the specified column. If user doesn't specify the column name, `validate_es_cups()` returns the validation result for the whole DataFrame."
   ]
  },
  {
   "cell_type": "code",
   "execution_count": null,
   "id": "every-breakfast",
   "metadata": {},
   "outputs": [],
   "source": [
    "from dataprep.clean import validate_es_cups\n",
    "print(validate_es_cups(\"ES1234123456789012JY1F\"))\n",
    "print(validate_es_cups(\"ES 1234-123456789012-XY 1F\"))\n",
    "print(validate_es_cups(\"51824753556\"))\n",
    "print(validate_es_cups(\"51 824 753 556\"))\n",
    "print(validate_es_cups(\"hello\"))\n",
    "print(validate_es_cups(np.nan))\n",
    "print(validate_es_cups(\"NULL\"))"
   ]
  },
  {
   "cell_type": "markdown",
   "id": "universal-championship",
   "metadata": {},
   "source": [
    "### Series"
   ]
  },
  {
   "cell_type": "code",
   "execution_count": null,
   "id": "economic-street",
   "metadata": {},
   "outputs": [],
   "source": [
    "validate_es_cups(df[\"cups\"])"
   ]
  },
  {
   "cell_type": "markdown",
   "id": "fatty-swaziland",
   "metadata": {},
   "source": [
    "### DataFrame + Specify Column"
   ]
  },
  {
   "cell_type": "code",
   "execution_count": null,
   "id": "compound-trout",
   "metadata": {},
   "outputs": [],
   "source": [
    "validate_es_cups(df, column=\"cups\")"
   ]
  },
  {
   "cell_type": "markdown",
   "id": "tamil-southeast",
   "metadata": {},
   "source": [
    "### Only DataFrame"
   ]
  },
  {
   "cell_type": "code",
   "execution_count": null,
   "id": "casual-russell",
   "metadata": {
    "scrolled": true
   },
   "outputs": [],
   "source": [
    "validate_es_cups(df)"
   ]
  },
  {
   "cell_type": "code",
   "execution_count": null,
   "id": "abandoned-alexandria",
   "metadata": {},
   "outputs": [],
   "source": []
  }
 ],
 "metadata": {
  "kernelspec": {
   "display_name": "Python 3",
   "language": "python",
   "name": "python3"
  },
  "language_info": {
   "codemirror_mode": {
    "name": "ipython",
    "version": 3
   },
   "file_extension": ".py",
   "mimetype": "text/x-python",
   "name": "python",
   "nbconvert_exporter": "python",
   "pygments_lexer": "ipython3",
   "version": "3.6.12"
  }
 },
 "nbformat": 4,
 "nbformat_minor": 5
}

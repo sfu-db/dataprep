{
 "cells": [
  {
   "cell_type": "markdown",
   "id": "complimentary-entry",
   "metadata": {},
   "source": [
    "# Brazilian Company Identifiers"
   ]
  },
  {
   "cell_type": "markdown",
   "id": "specified-raising",
   "metadata": {},
   "source": [
    "## Introduction"
   ]
  },
  {
   "cell_type": "markdown",
   "id": "standing-notebook",
   "metadata": {},
   "source": [
    "The function `clean_br_cnpj()` cleans a column containing Brazilian company identifier (CNPJ) strings, and standardizes them in a given format. The function `validate_br_cnpj()` validates either a single cnpj strings, a column of CNPJ strings or a DataFrame of CNPJ strings, returning `True` if the value is valid, and `False` otherwise."
   ]
  },
  {
   "cell_type": "markdown",
   "id": "proprietary-healthcare",
   "metadata": {},
   "source": [
    "CNPJ strings can be converted to the following formats via the `output_format` parameter:\n",
    "\n",
    "* `compact`: only number strings without any seperators or whitespace, like \"16727230000197\"\n",
    "* `standard`: cnpj strings with proper whitespace in the proper places, like \"16.727.230/0001-97\"\n",
    "\n",
    "Invalid parsing is handled with the `errors` parameter:\n",
    "\n",
    "* `coerce` (default): invalid parsing will be set to NaN\n",
    "* `ignore`: invalid parsing will return the input\n",
    "* `raise`: invalid parsing will raise an exception\n",
    "\n",
    "The following sections demonstrate the functionality of `clean_br_cnpj()` and `validate_br_cnpj()`. "
   ]
  },
  {
   "cell_type": "markdown",
   "id": "olympic-provincial",
   "metadata": {},
   "source": [
    "### An example dataset containing cnpj strings"
   ]
  },
  {
   "cell_type": "code",
   "execution_count": null,
   "id": "married-establishment",
   "metadata": {},
   "outputs": [],
   "source": [
    "import pandas as pd\n",
    "import numpy as np\n",
    "df = pd.DataFrame(\n",
    "    {\n",
    "        \"cnpj\": [\n",
    "            \"16.727.230/0001-97\",\n",
    "            \"16.727.230.0001-98\",\n",
    "            \"16.727.230/0001=97\",\n",
    "            \"16727230000197\",\n",
    "            \"hello\",\n",
    "            np.nan,\n",
    "            \"NULL\"\n",
    "        ], \n",
    "        \"address\": [\n",
    "            \"123 Pine Ave.\",\n",
    "            \"main st\",\n",
    "            \"1234 west main heights 57033\",\n",
    "            \"apt 1 789 s maple rd manhattan\",\n",
    "            \"robie house, 789 north main street\",\n",
    "            \"(staples center) 1111 S Figueroa St, Los Angeles\",\n",
    "            \"hello\",\n",
    "        ]\n",
    "    }\n",
    ")\n",
    "df"
   ]
  },
  {
   "cell_type": "markdown",
   "id": "affecting-nowhere",
   "metadata": {},
   "source": [
    "## 1. Default `clean_br_cnpj`\n",
    "\n",
    "By default, `clean_br_cnpj` will clean cnpj strings and output them in the standard format with proper separators."
   ]
  },
  {
   "cell_type": "code",
   "execution_count": null,
   "id": "perfect-document",
   "metadata": {},
   "outputs": [],
   "source": [
    "from dataprep.clean import clean_br_cnpj\n",
    "clean_br_cnpj(df, column = \"cnpj\")"
   ]
  },
  {
   "cell_type": "markdown",
   "id": "funded-norwegian",
   "metadata": {},
   "source": [
    "## 2. Output formats"
   ]
  },
  {
   "cell_type": "markdown",
   "id": "affiliated-checkout",
   "metadata": {},
   "source": [
    "This section demonstrates the output parameter."
   ]
  },
  {
   "cell_type": "markdown",
   "id": "further-collector",
   "metadata": {},
   "source": [
    "### `standard` (default)"
   ]
  },
  {
   "cell_type": "code",
   "execution_count": null,
   "id": "blond-affect",
   "metadata": {},
   "outputs": [],
   "source": [
    "clean_br_cnpj(df, column = \"cnpj\", output_format=\"standard\")"
   ]
  },
  {
   "cell_type": "markdown",
   "id": "french-rochester",
   "metadata": {},
   "source": [
    "### `compact`"
   ]
  },
  {
   "cell_type": "code",
   "execution_count": null,
   "id": "creative-tonight",
   "metadata": {},
   "outputs": [],
   "source": [
    "clean_br_cnpj(df, column = \"cnpj\", output_format=\"compact\")"
   ]
  },
  {
   "cell_type": "markdown",
   "id": "billion-water",
   "metadata": {},
   "source": [
    "## 3. `inplace` parameter\n",
    "\n",
    "This deletes the given column from the returned DataFrame. \n",
    "A new column containing cleaned CNPJ strings is added with a title in the format `\"{original title}_clean\"`."
   ]
  },
  {
   "cell_type": "code",
   "execution_count": null,
   "id": "medium-spanking",
   "metadata": {},
   "outputs": [],
   "source": [
    "clean_br_cnpj(df, column=\"cnpj\", inplace=True)"
   ]
  },
  {
   "cell_type": "markdown",
   "id": "distinct-atlas",
   "metadata": {},
   "source": [
    "## 4. `errors` parameter"
   ]
  },
  {
   "cell_type": "markdown",
   "id": "numeric-phoenix",
   "metadata": {},
   "source": [
    "### `coerce` (default)"
   ]
  },
  {
   "cell_type": "code",
   "execution_count": null,
   "id": "confirmed-island",
   "metadata": {},
   "outputs": [],
   "source": [
    "clean_br_cnpj(df, \"cnpj\", errors=\"coerce\")"
   ]
  },
  {
   "cell_type": "markdown",
   "id": "accessory-platinum",
   "metadata": {},
   "source": [
    "### `ignore`"
   ]
  },
  {
   "cell_type": "code",
   "execution_count": null,
   "id": "little-nowhere",
   "metadata": {},
   "outputs": [],
   "source": [
    "clean_br_cnpj(df, \"cnpj\", errors=\"ignore\")"
   ]
  },
  {
   "cell_type": "markdown",
   "id": "signed-webmaster",
   "metadata": {},
   "source": [
    "## 4. `validate_br_cnpj()`"
   ]
  },
  {
   "cell_type": "markdown",
   "id": "fewer-jimmy",
   "metadata": {},
   "source": [
    "`validate_br_cnpj()` returns `True` when the input is a valid CNPJ. Otherwise it returns `False`.\n",
    "\n",
    "The input of `validate_br_cnpj()` can be a string, a Pandas DataSeries, a Dask DataSeries, a Pandas DataFrame and a dask DataFrame.\n",
    "\n",
    "When the input is a string, a Pandas DataSeries or a Dask DataSeries, user doesn't need to specify a column name to be validated. \n",
    "\n",
    "When the input is a Pandas DataFrame or a dask DataFrame, user can both specify or not specify a column name to be validated. If user specify the column name, `validate_br_cnpj()` only returns the validation result for the specified column. If user doesn't specify the column name, `validate_br_cnpj()` returns the validation result for the whole DataFrame."
   ]
  },
  {
   "cell_type": "code",
   "execution_count": null,
   "id": "digital-modification",
   "metadata": {},
   "outputs": [],
   "source": [
    "from dataprep.clean import validate_br_cnpj\n",
    "print(validate_br_cnpj('16.727.230/0001-97'))\n",
    "print(validate_br_cnpj('16.727.230.0001-98'))\n",
    "print(validate_br_cnpj('16.727.230/0001=97'))\n",
    "print(validate_br_cnpj(\"51 824 753 556\"))\n",
    "print(validate_br_cnpj(\"hello\"))\n",
    "print(validate_br_cnpj(np.nan))\n",
    "print(validate_br_cnpj(\"NULL\"))"
   ]
  },
  {
   "cell_type": "markdown",
   "id": "correct-hobby",
   "metadata": {},
   "source": [
    "### Series"
   ]
  },
  {
   "cell_type": "code",
   "execution_count": null,
   "id": "worse-command",
   "metadata": {},
   "outputs": [],
   "source": [
    "validate_br_cnpj(df[\"cnpj\"])"
   ]
  },
  {
   "cell_type": "markdown",
   "id": "functional-graduate",
   "metadata": {},
   "source": [
    "### DataFrame + Specify Column"
   ]
  },
  {
   "cell_type": "code",
   "execution_count": null,
   "id": "institutional-surrey",
   "metadata": {},
   "outputs": [],
   "source": [
    "validate_br_cnpj(df, column=\"cnpj\")"
   ]
  },
  {
   "cell_type": "markdown",
   "id": "computational-dependence",
   "metadata": {},
   "source": [
    "### Only DataFrame"
   ]
  },
  {
   "cell_type": "code",
   "execution_count": null,
   "id": "virgin-judges",
   "metadata": {},
   "outputs": [],
   "source": [
    "validate_br_cnpj(df)"
   ]
  },
  {
   "cell_type": "code",
   "execution_count": null,
   "id": "comparable-nickel",
   "metadata": {},
   "outputs": [],
   "source": []
  }
 ],
 "metadata": {
  "kernelspec": {
   "display_name": "Python 3",
   "language": "python",
   "name": "python3"
  },
  "language_info": {
   "codemirror_mode": {
    "name": "ipython",
    "version": 3
   },
   "file_extension": ".py",
   "mimetype": "text/x-python",
   "name": "python",
   "nbconvert_exporter": "python",
   "pygments_lexer": "ipython3",
   "version": "3.6.12"
  }
 },
 "nbformat": 4,
 "nbformat_minor": 5
}

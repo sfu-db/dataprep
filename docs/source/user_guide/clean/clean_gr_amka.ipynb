{
 "cells": [
  {
   "cell_type": "markdown",
   "id": "painted-eleven",
   "metadata": {},
   "source": [
    "# Greek Social Security Numbers"
   ]
  },
  {
   "cell_type": "markdown",
   "id": "billion-translation",
   "metadata": {},
   "source": [
    "## Introduction"
   ]
  },
  {
   "cell_type": "markdown",
   "id": "comprehensive-belarus",
   "metadata": {},
   "source": [
    "The function `clean_gr_amka()` cleans a column containing Greek social security number (AMKA) strings, and standardizes them in a given format. The function `validate_gr_amka()` validates either a single AMKA strings, a column of AMKA strings or a DataFrame of AMKA strings, returning `True` if the value is valid, and `False` otherwise."
   ]
  },
  {
   "cell_type": "markdown",
   "id": "leading-framework",
   "metadata": {},
   "source": [
    "AMKA strings can be converted to the following formats via the `output_format` parameter:\n",
    "\n",
    "* `compact`: only number strings without any seperators or whitespace, like \"01013099997\"\n",
    "* `standard`: AMKA strings with proper whitespace in the proper places. Note that in the case of AMKA, the compact format is the same as the standard one.\n",
    "* `birthdate`: split the date parts from the number and return the birth date, like \"1930-01-01\".\n",
    "* `gender`: get the person's birth gender ('M' or 'F').\n",
    "\n",
    "Invalid parsing is handled with the `errors` parameter:\n",
    "\n",
    "* `coerce` (default): invalid parsing will be set to NaN\n",
    "* `ignore`: invalid parsing will return the input\n",
    "* `raise`: invalid parsing will raise an exception\n",
    "\n",
    "The following sections demonstrate the functionality of `clean_gr_amka()` and `validate_gr_amka()`. "
   ]
  },
  {
   "cell_type": "markdown",
   "id": "mighty-checklist",
   "metadata": {},
   "source": [
    "### An example dataset containing AMKA strings"
   ]
  },
  {
   "cell_type": "code",
   "execution_count": null,
   "id": "spare-pledge",
   "metadata": {},
   "outputs": [],
   "source": [
    "import pandas as pd\n",
    "import numpy as np\n",
    "df = pd.DataFrame(\n",
    "    {\n",
    "        \"amka\": [\n",
    "            '01013099997',\n",
    "            '01013099999',\n",
    "            '7542011030',\n",
    "            '7552A10004',\n",
    "            '8019010008',\n",
    "            \"hello\",\n",
    "            np.nan,\n",
    "            \"NULL\",\n",
    "        ], \n",
    "        \"address\": [\n",
    "            \"123 Pine Ave.\",\n",
    "            \"main st\",\n",
    "            \"1234 west main heights 57033\",\n",
    "            \"apt 1 789 s maple rd manhattan\",\n",
    "            \"robie house, 789 north main street\",\n",
    "            \"1111 S Figueroa St, Los Angeles, CA 90015\",\n",
    "            \"(staples center) 1111 S Figueroa St, Los Angeles\",\n",
    "            \"hello\",\n",
    "        ]\n",
    "    }\n",
    ")\n",
    "df"
   ]
  },
  {
   "cell_type": "markdown",
   "id": "historical-louisville",
   "metadata": {},
   "source": [
    "## 1. Default `clean_gr_amka`\n",
    "\n",
    "By default, `clean_gr_amka` will clean amka strings and output them in the standard format with proper separators."
   ]
  },
  {
   "cell_type": "code",
   "execution_count": null,
   "id": "quarterly-peter",
   "metadata": {},
   "outputs": [],
   "source": [
    "from dataprep.clean import clean_gr_amka\n",
    "clean_gr_amka(df, column = \"amka\")"
   ]
  },
  {
   "cell_type": "markdown",
   "id": "aboriginal-hamilton",
   "metadata": {},
   "source": [
    "## 2. Output formats"
   ]
  },
  {
   "cell_type": "markdown",
   "id": "personal-formula",
   "metadata": {},
   "source": [
    "This section demonstrates the output parameter."
   ]
  },
  {
   "cell_type": "markdown",
   "id": "narrative-court",
   "metadata": {},
   "source": [
    "### `standard` (default)"
   ]
  },
  {
   "cell_type": "code",
   "execution_count": null,
   "id": "reasonable-favor",
   "metadata": {},
   "outputs": [],
   "source": [
    "clean_gr_amka(df, column = \"amka\", output_format=\"standard\")"
   ]
  },
  {
   "cell_type": "markdown",
   "id": "southwest-newspaper",
   "metadata": {},
   "source": [
    "### `compact`"
   ]
  },
  {
   "cell_type": "code",
   "execution_count": null,
   "id": "urban-branch",
   "metadata": {},
   "outputs": [],
   "source": [
    "clean_gr_amka(df, column = \"amka\", output_format=\"compact\")"
   ]
  },
  {
   "cell_type": "markdown",
   "id": "stuck-thought",
   "metadata": {},
   "source": [
    "### `birthdate`"
   ]
  },
  {
   "cell_type": "code",
   "execution_count": null,
   "id": "biological-local",
   "metadata": {},
   "outputs": [],
   "source": [
    "clean_gr_amka(df, column = \"amka\", output_format=\"birthdate\")"
   ]
  },
  {
   "cell_type": "markdown",
   "id": "painful-efficiency",
   "metadata": {},
   "source": [
    "### `gender`"
   ]
  },
  {
   "cell_type": "code",
   "execution_count": null,
   "id": "stainless-spyware",
   "metadata": {},
   "outputs": [],
   "source": [
    "clean_gr_amka(df, column = \"amka\", output_format=\"gender\")"
   ]
  },
  {
   "cell_type": "markdown",
   "id": "cellular-treasurer",
   "metadata": {},
   "source": [
    "## 3. `inplace` parameter\n",
    "\n",
    "This deletes the given column from the returned DataFrame. \n",
    "A new column containing cleaned AMKA strings is added with a title in the format `\"{original title}_clean\"`."
   ]
  },
  {
   "cell_type": "code",
   "execution_count": null,
   "id": "standard-praise",
   "metadata": {},
   "outputs": [],
   "source": [
    "clean_gr_amka(df, column=\"amka\", inplace=True)"
   ]
  },
  {
   "cell_type": "markdown",
   "id": "everyday-value",
   "metadata": {},
   "source": [
    "## 4. `errors` parameter"
   ]
  },
  {
   "cell_type": "markdown",
   "id": "continuing-conditioning",
   "metadata": {},
   "source": [
    "### `coerce` (default)"
   ]
  },
  {
   "cell_type": "code",
   "execution_count": null,
   "id": "mineral-chapter",
   "metadata": {},
   "outputs": [],
   "source": [
    "clean_gr_amka(df, \"amka\", errors=\"coerce\")"
   ]
  },
  {
   "cell_type": "markdown",
   "id": "relevant-updating",
   "metadata": {},
   "source": [
    "### `ignore`"
   ]
  },
  {
   "cell_type": "code",
   "execution_count": null,
   "id": "packed-mozambique",
   "metadata": {},
   "outputs": [],
   "source": [
    "clean_gr_amka(df, \"amka\", errors=\"ignore\")"
   ]
  },
  {
   "cell_type": "markdown",
   "id": "capable-platform",
   "metadata": {},
   "source": [
    "## 4. `validate_gr_amka()`"
   ]
  },
  {
   "cell_type": "markdown",
   "id": "ultimate-payment",
   "metadata": {},
   "source": [
    "`validate_gr_amka()` returns `True` when the input is a valid AMKA. Otherwise it returns `False`.\n",
    "\n",
    "The input of `validate_gr_amka()` can be a string, a Pandas DataSeries, a Dask DataSeries, a Pandas DataFrame and a dask DataFrame.\n",
    "\n",
    "When the input is a string, a Pandas DataSeries or a Dask DataSeries, user doesn't need to specify a column name to be validated. \n",
    "\n",
    "When the input is a Pandas DataFrame or a dask DataFrame, user can both specify or not specify a column name to be validated. If user specify the column name, `validate_gr_amka()` only returns the validation result for the specified column. If user doesn't specify the column name, `validate_gr_amka()` returns the validation result for the whole DataFrame."
   ]
  },
  {
   "cell_type": "code",
   "execution_count": null,
   "id": "built-married",
   "metadata": {},
   "outputs": [],
   "source": [
    "from dataprep.clean import validate_gr_amka\n",
    "print(validate_gr_amka('01013099997'))\n",
    "print(validate_gr_amka('01013099999'))\n",
    "print(validate_gr_amka('7542011030'))\n",
    "print(validate_gr_amka('7552A10004'))\n",
    "print(validate_gr_amka('8019010008'))\n",
    "print(validate_gr_amka(\"hello\"))\n",
    "print(validate_gr_amka(np.nan))\n",
    "print(validate_gr_amka(\"NULL\"))"
   ]
  },
  {
   "cell_type": "markdown",
   "id": "recorded-survival",
   "metadata": {},
   "source": [
    "### Series"
   ]
  },
  {
   "cell_type": "code",
   "execution_count": null,
   "id": "cloudy-service",
   "metadata": {},
   "outputs": [],
   "source": [
    "validate_gr_amka(df[\"amka\"])"
   ]
  },
  {
   "cell_type": "markdown",
   "id": "subject-incentive",
   "metadata": {},
   "source": [
    "### DataFrame + Specify Column"
   ]
  },
  {
   "cell_type": "code",
   "execution_count": null,
   "id": "boring-transcription",
   "metadata": {},
   "outputs": [],
   "source": [
    "validate_gr_amka(df, column=\"amka\")"
   ]
  },
  {
   "cell_type": "markdown",
   "id": "outdoor-necessity",
   "metadata": {},
   "source": [
    "### Only DataFrame"
   ]
  },
  {
   "cell_type": "code",
   "execution_count": null,
   "id": "gross-leone",
   "metadata": {},
   "outputs": [],
   "source": [
    "validate_gr_amka(df)"
   ]
  },
  {
   "cell_type": "code",
   "execution_count": null,
   "id": "threaded-wealth",
   "metadata": {},
   "outputs": [],
   "source": []
  }
 ],
 "metadata": {
  "kernelspec": {
   "display_name": "Python 3",
   "language": "python",
   "name": "python3"
  },
  "language_info": {
   "codemirror_mode": {
    "name": "ipython",
    "version": 3
   },
   "file_extension": ".py",
   "mimetype": "text/x-python",
   "name": "python",
   "nbconvert_exporter": "python",
   "pygments_lexer": "ipython3",
   "version": "3.6.12"
  }
 },
 "nbformat": 4,
 "nbformat_minor": 5
}

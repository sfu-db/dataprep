{
 "cells": [
  {
   "cell_type": "raw",
   "id": "dynamic-spectrum",
   "metadata": {},
   "source": [
    ".. _brn_userguide:\n",
    "\n",
    "South Korea Business Registration Numbers\n",
    "========================================="
   ]
  },
  {
   "cell_type": "raw",
   "id": "central-improvement",
   "metadata": {},
   "source": [
    "Introduction\n",
    "------------\n",
    "\n",
    "The function :func:`clean_kr_brn() <dataprep.clean.clean_kr_brn.clean_kr_brn>` cleans a column containing South Korea Business Registration Number (BRN) strings, and standardizes them in a given format. The function :func:`validate_kr_brn() <dataprep.clean.clean_kr_brn.validate_kr_brn>` validates either a single BRN strings, a column of BRN strings or a DataFrame of BRN strings, returning `True` if the value is valid, and `False` otherwise."
   ]
  },
  {
   "cell_type": "markdown",
   "id": "oriented-narrow",
   "metadata": {},
   "source": [
    "BRN strings can be converted to the following formats via the `output_format` parameter:\n",
    "\n",
    "* `compact`: only number strings without any seperators or whitespace, like \"1348672683\"\n",
    "* `standard`: BRN strings with proper whitespace in the proper places, like \"134-86-72683\"\n",
    "\n",
    "Invalid parsing is handled with the `errors` parameter:\n",
    "\n",
    "* `coerce` (default): invalid parsing will be set to NaN\n",
    "* `ignore`: invalid parsing will return the input\n",
    "* `raise`: invalid parsing will raise an exception\n",
    "\n",
    "The following sections demonstrate the functionality of `clean_kr_brn()` and `validate_kr_brn()`. "
   ]
  },
  {
   "cell_type": "markdown",
   "id": "periodic-yahoo",
   "metadata": {},
   "source": [
    "### An example dataset containing BRN strings"
   ]
  },
  {
   "cell_type": "code",
   "execution_count": null,
   "id": "thirty-market",
   "metadata": {},
   "outputs": [],
   "source": [
    "import pandas as pd\n",
    "import numpy as np\n",
    "df = pd.DataFrame(\n",
    "    {\n",
    "        \"brn\": [\n",
    "            \"1348672683\",\n",
    "            \"123456789\",\n",
    "            \"51824753556\",\n",
    "            \"51 824 753 556\",\n",
    "            \"hello\",\n",
    "            np.nan,\n",
    "            \"NULL\"\n",
    "        ], \n",
    "        \"address\": [\n",
    "            \"123 Pine Ave.\",\n",
    "            \"main st\",\n",
    "            \"1234 west main heights 57033\",\n",
    "            \"apt 1 789 s maple rd manhattan\",\n",
    "            \"robie house, 789 north main street\",\n",
    "            \"(staples center) 1111 S Figueroa St, Los Angeles\",\n",
    "            \"hello\",\n",
    "        ]\n",
    "    }\n",
    ")\n",
    "df"
   ]
  },
  {
   "cell_type": "markdown",
   "id": "dental-corps",
   "metadata": {},
   "source": [
    "## 1. Default `clean_kr_brn`\n",
    "\n",
    "By default, `clean_kr_brn` will clean brn strings and output them in the standard format with proper separators."
   ]
  },
  {
   "cell_type": "code",
   "execution_count": null,
   "id": "romantic-essex",
   "metadata": {},
   "outputs": [],
   "source": [
    "from dataprep.clean import clean_kr_brn\n",
    "clean_kr_brn(df, column = \"brn\")"
   ]
  },
  {
   "cell_type": "markdown",
   "id": "congressional-currency",
   "metadata": {},
   "source": [
    "## 2. Output formats"
   ]
  },
  {
   "cell_type": "markdown",
   "id": "frequent-plaza",
   "metadata": {},
   "source": [
    "This section demonstrates the output parameter."
   ]
  },
  {
   "cell_type": "markdown",
   "id": "animated-indonesian",
   "metadata": {},
   "source": [
    "### `standard` (default)"
   ]
  },
  {
   "cell_type": "code",
   "execution_count": null,
   "id": "likely-improvement",
   "metadata": {},
   "outputs": [],
   "source": [
    "clean_kr_brn(df, column = \"brn\", output_format=\"standard\")"
   ]
  },
  {
   "cell_type": "markdown",
   "id": "freelance-vietnamese",
   "metadata": {},
   "source": [
    "### `compact`"
   ]
  },
  {
   "cell_type": "code",
   "execution_count": null,
   "id": "norman-assembly",
   "metadata": {},
   "outputs": [],
   "source": [
    "clean_kr_brn(df, column = \"brn\", output_format=\"compact\")"
   ]
  },
  {
   "cell_type": "markdown",
   "id": "naughty-monster",
   "metadata": {},
   "source": [
    "## 3. `inplace` parameter\n",
    "\n",
    "This deletes the given column from the returned DataFrame. \n",
    "A new column containing cleaned BRN strings is added with a title in the format `\"{original title}_clean\"`."
   ]
  },
  {
   "cell_type": "code",
   "execution_count": null,
   "id": "cathedral-utility",
   "metadata": {},
   "outputs": [],
   "source": [
    "clean_kr_brn(df, column=\"brn\", inplace=True)"
   ]
  },
  {
   "cell_type": "markdown",
   "id": "advisory-times",
   "metadata": {},
   "source": [
    "## 4. `errors` parameter"
   ]
  },
  {
   "cell_type": "markdown",
   "id": "white-polyester",
   "metadata": {},
   "source": [
    "### `coerce` (default)"
   ]
  },
  {
   "cell_type": "code",
   "execution_count": null,
   "id": "joined-equality",
   "metadata": {},
   "outputs": [],
   "source": [
    "clean_kr_brn(df, \"brn\", errors=\"coerce\")"
   ]
  },
  {
   "cell_type": "markdown",
   "id": "determined-concentrate",
   "metadata": {},
   "source": [
    "### `ignore`"
   ]
  },
  {
   "cell_type": "code",
   "execution_count": null,
   "id": "vocal-stranger",
   "metadata": {},
   "outputs": [],
   "source": [
    "clean_kr_brn(df, \"brn\", errors=\"ignore\")"
   ]
  },
  {
   "cell_type": "markdown",
   "id": "standard-tsunami",
   "metadata": {},
   "source": [
    "## 4. `validate_kr_brn()`"
   ]
  },
  {
   "cell_type": "markdown",
   "id": "comparative-technique",
   "metadata": {},
   "source": [
    "`validate_kr_brn()` returns `True` when the input is a valid BRN. Otherwise it returns `False`.\n",
    "\n",
    "The input of `validate_kr_brn()` can be a string, a Pandas DataSeries, a Dask DataSeries, a Pandas DataFrame and a dask DataFrame.\n",
    "\n",
    "When the input is a string, a Pandas DataSeries or a Dask DataSeries, user doesn't need to specify a column name to be validated. \n",
    "\n",
    "When the input is a Pandas DataFrame or a dask DataFrame, user can both specify or not specify a column name to be validated. If user specify the column name, `validate_kr_brn()` only returns the validation result for the specified column. If user doesn't specify the column name, `validate_kr_brn()` returns the validation result for the whole DataFrame."
   ]
  },
  {
   "cell_type": "code",
   "execution_count": null,
   "id": "active-senate",
   "metadata": {},
   "outputs": [],
   "source": [
    "from dataprep.clean import validate_kr_brn\n",
    "print(validate_kr_brn(\"1348672683\"))\n",
    "print(validate_kr_brn(\"123456789\"))\n",
    "print(validate_kr_brn(\"51824753556\"))\n",
    "print(validate_kr_brn(\"51 824 753 556\"))\n",
    "print(validate_kr_brn(\"hello\"))\n",
    "print(validate_kr_brn(np.nan))\n",
    "print(validate_kr_brn(\"NULL\"))"
   ]
  },
  {
   "cell_type": "markdown",
   "id": "united-posting",
   "metadata": {},
   "source": [
    "### Series"
   ]
  },
  {
   "cell_type": "code",
   "execution_count": null,
   "id": "becoming-kruger",
   "metadata": {},
   "outputs": [],
   "source": [
    "validate_kr_brn(df[\"brn\"])"
   ]
  },
  {
   "cell_type": "markdown",
   "id": "regulated-skating",
   "metadata": {},
   "source": [
    "### DataFrame + Specify Column"
   ]
  },
  {
   "cell_type": "code",
   "execution_count": null,
   "id": "mental-specific",
   "metadata": {},
   "outputs": [],
   "source": [
    "validate_kr_brn(df, column=\"brn\")"
   ]
  },
  {
   "cell_type": "markdown",
   "id": "removable-torture",
   "metadata": {},
   "source": [
    "### Only DataFrame"
   ]
  },
  {
   "cell_type": "code",
   "execution_count": null,
   "id": "grave-norwegian",
   "metadata": {
    "scrolled": true
   },
   "outputs": [],
   "source": [
    "validate_kr_brn(df)"
   ]
  },
  {
   "cell_type": "code",
   "execution_count": null,
   "id": "voluntary-browse",
   "metadata": {},
   "outputs": [],
   "source": []
  }
 ],
 "metadata": {
  "kernelspec": {
   "display_name": "Python 3",
   "language": "python",
   "name": "python3"
  },
  "language_info": {
   "codemirror_mode": {
    "name": "ipython",
    "version": 3
   },
   "file_extension": ".py",
   "mimetype": "text/x-python",
   "name": "python",
   "nbconvert_exporter": "python",
   "pygments_lexer": "ipython3",
   "version": "3.6.12"
  }
 },
 "nbformat": 4,
 "nbformat_minor": 5
}

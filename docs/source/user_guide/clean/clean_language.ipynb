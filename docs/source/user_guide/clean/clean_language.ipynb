{
 "cells": [
  {
   "cell_type": "raw",
   "metadata": {
    "raw_mimetype": "text/restructuredtext"
   },
   "source": [
    ".. _language_userguide:\n",
    "\n",
    "Language Names\n",
    "============="
   ]
  },
  {
   "cell_type": "raw",
   "metadata": {
    "raw_mimetype": "text/restructuredtext"
   },
   "source": [
    "Introduction\n",
    "------------\n",
    "\n",
    "The function :func:`clean_language() <dataprep.clean.clean_language.clean_language>` cleans a column containing language names and/or `ISO 639 <https://en.wikipedia.org/wiki/ISO_639/>`_ language codes, and standardizes them in a desired format using knowledge base. The function :func:`validate_language() <dataprep.clean.clean_language.validate_language>` validates possible language names, returning True if the value is valid, and False otherwise."
   ]
  },
  {
   "cell_type": "markdown",
   "metadata": {},
   "source": [
    "languages can be converted to and from the following formats via the `input_format` and `output_format` parameters:\n",
    "\n",
    "* `name`: reference language name, like \"English\"\n",
    "* `alpha-2`: two letter 639-1 identifier, like \"en\"\n",
    "* `alpha-3`: three letter 639-3 identifier, like \"eng\"\n",
    "\n",
    "`input_format` can be set to \"auto\" which automatically infers the input format. A tuple of input formats may also be used to indicate that the input may be any of the given input formats. \n",
    "\n",
    "\n",
    "`kb_path` and `encode` parameters can be used to customize the knowledge base. The default knowledge base comes from [ISO 639-3 official website](https://iso639-3.sil.org/code_tables/download_tables). In current stage, the user specified knowledge base should be in the user's local directory and follow by the format of [the default one](https://github.com/sfu-db/dataprep/blob/develop/dataprep/clean/language_data.csv): a csv file containing at least 3 columns \"name\", \"alpha-2\" and \"alpha-3\". These two parameters will be passed to `pd.read_csv` to load data.\n",
    "\n",
    "\n",
    "Invalid parsing is handled with the `errors` parameter:\n",
    "\n",
    "* `coerce` (default): invalid parsing will be set to NaN\n",
    "* `ignore`: invalid parsing will return the input\n",
    "* `raise`: invalid parsing will raise an exception\n",
    "\n",
    "The following sections demonstrate the functionality of `clean_language()` and `validate_language()`. "
   ]
  },
  {
   "cell_type": "markdown",
   "metadata": {},
   "source": [
    "### An example dataset containing language names"
   ]
  },
  {
   "cell_type": "code",
   "execution_count": null,
   "metadata": {},
   "outputs": [],
   "source": [
    "import pandas as pd\n",
    "import numpy as np\n",
    "df = pd.DataFrame(\n",
    "    {'messy_language': [\n",
    "            'eng',\n",
    "            'zh',\n",
    "            'Japanese',\n",
    "            \"english\",\n",
    "            \"Zh\",\n",
    "            \"tp\", # fake language code\n",
    "            \"233\",\n",
    "            304,\n",
    "            \"dd eng\",\n",
    "            \" tr \",\n",
    "            \"hello\",\n",
    "            np.nan,\n",
    "            \"NULL\",\n",
    "     ],\n",
    "    }\n",
    ")\n",
    "df"
   ]
  },
  {
   "cell_type": "markdown",
   "metadata": {},
   "source": [
    "## 1. Default `clean_language()`"
   ]
  },
  {
   "cell_type": "markdown",
   "metadata": {},
   "source": [
    "By default, the `input_format` parameter is set to \"auto\" (automatically determines the input format), the `output_format` parameter is set to \"name\". The `kb_path` is set to \"default\". The `errors` parameter is set to \"coerce\" (set NaN when parsing is invalid)."
   ]
  },
  {
   "cell_type": "code",
   "execution_count": null,
   "metadata": {},
   "outputs": [],
   "source": [
    "from dataprep.clean import clean_language\n",
    "clean_language(df, \"messy_language\")"
   ]
  },
  {
   "cell_type": "markdown",
   "metadata": {},
   "source": [
    "## 2. Input formats\n",
    "\n",
    "This section demonstrates the supported language input formats."
   ]
  },
  {
   "cell_type": "markdown",
   "metadata": {},
   "source": [
    "### `auto` (default)\n",
    "Automatically detect the input format of each value. \"name\"\n",
    "When the length of input value is 2, \"alpha-2\" is preferred. Similarly, when the length is 3, \"alpha-3\" is preferred. Otherwise, \"name\", \"alpha-2\", \"alpha-3\" will be considered sequentially."
   ]
  },
  {
   "cell_type": "code",
   "execution_count": null,
   "metadata": {},
   "outputs": [],
   "source": [
    "clean_language(df, \"messy_language\", input_format=\"auto\")"
   ]
  },
  {
   "cell_type": "markdown",
   "metadata": {},
   "source": [
    "### `name`\n",
    "Looks for a direct match with a reference language name, case insensitive and ignoring leading and trailing whitespace."
   ]
  },
  {
   "cell_type": "code",
   "execution_count": null,
   "metadata": {},
   "outputs": [],
   "source": [
    "clean_language(df, \"messy_language\", input_format=\"name\")"
   ]
  },
  {
   "cell_type": "markdown",
   "metadata": {},
   "source": [
    "### `alpha-2`"
   ]
  },
  {
   "cell_type": "code",
   "execution_count": null,
   "metadata": {},
   "outputs": [],
   "source": [
    "clean_language(df, \"messy_language\", input_format=\"alpha-2\")"
   ]
  },
  {
   "cell_type": "markdown",
   "metadata": {},
   "source": [
    "### `alpha-3`"
   ]
  },
  {
   "cell_type": "code",
   "execution_count": null,
   "metadata": {},
   "outputs": [],
   "source": [
    "clean_language(df, \"messy_language\", input_format=\"alpha-3\")"
   ]
  },
  {
   "cell_type": "markdown",
   "metadata": {},
   "source": [
    "### `(name, alpha-3)`\n",
    "\n",
    "A tuple containing any combination of input formats may be used to clean any of the given input formats."
   ]
  },
  {
   "cell_type": "code",
   "execution_count": null,
   "metadata": {},
   "outputs": [],
   "source": [
    "clean_language(df, \"messy_language\", input_format=(\"name\", \"alpha-3\"))"
   ]
  },
  {
   "cell_type": "markdown",
   "metadata": {},
   "source": [
    "## 3. Output formats\n",
    "\n",
    "This section demonstrates the supported output language formats."
   ]
  },
  {
   "cell_type": "markdown",
   "metadata": {},
   "source": [
    "### `name` (default)"
   ]
  },
  {
   "cell_type": "code",
   "execution_count": null,
   "metadata": {},
   "outputs": [],
   "source": [
    "clean_language(df, \"messy_language\", output_format=\"name\")"
   ]
  },
  {
   "cell_type": "markdown",
   "metadata": {},
   "source": [
    "### `alpha-2`"
   ]
  },
  {
   "cell_type": "code",
   "execution_count": null,
   "metadata": {},
   "outputs": [],
   "source": [
    "clean_language(df, \"messy_language\", output_format=\"alpha-2\")"
   ]
  },
  {
   "cell_type": "markdown",
   "metadata": {},
   "source": [
    "### `alpha-3`"
   ]
  },
  {
   "cell_type": "code",
   "execution_count": null,
   "metadata": {},
   "outputs": [],
   "source": [
    "clean_language(df, \"messy_language\", output_format=\"alpha-3\")"
   ]
  },
  {
   "cell_type": "markdown",
   "metadata": {},
   "source": [
    "## 4. Knowledge base\n",
    "\n",
    "Customize the knowledge base used to clean language names. We will use a toy knowledge base as follow:"
   ]
  },
  {
   "cell_type": "code",
   "execution_count": null,
   "metadata": {},
   "outputs": [],
   "source": [
    "alternative_path = \"./alternative_language_data.csv\"\n",
    "pd.read_csv(alternative_path, encoding = \"utf-8\")"
   ]
  },
  {
   "cell_type": "code",
   "execution_count": null,
   "metadata": {},
   "outputs": [],
   "source": [
    "clean_language(df, \"messy_language\", kb_path = alternative_path, encode = \"utf-8\")"
   ]
  },
  {
   "cell_type": "markdown",
   "metadata": {},
   "source": [
    "Note that \"tr\" is not a valid language now, since it does not appear in the alternative knowledge base."
   ]
  },
  {
   "cell_type": "markdown",
   "metadata": {},
   "source": [
    "## 5. `inplace` parameter\n",
    "This just deletes the given column from the returned dataframe. \n",
    "A new column containing cleaned coordinates is added with a title in the format `\"{original title}_clean\"`."
   ]
  },
  {
   "cell_type": "code",
   "execution_count": null,
   "metadata": {},
   "outputs": [],
   "source": [
    "clean_language(df, \"messy_language\", inplace=True)"
   ]
  },
  {
   "cell_type": "markdown",
   "metadata": {},
   "source": [
    "## 8. `errors` parameter"
   ]
  },
  {
   "cell_type": "markdown",
   "metadata": {},
   "source": [
    "### `coerce` (default)"
   ]
  },
  {
   "cell_type": "code",
   "execution_count": null,
   "metadata": {},
   "outputs": [],
   "source": [
    "clean_language(df, \"messy_language\", errors=\"coerce\")"
   ]
  },
  {
   "cell_type": "markdown",
   "metadata": {},
   "source": [
    "### `ignore`"
   ]
  },
  {
   "cell_type": "code",
   "execution_count": null,
   "metadata": {},
   "outputs": [],
   "source": [
    "clean_language(df, \"messy_language\", errors=\"ignore\")"
   ]
  },
  {
   "cell_type": "markdown",
   "metadata": {},
   "source": [
    "## 7. `validate_language()`\n",
    "\n",
    "`validate_language()` returns `True` when the input is a valid language name. Otherwise it returns `False`.\n",
    "\n",
    "The input of `validate_language()` can be a string, a Pandas DataSeries, a Dask DataSeries, a Pandas DataFrame and a Dask DataFrame.\n",
    "\n",
    "When the input is a string, a Pandas DataSeries or a Dask DataSeries, user doesn't need to specify a column name to be validated. \n",
    "\n",
    "When the input is a Pandas DataFrame or a dask DataFrame, user can both specify or not specify a column name to be validated. If user specify the column name, `validate_language()` only returns the validation result for the specified column. If user doesn't specify the column name, `validate_ilanguage()` returns the validation result for the whole DataFrame."
   ]
  },
  {
   "cell_type": "code",
   "execution_count": null,
   "metadata": {},
   "outputs": [],
   "source": [
    "from dataprep.clean import validate_language\n",
    "\n",
    "print(validate_language(\"english\"))\n",
    "print(validate_language(\"zh\"))\n",
    "print(validate_language(\" ZH \"))\n",
    "print(validate_language(\"tp\"))\n",
    "print(validate_language(\"eng\"))\n",
    "print(validate_language(\"hello\"))\n",
    "print(validate_language(\"233\"))\n",
    "print(validate_language(\"dd eng\"))\n",
    "print(validate_language(\"\"))"
   ]
  },
  {
   "cell_type": "markdown",
   "metadata": {},
   "source": [
    "### An example dataset containing multiple columns"
   ]
  },
  {
   "cell_type": "code",
   "execution_count": null,
   "metadata": {},
   "outputs": [],
   "source": [
    "df2 = pd.DataFrame(\n",
    "    {'some_messy_language': [\n",
    "        'eng', \n",
    "        'zh',\n",
    "        'Japanese', \n",
    "        \"english\",\n",
    "        \"Zh\",\n",
    "        \"tp\",\n",
    "    ], \n",
    "     'other_messy_language':[\n",
    "        \"233\", \n",
    "        304, \n",
    "        \" tr \", \n",
    "        \"hello\", \n",
    "        np.nan, \n",
    "        \"NULL\",\n",
    "     ],\n",
    "    }\n",
    ")\n",
    "df2"
   ]
  },
  {
   "cell_type": "markdown",
   "metadata": {},
   "source": [
    "### Series"
   ]
  },
  {
   "cell_type": "code",
   "execution_count": null,
   "metadata": {},
   "outputs": [],
   "source": [
    "validate_language(df2[\"some_messy_language\"])"
   ]
  },
  {
   "cell_type": "markdown",
   "metadata": {},
   "source": [
    "### DataFrame + Specify Column"
   ]
  },
  {
   "cell_type": "code",
   "execution_count": null,
   "metadata": {},
   "outputs": [],
   "source": [
    "validate_language(df2, column=\"other_messy_language\")"
   ]
  },
  {
   "cell_type": "markdown",
   "metadata": {},
   "source": [
    "### Only DataFrame"
   ]
  },
  {
   "cell_type": "code",
   "execution_count": null,
   "metadata": {},
   "outputs": [],
   "source": [
    "validate_language(df2)"
   ]
  },
  {
   "cell_type": "markdown",
   "metadata": {},
   "source": [
    "### Specify `input_format`"
   ]
  },
  {
   "cell_type": "code",
   "execution_count": null,
   "metadata": {},
   "outputs": [],
   "source": [
    "validate_language(df2[\"other_messy_language\"], input_format = \"alpha-3\")"
   ]
  },
  {
   "cell_type": "markdown",
   "metadata": {},
   "source": [
    "With `input_format` specified as \"alpha-3\", \"tr\" becomes false."
   ]
  },
  {
   "cell_type": "markdown",
   "metadata": {},
   "source": [
    "### Change knowledge base"
   ]
  },
  {
   "cell_type": "code",
   "execution_count": null,
   "metadata": {},
   "outputs": [],
   "source": [
    "validate_language(df2[\"other_messy_language\"], kb_path = alternative_path)"
   ]
  },
  {
   "cell_type": "markdown",
   "metadata": {},
   "source": [
    "Note that \"tr\" becomes False since it does not appear in the alternative knowledge base."
   ]
  },
  {
   "cell_type": "code",
   "execution_count": null,
   "metadata": {},
   "outputs": [],
   "source": []
  }
 ],
 "metadata": {
  "celltoolbar": "Raw Cell Format",
  "kernelspec": {
   "display_name": "Python 3",
   "language": "python",
   "name": "python3"
  },
  "language_info": {
   "codemirror_mode": {
    "name": "ipython",
    "version": 3
   },
   "file_extension": ".py",
   "mimetype": "text/x-python",
   "name": "python",
   "nbconvert_exporter": "python",
   "pygments_lexer": "ipython3",
   "version": "3.7.4"
  }
 },
 "nbformat": 4,
 "nbformat_minor": 4
}

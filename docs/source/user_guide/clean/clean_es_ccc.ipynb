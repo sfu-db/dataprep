{
 "cells": [
  {
   "cell_type": "markdown",
   "id": "finnish-fisher",
   "metadata": {},
   "source": [
    "# Spanish Bank Account Codes"
   ]
  },
  {
   "cell_type": "markdown",
   "id": "phantom-treaty",
   "metadata": {},
   "source": [
    "## Introduction"
   ]
  },
  {
   "cell_type": "markdown",
   "id": "authentic-cloud",
   "metadata": {},
   "source": [
    "The function `clean_es_ccc()` cleans a column containing Spanish Bank Account Code (CCC) strings, and standardizes them in a given format. The function `validate_es_ccc()` validates either a single CCC strings, a column of CCC strings or a DataFrame of CCC strings, returning `True` if the value is valid, and `False` otherwise."
   ]
  },
  {
   "cell_type": "markdown",
   "id": "frank-cause",
   "metadata": {},
   "source": [
    "CCC strings can be converted to the following formats via the `output_format` parameter:\n",
    "\n",
    "* `compact`: only number strings without any seperators or whitespace, like \"12341234161234567890\"\n",
    "* `standard`: CCC strings with proper whitespace in the proper places, like \"1234 1234 16 12345 67890\"\n",
    "* `iban`: convert the number to an IBAN in compact format, like \"ES7712341234161234567890\".\n",
    "\n",
    "Invalid parsing is handled with the `errors` parameter:\n",
    "\n",
    "* `coerce` (default): invalid parsing will be set to NaN\n",
    "* `ignore`: invalid parsing will return the input\n",
    "* `raise`: invalid parsing will raise an exception\n",
    "\n",
    "The following sections demonstrate the functionality of `clean_es_ccc()` and `validate_es_ccc()`. "
   ]
  },
  {
   "cell_type": "markdown",
   "id": "academic-implementation",
   "metadata": {},
   "source": [
    "### An example dataset containing CCC strings"
   ]
  },
  {
   "cell_type": "code",
   "execution_count": null,
   "id": "amber-hardwood",
   "metadata": {},
   "outputs": [],
   "source": [
    "import pandas as pd\n",
    "import numpy as np\n",
    "df = pd.DataFrame(\n",
    "    {\n",
    "        \"ccc\": [\n",
    "            \"12341234161234567890\",\n",
    "            \"134-1234-16 1234567890\",\n",
    "            \"999 999 999\",\n",
    "            \"004085616\",\n",
    "            \"002 724 334\",\n",
    "            \"hello\",\n",
    "            np.nan,\n",
    "            \"NULL\",\n",
    "        ], \n",
    "        \"address\": [\n",
    "            \"123 Pine Ave.\",\n",
    "            \"main st\",\n",
    "            \"1234 west main heights 57033\",\n",
    "            \"apt 1 789 s maple rd manhattan\",\n",
    "            \"robie house, 789 north main street\",\n",
    "            \"1111 S Figueroa St, Los Angeles, CA 90015\",\n",
    "            \"(staples center) 1111 S Figueroa St, Los Angeles\",\n",
    "            \"hello\",\n",
    "        ]\n",
    "    }\n",
    ")\n",
    "df"
   ]
  },
  {
   "cell_type": "markdown",
   "id": "furnished-comment",
   "metadata": {},
   "source": [
    "## 1. Default `clean_es_ccc`\n",
    "\n",
    "By default, `clean_es_ccc` will clean ccc strings and output them in the standard format with proper separators."
   ]
  },
  {
   "cell_type": "code",
   "execution_count": null,
   "id": "parliamentary-plane",
   "metadata": {},
   "outputs": [],
   "source": [
    "from dataprep.clean import clean_es_ccc\n",
    "clean_es_ccc(df, column = \"ccc\")"
   ]
  },
  {
   "cell_type": "markdown",
   "id": "living-administration",
   "metadata": {},
   "source": [
    "## 2. Output formats"
   ]
  },
  {
   "cell_type": "markdown",
   "id": "bearing-group",
   "metadata": {},
   "source": [
    "This section demonstrates the output parameter."
   ]
  },
  {
   "cell_type": "markdown",
   "id": "alike-concern",
   "metadata": {},
   "source": [
    "### `standard` (default)"
   ]
  },
  {
   "cell_type": "code",
   "execution_count": null,
   "id": "grave-checklist",
   "metadata": {},
   "outputs": [],
   "source": [
    "clean_es_ccc(df, column = \"ccc\", output_format=\"standard\")"
   ]
  },
  {
   "cell_type": "markdown",
   "id": "disturbed-johns",
   "metadata": {},
   "source": [
    "### `compact`"
   ]
  },
  {
   "cell_type": "code",
   "execution_count": null,
   "id": "opposite-encounter",
   "metadata": {},
   "outputs": [],
   "source": [
    "clean_es_ccc(df, column = \"ccc\", output_format=\"compact\")"
   ]
  },
  {
   "cell_type": "markdown",
   "id": "compressed-calcium",
   "metadata": {},
   "source": [
    "### `iban`"
   ]
  },
  {
   "cell_type": "code",
   "execution_count": null,
   "id": "parliamentary-patrol",
   "metadata": {},
   "outputs": [],
   "source": [
    "clean_es_ccc(df, column = \"ccc\", output_format=\"iban\")"
   ]
  },
  {
   "cell_type": "markdown",
   "id": "proof-japan",
   "metadata": {},
   "source": [
    "## 3. `inplace` parameter\n",
    "\n",
    "This deletes the given column from the returned DataFrame. \n",
    "A new column containing cleaned CCC strings is added with a title in the format `\"{original title}_clean\"`."
   ]
  },
  {
   "cell_type": "code",
   "execution_count": null,
   "id": "color-observation",
   "metadata": {},
   "outputs": [],
   "source": [
    "clean_es_ccc(df, column=\"ccc\", inplace=True)"
   ]
  },
  {
   "cell_type": "markdown",
   "id": "satellite-rings",
   "metadata": {},
   "source": [
    "## 4. `errors` parameter"
   ]
  },
  {
   "cell_type": "markdown",
   "id": "intense-creation",
   "metadata": {},
   "source": [
    "### `coerce` (default)"
   ]
  },
  {
   "cell_type": "code",
   "execution_count": null,
   "id": "gothic-pricing",
   "metadata": {},
   "outputs": [],
   "source": [
    "clean_es_ccc(df, \"ccc\", errors=\"coerce\")"
   ]
  },
  {
   "cell_type": "markdown",
   "id": "generic-japanese",
   "metadata": {},
   "source": [
    "### `ignore`"
   ]
  },
  {
   "cell_type": "code",
   "execution_count": null,
   "id": "southern-supplement",
   "metadata": {},
   "outputs": [],
   "source": [
    "clean_es_ccc(df, \"ccc\", errors=\"ignore\")"
   ]
  },
  {
   "cell_type": "markdown",
   "id": "higher-authentication",
   "metadata": {},
   "source": [
    "## 4. `validate_es_ccc()`"
   ]
  },
  {
   "cell_type": "markdown",
   "id": "italic-paradise",
   "metadata": {},
   "source": [
    "`validate_es_ccc()` returns `True` when the input is a valid CCC. Otherwise it returns `False`.\n",
    "\n",
    "The input of `validate_es_ccc()` can be a string, a Pandas DataSeries, a Dask DataSeries, a Pandas DataFrame and a dask DataFrame.\n",
    "\n",
    "When the input is a string, a Pandas DataSeries or a Dask DataSeries, user doesn't need to specify a column name to be validated. \n",
    "\n",
    "When the input is a Pandas DataFrame or a dask DataFrame, user can both specify or not specify a column name to be validated. If user specify the column name, `validate_es_ccc()` only returns the validation result for the specified column. If user doesn't specify the column name, `validate_es_ccc()` returns the validation result for the whole DataFrame."
   ]
  },
  {
   "cell_type": "code",
   "execution_count": null,
   "id": "sorted-daniel",
   "metadata": {},
   "outputs": [],
   "source": [
    "from dataprep.clean import validate_es_ccc\n",
    "print(validate_es_ccc(\"12341234161234567890\"))\n",
    "print(validate_es_ccc(\"134-1234-16 1234567890\"))\n",
    "print(validate_es_ccc(\"999 999 999\"))\n",
    "print(validate_es_ccc(\"51824753556\"))\n",
    "print(validate_es_ccc(\"004085616\"))\n",
    "print(validate_es_ccc(\"hello\"))\n",
    "print(validate_es_ccc(np.nan))\n",
    "print(validate_es_ccc(\"NULL\"))"
   ]
  },
  {
   "cell_type": "markdown",
   "id": "english-smart",
   "metadata": {},
   "source": [
    "### Series"
   ]
  },
  {
   "cell_type": "code",
   "execution_count": null,
   "id": "adopted-lewis",
   "metadata": {},
   "outputs": [],
   "source": [
    "validate_es_ccc(df[\"ccc\"])"
   ]
  },
  {
   "cell_type": "markdown",
   "id": "manufactured-approach",
   "metadata": {},
   "source": [
    "### DataFrame + Specify Column"
   ]
  },
  {
   "cell_type": "code",
   "execution_count": null,
   "id": "moving-nicholas",
   "metadata": {
    "scrolled": true
   },
   "outputs": [],
   "source": [
    "validate_es_ccc(df, column=\"ccc\")"
   ]
  },
  {
   "cell_type": "markdown",
   "id": "historic-nerve",
   "metadata": {},
   "source": [
    "### Only DataFrame"
   ]
  },
  {
   "cell_type": "code",
   "execution_count": null,
   "id": "banned-granny",
   "metadata": {},
   "outputs": [],
   "source": [
    "validate_es_ccc(df)"
   ]
  },
  {
   "cell_type": "code",
   "execution_count": null,
   "id": "transparent-favor",
   "metadata": {},
   "outputs": [],
   "source": []
  }
 ],
 "metadata": {
  "kernelspec": {
   "display_name": "Python 3",
   "language": "python",
   "name": "python3"
  },
  "language_info": {
   "codemirror_mode": {
    "name": "ipython",
    "version": 3
   },
   "file_extension": ".py",
   "mimetype": "text/x-python",
   "name": "python",
   "nbconvert_exporter": "python",
   "pygments_lexer": "ipython3",
   "version": "3.6.12"
  }
 },
 "nbformat": 4,
 "nbformat_minor": 5
}

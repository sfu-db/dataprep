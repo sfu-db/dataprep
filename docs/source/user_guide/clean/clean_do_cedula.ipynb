{
 "cells": [
  {
   "cell_type": "markdown",
   "id": "greek-steel",
   "metadata": {},
   "source": [
    "# Dominican Republic National Identifiers"
   ]
  },
  {
   "cell_type": "markdown",
   "id": "distinct-drove",
   "metadata": {},
   "source": [
    "## Introduction"
   ]
  },
  {
   "cell_type": "markdown",
   "id": "immediate-culture",
   "metadata": {},
   "source": [
    "The function `clean_do_cedula()` cleans a column containing Dominican Republic national identifier (Cedula) strings, and standardizes them in a given format. The function `validate_do_cedula()` validates either a single Cedula strings, a column of Cedula strings or a DataFrame of Cedula strings, returning `True` if the value is valid, and `False` otherwise."
   ]
  },
  {
   "cell_type": "markdown",
   "id": "ancient-hostel",
   "metadata": {},
   "source": [
    "Cedula strings can be converted to the following formats via the `output_format` parameter:\n",
    "\n",
    "* `compact`: only number strings without any seperators or whitespace, like \"22400022111\"\n",
    "* `standard`: Cedula strings with proper whitespace in the proper places, like \"224-0002211-1\"\n",
    "\n",
    "Invalid parsing is handled with the `errors` parameter:\n",
    "\n",
    "* `coerce` (default): invalid parsing will be set to NaN\n",
    "* `ignore`: invalid parsing will return the input\n",
    "* `raise`: invalid parsing will raise an exception\n",
    "\n",
    "The following sections demonstrate the functionality of `clean_do_cedula()` and `validate_do_cedula()`. "
   ]
  },
  {
   "cell_type": "markdown",
   "id": "stone-moisture",
   "metadata": {},
   "source": [
    "### An example dataset containing Cedula strings"
   ]
  },
  {
   "cell_type": "code",
   "execution_count": null,
   "id": "mechanical-boutique",
   "metadata": {},
   "outputs": [],
   "source": [
    "import pandas as pd\n",
    "import numpy as np\n",
    "df = pd.DataFrame(\n",
    "    {\n",
    "        \"cedula\": [\n",
    "            \"22400022111\",\n",
    "            \"0011391820A\",\n",
    "            \"51824753556\",\n",
    "            \"51 824 753 556\",\n",
    "            \"hello\",\n",
    "            np.nan,\n",
    "            \"NULL\"\n",
    "        ], \n",
    "        \"address\": [\n",
    "            \"123 Pine Ave.\",\n",
    "            \"main st\",\n",
    "            \"1234 west main heights 57033\",\n",
    "            \"apt 1 789 s maple rd manhattan\",\n",
    "            \"robie house, 789 north main street\",\n",
    "            \"(staples center) 1111 S Figueroa St, Los Angeles\",\n",
    "            \"hello\",\n",
    "        ]\n",
    "    }\n",
    ")\n",
    "df"
   ]
  },
  {
   "cell_type": "markdown",
   "id": "bridal-checkout",
   "metadata": {},
   "source": [
    "## 1. Default `clean_do_cedula`\n",
    "\n",
    "By default, `clean_do_cedula` will clean cedula strings and output them in the standard format with proper separators."
   ]
  },
  {
   "cell_type": "code",
   "execution_count": null,
   "id": "greater-relief",
   "metadata": {},
   "outputs": [],
   "source": [
    "from dataprep.clean import clean_do_cedula\n",
    "clean_do_cedula(df, column = \"cedula\")"
   ]
  },
  {
   "cell_type": "markdown",
   "id": "qualified-grace",
   "metadata": {},
   "source": [
    "## 2. Output formats"
   ]
  },
  {
   "cell_type": "markdown",
   "id": "simple-corruption",
   "metadata": {},
   "source": [
    "This section demonstrates the output parameter."
   ]
  },
  {
   "cell_type": "markdown",
   "id": "molecular-sharp",
   "metadata": {},
   "source": [
    "### `standard` (default)"
   ]
  },
  {
   "cell_type": "code",
   "execution_count": null,
   "id": "spread-ambassador",
   "metadata": {},
   "outputs": [],
   "source": [
    "clean_do_cedula(df, column = \"cedula\", output_format=\"standard\")"
   ]
  },
  {
   "cell_type": "markdown",
   "id": "cultural-career",
   "metadata": {},
   "source": [
    "### `compact`"
   ]
  },
  {
   "cell_type": "code",
   "execution_count": null,
   "id": "large-childhood",
   "metadata": {},
   "outputs": [],
   "source": [
    "clean_do_cedula(df, column = \"cedula\", output_format=\"compact\")"
   ]
  },
  {
   "cell_type": "markdown",
   "id": "regular-humidity",
   "metadata": {},
   "source": [
    "## 3. `inplace` parameter\n",
    "\n",
    "This deletes the given column from the returned DataFrame. \n",
    "A new column containing cleaned Cedula strings is added with a title in the format `\"{original title}_clean\"`."
   ]
  },
  {
   "cell_type": "code",
   "execution_count": null,
   "id": "lonely-north",
   "metadata": {},
   "outputs": [],
   "source": [
    "clean_do_cedula(df, column=\"cedula\", inplace=True)"
   ]
  },
  {
   "cell_type": "markdown",
   "id": "piano-question",
   "metadata": {},
   "source": [
    "## 4. `errors` parameter"
   ]
  },
  {
   "cell_type": "markdown",
   "id": "stylish-provider",
   "metadata": {},
   "source": [
    "### `coerce` (default)"
   ]
  },
  {
   "cell_type": "code",
   "execution_count": null,
   "id": "freelance-essay",
   "metadata": {},
   "outputs": [],
   "source": [
    "clean_do_cedula(df, \"cedula\", errors=\"coerce\")"
   ]
  },
  {
   "cell_type": "markdown",
   "id": "important-psychiatry",
   "metadata": {},
   "source": [
    "### `ignore`"
   ]
  },
  {
   "cell_type": "code",
   "execution_count": null,
   "id": "pacific-while",
   "metadata": {},
   "outputs": [],
   "source": [
    "clean_do_cedula(df, \"cedula\", errors=\"ignore\")"
   ]
  },
  {
   "cell_type": "markdown",
   "id": "optimum-classics",
   "metadata": {},
   "source": [
    "## 4. `validate_do_cedula()`"
   ]
  },
  {
   "cell_type": "markdown",
   "id": "statutory-consolidation",
   "metadata": {},
   "source": [
    "`validate_do_cedula()` returns `True` when the input is a valid Cedula. Otherwise it returns `False`.\n",
    "\n",
    "The input of `validate_do_cedula()` can be a string, a Pandas DataSeries, a Dask DataSeries, a Pandas DataFrame and a dask DataFrame.\n",
    "\n",
    "When the input is a string, a Pandas DataSeries or a Dask DataSeries, user doesn't need to specify a column name to be validated. \n",
    "\n",
    "When the input is a Pandas DataFrame or a dask DataFrame, user can both specify or not specify a column name to be validated. If user specify the column name, `validate_do_cedula()` only returns the validation result for the specified column. If user doesn't specify the column name, `validate_do_cedula()` returns the validation result for the whole DataFrame."
   ]
  },
  {
   "cell_type": "code",
   "execution_count": null,
   "id": "conservative-replica",
   "metadata": {},
   "outputs": [],
   "source": [
    "from dataprep.clean import validate_do_cedula\n",
    "print(validate_do_cedula(\"22400022111\"))\n",
    "print(validate_do_cedula(\"0011391820A\"))\n",
    "print(validate_do_cedula(\"51824753556\"))\n",
    "print(validate_do_cedula(\"51 824 753 556\"))\n",
    "print(validate_do_cedula(\"hello\"))\n",
    "print(validate_do_cedula(np.nan))\n",
    "print(validate_do_cedula(\"NULL\"))"
   ]
  },
  {
   "cell_type": "markdown",
   "id": "electrical-balance",
   "metadata": {},
   "source": [
    "### Series"
   ]
  },
  {
   "cell_type": "code",
   "execution_count": null,
   "id": "looking-growth",
   "metadata": {
    "scrolled": true
   },
   "outputs": [],
   "source": [
    "validate_do_cedula(df[\"cedula\"])"
   ]
  },
  {
   "cell_type": "markdown",
   "id": "fifth-camping",
   "metadata": {},
   "source": [
    "### DataFrame + Specify Column"
   ]
  },
  {
   "cell_type": "code",
   "execution_count": null,
   "id": "accompanied-cartoon",
   "metadata": {},
   "outputs": [],
   "source": [
    "validate_do_cedula(df, column=\"cedula\")"
   ]
  },
  {
   "cell_type": "markdown",
   "id": "decent-ratio",
   "metadata": {},
   "source": [
    "### Only DataFrame"
   ]
  },
  {
   "cell_type": "code",
   "execution_count": null,
   "id": "still-titanium",
   "metadata": {},
   "outputs": [],
   "source": [
    "validate_do_cedula(df)"
   ]
  },
  {
   "cell_type": "code",
   "execution_count": null,
   "id": "demonstrated-federation",
   "metadata": {},
   "outputs": [],
   "source": []
  }
 ],
 "metadata": {
  "kernelspec": {
   "display_name": "Python 3",
   "language": "python",
   "name": "python3"
  },
  "language_info": {
   "codemirror_mode": {
    "name": "ipython",
    "version": 3
   },
   "file_extension": ".py",
   "mimetype": "text/x-python",
   "name": "python",
   "nbconvert_exporter": "python",
   "pygments_lexer": "ipython3",
   "version": "3.6.12"
  }
 },
 "nbformat": 4,
 "nbformat_minor": 5
}

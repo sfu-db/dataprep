{
 "cells": [
  {
   "cell_type": "raw",
   "id": "useful-robertson",
   "metadata": {},
   "source": [
    ".. _rut_userguide:\n",
    "\n",
    "Chile RUT/RUN Numbers\n",
    "====================="
   ]
  },
  {
   "cell_type": "raw",
   "id": "treated-dominant",
   "metadata": {},
   "source": [
    "Introduction\n",
    "------------\n",
    "\n",
    "The function :func:`clean_cl_rut() <dataprep.clean.clean_cl_rut.clean_cl_rut>` cleans a column containing Chile RUT/RUN number (RUT) strings, and standardizes them in a given format. The function :func:`validate_cl_rut() <dataprep.clean.clean_cl_rut.validate_cl_rut>` validates either a single RUT strings, a column of RUT strings or a DataFrame of RUT strings, returning `True` if the value is valid, and `False` otherwise."
   ]
  },
  {
   "cell_type": "markdown",
   "id": "emerging-newport",
   "metadata": {},
   "source": [
    "RUT strings can be converted to the following formats via the `output_format` parameter:\n",
    "\n",
    "* `compact`: only number strings without any seperators or whitespace, like \"125319092\"\n",
    "* `standard`: RUT strings with proper whitespace in the proper places, like \"12.531.909-2\"\n",
    "\n",
    "Invalid parsing is handled with the `errors` parameter:\n",
    "\n",
    "* `coerce` (default): invalid parsing will be set to NaN\n",
    "* `ignore`: invalid parsing will return the input\n",
    "* `raise`: invalid parsing will raise an exception\n",
    "\n",
    "The following sections demonstrate the functionality of `clean_cl_rut()` and `validate_cl_rut()`. "
   ]
  },
  {
   "cell_type": "markdown",
   "id": "conscious-lying",
   "metadata": {},
   "source": [
    "### An example dataset containing RUT strings"
   ]
  },
  {
   "cell_type": "code",
   "execution_count": null,
   "id": "tropical-throw",
   "metadata": {},
   "outputs": [],
   "source": [
    "import pandas as pd\n",
    "import numpy as np\n",
    "df = pd.DataFrame(\n",
    "    {\n",
    "        \"rut\": [\n",
    "            \"125319092\",\n",
    "            \"76086A28-5\",\n",
    "            \"51824753556\",\n",
    "            \"51 824 753 556\",\n",
    "            \"hello\",\n",
    "            np.nan,\n",
    "            \"NULL\"\n",
    "        ], \n",
    "        \"address\": [\n",
    "            \"123 Pine Ave.\",\n",
    "            \"main st\",\n",
    "            \"1234 west main heights 57033\",\n",
    "            \"apt 1 789 s maple rd manhattan\",\n",
    "            \"robie house, 789 north main street\",\n",
    "            \"(staples center) 1111 S Figueroa St, Los Angeles\",\n",
    "            \"hello\",\n",
    "        ]\n",
    "    }\n",
    ")\n",
    "df"
   ]
  },
  {
   "cell_type": "markdown",
   "id": "useful-portfolio",
   "metadata": {},
   "source": [
    "## 1. Default `clean_cl_rut`\n",
    "\n",
    "By default, `clean_cl_rut` will clean rut strings and output them in the standard format with proper separators."
   ]
  },
  {
   "cell_type": "code",
   "execution_count": null,
   "id": "quiet-light",
   "metadata": {
    "scrolled": true
   },
   "outputs": [],
   "source": [
    "from dataprep.clean import clean_cl_rut\n",
    "clean_cl_rut(df, column = \"rut\")"
   ]
  },
  {
   "cell_type": "markdown",
   "id": "exciting-virus",
   "metadata": {},
   "source": [
    "## 2. Output formats"
   ]
  },
  {
   "cell_type": "markdown",
   "id": "otherwise-challenge",
   "metadata": {},
   "source": [
    "This section demonstrates the output parameter."
   ]
  },
  {
   "cell_type": "markdown",
   "id": "modular-advantage",
   "metadata": {},
   "source": [
    "### `standard` (default)"
   ]
  },
  {
   "cell_type": "code",
   "execution_count": null,
   "id": "discrete-contractor",
   "metadata": {},
   "outputs": [],
   "source": [
    "clean_cl_rut(df, column = \"rut\", output_format=\"standard\")"
   ]
  },
  {
   "cell_type": "markdown",
   "id": "adapted-pavilion",
   "metadata": {},
   "source": [
    "### `compact`"
   ]
  },
  {
   "cell_type": "code",
   "execution_count": null,
   "id": "integral-baker",
   "metadata": {},
   "outputs": [],
   "source": [
    "clean_cl_rut(df, column = \"rut\", output_format=\"compact\")"
   ]
  },
  {
   "cell_type": "markdown",
   "id": "nutritional-threshold",
   "metadata": {},
   "source": [
    "## 3. `inplace` parameter\n",
    "\n",
    "This deletes the given column from the returned DataFrame. \n",
    "A new column containing cleaned RUT strings is added with a title in the format `\"{original title}_clean\"`."
   ]
  },
  {
   "cell_type": "code",
   "execution_count": null,
   "id": "accepting-franklin",
   "metadata": {},
   "outputs": [],
   "source": [
    "clean_cl_rut(df, column=\"rut\", inplace=True)"
   ]
  },
  {
   "cell_type": "markdown",
   "id": "postal-refund",
   "metadata": {},
   "source": [
    "## 4. `errors` parameter"
   ]
  },
  {
   "cell_type": "markdown",
   "id": "choice-medication",
   "metadata": {},
   "source": [
    "### `coerce` (default)"
   ]
  },
  {
   "cell_type": "code",
   "execution_count": null,
   "id": "direct-jordan",
   "metadata": {},
   "outputs": [],
   "source": [
    "clean_cl_rut(df, \"rut\", errors=\"coerce\")"
   ]
  },
  {
   "cell_type": "markdown",
   "id": "attractive-cassette",
   "metadata": {},
   "source": [
    "### `ignore`"
   ]
  },
  {
   "cell_type": "code",
   "execution_count": null,
   "id": "realistic-advocate",
   "metadata": {},
   "outputs": [],
   "source": [
    "clean_cl_rut(df, \"rut\", errors=\"ignore\")"
   ]
  },
  {
   "cell_type": "markdown",
   "id": "compound-bosnia",
   "metadata": {},
   "source": [
    "## 4. `validate_cl_rut()`"
   ]
  },
  {
   "cell_type": "markdown",
   "id": "restricted-pollution",
   "metadata": {},
   "source": [
    "`validate_cl_rut()` returns `True` when the input is a valid RUT. Otherwise it returns `False`.\n",
    "\n",
    "The input of `validate_cl_rut()` can be a string, a Pandas DataSeries, a Dask DataSeries, a Pandas DataFrame and a dask DataFrame.\n",
    "\n",
    "When the input is a string, a Pandas DataSeries or a Dask DataSeries, user doesn't need to specify a column name to be validated. \n",
    "\n",
    "When the input is a Pandas DataFrame or a dask DataFrame, user can both specify or not specify a column name to be validated. If user specify the column name, `validate_cl_rut()` only returns the validation result for the specified column. If user doesn't specify the column name, `validate_cl_rut()` returns the validation result for the whole DataFrame."
   ]
  },
  {
   "cell_type": "code",
   "execution_count": null,
   "id": "relevant-consciousness",
   "metadata": {},
   "outputs": [],
   "source": [
    "from dataprep.clean import validate_cl_rut\n",
    "print(validate_cl_rut(\"125319092\"))\n",
    "print(validate_cl_rut(\"76086A28-5\"))\n",
    "print(validate_cl_rut(\"51824753556\"))\n",
    "print(validate_cl_rut(\"51 824 753 556\"))\n",
    "print(validate_cl_rut(\"hello\"))\n",
    "print(validate_cl_rut(np.nan))\n",
    "print(validate_cl_rut(\"NULL\"))"
   ]
  },
  {
   "cell_type": "markdown",
   "id": "corporate-allowance",
   "metadata": {},
   "source": [
    "### Series"
   ]
  },
  {
   "cell_type": "code",
   "execution_count": null,
   "id": "regulation-institute",
   "metadata": {},
   "outputs": [],
   "source": [
    "validate_cl_rut(df[\"rut\"])"
   ]
  },
  {
   "cell_type": "markdown",
   "id": "logical-necessity",
   "metadata": {},
   "source": [
    "### DataFrame + Specify Column"
   ]
  },
  {
   "cell_type": "code",
   "execution_count": null,
   "id": "junior-european",
   "metadata": {},
   "outputs": [],
   "source": [
    "validate_cl_rut(df, column=\"rut\")"
   ]
  },
  {
   "cell_type": "markdown",
   "id": "static-radar",
   "metadata": {},
   "source": [
    "### Only DataFrame"
   ]
  },
  {
   "cell_type": "code",
   "execution_count": null,
   "id": "annual-contrary",
   "metadata": {},
   "outputs": [],
   "source": [
    "validate_cl_rut(df)"
   ]
  },
  {
   "cell_type": "code",
   "execution_count": null,
   "id": "continent-tobacco",
   "metadata": {},
   "outputs": [],
   "source": []
  }
 ],
 "metadata": {
  "kernelspec": {
   "display_name": "Python 3",
   "language": "python",
   "name": "python3"
  },
  "language_info": {
   "codemirror_mode": {
    "name": "ipython",
    "version": 3
   },
   "file_extension": ".py",
   "mimetype": "text/x-python",
   "name": "python",
   "nbconvert_exporter": "python",
   "pygments_lexer": "ipython3",
   "version": "3.6.12"
  }
 },
 "nbformat": 4,
 "nbformat_minor": 5
}

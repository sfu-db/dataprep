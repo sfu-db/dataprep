{
 "cells": [
  {
   "cell_type": "raw",
   "id": "joint-projection",
   "metadata": {},
   "source": [
    ".. _hetu_userguide:\n",
    "\n",
    "Finnish Personal Identity Codes\n",
    "==============================="
   ]
  },
  {
   "cell_type": "raw",
   "id": "universal-leave",
   "metadata": {},
   "source": [
    "Introduction\n",
    "------------\n",
    "\n",
    "The function :func:`clean_fi_hetu() <dataprep.clean.clean_fi_hetu.clean_fi_hetu>` cleans a column containing Finnish personal identity code (HETU) strings, and standardizes them in a given format. The function :func:`validate_fi_hetu() <dataprep.clean.clean_fi_hetu.validate_fi_hetu>` validates either a single HETU strings, a column of HETU strings or a DataFrame of HETU strings, returning `True` if the value is valid, and `False` otherwise."
   ]
  },
  {
   "cell_type": "markdown",
   "id": "driven-packet",
   "metadata": {},
   "source": [
    "HETU strings can be converted to the following formats via the `output_format` parameter:\n",
    "\n",
    "* `compact`: only number strings without any seperators or whitespace, like \"131052A308T\"\n",
    "* `standard`: HETU strings with proper whitespace in the proper places. Note that in the case of HETU, the compact format is the same as the standard one.\n",
    "\n",
    "Invalid parsing is handled with the `errors` parameter:\n",
    "\n",
    "* `coerce` (default): invalid parsing will be set to NaN\n",
    "* `ignore`: invalid parsing will return the input\n",
    "* `raise`: invalid parsing will raise an exception\n",
    "\n",
    "The following sections demonstrate the functionality of `clean_fi_hetu()` and `validate_fi_hetu()`. "
   ]
  },
  {
   "cell_type": "markdown",
   "id": "close-popularity",
   "metadata": {},
   "source": [
    "### An example dataset containing HETU strings"
   ]
  },
  {
   "cell_type": "code",
   "execution_count": null,
   "id": "controversial-trustee",
   "metadata": {},
   "outputs": [],
   "source": [
    "import pandas as pd\n",
    "import numpy as np\n",
    "df = pd.DataFrame(\n",
    "    {\n",
    "        \"hetu\": [\n",
    "            '131052a308t',\n",
    "            '131052-308U',\n",
    "            'BE 428759497',\n",
    "            'BE431150351',\n",
    "            \"002 724 334\",\n",
    "            \"hello\",\n",
    "            np.nan,\n",
    "            \"NULL\",\n",
    "        ], \n",
    "        \"address\": [\n",
    "            \"123 Pine Ave.\",\n",
    "            \"main st\",\n",
    "            \"1234 west main heights 57033\",\n",
    "            \"apt 1 789 s maple rd manhattan\",\n",
    "            \"robie house, 789 north main street\",\n",
    "            \"1111 S Figueroa St, Los Angeles, CA 90015\",\n",
    "            \"(staples center) 1111 S Figueroa St, Los Angeles\",\n",
    "            \"hello\",\n",
    "        ]\n",
    "    }\n",
    ")\n",
    "df"
   ]
  },
  {
   "cell_type": "markdown",
   "id": "clear-differential",
   "metadata": {},
   "source": [
    "## 1. Default `clean_fi_hetu`\n",
    "\n",
    "By default, `clean_fi_hetu` will clean hetu strings and output them in the standard format with proper separators."
   ]
  },
  {
   "cell_type": "code",
   "execution_count": null,
   "id": "featured-index",
   "metadata": {},
   "outputs": [],
   "source": [
    "from dataprep.clean import clean_fi_hetu\n",
    "clean_fi_hetu(df, column = \"hetu\")"
   ]
  },
  {
   "cell_type": "markdown",
   "id": "italian-welcome",
   "metadata": {},
   "source": [
    "## 2. Output formats"
   ]
  },
  {
   "cell_type": "markdown",
   "id": "incredible-order",
   "metadata": {},
   "source": [
    "This section demonstrates the output parameter."
   ]
  },
  {
   "cell_type": "markdown",
   "id": "immune-sculpture",
   "metadata": {},
   "source": [
    "### `standard` (default)"
   ]
  },
  {
   "cell_type": "code",
   "execution_count": null,
   "id": "humanitarian-ghost",
   "metadata": {},
   "outputs": [],
   "source": [
    "clean_fi_hetu(df, column = \"hetu\", output_format=\"standard\")"
   ]
  },
  {
   "cell_type": "markdown",
   "id": "surface-habitat",
   "metadata": {},
   "source": [
    "### `compact`"
   ]
  },
  {
   "cell_type": "code",
   "execution_count": null,
   "id": "direct-blackjack",
   "metadata": {},
   "outputs": [],
   "source": [
    "clean_fi_hetu(df, column = \"hetu\", output_format=\"compact\")"
   ]
  },
  {
   "cell_type": "markdown",
   "id": "sticky-origin",
   "metadata": {},
   "source": [
    "## 3. `inplace` parameter\n",
    "\n",
    "This deletes the given column from the returned DataFrame. \n",
    "A new column containing cleaned HETU strings is added with a title in the format `\"{original title}_clean\"`."
   ]
  },
  {
   "cell_type": "code",
   "execution_count": null,
   "id": "organic-egypt",
   "metadata": {},
   "outputs": [],
   "source": [
    "clean_fi_hetu(df, column=\"hetu\", inplace=True)"
   ]
  },
  {
   "cell_type": "markdown",
   "id": "agreed-relative",
   "metadata": {},
   "source": [
    "## 4. `errors` parameter"
   ]
  },
  {
   "cell_type": "markdown",
   "id": "resident-entrepreneur",
   "metadata": {},
   "source": [
    "### `coerce` (default)"
   ]
  },
  {
   "cell_type": "code",
   "execution_count": null,
   "id": "brutal-slovak",
   "metadata": {},
   "outputs": [],
   "source": [
    "clean_fi_hetu(df, \"hetu\", errors=\"coerce\")"
   ]
  },
  {
   "cell_type": "markdown",
   "id": "serious-intensity",
   "metadata": {},
   "source": [
    "### `ignore`"
   ]
  },
  {
   "cell_type": "code",
   "execution_count": null,
   "id": "ultimate-executive",
   "metadata": {},
   "outputs": [],
   "source": [
    "clean_fi_hetu(df, \"hetu\", errors=\"ignore\")"
   ]
  },
  {
   "cell_type": "markdown",
   "id": "sixth-spouse",
   "metadata": {},
   "source": [
    "## 4. `validate_fi_hetu()`"
   ]
  },
  {
   "cell_type": "markdown",
   "id": "unlike-highland",
   "metadata": {},
   "source": [
    "`validate_fi_hetu()` returns `True` when the input is a valid HETU. Otherwise it returns `False`.\n",
    "\n",
    "The input of `validate_fi_hetu()` can be a string, a Pandas DataSeries, a Dask DataSeries, a Pandas DataFrame and a dask DataFrame.\n",
    "\n",
    "When the input is a string, a Pandas DataSeries or a Dask DataSeries, user doesn't need to specify a column name to be validated. \n",
    "\n",
    "When the input is a Pandas DataFrame or a dask DataFrame, user can both specify or not specify a column name to be validated. If user specify the column name, `validate_fi_hetu()` only returns the validation result for the specified column. If user doesn't specify the column name, `validate_fi_hetu()` returns the validation result for the whole DataFrame."
   ]
  },
  {
   "cell_type": "code",
   "execution_count": null,
   "id": "suspended-sport",
   "metadata": {},
   "outputs": [],
   "source": [
    "from dataprep.clean import validate_fi_hetu\n",
    "print(validate_fi_hetu(\"131052a308t\"))\n",
    "print(validate_fi_hetu(\"131052-308U\"))\n",
    "print(validate_fi_hetu('BE 428759497'))\n",
    "print(validate_fi_hetu('BE431150351'))\n",
    "print(validate_fi_hetu(\"004085616\"))\n",
    "print(validate_fi_hetu(\"hello\"))\n",
    "print(validate_fi_hetu(np.nan))\n",
    "print(validate_fi_hetu(\"NULL\"))"
   ]
  },
  {
   "cell_type": "markdown",
   "id": "suspected-oliver",
   "metadata": {},
   "source": [
    "### Series"
   ]
  },
  {
   "cell_type": "code",
   "execution_count": null,
   "id": "planned-tsunami",
   "metadata": {},
   "outputs": [],
   "source": [
    "validate_fi_hetu(df[\"hetu\"])"
   ]
  },
  {
   "cell_type": "markdown",
   "id": "experimental-pickup",
   "metadata": {},
   "source": [
    "### DataFrame + Specify Column"
   ]
  },
  {
   "cell_type": "code",
   "execution_count": null,
   "id": "posted-montreal",
   "metadata": {},
   "outputs": [],
   "source": [
    "validate_fi_hetu(df, column=\"hetu\")"
   ]
  },
  {
   "cell_type": "markdown",
   "id": "basic-bikini",
   "metadata": {},
   "source": [
    "### Only DataFrame"
   ]
  },
  {
   "cell_type": "code",
   "execution_count": null,
   "id": "mental-rebel",
   "metadata": {
    "scrolled": true
   },
   "outputs": [],
   "source": [
    "validate_fi_hetu(df)"
   ]
  },
  {
   "cell_type": "code",
   "execution_count": null,
   "id": "featured-brave",
   "metadata": {},
   "outputs": [],
   "source": []
  }
 ],
 "metadata": {
  "kernelspec": {
   "display_name": "Python 3",
   "language": "python",
   "name": "python3"
  },
  "language_info": {
   "codemirror_mode": {
    "name": "ipython",
    "version": 3
   },
   "file_extension": ".py",
   "mimetype": "text/x-python",
   "name": "python",
   "nbconvert_exporter": "python",
   "pygments_lexer": "ipython3",
   "version": "3.6.12"
  }
 },
 "nbformat": 4,
 "nbformat_minor": 5
}

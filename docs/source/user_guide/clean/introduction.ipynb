{
 "cells": [
  {
   "cell_type": "raw",
   "metadata": {
    "raw_mimetype": "text/restructuredtext"
   },
   "source": [
    ".. _`userguide/clean`:\n",
    "\n",
    "Clean\n",
    "=====\n",
    "\n",
    "DataPrep.Clean provides functions for quickly and easily cleaning and validating your data."
   ]
  },
  {
   "cell_type": "markdown",
   "metadata": {
    "nbsphinx-toctree": {
     "maxdepth": 2,
     "titlesonly": true
    },
    "tags": [
     "nbsphinx-toctree"
    ]
   },
   "source": [
    "## Section Contents\n",
    "\n",
    "DataPrep.Clean currently contains functions to clean\n",
    "\n",
    " * [Column Headers](clean_headers.ipynb)\n",
    " * [Country Names](clean_country.ipynb)\n",
    " * [Email Addresses](clean_email.ipynb)\n",
    " * [Geographic Goordinates](clean_lat_long.ipynb)\n",
    " * [IP Addresses](clean_ip.ipynb)\n",
    " * [Phone Numbers](clean_phone.ipynb)\n",
    " * [URLs](clean_url.ipynb)\n",
    " * [US Street Addresses](clean_address.ipynb)"
   ]
  }
 ],
 "metadata": {
  "celltoolbar": "Edit Metadata",
  "kernelspec": {
   "display_name": "Python 3",
   "language": "python",
   "name": "python3"
  },
  "language_info": {
   "codemirror_mode": {
    "name": "ipython",
    "version": 3
   },
   "file_extension": ".py",
   "mimetype": "text/x-python",
   "name": "python",
   "nbconvert_exporter": "python",
   "pygments_lexer": "ipython3",
   "version": "3.7.7"
  }
 },
 "nbformat": 4,
 "nbformat_minor": 4
}

{
 "cells": [
  {
   "cell_type": "markdown",
   "metadata": {},
   "source": [
    "# Clean\n",
    "\n",
    "\n",
    "This section introduces the Data Cleaning component of DataPrep."
   ]
  },
  {
   "cell_type": "markdown",
   "metadata": {
    "nbsphinx-toctree": {
     "maxdepth": 2,
     "titlesonly": true
    },
    "tags": [
     "nbsphinx-toctree"
    ]
   },
   "source": [
    "## Section Contents\n",
    "\n",
    " * [clean_lat_long(): geographic coordinates](clean_lat_long.ipynb)\n",
    " * [clean_email(): email addresses](clean_email.ipynb)\n",
    " * [clean_country(): countries](clean_country.ipynb)"
   ]
  }
 ],
 "metadata": {
  "celltoolbar": "Edit Metadata",
  "kernelspec": {
   "display_name": "Python 3",
   "language": "python",
   "name": "python3"
  },
  "language_info": {
   "codemirror_mode": {
    "name": "ipython",
    "version": 3
   },
   "file_extension": ".py",
   "mimetype": "text/x-python",
   "name": "python",
   "nbconvert_exporter": "python",
   "pygments_lexer": "ipython3",
   "version": "3.7.3"
  }
 },
 "nbformat": 4,
 "nbformat_minor": 4
}

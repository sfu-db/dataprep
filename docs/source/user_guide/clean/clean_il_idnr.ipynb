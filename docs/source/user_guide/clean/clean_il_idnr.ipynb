{
 "cells": [
  {
   "cell_type": "markdown",
   "id": "contemporary-ontario",
   "metadata": {},
   "source": [
    "# Israeli Personal Numbers"
   ]
  },
  {
   "cell_type": "markdown",
   "id": "pleased-account",
   "metadata": {},
   "source": [
    "## Introduction"
   ]
  },
  {
   "cell_type": "markdown",
   "id": "chief-combination",
   "metadata": {},
   "source": [
    "The function `clean_il_idnr()` cleans a column containing Israeli personal number (IDNR) strings, and standardizes them in a given format. The function `validate_il_idnr()` validates either a single IDNR strings, a column of IDNR strings or a DataFrame of IDNR strings, returning `True` if the value is valid, and `False` otherwise."
   ]
  },
  {
   "cell_type": "markdown",
   "id": "included-classroom",
   "metadata": {},
   "source": [
    "IDNR strings can be converted to the following formats via the `output_format` parameter:\n",
    "\n",
    "* `compact`: only number strings without any seperators or whitespace, like \"39337423\"\n",
    "* `standard`: IDNR strings with proper whitespace in the proper places, like \"03933742-3\"\n",
    "\n",
    "Invalid parsing is handled with the `errors` parameter:\n",
    "\n",
    "* `coerce` (default): invalid parsing will be set to NaN\n",
    "* `ignore`: invalid parsing will return the input\n",
    "* `raise`: invalid parsing will raise an exception\n",
    "\n",
    "The following sections demonstrate the functionality of `clean_il_idnr()` and `validate_il_idnr()`. "
   ]
  },
  {
   "cell_type": "markdown",
   "id": "bacterial-building",
   "metadata": {},
   "source": [
    "### An example dataset containing IDNR strings"
   ]
  },
  {
   "cell_type": "code",
   "execution_count": null,
   "id": "color-brunswick",
   "metadata": {},
   "outputs": [],
   "source": [
    "import pandas as pd\n",
    "import numpy as np\n",
    "df = pd.DataFrame(\n",
    "    {\n",
    "        \"idnr\": [\n",
    "            \"39337423\",\n",
    "            \"3933742-2\",\n",
    "            \"51824753556\",\n",
    "            \"51 824 753 556\",\n",
    "            \"hello\",\n",
    "            np.nan,\n",
    "            \"NULL\"\n",
    "        ], \n",
    "        \"address\": [\n",
    "            \"123 Pine Ave.\",\n",
    "            \"main st\",\n",
    "            \"1234 west main heights 57033\",\n",
    "            \"apt 1 789 s maple rd manhattan\",\n",
    "            \"robie house, 789 north main street\",\n",
    "            \"(staples center) 1111 S Figueroa St, Los Angeles\",\n",
    "            \"hello\",\n",
    "        ]\n",
    "    }\n",
    ")\n",
    "df"
   ]
  },
  {
   "cell_type": "markdown",
   "id": "universal-johnson",
   "metadata": {},
   "source": [
    "## 1. Default `clean_il_idnr`\n",
    "\n",
    "By default, `clean_il_idnr` will clean idnr strings and output them in the standard format with proper separators."
   ]
  },
  {
   "cell_type": "code",
   "execution_count": null,
   "id": "wrapped-provider",
   "metadata": {},
   "outputs": [],
   "source": [
    "from dataprep.clean import clean_il_idnr\n",
    "clean_il_idnr(df, column = \"idnr\")"
   ]
  },
  {
   "cell_type": "markdown",
   "id": "unnecessary-teacher",
   "metadata": {},
   "source": [
    "## 2. Output formats"
   ]
  },
  {
   "cell_type": "markdown",
   "id": "historical-terry",
   "metadata": {},
   "source": [
    "This section demonstrates the output parameter."
   ]
  },
  {
   "cell_type": "markdown",
   "id": "individual-suspect",
   "metadata": {},
   "source": [
    "### `standard` (default)"
   ]
  },
  {
   "cell_type": "code",
   "execution_count": null,
   "id": "talented-hardwood",
   "metadata": {},
   "outputs": [],
   "source": [
    "clean_il_idnr(df, column = \"idnr\", output_format=\"standard\")"
   ]
  },
  {
   "cell_type": "markdown",
   "id": "original-poland",
   "metadata": {},
   "source": [
    "### `compact`"
   ]
  },
  {
   "cell_type": "code",
   "execution_count": null,
   "id": "amateur-arrest",
   "metadata": {},
   "outputs": [],
   "source": [
    "clean_il_idnr(df, column = \"idnr\", output_format=\"compact\")"
   ]
  },
  {
   "cell_type": "markdown",
   "id": "interior-confidence",
   "metadata": {},
   "source": [
    "## 3. `inplace` parameter\n",
    "\n",
    "This deletes the given column from the returned DataFrame. \n",
    "A new column containing cleaned IDNR strings is added with a title in the format `\"{original title}_clean\"`."
   ]
  },
  {
   "cell_type": "code",
   "execution_count": null,
   "id": "verbal-worcester",
   "metadata": {},
   "outputs": [],
   "source": [
    "clean_il_idnr(df, column=\"idnr\", inplace=True)"
   ]
  },
  {
   "cell_type": "markdown",
   "id": "cosmetic-joyce",
   "metadata": {},
   "source": [
    "## 4. `errors` parameter"
   ]
  },
  {
   "cell_type": "markdown",
   "id": "widespread-immigration",
   "metadata": {},
   "source": [
    "### `coerce` (default)"
   ]
  },
  {
   "cell_type": "code",
   "execution_count": null,
   "id": "thermal-routine",
   "metadata": {},
   "outputs": [],
   "source": [
    "clean_il_idnr(df, \"idnr\", errors=\"coerce\")"
   ]
  },
  {
   "cell_type": "markdown",
   "id": "hairy-logging",
   "metadata": {},
   "source": [
    "### `ignore`"
   ]
  },
  {
   "cell_type": "code",
   "execution_count": null,
   "id": "hundred-vietnam",
   "metadata": {},
   "outputs": [],
   "source": [
    "clean_il_idnr(df, \"idnr\", errors=\"ignore\")"
   ]
  },
  {
   "cell_type": "markdown",
   "id": "framed-there",
   "metadata": {},
   "source": [
    "## 4. `validate_il_idnr()`"
   ]
  },
  {
   "cell_type": "markdown",
   "id": "ranging-drilling",
   "metadata": {},
   "source": [
    "`validate_il_idnr()` returns `True` when the input is a valid IDNR. Otherwise it returns `False`.\n",
    "\n",
    "The input of `validate_il_idnr()` can be a string, a Pandas DataSeries, a Dask DataSeries, a Pandas DataFrame and a dask DataFrame.\n",
    "\n",
    "When the input is a string, a Pandas DataSeries or a Dask DataSeries, user doesn't need to specify a column name to be validated. \n",
    "\n",
    "When the input is a Pandas DataFrame or a dask DataFrame, user can both specify or not specify a column name to be validated. If user specify the column name, `validate_il_idnr()` only returns the validation result for the specified column. If user doesn't specify the column name, `validate_il_idnr()` returns the validation result for the whole DataFrame."
   ]
  },
  {
   "cell_type": "code",
   "execution_count": null,
   "id": "grave-contemporary",
   "metadata": {},
   "outputs": [],
   "source": [
    "from dataprep.clean import validate_il_idnr\n",
    "print(validate_il_idnr(\"39337423\"))\n",
    "print(validate_il_idnr(\"3933742-2\"))\n",
    "print(validate_il_idnr(\"51824753556\"))\n",
    "print(validate_il_idnr(\"51 824 753 556\"))\n",
    "print(validate_il_idnr(\"hello\"))\n",
    "print(validate_il_idnr(np.nan))\n",
    "print(validate_il_idnr(\"NULL\"))"
   ]
  },
  {
   "cell_type": "markdown",
   "id": "horizontal-participation",
   "metadata": {},
   "source": [
    "### Series"
   ]
  },
  {
   "cell_type": "code",
   "execution_count": null,
   "id": "welcome-malta",
   "metadata": {},
   "outputs": [],
   "source": [
    "validate_il_idnr(df[\"idnr\"])"
   ]
  },
  {
   "cell_type": "markdown",
   "id": "vertical-circus",
   "metadata": {},
   "source": [
    "### DataFrame + Specify Column"
   ]
  },
  {
   "cell_type": "code",
   "execution_count": null,
   "id": "short-solid",
   "metadata": {},
   "outputs": [],
   "source": [
    "validate_il_idnr(df, column=\"idnr\")"
   ]
  },
  {
   "cell_type": "markdown",
   "id": "integral-monroe",
   "metadata": {},
   "source": [
    "### Only DataFrame"
   ]
  },
  {
   "cell_type": "code",
   "execution_count": null,
   "id": "essential-think",
   "metadata": {},
   "outputs": [],
   "source": [
    "validate_il_idnr(df)"
   ]
  },
  {
   "cell_type": "code",
   "execution_count": null,
   "id": "crazy-voltage",
   "metadata": {},
   "outputs": [],
   "source": []
  }
 ],
 "metadata": {
  "kernelspec": {
   "display_name": "Python 3",
   "language": "python",
   "name": "python3"
  },
  "language_info": {
   "codemirror_mode": {
    "name": "ipython",
    "version": 3
   },
   "file_extension": ".py",
   "mimetype": "text/x-python",
   "name": "python",
   "nbconvert_exporter": "python",
   "pygments_lexer": "ipython3",
   "version": "3.6.12"
  }
 },
 "nbformat": 4,
 "nbformat_minor": 5
}

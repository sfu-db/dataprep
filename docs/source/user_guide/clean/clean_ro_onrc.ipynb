{
 "cells": [
  {
   "cell_type": "raw",
   "id": "classical-astronomy",
   "metadata": {},
   "source": [
    ".. _onrc_userguide:\n",
    "\n",
    "Romanian Trade Register Identifiers\n",
    "==================================="
   ]
  },
  {
   "cell_type": "raw",
   "id": "comprehensive-productivity",
   "metadata": {},
   "source": [
    "Introduction\n",
    "------------\n",
    "\n",
    "The function :func:`clean_ro_onrc() <dataprep.clean.clean_ro_onrc.clean_ro_onrc>` cleans a column containing Romanian Trade Register identifier (ONRC) strings, and standardizes them in a given format. The function :func:`validate_ro_onrc() <dataprep.clean.clean_ro_onrc.validate_ro_onrc>` validates either a single ONRC strings, a column of ONRC strings or a DataFrame of ONRC strings, returning `True` if the value is valid, and `False` otherwise."
   ]
  },
  {
   "cell_type": "markdown",
   "id": "worthy-style",
   "metadata": {},
   "source": [
    "ONRC strings can be converted to the following formats via the `output_format` parameter:\n",
    "\n",
    "* `compact`: only number strings without any seperators or whitespace, like \"J52/750/2012\"\n",
    "* `standard`: ONRC strings with proper whitespace in the proper places. Note that in the case of ONRC, the compact format is the same as the standard one.\n",
    "\n",
    "Invalid parsing is handled with the `errors` parameter:\n",
    "\n",
    "* `coerce` (default): invalid parsing will be set to NaN\n",
    "* `ignore`: invalid parsing will return the input\n",
    "* `raise`: invalid parsing will raise an exception\n",
    "\n",
    "The following sections demonstrate the functionality of `clean_ro_onrc()` and `validate_ro_onrc()`. "
   ]
  },
  {
   "cell_type": "markdown",
   "id": "boolean-retrieval",
   "metadata": {},
   "source": [
    "### An example dataset containing ONRC strings"
   ]
  },
  {
   "cell_type": "code",
   "execution_count": null,
   "id": "anticipated-prompt",
   "metadata": {},
   "outputs": [],
   "source": [
    "import pandas as pd\n",
    "import numpy as np\n",
    "df = pd.DataFrame(\n",
    "    {\n",
    "        \"onrc\": [\n",
    "            \"J52/750/2012\",\n",
    "            \"X52/750/2012\",\n",
    "            'BE 428759497',\n",
    "            'BE431150351',\n",
    "            \"002 724 334\",\n",
    "            \"hello\",\n",
    "            np.nan,\n",
    "            \"NULL\",\n",
    "        ], \n",
    "        \"address\": [\n",
    "            \"123 Pine Ave.\",\n",
    "            \"main st\",\n",
    "            \"1234 west main heights 57033\",\n",
    "            \"apt 1 789 s maple rd manhattan\",\n",
    "            \"robie house, 789 north main street\",\n",
    "            \"1111 S Figueroa St, Los Angeles, CA 90015\",\n",
    "            \"(staples center) 1111 S Figueroa St, Los Angeles\",\n",
    "            \"hello\",\n",
    "        ]\n",
    "    }\n",
    ")\n",
    "df"
   ]
  },
  {
   "cell_type": "markdown",
   "id": "purple-wound",
   "metadata": {},
   "source": [
    "## 1. Default `clean_ro_onrc`\n",
    "\n",
    "By default, `clean_ro_onrc` will clean onrc strings and output them in the standard format with proper separators."
   ]
  },
  {
   "cell_type": "code",
   "execution_count": null,
   "id": "traditional-layer",
   "metadata": {},
   "outputs": [],
   "source": [
    "from dataprep.clean import clean_ro_onrc\n",
    "clean_ro_onrc(df, column = \"onrc\")"
   ]
  },
  {
   "cell_type": "markdown",
   "id": "authorized-designer",
   "metadata": {},
   "source": [
    "## 2. Output formats"
   ]
  },
  {
   "cell_type": "markdown",
   "id": "norwegian-progressive",
   "metadata": {},
   "source": [
    "This section demonstrates the output parameter."
   ]
  },
  {
   "cell_type": "markdown",
   "id": "elegant-brand",
   "metadata": {},
   "source": [
    "### `standard` (default)"
   ]
  },
  {
   "cell_type": "code",
   "execution_count": null,
   "id": "incorporate-aurora",
   "metadata": {},
   "outputs": [],
   "source": [
    "clean_ro_onrc(df, column = \"onrc\", output_format=\"standard\")"
   ]
  },
  {
   "cell_type": "markdown",
   "id": "brown-possession",
   "metadata": {},
   "source": [
    "### `compact`"
   ]
  },
  {
   "cell_type": "code",
   "execution_count": null,
   "id": "frozen-agriculture",
   "metadata": {},
   "outputs": [],
   "source": [
    "clean_ro_onrc(df, column = \"onrc\", output_format=\"compact\")"
   ]
  },
  {
   "cell_type": "markdown",
   "id": "conditional-polymer",
   "metadata": {},
   "source": [
    "## 3. `inplace` parameter\n",
    "\n",
    "This deletes the given column from the returned DataFrame. \n",
    "A new column containing cleaned ONRC strings is added with a title in the format `\"{original title}_clean\"`."
   ]
  },
  {
   "cell_type": "code",
   "execution_count": null,
   "id": "tested-allowance",
   "metadata": {},
   "outputs": [],
   "source": [
    "clean_ro_onrc(df, column=\"onrc\", inplace=True)"
   ]
  },
  {
   "cell_type": "markdown",
   "id": "overhead-joint",
   "metadata": {},
   "source": [
    "## 4. `errors` parameter"
   ]
  },
  {
   "cell_type": "markdown",
   "id": "handed-amsterdam",
   "metadata": {},
   "source": [
    "### `coerce` (default)"
   ]
  },
  {
   "cell_type": "code",
   "execution_count": null,
   "id": "normal-clear",
   "metadata": {},
   "outputs": [],
   "source": [
    "clean_ro_onrc(df, \"onrc\", errors=\"coerce\")"
   ]
  },
  {
   "cell_type": "markdown",
   "id": "pleased-independence",
   "metadata": {},
   "source": [
    "### `ignore`"
   ]
  },
  {
   "cell_type": "code",
   "execution_count": null,
   "id": "square-fundamentals",
   "metadata": {},
   "outputs": [],
   "source": [
    "clean_ro_onrc(df, \"onrc\", errors=\"ignore\")"
   ]
  },
  {
   "cell_type": "markdown",
   "id": "painted-territory",
   "metadata": {},
   "source": [
    "## 4. `validate_ro_onrc()`"
   ]
  },
  {
   "cell_type": "markdown",
   "id": "affected-respect",
   "metadata": {},
   "source": [
    "`validate_ro_onrc()` returns `True` when the input is a valid ONRC. Otherwise it returns `False`.\n",
    "\n",
    "The input of `validate_ro_onrc()` can be a string, a Pandas DataSeries, a Dask DataSeries, a Pandas DataFrame and a dask DataFrame.\n",
    "\n",
    "When the input is a string, a Pandas DataSeries or a Dask DataSeries, user doesn't need to specify a column name to be validated. \n",
    "\n",
    "When the input is a Pandas DataFrame or a dask DataFrame, user can both specify or not specify a column name to be validated. If user specify the column name, `validate_ro_onrc()` only returns the validation result for the specified column. If user doesn't specify the column name, `validate_ro_onrc()` returns the validation result for the whole DataFrame."
   ]
  },
  {
   "cell_type": "code",
   "execution_count": null,
   "id": "exterior-subdivision",
   "metadata": {},
   "outputs": [],
   "source": [
    "from dataprep.clean import validate_ro_onrc\n",
    "print(validate_ro_onrc(\"J52/750/2012\"))\n",
    "print(validate_ro_onrc(\"X52/750/2012\"))\n",
    "print(validate_ro_onrc('BE 428759497'))\n",
    "print(validate_ro_onrc('BE431150351'))\n",
    "print(validate_ro_onrc(\"004085616\"))\n",
    "print(validate_ro_onrc(\"hello\"))\n",
    "print(validate_ro_onrc(np.nan))\n",
    "print(validate_ro_onrc(\"NULL\"))"
   ]
  },
  {
   "cell_type": "markdown",
   "id": "frank-prompt",
   "metadata": {},
   "source": [
    "### Series"
   ]
  },
  {
   "cell_type": "code",
   "execution_count": null,
   "id": "sorted-implementation",
   "metadata": {},
   "outputs": [],
   "source": [
    "validate_ro_onrc(df[\"onrc\"])"
   ]
  },
  {
   "cell_type": "markdown",
   "id": "unexpected-personal",
   "metadata": {},
   "source": [
    "### DataFrame + Specify Column"
   ]
  },
  {
   "cell_type": "code",
   "execution_count": null,
   "id": "unusual-germany",
   "metadata": {},
   "outputs": [],
   "source": [
    "validate_ro_onrc(df, column=\"onrc\")"
   ]
  },
  {
   "cell_type": "markdown",
   "id": "rolled-jesus",
   "metadata": {},
   "source": [
    "### Only DataFrame"
   ]
  },
  {
   "cell_type": "code",
   "execution_count": null,
   "id": "seven-length",
   "metadata": {
    "scrolled": true
   },
   "outputs": [],
   "source": [
    "validate_ro_onrc(df)"
   ]
  },
  {
   "cell_type": "code",
   "execution_count": null,
   "id": "acoustic-employer",
   "metadata": {},
   "outputs": [],
   "source": []
  }
 ],
 "metadata": {
  "kernelspec": {
   "display_name": "Python 3",
   "language": "python",
   "name": "python3"
  },
  "language_info": {
   "codemirror_mode": {
    "name": "ipython",
    "version": 3
   },
   "file_extension": ".py",
   "mimetype": "text/x-python",
   "name": "python",
   "nbconvert_exporter": "python",
   "pygments_lexer": "ipython3",
   "version": "3.6.12"
  }
 },
 "nbformat": 4,
 "nbformat_minor": 5
}

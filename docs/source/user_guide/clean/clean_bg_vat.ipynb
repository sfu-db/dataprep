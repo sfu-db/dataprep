{
 "cells": [
  {
   "cell_type": "raw",
   "id": "bored-produce",
   "metadata": {},
   "source": [
    ".. _vat_userguide:\n",
    "\n",
    "Bulgarian VAT Numbers\n",
    "====================="
   ]
  },
  {
   "cell_type": "raw",
   "id": "sealed-mineral",
   "metadata": {},
   "source": [
    "Introduction\n",
    "------------\n",
    "\n",
    "The function :func:`clean_bg_vat() <dataprep.clean.clean_bg_vat.clean_bg_vat>` cleans a column containing Bulgarian VAT numbers (VAT) strings, and standardizes them in a given format. The function :func:`validate_bg_vat() <dataprep.clean.clean_bg_vat.validate_bg_vat>` validates either a single VAT strings, a column of VAT strings or a DataFrame of VAT strings, returning `True` if the value is valid, and `False` otherwise."
   ]
  },
  {
   "cell_type": "markdown",
   "id": "passive-tribune",
   "metadata": {},
   "source": [
    "VAT strings can be converted to the following formats via the `output_format` parameter:\n",
    "\n",
    "* `compact`: only number strings without any seperators or whitespace, like \"175074752\"\n",
    "* `standard`: VAT strings with proper whitespace in the proper places. Note that in the case of VAT, the compact format is the same as the standard one.\n",
    "\n",
    "Invalid parsing is handled with the `errors` parameter:\n",
    "\n",
    "* `coerce` (default): invalid parsing will be set to NaN\n",
    "* `ignore`: invalid parsing will return the input\n",
    "* `raise`: invalid parsing will raise an exception\n",
    "\n",
    "The following sections demonstrate the functionality of `clean_bg_vat()` and `validate_bg_vat()`. "
   ]
  },
  {
   "cell_type": "markdown",
   "id": "retired-front",
   "metadata": {},
   "source": [
    "### An example dataset containing VAT strings"
   ]
  },
  {
   "cell_type": "code",
   "execution_count": null,
   "id": "cognitive-consistency",
   "metadata": {},
   "outputs": [],
   "source": [
    "import pandas as pd\n",
    "import numpy as np\n",
    "df = pd.DataFrame(\n",
    "    {\n",
    "        \"vat\": [\n",
    "            'BG 175 074 752',\n",
    "            '175074752',\n",
    "            '175074751',    # invalid check digit\n",
    "            'BE431150351',  # not Bulgarian VAT\n",
    "            \"002 724 334\",  # not VAT\n",
    "            \"hello\",\n",
    "            np.nan,\n",
    "            \"NULL\",\n",
    "        ], \n",
    "        \"address\": [\n",
    "            \"123 Pine Ave.\",\n",
    "            \"main st\",\n",
    "            \"1234 west main heights 57033\",\n",
    "            \"apt 1 789 s maple rd manhattan\",\n",
    "            \"robie house, 789 north main street\",\n",
    "            \"1111 S Figueroa St, Los Angeles, CA 90015\",\n",
    "            \"(staples center) 1111 S Figueroa St, Los Angeles\",\n",
    "            \"hello\",\n",
    "        ]\n",
    "    }\n",
    ")\n",
    "df"
   ]
  },
  {
   "cell_type": "markdown",
   "id": "central-prisoner",
   "metadata": {},
   "source": [
    "## 1. Default `clean_bg_vat`\n",
    "\n",
    "By default, `clean_bg_vat` will clean vat strings and output them in the standard format with proper separators."
   ]
  },
  {
   "cell_type": "code",
   "execution_count": null,
   "id": "small-amplifier",
   "metadata": {},
   "outputs": [],
   "source": [
    "from dataprep.clean import clean_bg_vat\n",
    "clean_bg_vat(df, column = \"vat\")"
   ]
  },
  {
   "cell_type": "markdown",
   "id": "senior-retail",
   "metadata": {},
   "source": [
    "## 2. Output formats"
   ]
  },
  {
   "cell_type": "markdown",
   "id": "missing-hartford",
   "metadata": {},
   "source": [
    "This section demonstrates the output parameter."
   ]
  },
  {
   "cell_type": "markdown",
   "id": "lonely-casting",
   "metadata": {},
   "source": [
    "### `standard` (default)"
   ]
  },
  {
   "cell_type": "code",
   "execution_count": null,
   "id": "sought-binary",
   "metadata": {},
   "outputs": [],
   "source": [
    "clean_bg_vat(df, column = \"vat\", output_format=\"standard\")"
   ]
  },
  {
   "cell_type": "markdown",
   "id": "pleasant-calgary",
   "metadata": {},
   "source": [
    "### `compact`"
   ]
  },
  {
   "cell_type": "code",
   "execution_count": null,
   "id": "improving-terminology",
   "metadata": {},
   "outputs": [],
   "source": [
    "clean_bg_vat(df, column = \"vat\", output_format=\"compact\")"
   ]
  },
  {
   "cell_type": "markdown",
   "id": "falling-penny",
   "metadata": {},
   "source": [
    "## 3. `inplace` parameter\n",
    "\n",
    "This deletes the given column from the returned DataFrame. \n",
    "A new column containing cleaned VAT strings is added with a title in the format `\"{original title}_clean\"`."
   ]
  },
  {
   "cell_type": "code",
   "execution_count": null,
   "id": "fancy-mercury",
   "metadata": {},
   "outputs": [],
   "source": [
    "clean_bg_vat(df, column=\"vat\", inplace=True)"
   ]
  },
  {
   "cell_type": "markdown",
   "id": "express-healing",
   "metadata": {},
   "source": [
    "## 4. `errors` parameter"
   ]
  },
  {
   "cell_type": "markdown",
   "id": "academic-grade",
   "metadata": {},
   "source": [
    "### `coerce` (default)"
   ]
  },
  {
   "cell_type": "code",
   "execution_count": null,
   "id": "czech-beach",
   "metadata": {},
   "outputs": [],
   "source": [
    "clean_bg_vat(df, \"vat\", errors=\"coerce\")"
   ]
  },
  {
   "cell_type": "markdown",
   "id": "allied-extension",
   "metadata": {},
   "source": [
    "### `ignore`"
   ]
  },
  {
   "cell_type": "code",
   "execution_count": null,
   "id": "congressional-waters",
   "metadata": {},
   "outputs": [],
   "source": [
    "clean_bg_vat(df, \"vat\", errors=\"ignore\")"
   ]
  },
  {
   "cell_type": "markdown",
   "id": "outside-thought",
   "metadata": {},
   "source": [
    "## 4. `validate_bg_vat()`"
   ]
  },
  {
   "cell_type": "markdown",
   "id": "respected-railway",
   "metadata": {},
   "source": [
    "`validate_bg_vat()` returns `True` when the input is a valid VAT. Otherwise it returns `False`.\n",
    "\n",
    "The input of `validate_bg_vat()` can be a string, a Pandas DataSeries, a Dask DataSeries, a Pandas DataFrame and a dask DataFrame.\n",
    "\n",
    "When the input is a string, a Pandas DataSeries or a Dask DataSeries, user doesn't need to specify a column name to be validated. \n",
    "\n",
    "When the input is a Pandas DataFrame or a dask DataFrame, user can both specify or not specify a column name to be validated. If user specify the column name, `validate_bg_vat()` only returns the validation result for the specified column. If user doesn't specify the column name, `validate_bg_vat()` returns the validation result for the whole DataFrame."
   ]
  },
  {
   "cell_type": "code",
   "execution_count": null,
   "id": "sharing-surgeon",
   "metadata": {},
   "outputs": [],
   "source": [
    "from dataprep.clean import validate_bg_vat\n",
    "print(validate_bg_vat(\"BG 175 074 752\"))\n",
    "print(validate_bg_vat(\"175074752\"))\n",
    "print(validate_bg_vat('175074751'))\n",
    "print(validate_bg_vat('BE431150351'))\n",
    "print(validate_bg_vat(\"004085616\"))\n",
    "print(validate_bg_vat(\"hello\"))\n",
    "print(validate_bg_vat(np.nan))\n",
    "print(validate_bg_vat(\"NULL\"))"
   ]
  },
  {
   "cell_type": "markdown",
   "id": "attempted-shock",
   "metadata": {},
   "source": [
    "### Series"
   ]
  },
  {
   "cell_type": "code",
   "execution_count": null,
   "id": "former-tongue",
   "metadata": {},
   "outputs": [],
   "source": [
    "validate_bg_vat(df[\"vat\"])"
   ]
  },
  {
   "cell_type": "markdown",
   "id": "middle-locator",
   "metadata": {},
   "source": [
    "### DataFrame + Specify Column"
   ]
  },
  {
   "cell_type": "code",
   "execution_count": null,
   "id": "constant-protection",
   "metadata": {},
   "outputs": [],
   "source": [
    "validate_bg_vat(df, column=\"vat\")"
   ]
  },
  {
   "cell_type": "markdown",
   "id": "conservative-shape",
   "metadata": {},
   "source": [
    "### Only DataFrame"
   ]
  },
  {
   "cell_type": "code",
   "execution_count": null,
   "id": "fitting-halifax",
   "metadata": {},
   "outputs": [],
   "source": [
    "validate_bg_vat(df)"
   ]
  },
  {
   "cell_type": "code",
   "execution_count": null,
   "id": "joined-carolina",
   "metadata": {},
   "outputs": [],
   "source": []
  }
 ],
 "metadata": {
  "kernelspec": {
   "display_name": "Python 3",
   "language": "python",
   "name": "python3"
  },
  "language_info": {
   "codemirror_mode": {
    "name": "ipython",
    "version": 3
   },
   "file_extension": ".py",
   "mimetype": "text/x-python",
   "name": "python",
   "nbconvert_exporter": "python",
   "pygments_lexer": "ipython3",
   "version": "3.6.12"
  }
 },
 "nbformat": 4,
 "nbformat_minor": 5
}

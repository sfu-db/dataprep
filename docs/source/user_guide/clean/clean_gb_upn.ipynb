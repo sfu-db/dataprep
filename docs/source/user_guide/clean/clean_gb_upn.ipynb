{
 "cells": [
  {
   "cell_type": "markdown",
   "id": "historic-mayor",
   "metadata": {},
   "source": [
    "# English Unique Pupil Numbers"
   ]
  },
  {
   "cell_type": "markdown",
   "id": "ranging-stadium",
   "metadata": {},
   "source": [
    "## Introduction"
   ]
  },
  {
   "cell_type": "markdown",
   "id": "stuck-timber",
   "metadata": {},
   "source": [
    "The function `clean_gb_upn()` cleans a column containing English Unique Pupil Number (UPN) strings, and standardizes them in a given format. The function `validate_gb_upn()` validates either a single UPN strings, a column of UPN strings or a DataFrame of UPN strings, returning `True` if the value is valid, and `False` otherwise."
   ]
  },
  {
   "cell_type": "markdown",
   "id": "answering-girlfriend",
   "metadata": {},
   "source": [
    "UPN strings can be converted to the following formats via the `output_format` parameter:\n",
    "\n",
    "* `compact`: only number strings without any seperators or whitespace, like \"B801200005001\"\n",
    "* `standard`: UPN strings with proper whitespace in the proper places. Note that in the case of UPN, the compact format is the same as the standard one.\n",
    "\n",
    "Invalid parsing is handled with the `errors` parameter:\n",
    "\n",
    "* `coerce` (default): invalid parsing will be set to NaN\n",
    "* `ignore`: invalid parsing will return the input\n",
    "* `raise`: invalid parsing will raise an exception\n",
    "\n",
    "The following sections demonstrate the functionality of `clean_gb_upn()` and `validate_gb_upn()`. "
   ]
  },
  {
   "cell_type": "markdown",
   "id": "resistant-processing",
   "metadata": {},
   "source": [
    "### An example dataset containing UPN strings"
   ]
  },
  {
   "cell_type": "code",
   "execution_count": null,
   "id": "separate-gather",
   "metadata": {},
   "outputs": [],
   "source": [
    "import pandas as pd\n",
    "import numpy as np\n",
    "df = pd.DataFrame(\n",
    "    {\n",
    "        \"upn\": [\n",
    "            'B801200005001',\n",
    "            'A801200005001',\n",
    "            'BE 428759497',\n",
    "            'BE431150351',\n",
    "            \"002 724 334\",\n",
    "            \"hello\",\n",
    "            np.nan,\n",
    "            \"NULL\",\n",
    "        ], \n",
    "        \"address\": [\n",
    "            \"123 Pine Ave.\",\n",
    "            \"main st\",\n",
    "            \"1234 west main heights 57033\",\n",
    "            \"apt 1 789 s maple rd manhattan\",\n",
    "            \"robie house, 789 north main street\",\n",
    "            \"1111 S Figueroa St, Los Angeles, CA 90015\",\n",
    "            \"(staples center) 1111 S Figueroa St, Los Angeles\",\n",
    "            \"hello\",\n",
    "        ]\n",
    "    }\n",
    ")\n",
    "df"
   ]
  },
  {
   "cell_type": "markdown",
   "id": "internal-promotion",
   "metadata": {},
   "source": [
    "## 1. Default `clean_gb_upn`\n",
    "\n",
    "By default, `clean_gb_upn` will clean upn strings and output them in the standard format with proper separators."
   ]
  },
  {
   "cell_type": "code",
   "execution_count": null,
   "id": "continued-andorra",
   "metadata": {},
   "outputs": [],
   "source": [
    "from dataprep.clean import clean_gb_upn\n",
    "clean_gb_upn(df, column = \"upn\")"
   ]
  },
  {
   "cell_type": "markdown",
   "id": "portable-weekly",
   "metadata": {},
   "source": [
    "## 2. Output formats"
   ]
  },
  {
   "cell_type": "markdown",
   "id": "scientific-colonial",
   "metadata": {},
   "source": [
    "This section demonstrates the output parameter."
   ]
  },
  {
   "cell_type": "markdown",
   "id": "handled-holiday",
   "metadata": {},
   "source": [
    "### `standard` (default)"
   ]
  },
  {
   "cell_type": "code",
   "execution_count": null,
   "id": "broadband-ancient",
   "metadata": {},
   "outputs": [],
   "source": [
    "clean_gb_upn(df, column = \"upn\", output_format=\"standard\")"
   ]
  },
  {
   "cell_type": "markdown",
   "id": "proprietary-beads",
   "metadata": {},
   "source": [
    "### `compact`"
   ]
  },
  {
   "cell_type": "code",
   "execution_count": null,
   "id": "junior-tsunami",
   "metadata": {},
   "outputs": [],
   "source": [
    "clean_gb_upn(df, column = \"upn\", output_format=\"compact\")"
   ]
  },
  {
   "cell_type": "markdown",
   "id": "hungry-asset",
   "metadata": {},
   "source": [
    "## 3. `inplace` parameter\n",
    "\n",
    "This deletes the given column from the returned DataFrame. \n",
    "A new column containing cleaned UPN strings is added with a title in the format `\"{original title}_clean\"`."
   ]
  },
  {
   "cell_type": "code",
   "execution_count": null,
   "id": "pretty-shuttle",
   "metadata": {},
   "outputs": [],
   "source": [
    "clean_gb_upn(df, column=\"upn\", inplace=True)"
   ]
  },
  {
   "cell_type": "markdown",
   "id": "interested-discretion",
   "metadata": {},
   "source": [
    "## 4. `errors` parameter"
   ]
  },
  {
   "cell_type": "markdown",
   "id": "formal-congress",
   "metadata": {},
   "source": [
    "### `coerce` (default)"
   ]
  },
  {
   "cell_type": "code",
   "execution_count": null,
   "id": "early-indiana",
   "metadata": {},
   "outputs": [],
   "source": [
    "clean_gb_upn(df, \"upn\", errors=\"coerce\")"
   ]
  },
  {
   "cell_type": "markdown",
   "id": "multiple-questionnaire",
   "metadata": {},
   "source": [
    "### `ignore`"
   ]
  },
  {
   "cell_type": "code",
   "execution_count": null,
   "id": "pressed-liechtenstein",
   "metadata": {},
   "outputs": [],
   "source": [
    "clean_gb_upn(df, \"upn\", errors=\"ignore\")"
   ]
  },
  {
   "cell_type": "markdown",
   "id": "faced-wrong",
   "metadata": {},
   "source": [
    "## 4. `validate_gb_upn()`"
   ]
  },
  {
   "cell_type": "markdown",
   "id": "beginning-header",
   "metadata": {},
   "source": [
    "`validate_gb_upn()` returns `True` when the input is a valid UPN. Otherwise it returns `False`.\n",
    "\n",
    "The input of `validate_gb_upn()` can be a string, a Pandas DataSeries, a Dask DataSeries, a Pandas DataFrame and a dask DataFrame.\n",
    "\n",
    "When the input is a string, a Pandas DataSeries or a Dask DataSeries, user doesn't need to specify a column name to be validated. \n",
    "\n",
    "When the input is a Pandas DataFrame or a dask DataFrame, user can both specify or not specify a column name to be validated. If user specify the column name, `validate_gb_upn()` only returns the validation result for the specified column. If user doesn't specify the column name, `validate_gb_upn()` returns the validation result for the whole DataFrame."
   ]
  },
  {
   "cell_type": "code",
   "execution_count": null,
   "id": "alternative-activity",
   "metadata": {},
   "outputs": [],
   "source": [
    "from dataprep.clean import validate_gb_upn\n",
    "print(validate_gb_upn(\"B801200005001\"))\n",
    "print(validate_gb_upn(\"A801200005001\"))\n",
    "print(validate_gb_upn('BE 428759497'))\n",
    "print(validate_gb_upn('BE431150351'))\n",
    "print(validate_gb_upn(\"004085616\"))\n",
    "print(validate_gb_upn(\"hello\"))\n",
    "print(validate_gb_upn(np.nan))\n",
    "print(validate_gb_upn(\"NULL\"))"
   ]
  },
  {
   "cell_type": "markdown",
   "id": "initial-joining",
   "metadata": {},
   "source": [
    "### Series"
   ]
  },
  {
   "cell_type": "code",
   "execution_count": null,
   "id": "prospective-glance",
   "metadata": {},
   "outputs": [],
   "source": [
    "validate_gb_upn(df[\"upn\"])"
   ]
  },
  {
   "cell_type": "markdown",
   "id": "reduced-portsmouth",
   "metadata": {},
   "source": [
    "### DataFrame + Specify Column"
   ]
  },
  {
   "cell_type": "code",
   "execution_count": null,
   "id": "varied-breeding",
   "metadata": {},
   "outputs": [],
   "source": [
    "validate_gb_upn(df, column=\"upn\")"
   ]
  },
  {
   "cell_type": "markdown",
   "id": "suitable-pioneer",
   "metadata": {},
   "source": [
    "### Only DataFrame"
   ]
  },
  {
   "cell_type": "code",
   "execution_count": null,
   "id": "constant-induction",
   "metadata": {},
   "outputs": [],
   "source": [
    "validate_gb_upn(df)"
   ]
  },
  {
   "cell_type": "code",
   "execution_count": null,
   "id": "parental-throat",
   "metadata": {},
   "outputs": [],
   "source": []
  }
 ],
 "metadata": {
  "kernelspec": {
   "display_name": "Python 3",
   "language": "python",
   "name": "python3"
  },
  "language_info": {
   "codemirror_mode": {
    "name": "ipython",
    "version": 3
   },
   "file_extension": ".py",
   "mimetype": "text/x-python",
   "name": "python",
   "nbconvert_exporter": "python",
   "pygments_lexer": "ipython3",
   "version": "3.6.12"
  }
 },
 "nbformat": 4,
 "nbformat_minor": 5
}

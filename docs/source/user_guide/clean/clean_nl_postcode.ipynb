{
 "cells": [
  {
   "cell_type": "raw",
   "id": "perfect-railway",
   "metadata": {},
   "source": [
    ".. _postcode_userguide:\n",
    "\n",
    "Dutch Postal Codes\n",
    "=================="
   ]
  },
  {
   "cell_type": "raw",
   "id": "objective-history",
   "metadata": {},
   "source": [
    "Introduction\n",
    "------------\n",
    "\n",
    "The function :func:`clean_nl_postcode() <dataprep.clean.clean_nl_postcode.clean_nl_postcode>` cleans a column containing Dutch postal codes strings, and standardizes them in a given format. The function :func:`validate_nl_postcode() <dataprep.clean.clean_nl_postcode.validate_nl_postcode>` validates either a single postcode strings, a column of postcode strings or a DataFrame of postcode strings, returning `True` if the value is valid, and `False` otherwise."
   ]
  },
  {
   "cell_type": "markdown",
   "id": "capital-spectrum",
   "metadata": {},
   "source": [
    "postcode strings can be converted to the following formats via the `output_format` parameter:\n",
    "\n",
    "* `compact`: only number strings without any seperators or whitespace, like \"2611ET\"\n",
    "* `standard`: postcode strings with proper whitespace in the proper places. Note that in the case of postcode, the compact format is the same as the standard one.\n",
    "\n",
    "Invalid parsing is handled with the `errors` parameter:\n",
    "\n",
    "* `coerce` (default): invalid parsing will be set to NaN\n",
    "* `ignore`: invalid parsing will return the input\n",
    "* `raise`: invalid parsing will raise an exception\n",
    "\n",
    "The following sections demonstrate the functionality of `clean_nl_postcode()` and `validate_nl_postcode()`. "
   ]
  },
  {
   "cell_type": "markdown",
   "id": "moderate-argentina",
   "metadata": {},
   "source": [
    "### An example dataset containing postcode strings"
   ]
  },
  {
   "cell_type": "code",
   "execution_count": null,
   "id": "strange-december",
   "metadata": {},
   "outputs": [],
   "source": [
    "import pandas as pd\n",
    "import numpy as np\n",
    "df = pd.DataFrame(\n",
    "    {\n",
    "        \"postcode\": [\n",
    "            'NL-2611ET',\n",
    "            '26112 ET',\n",
    "            'BE 428759497',\n",
    "            'BE431150351',\n",
    "            \"002 724 334\",\n",
    "            \"hello\",\n",
    "            np.nan,\n",
    "            \"NULL\",\n",
    "        ], \n",
    "        \"address\": [\n",
    "            \"123 Pine Ave.\",\n",
    "            \"main st\",\n",
    "            \"1234 west main heights 57033\",\n",
    "            \"apt 1 789 s maple rd manhattan\",\n",
    "            \"robie house, 789 north main street\",\n",
    "            \"1111 S Figueroa St, Los Angeles, CA 90015\",\n",
    "            \"(staples center) 1111 S Figueroa St, Los Angeles\",\n",
    "            \"hello\",\n",
    "        ]\n",
    "    }\n",
    ")\n",
    "df"
   ]
  },
  {
   "cell_type": "markdown",
   "id": "disabled-utilization",
   "metadata": {},
   "source": [
    "## 1. Default `clean_nl_postcode`\n",
    "\n",
    "By default, `clean_nl_postcode` will clean postcode strings and output them in the standard format with proper separators."
   ]
  },
  {
   "cell_type": "code",
   "execution_count": null,
   "id": "middle-mortality",
   "metadata": {},
   "outputs": [],
   "source": [
    "from dataprep.clean import clean_nl_postcode\n",
    "clean_nl_postcode(df, column = \"postcode\")"
   ]
  },
  {
   "cell_type": "markdown",
   "id": "persistent-canyon",
   "metadata": {},
   "source": [
    "## 2. Output formats"
   ]
  },
  {
   "cell_type": "markdown",
   "id": "toxic-dragon",
   "metadata": {},
   "source": [
    "This section demonstrates the output parameter."
   ]
  },
  {
   "cell_type": "markdown",
   "id": "handmade-liechtenstein",
   "metadata": {},
   "source": [
    "### `standard` (default)"
   ]
  },
  {
   "cell_type": "code",
   "execution_count": null,
   "id": "peripheral-georgia",
   "metadata": {},
   "outputs": [],
   "source": [
    "clean_nl_postcode(df, column = \"postcode\", output_format=\"standard\")"
   ]
  },
  {
   "cell_type": "markdown",
   "id": "adolescent-matter",
   "metadata": {},
   "source": [
    "### `compact`"
   ]
  },
  {
   "cell_type": "code",
   "execution_count": null,
   "id": "unlikely-semiconductor",
   "metadata": {},
   "outputs": [],
   "source": [
    "clean_nl_postcode(df, column = \"postcode\", output_format=\"compact\")"
   ]
  },
  {
   "cell_type": "markdown",
   "id": "communist-starter",
   "metadata": {},
   "source": [
    "## 3. `inplace` parameter\n",
    "\n",
    "This deletes the given column from the returned DataFrame. \n",
    "A new column containing cleaned postcode strings is added with a title in the format `\"{original title}_clean\"`."
   ]
  },
  {
   "cell_type": "code",
   "execution_count": null,
   "id": "quantitative-briefing",
   "metadata": {},
   "outputs": [],
   "source": [
    "clean_nl_postcode(df, column=\"postcode\", inplace=True)"
   ]
  },
  {
   "cell_type": "markdown",
   "id": "decreased-antique",
   "metadata": {},
   "source": [
    "## 4. `errors` parameter"
   ]
  },
  {
   "cell_type": "markdown",
   "id": "following-triangle",
   "metadata": {},
   "source": [
    "### `coerce` (default)"
   ]
  },
  {
   "cell_type": "code",
   "execution_count": null,
   "id": "immune-services",
   "metadata": {},
   "outputs": [],
   "source": [
    "clean_nl_postcode(df, \"postcode\", errors=\"coerce\")"
   ]
  },
  {
   "cell_type": "markdown",
   "id": "boring-installation",
   "metadata": {},
   "source": [
    "### `ignore`"
   ]
  },
  {
   "cell_type": "code",
   "execution_count": null,
   "id": "selective-imagination",
   "metadata": {},
   "outputs": [],
   "source": [
    "clean_nl_postcode(df, \"postcode\", errors=\"ignore\")"
   ]
  },
  {
   "cell_type": "markdown",
   "id": "united-armenia",
   "metadata": {},
   "source": [
    "## 4. `validate_nl_postcode()`"
   ]
  },
  {
   "cell_type": "markdown",
   "id": "animated-electric",
   "metadata": {},
   "source": [
    "`validate_nl_postcode()` returns `True` when the input is a valid postcode. Otherwise it returns `False`.\n",
    "\n",
    "The input of `validate_nl_postcode()` can be a string, a Pandas DataSeries, a Dask DataSeries, a Pandas DataFrame and a dask DataFrame.\n",
    "\n",
    "When the input is a string, a Pandas DataSeries or a Dask DataSeries, user doesn't need to specify a column name to be validated. \n",
    "\n",
    "When the input is a Pandas DataFrame or a dask DataFrame, user can both specify or not specify a column name to be validated. If user specify the column name, `validate_nl_postcode()` only returns the validation result for the specified column. If user doesn't specify the column name, `validate_nl_postcode()` returns the validation result for the whole DataFrame."
   ]
  },
  {
   "cell_type": "code",
   "execution_count": null,
   "id": "collaborative-interview",
   "metadata": {},
   "outputs": [],
   "source": [
    "from dataprep.clean import validate_nl_postcode\n",
    "print(validate_nl_postcode(\"NL-2611ET\"))\n",
    "print(validate_nl_postcode(\"26112 ET\"))\n",
    "print(validate_nl_postcode('BE 428759497'))\n",
    "print(validate_nl_postcode('BE431150351'))\n",
    "print(validate_nl_postcode(\"004085616\"))\n",
    "print(validate_nl_postcode(\"hello\"))\n",
    "print(validate_nl_postcode(np.nan))\n",
    "print(validate_nl_postcode(\"NULL\"))"
   ]
  },
  {
   "cell_type": "markdown",
   "id": "external-southwest",
   "metadata": {},
   "source": [
    "### Series"
   ]
  },
  {
   "cell_type": "code",
   "execution_count": null,
   "id": "loving-lindsay",
   "metadata": {},
   "outputs": [],
   "source": [
    "validate_nl_postcode(df[\"postcode\"])"
   ]
  },
  {
   "cell_type": "markdown",
   "id": "hungry-mainland",
   "metadata": {},
   "source": [
    "### DataFrame + Specify Column"
   ]
  },
  {
   "cell_type": "code",
   "execution_count": null,
   "id": "little-broadcasting",
   "metadata": {},
   "outputs": [],
   "source": [
    "validate_nl_postcode(df, column=\"postcode\")"
   ]
  },
  {
   "cell_type": "markdown",
   "id": "mysterious-cardiff",
   "metadata": {},
   "source": [
    "### Only DataFrame"
   ]
  },
  {
   "cell_type": "code",
   "execution_count": null,
   "id": "native-cache",
   "metadata": {},
   "outputs": [],
   "source": [
    "validate_nl_postcode(df)"
   ]
  },
  {
   "cell_type": "code",
   "execution_count": null,
   "id": "early-beads",
   "metadata": {},
   "outputs": [],
   "source": []
  }
 ],
 "metadata": {
  "kernelspec": {
   "display_name": "Python 3",
   "language": "python",
   "name": "python3"
  },
  "language_info": {
   "codemirror_mode": {
    "name": "ipython",
    "version": 3
   },
   "file_extension": ".py",
   "mimetype": "text/x-python",
   "name": "python",
   "nbconvert_exporter": "python",
   "pygments_lexer": "ipython3",
   "version": "3.6.12"
  }
 },
 "nbformat": 4,
 "nbformat_minor": 5
}

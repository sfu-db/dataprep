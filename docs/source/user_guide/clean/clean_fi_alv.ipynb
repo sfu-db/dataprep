{
 "cells": [
  {
   "cell_type": "raw",
   "id": "tough-temple",
   "metadata": {},
   "source": [
    ".. _alv_userguide:\n",
    "\n",
    "Finnish ALV Numbers\n",
    "==================="
   ]
  },
  {
   "cell_type": "raw",
   "id": "normal-oxford",
   "metadata": {},
   "source": [
    "Introduction\n",
    "------------\n",
    "\n",
    "The function :func:`clean_fi_alv() <dataprep.clean.clean_fi_alv.clean_fi_alv>` cleans a column containing Finnish ALV number (ALV) strings, and standardizes them in a given format. The function :func:`validate_fi_alv() <dataprep.clean.clean_fi_alv.validate_fi_alv>` validates either a single ALV strings, a column of ALV strings or a DataFrame of ALV strings, returning `True` if the value is valid, and `False` otherwise."
   ]
  },
  {
   "cell_type": "markdown",
   "id": "collectible-sequence",
   "metadata": {},
   "source": [
    "ALV strings can be converted to the following formats via the `output_format` parameter:\n",
    "\n",
    "* `compact`: only number strings without any seperators or whitespace, like \"20774740\"\n",
    "* `standard`: ALV strings with proper whitespace in the proper places. Note that in the case of ALV, the compact format is the same as the standard one.\n",
    "\n",
    "Invalid parsing is handled with the `errors` parameter:\n",
    "\n",
    "* `coerce` (default): invalid parsing will be set to NaN\n",
    "* `ignore`: invalid parsing will return the input\n",
    "* `raise`: invalid parsing will raise an exception\n",
    "\n",
    "The following sections demonstrate the functionality of `clean_fi_alv()` and `validate_fi_alv()`. "
   ]
  },
  {
   "cell_type": "markdown",
   "id": "julian-advance",
   "metadata": {},
   "source": [
    "### An example dataset containing ALV strings"
   ]
  },
  {
   "cell_type": "code",
   "execution_count": null,
   "id": "technical-proposition",
   "metadata": {},
   "outputs": [],
   "source": [
    "import pandas as pd\n",
    "import numpy as np\n",
    "df = pd.DataFrame(\n",
    "    {\n",
    "        \"alv\": [\n",
    "            'FI 20774740',\n",
    "            'FI 20774741',\n",
    "            'BE 428759497',\n",
    "            'BE431150351',\n",
    "            \"002 724 334\",\n",
    "            \"hello\",\n",
    "            np.nan,\n",
    "            \"NULL\",\n",
    "        ], \n",
    "        \"address\": [\n",
    "            \"123 Pine Ave.\",\n",
    "            \"main st\",\n",
    "            \"1234 west main heights 57033\",\n",
    "            \"apt 1 789 s maple rd manhattan\",\n",
    "            \"robie house, 789 north main street\",\n",
    "            \"1111 S Figueroa St, Los Angeles, CA 90015\",\n",
    "            \"(staples center) 1111 S Figueroa St, Los Angeles\",\n",
    "            \"hello\",\n",
    "        ]\n",
    "    }\n",
    ")\n",
    "df"
   ]
  },
  {
   "cell_type": "markdown",
   "id": "cosmetic-literacy",
   "metadata": {},
   "source": [
    "## 1. Default `clean_fi_alv`\n",
    "\n",
    "By default, `clean_fi_alv` will clean alv strings and output them in the standard format with proper separators."
   ]
  },
  {
   "cell_type": "code",
   "execution_count": null,
   "id": "framed-candy",
   "metadata": {},
   "outputs": [],
   "source": [
    "from dataprep.clean import clean_fi_alv\n",
    "clean_fi_alv(df, column = \"alv\")"
   ]
  },
  {
   "cell_type": "markdown",
   "id": "insured-prayer",
   "metadata": {},
   "source": [
    "## 2. Output formats"
   ]
  },
  {
   "cell_type": "markdown",
   "id": "focal-bullet",
   "metadata": {},
   "source": [
    "This section demonstrates the output parameter."
   ]
  },
  {
   "cell_type": "markdown",
   "id": "cellular-candidate",
   "metadata": {},
   "source": [
    "### `standard` (default)"
   ]
  },
  {
   "cell_type": "code",
   "execution_count": null,
   "id": "responsible-longitude",
   "metadata": {},
   "outputs": [],
   "source": [
    "clean_fi_alv(df, column = \"alv\", output_format=\"standard\")"
   ]
  },
  {
   "cell_type": "markdown",
   "id": "union-corner",
   "metadata": {},
   "source": [
    "### `compact`"
   ]
  },
  {
   "cell_type": "code",
   "execution_count": null,
   "id": "loved-workplace",
   "metadata": {},
   "outputs": [],
   "source": [
    "clean_fi_alv(df, column = \"alv\", output_format=\"compact\")"
   ]
  },
  {
   "cell_type": "markdown",
   "id": "tight-elizabeth",
   "metadata": {},
   "source": [
    "## 3. `inplace` parameter\n",
    "\n",
    "This deletes the given column from the returned DataFrame. \n",
    "A new column containing cleaned ALV strings is added with a title in the format `\"{original title}_clean\"`."
   ]
  },
  {
   "cell_type": "code",
   "execution_count": null,
   "id": "ceramic-teacher",
   "metadata": {},
   "outputs": [],
   "source": [
    "clean_fi_alv(df, column=\"alv\", inplace=True)"
   ]
  },
  {
   "cell_type": "markdown",
   "id": "native-girlfriend",
   "metadata": {},
   "source": [
    "## 4. `errors` parameter"
   ]
  },
  {
   "cell_type": "markdown",
   "id": "tired-subsection",
   "metadata": {},
   "source": [
    "### `coerce` (default)"
   ]
  },
  {
   "cell_type": "code",
   "execution_count": null,
   "id": "basic-conspiracy",
   "metadata": {},
   "outputs": [],
   "source": [
    "clean_fi_alv(df, \"alv\", errors=\"coerce\")"
   ]
  },
  {
   "cell_type": "markdown",
   "id": "basic-track",
   "metadata": {},
   "source": [
    "### `ignore`"
   ]
  },
  {
   "cell_type": "code",
   "execution_count": null,
   "id": "burning-witness",
   "metadata": {},
   "outputs": [],
   "source": [
    "clean_fi_alv(df, \"alv\", errors=\"ignore\")"
   ]
  },
  {
   "cell_type": "markdown",
   "id": "centered-compilation",
   "metadata": {},
   "source": [
    "## 4. `validate_fi_alv()`"
   ]
  },
  {
   "cell_type": "markdown",
   "id": "divided-rebate",
   "metadata": {},
   "source": [
    "`validate_fi_alv()` returns `True` when the input is a valid ALV. Otherwise it returns `False`.\n",
    "\n",
    "The input of `validate_fi_alv()` can be a string, a Pandas DataSeries, a Dask DataSeries, a Pandas DataFrame and a dask DataFrame.\n",
    "\n",
    "When the input is a string, a Pandas DataSeries or a Dask DataSeries, user doesn't need to specify a column name to be validated. \n",
    "\n",
    "When the input is a Pandas DataFrame or a dask DataFrame, user can both specify or not specify a column name to be validated. If user specify the column name, `validate_fi_alv()` only returns the validation result for the specified column. If user doesn't specify the column name, `validate_fi_alv()` returns the validation result for the whole DataFrame."
   ]
  },
  {
   "cell_type": "code",
   "execution_count": null,
   "id": "athletic-consequence",
   "metadata": {},
   "outputs": [],
   "source": [
    "from dataprep.clean import validate_fi_alv\n",
    "print(validate_fi_alv('FI 20774740'))\n",
    "print(validate_fi_alv('FI 20774741'))\n",
    "print(validate_fi_alv('BE 428759497'))\n",
    "print(validate_fi_alv('BE431150351'))\n",
    "print(validate_fi_alv(\"004085616\"))\n",
    "print(validate_fi_alv(\"hello\"))\n",
    "print(validate_fi_alv(np.nan))\n",
    "print(validate_fi_alv(\"NULL\"))"
   ]
  },
  {
   "cell_type": "markdown",
   "id": "efficient-vision",
   "metadata": {},
   "source": [
    "### Series"
   ]
  },
  {
   "cell_type": "code",
   "execution_count": null,
   "id": "tired-gazette",
   "metadata": {},
   "outputs": [],
   "source": [
    "validate_fi_alv(df[\"alv\"])"
   ]
  },
  {
   "cell_type": "markdown",
   "id": "concerned-prague",
   "metadata": {},
   "source": [
    "### DataFrame + Specify Column"
   ]
  },
  {
   "cell_type": "code",
   "execution_count": null,
   "id": "quarterly-leonard",
   "metadata": {},
   "outputs": [],
   "source": [
    "validate_fi_alv(df, column=\"alv\")"
   ]
  },
  {
   "cell_type": "markdown",
   "id": "stuffed-ferry",
   "metadata": {},
   "source": [
    "### Only DataFrame"
   ]
  },
  {
   "cell_type": "code",
   "execution_count": null,
   "id": "classified-newspaper",
   "metadata": {},
   "outputs": [],
   "source": [
    "validate_fi_alv(df)"
   ]
  },
  {
   "cell_type": "code",
   "execution_count": null,
   "id": "european-samuel",
   "metadata": {},
   "outputs": [],
   "source": []
  }
 ],
 "metadata": {
  "kernelspec": {
   "display_name": "Python 3",
   "language": "python",
   "name": "python3"
  },
  "language_info": {
   "codemirror_mode": {
    "name": "ipython",
    "version": 3
   },
   "file_extension": ".py",
   "mimetype": "text/x-python",
   "name": "python",
   "nbconvert_exporter": "python",
   "pygments_lexer": "ipython3",
   "version": "3.6.12"
  }
 },
 "nbformat": 4,
 "nbformat_minor": 5
}

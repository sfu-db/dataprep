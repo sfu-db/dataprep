{
 "cells": [
  {
   "cell_type": "markdown",
   "id": "consistent-inflation",
   "metadata": {},
   "source": [
    "# Costa Rica Physical Person ID Numbers"
   ]
  },
  {
   "cell_type": "markdown",
   "id": "absent-wholesale",
   "metadata": {},
   "source": [
    "## Introduction"
   ]
  },
  {
   "cell_type": "markdown",
   "id": "distributed-communications",
   "metadata": {},
   "source": [
    "The function `clean_cr_cpf()` cleans a column containing Costa Rica physical person ID number (CPF) strings, and standardizes them in a given format. The function `validate_cr_cpf()` validates either a single CPF strings, a column of CPF strings or a DataFrame of CPF strings, returning `True` if the value is valid, and `False` otherwise."
   ]
  },
  {
   "cell_type": "markdown",
   "id": "small-ordinary",
   "metadata": {},
   "source": [
    "CPF strings can be converted to the following formats via the `output_format` parameter:\n",
    "\n",
    "* `compact`: only number strings without any seperators or whitespace, like \"0106130584\"\n",
    "* `standard`: CPF strings with proper whitespace in the proper places, like \"01-0613-0584\"\n",
    "\n",
    "Invalid parsing is handled with the `errors` parameter:\n",
    "\n",
    "* `coerce` (default): invalid parsing will be set to NaN\n",
    "* `ignore`: invalid parsing will return the input\n",
    "* `raise`: invalid parsing will raise an exception\n",
    "\n",
    "The following sections demonstrate the functionality of `clean_cr_cpf()` and `validate_cr_cpf()`. "
   ]
  },
  {
   "cell_type": "markdown",
   "id": "amazing-sherman",
   "metadata": {},
   "source": [
    "### An example dataset containing CPF strings"
   ]
  },
  {
   "cell_type": "code",
   "execution_count": null,
   "id": "compatible-theology",
   "metadata": {},
   "outputs": [],
   "source": [
    "import pandas as pd\n",
    "import numpy as np\n",
    "df = pd.DataFrame(\n",
    "    {\n",
    "        \"cpf\": [\n",
    "            \"1-613-584\",\n",
    "            \"30-1234-1234\",\n",
    "            \"51824753556\",\n",
    "            \"51 824 753 556\",\n",
    "            \"hello\",\n",
    "            np.nan,\n",
    "            \"NULL\"\n",
    "        ], \n",
    "        \"address\": [\n",
    "            \"123 Pine Ave.\",\n",
    "            \"main st\",\n",
    "            \"1234 west main heights 57033\",\n",
    "            \"apt 1 789 s maple rd manhattan\",\n",
    "            \"robie house, 789 north main street\",\n",
    "            \"(staples center) 1111 S Figueroa St, Los Angeles\",\n",
    "            \"hello\",\n",
    "        ]\n",
    "    }\n",
    ")\n",
    "df"
   ]
  },
  {
   "cell_type": "markdown",
   "id": "ongoing-barrel",
   "metadata": {},
   "source": [
    "## 1. Default `clean_cr_cpf`\n",
    "\n",
    "By default, `clean_cr_cpf` will clean cpf strings and output them in the standard format with proper separators."
   ]
  },
  {
   "cell_type": "code",
   "execution_count": null,
   "id": "refined-clothing",
   "metadata": {},
   "outputs": [],
   "source": [
    "from dataprep.clean import clean_cr_cpf\n",
    "clean_cr_cpf(df, column = \"cpf\")"
   ]
  },
  {
   "cell_type": "markdown",
   "id": "nearby-naples",
   "metadata": {},
   "source": [
    "## 2. Output formats"
   ]
  },
  {
   "cell_type": "markdown",
   "id": "random-complement",
   "metadata": {},
   "source": [
    "This section demonstrates the output parameter."
   ]
  },
  {
   "cell_type": "markdown",
   "id": "helpful-theology",
   "metadata": {},
   "source": [
    "### `standard` (default)"
   ]
  },
  {
   "cell_type": "code",
   "execution_count": null,
   "id": "convenient-algeria",
   "metadata": {},
   "outputs": [],
   "source": [
    "clean_cr_cpf(df, column = \"cpf\", output_format=\"standard\")"
   ]
  },
  {
   "cell_type": "markdown",
   "id": "functional-flush",
   "metadata": {},
   "source": [
    "### `compact`"
   ]
  },
  {
   "cell_type": "code",
   "execution_count": null,
   "id": "difficult-establishment",
   "metadata": {},
   "outputs": [],
   "source": [
    "clean_cr_cpf(df, column = \"cpf\", output_format=\"compact\")"
   ]
  },
  {
   "cell_type": "markdown",
   "id": "thousand-saturday",
   "metadata": {},
   "source": [
    "## 3. `inplace` parameter\n",
    "\n",
    "This deletes the given column from the returned DataFrame. \n",
    "A new column containing cleaned CPF strings is added with a title in the format `\"{original title}_clean\"`."
   ]
  },
  {
   "cell_type": "code",
   "execution_count": null,
   "id": "amateur-commitment",
   "metadata": {},
   "outputs": [],
   "source": [
    "clean_cr_cpf(df, column=\"cpf\", inplace=True)"
   ]
  },
  {
   "cell_type": "markdown",
   "id": "juvenile-afternoon",
   "metadata": {},
   "source": [
    "## 4. `errors` parameter"
   ]
  },
  {
   "cell_type": "markdown",
   "id": "silent-color",
   "metadata": {},
   "source": [
    "### `coerce` (default)"
   ]
  },
  {
   "cell_type": "code",
   "execution_count": null,
   "id": "classical-registrar",
   "metadata": {},
   "outputs": [],
   "source": [
    "clean_cr_cpf(df, \"cpf\", errors=\"coerce\")"
   ]
  },
  {
   "cell_type": "markdown",
   "id": "complimentary-terrorist",
   "metadata": {},
   "source": [
    "### `ignore`"
   ]
  },
  {
   "cell_type": "code",
   "execution_count": null,
   "id": "pursuant-reverse",
   "metadata": {},
   "outputs": [],
   "source": [
    "clean_cr_cpf(df, \"cpf\", errors=\"ignore\")"
   ]
  },
  {
   "cell_type": "markdown",
   "id": "green-isolation",
   "metadata": {},
   "source": [
    "## 4. `validate_cr_cpf()`"
   ]
  },
  {
   "cell_type": "markdown",
   "id": "sticky-relative",
   "metadata": {},
   "source": [
    "`validate_cr_cpf()` returns `True` when the input is a valid CPF. Otherwise it returns `False`.\n",
    "\n",
    "The input of `validate_cr_cpf()` can be a string, a Pandas DataSeries, a Dask DataSeries, a Pandas DataFrame and a dask DataFrame.\n",
    "\n",
    "When the input is a string, a Pandas DataSeries or a Dask DataSeries, user doesn't need to specify a column name to be validated. \n",
    "\n",
    "When the input is a Pandas DataFrame or a dask DataFrame, user can both specify or not specify a column name to be validated. If user specify the column name, `validate_cr_cpf()` only returns the validation result for the specified column. If user doesn't specify the column name, `validate_cr_cpf()` returns the validation result for the whole DataFrame."
   ]
  },
  {
   "cell_type": "code",
   "execution_count": null,
   "id": "efficient-ozone",
   "metadata": {},
   "outputs": [],
   "source": [
    "from dataprep.clean import validate_cr_cpf\n",
    "print(validate_cr_cpf(\"1-613-584\"))\n",
    "print(validate_cr_cpf(\"30-1234-1234\"))\n",
    "print(validate_cr_cpf(\"51824753556\"))\n",
    "print(validate_cr_cpf(\"51 824 753 556\"))\n",
    "print(validate_cr_cpf(\"hello\"))\n",
    "print(validate_cr_cpf(np.nan))\n",
    "print(validate_cr_cpf(\"NULL\"))"
   ]
  },
  {
   "cell_type": "markdown",
   "id": "satellite-static",
   "metadata": {},
   "source": [
    "### Series"
   ]
  },
  {
   "cell_type": "code",
   "execution_count": null,
   "id": "artificial-desire",
   "metadata": {},
   "outputs": [],
   "source": [
    "validate_cr_cpf(df[\"cpf\"])"
   ]
  },
  {
   "cell_type": "markdown",
   "id": "harmful-litigation",
   "metadata": {},
   "source": [
    "### DataFrame + Specify Column"
   ]
  },
  {
   "cell_type": "code",
   "execution_count": null,
   "id": "tough-emphasis",
   "metadata": {},
   "outputs": [],
   "source": [
    "validate_cr_cpf(df, column=\"cpf\")"
   ]
  },
  {
   "cell_type": "markdown",
   "id": "specialized-providence",
   "metadata": {},
   "source": [
    "### Only DataFrame"
   ]
  },
  {
   "cell_type": "code",
   "execution_count": null,
   "id": "worldwide-royalty",
   "metadata": {},
   "outputs": [],
   "source": [
    "validate_cr_cpf(df)"
   ]
  },
  {
   "cell_type": "code",
   "execution_count": null,
   "id": "controlling-charles",
   "metadata": {},
   "outputs": [],
   "source": []
  }
 ],
 "metadata": {
  "kernelspec": {
   "display_name": "Python 3",
   "language": "python",
   "name": "python3"
  },
  "language_info": {
   "codemirror_mode": {
    "name": "ipython",
    "version": 3
   },
   "file_extension": ".py",
   "mimetype": "text/x-python",
   "name": "python",
   "nbconvert_exporter": "python",
   "pygments_lexer": "ipython3",
   "version": "3.6.12"
  }
 },
 "nbformat": 4,
 "nbformat_minor": 5
}

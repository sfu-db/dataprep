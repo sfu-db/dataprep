{
 "cells": [
  {
   "cell_type": "raw",
   "id": "blind-terminology",
   "metadata": {},
   "source": [
    ".. _rc_userguide:\n",
    "\n",
    "Czech Birth Numbers\n",
    "==================="
   ]
  },
  {
   "cell_type": "raw",
   "id": "fifteen-clarity",
   "metadata": {},
   "source": [
    "Introduction\n",
    "------------\n",
    "\n",
    "The function :func:`clean_cz_rc() <dataprep.clean.clean_cz_rc.clean_cz_rc>` cleans a column containing Czech birth number (RC) strings, and standardizes them in a given format. The function :func:`validate_cz_rc() <dataprep.clean.clean_cz_rc.validate_cz_rc>` validates either a single RC strings, a column of RC strings or a DataFrame of RC strings, returning `True` if the value is valid, and `False` otherwise."
   ]
  },
  {
   "cell_type": "markdown",
   "id": "outside-watch",
   "metadata": {},
   "source": [
    "RC strings can be converted to the following formats via the `output_format` parameter:\n",
    "\n",
    "* `compact`: only number strings without any seperators or whitespace, like \"7103192745\"\n",
    "* `standard`: RC strings with proper whitespace in the proper places, like \"710319/2745\"\n",
    "\n",
    "Invalid parsing is handled with the `errors` parameter:\n",
    "\n",
    "* `coerce` (default): invalid parsing will be set to NaN\n",
    "* `ignore`: invalid parsing will return the input\n",
    "* `raise`: invalid parsing will raise an exception\n",
    "\n",
    "The following sections demonstrate the functionality of `clean_cz_rc()` and `validate_cz_rc()`. "
   ]
  },
  {
   "cell_type": "markdown",
   "id": "anticipated-native",
   "metadata": {},
   "source": [
    "### An example dataset containing RC strings"
   ]
  },
  {
   "cell_type": "code",
   "execution_count": null,
   "id": "guided-showcase",
   "metadata": {},
   "outputs": [],
   "source": [
    "import pandas as pd\n",
    "import numpy as np\n",
    "df = pd.DataFrame(\n",
    "    {\n",
    "        \"rc\": [\n",
    "            \"7103192745\",\n",
    "            \"7103192746\",\n",
    "            \"51824753556\",\n",
    "            \"51 824 753 556\",\n",
    "            \"hello\",\n",
    "            np.nan,\n",
    "            \"NULL\"\n",
    "        ], \n",
    "        \"address\": [\n",
    "            \"123 Pine Ave.\",\n",
    "            \"main st\",\n",
    "            \"1234 west main heights 57033\",\n",
    "            \"apt 1 789 s maple rd manhattan\",\n",
    "            \"robie house, 789 north main street\",\n",
    "            \"(staples center) 1111 S Figueroa St, Los Angeles\",\n",
    "            \"hello\",\n",
    "        ]\n",
    "    }\n",
    ")\n",
    "df"
   ]
  },
  {
   "cell_type": "markdown",
   "id": "quick-boundary",
   "metadata": {},
   "source": [
    "## 1. Default `clean_cz_rc`\n",
    "\n",
    "By default, `clean_cz_rc` will clean rc strings and output them in the standard format with proper separators."
   ]
  },
  {
   "cell_type": "code",
   "execution_count": null,
   "id": "civic-polls",
   "metadata": {},
   "outputs": [],
   "source": [
    "from dataprep.clean import clean_cz_rc\n",
    "clean_cz_rc(df, column = \"rc\")"
   ]
  },
  {
   "cell_type": "markdown",
   "id": "placed-values",
   "metadata": {},
   "source": [
    "## 2. Output formats"
   ]
  },
  {
   "cell_type": "markdown",
   "id": "supposed-coverage",
   "metadata": {},
   "source": [
    "This section demonstrates the output parameter."
   ]
  },
  {
   "cell_type": "markdown",
   "id": "opposed-round",
   "metadata": {},
   "source": [
    "### `standard` (default)"
   ]
  },
  {
   "cell_type": "code",
   "execution_count": null,
   "id": "modern-remark",
   "metadata": {},
   "outputs": [],
   "source": [
    "clean_cz_rc(df, column = \"rc\", output_format=\"standard\")"
   ]
  },
  {
   "cell_type": "markdown",
   "id": "private-helicopter",
   "metadata": {},
   "source": [
    "### `compact`"
   ]
  },
  {
   "cell_type": "code",
   "execution_count": null,
   "id": "little-twelve",
   "metadata": {},
   "outputs": [],
   "source": [
    "clean_cz_rc(df, column = \"rc\", output_format=\"compact\")"
   ]
  },
  {
   "cell_type": "markdown",
   "id": "middle-smell",
   "metadata": {},
   "source": [
    "## 3. `inplace` parameter\n",
    "\n",
    "This deletes the given column from the returned DataFrame. \n",
    "A new column containing cleaned RC strings is added with a title in the format `\"{original title}_clean\"`."
   ]
  },
  {
   "cell_type": "code",
   "execution_count": null,
   "id": "remarkable-broadway",
   "metadata": {},
   "outputs": [],
   "source": [
    "clean_cz_rc(df, column=\"rc\", inplace=True)"
   ]
  },
  {
   "cell_type": "markdown",
   "id": "noble-storm",
   "metadata": {},
   "source": [
    "## 4. `errors` parameter"
   ]
  },
  {
   "cell_type": "markdown",
   "id": "iraqi-personal",
   "metadata": {},
   "source": [
    "### `coerce` (default)"
   ]
  },
  {
   "cell_type": "code",
   "execution_count": null,
   "id": "solar-grave",
   "metadata": {},
   "outputs": [],
   "source": [
    "clean_cz_rc(df, \"rc\", errors=\"coerce\")"
   ]
  },
  {
   "cell_type": "markdown",
   "id": "prescription-malta",
   "metadata": {},
   "source": [
    "### `ignore`"
   ]
  },
  {
   "cell_type": "code",
   "execution_count": null,
   "id": "atomic-combat",
   "metadata": {},
   "outputs": [],
   "source": [
    "clean_cz_rc(df, \"rc\", errors=\"ignore\")"
   ]
  },
  {
   "cell_type": "markdown",
   "id": "detected-cookbook",
   "metadata": {},
   "source": [
    "## 4. `validate_cz_rc()`"
   ]
  },
  {
   "cell_type": "markdown",
   "id": "solved-selection",
   "metadata": {},
   "source": [
    "`validate_cz_rc()` returns `True` when the input is a valid RC. Otherwise it returns `False`.\n",
    "\n",
    "The input of `validate_cz_rc()` can be a string, a Pandas DataSeries, a Dask DataSeries, a Pandas DataFrame and a dask DataFrame.\n",
    "\n",
    "When the input is a string, a Pandas DataSeries or a Dask DataSeries, user doesn't need to specify a column name to be validated. \n",
    "\n",
    "When the input is a Pandas DataFrame or a dask DataFrame, user can both specify or not specify a column name to be validated. If user specify the column name, `validate_cz_rc()` only returns the validation result for the specified column. If user doesn't specify the column name, `validate_cz_rc()` returns the validation result for the whole DataFrame."
   ]
  },
  {
   "cell_type": "code",
   "execution_count": null,
   "id": "described-complex",
   "metadata": {},
   "outputs": [],
   "source": [
    "from dataprep.clean import validate_cz_rc\n",
    "print(validate_cz_rc(\"7103192745\"))\n",
    "print(validate_cz_rc(\"7103192746\"))\n",
    "print(validate_cz_rc(\"51824753556\"))\n",
    "print(validate_cz_rc(\"51 824 753 556\"))\n",
    "print(validate_cz_rc(\"hello\"))\n",
    "print(validate_cz_rc(np.nan))\n",
    "print(validate_cz_rc(\"NULL\"))"
   ]
  },
  {
   "cell_type": "markdown",
   "id": "naked-berkeley",
   "metadata": {},
   "source": [
    "### Series"
   ]
  },
  {
   "cell_type": "code",
   "execution_count": null,
   "id": "sunset-crime",
   "metadata": {},
   "outputs": [],
   "source": [
    "validate_cz_rc(df[\"rc\"])"
   ]
  },
  {
   "cell_type": "markdown",
   "id": "common-guyana",
   "metadata": {},
   "source": [
    "### DataFrame + Specify Column"
   ]
  },
  {
   "cell_type": "code",
   "execution_count": null,
   "id": "arabic-examination",
   "metadata": {},
   "outputs": [],
   "source": [
    "validate_cz_rc(df, column=\"rc\")"
   ]
  },
  {
   "cell_type": "markdown",
   "id": "emerging-speaker",
   "metadata": {},
   "source": [
    "### Only DataFrame"
   ]
  },
  {
   "cell_type": "code",
   "execution_count": null,
   "id": "scheduled-america",
   "metadata": {
    "scrolled": true
   },
   "outputs": [],
   "source": [
    "validate_cz_rc(df)"
   ]
  },
  {
   "cell_type": "code",
   "execution_count": null,
   "id": "mature-romania",
   "metadata": {},
   "outputs": [],
   "source": []
  }
 ],
 "metadata": {
  "kernelspec": {
   "display_name": "Python 3",
   "language": "python",
   "name": "python3"
  },
  "language_info": {
   "codemirror_mode": {
    "name": "ipython",
    "version": 3
   },
   "file_extension": ".py",
   "mimetype": "text/x-python",
   "name": "python",
   "nbconvert_exporter": "python",
   "pygments_lexer": "ipython3",
   "version": "3.6.12"
  }
 },
 "nbformat": 4,
 "nbformat_minor": 5
}

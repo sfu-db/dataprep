{
 "cells": [
  {
   "cell_type": "raw",
   "id": "artistic-granny",
   "metadata": {},
   "source": [
    ".. _veronumero_userguide:\n",
    "\n",
    "Finnish Individual Tax Numbers\n",
    "=============================="
   ]
  },
  {
   "cell_type": "raw",
   "id": "meaning-overhead",
   "metadata": {},
   "source": [
    "Introduction\n",
    "------------\n",
    "\n",
    "The function :func:`clean_fi_veronumero() <dataprep.clean.clean_fi_veronumero.clean_fi_veronumero>` cleans a column containing Finnish individual tax number (Veronumero) strings, and standardizes them in a given format. The function :func:`validate_fi_veronumero() <dataprep.clean.clean_fi_veronumero.validate_fi_veronumero>` validates either a single Veronumero strings, a column of Veronumero strings or a DataFrame of Veronumero strings, returning `True` if the value is valid, and `False` otherwise."
   ]
  },
  {
   "cell_type": "markdown",
   "id": "attempted-differential",
   "metadata": {},
   "source": [
    "Veronumero strings can be converted to the following formats via the `output_format` parameter:\n",
    "\n",
    "* `compact`: only number strings without any seperators or whitespace, like \"123456789123\"\n",
    "* `standard`: Veronumero strings with proper whitespace in the proper places. Note that in the case of Veronumero, the compact format is the same as the standard one.\n",
    "\n",
    "Invalid parsing is handled with the `errors` parameter:\n",
    "\n",
    "* `coerce` (default): invalid parsing will be set to NaN\n",
    "* `ignore`: invalid parsing will return the input\n",
    "* `raise`: invalid parsing will raise an exception\n",
    "\n",
    "The following sections demonstrate the functionality of `clean_fi_veronumero()` and `validate_fi_veronumero()`. "
   ]
  },
  {
   "cell_type": "markdown",
   "id": "multiple-marriage",
   "metadata": {},
   "source": [
    "### An example dataset containing Veronumero strings"
   ]
  },
  {
   "cell_type": "code",
   "execution_count": null,
   "id": "conservative-packet",
   "metadata": {},
   "outputs": [],
   "source": [
    "import pandas as pd\n",
    "import numpy as np\n",
    "df = pd.DataFrame(\n",
    "    {\n",
    "        \"veronumero\": [\n",
    "            '123456789123',\n",
    "            '12345678912A',\n",
    "            'BE 428759497',\n",
    "            'BE431150351',\n",
    "            \"002 724 334\",\n",
    "            \"hello\",\n",
    "            np.nan,\n",
    "            \"NULL\",\n",
    "        ], \n",
    "        \"address\": [\n",
    "            \"123 Pine Ave.\",\n",
    "            \"main st\",\n",
    "            \"1234 west main heights 57033\",\n",
    "            \"apt 1 789 s maple rd manhattan\",\n",
    "            \"robie house, 789 north main street\",\n",
    "            \"1111 S Figueroa St, Los Angeles, CA 90015\",\n",
    "            \"(staples center) 1111 S Figueroa St, Los Angeles\",\n",
    "            \"hello\",\n",
    "        ]\n",
    "    }\n",
    ")\n",
    "df"
   ]
  },
  {
   "cell_type": "markdown",
   "id": "ethical-regulation",
   "metadata": {},
   "source": [
    "## 1. Default `clean_fi_veronumero`\n",
    "\n",
    "By default, `clean_fi_veronumero` will clean veronumero strings and output them in the standard format with proper separators."
   ]
  },
  {
   "cell_type": "code",
   "execution_count": null,
   "id": "subject-brake",
   "metadata": {},
   "outputs": [],
   "source": [
    "from dataprep.clean import clean_fi_veronumero\n",
    "clean_fi_veronumero(df, column = \"veronumero\")"
   ]
  },
  {
   "cell_type": "markdown",
   "id": "dressed-frost",
   "metadata": {},
   "source": [
    "## 2. Output formats"
   ]
  },
  {
   "cell_type": "markdown",
   "id": "adverse-anderson",
   "metadata": {},
   "source": [
    "This section demonstrates the output parameter."
   ]
  },
  {
   "cell_type": "markdown",
   "id": "sweet-lindsay",
   "metadata": {},
   "source": [
    "### `standard` (default)"
   ]
  },
  {
   "cell_type": "code",
   "execution_count": null,
   "id": "welsh-cedar",
   "metadata": {},
   "outputs": [],
   "source": [
    "clean_fi_veronumero(df, column = \"veronumero\", output_format=\"standard\")"
   ]
  },
  {
   "cell_type": "markdown",
   "id": "israeli-attraction",
   "metadata": {},
   "source": [
    "### `compact`"
   ]
  },
  {
   "cell_type": "code",
   "execution_count": null,
   "id": "shared-lancaster",
   "metadata": {},
   "outputs": [],
   "source": [
    "clean_fi_veronumero(df, column = \"veronumero\", output_format=\"compact\")"
   ]
  },
  {
   "cell_type": "markdown",
   "id": "cardiovascular-cable",
   "metadata": {},
   "source": [
    "## 3. `inplace` parameter\n",
    "\n",
    "This deletes the given column from the returned DataFrame. \n",
    "A new column containing cleaned Veronumero strings is added with a title in the format `\"{original title}_clean\"`."
   ]
  },
  {
   "cell_type": "code",
   "execution_count": null,
   "id": "fallen-satellite",
   "metadata": {},
   "outputs": [],
   "source": [
    "clean_fi_veronumero(df, column=\"veronumero\", inplace=True)"
   ]
  },
  {
   "cell_type": "markdown",
   "id": "phantom-librarian",
   "metadata": {},
   "source": [
    "## 4. `errors` parameter"
   ]
  },
  {
   "cell_type": "markdown",
   "id": "civilian-cocktail",
   "metadata": {},
   "source": [
    "### `coerce` (default)"
   ]
  },
  {
   "cell_type": "code",
   "execution_count": null,
   "id": "grand-kentucky",
   "metadata": {},
   "outputs": [],
   "source": [
    "clean_fi_veronumero(df, \"veronumero\", errors=\"coerce\")"
   ]
  },
  {
   "cell_type": "markdown",
   "id": "becoming-rochester",
   "metadata": {},
   "source": [
    "### `ignore`"
   ]
  },
  {
   "cell_type": "code",
   "execution_count": null,
   "id": "cutting-resistance",
   "metadata": {},
   "outputs": [],
   "source": [
    "clean_fi_veronumero(df, \"veronumero\", errors=\"ignore\")"
   ]
  },
  {
   "cell_type": "markdown",
   "id": "lesser-leeds",
   "metadata": {},
   "source": [
    "## 4. `validate_fi_veronumero()`"
   ]
  },
  {
   "cell_type": "markdown",
   "id": "infrared-chemical",
   "metadata": {},
   "source": [
    "`validate_fi_veronumero()` returns `True` when the input is a valid Veronumero. Otherwise it returns `False`.\n",
    "\n",
    "The input of `validate_fi_veronumero()` can be a string, a Pandas DataSeries, a Dask DataSeries, a Pandas DataFrame and a dask DataFrame.\n",
    "\n",
    "When the input is a string, a Pandas DataSeries or a Dask DataSeries, user doesn't need to specify a column name to be validated. \n",
    "\n",
    "When the input is a Pandas DataFrame or a dask DataFrame, user can both specify or not specify a column name to be validated. If user specify the column name, `validate_fi_veronumero()` only returns the validation result for the specified column. If user doesn't specify the column name, `validate_fi_veronumero()` returns the validation result for the whole DataFrame."
   ]
  },
  {
   "cell_type": "code",
   "execution_count": null,
   "id": "thick-pollution",
   "metadata": {},
   "outputs": [],
   "source": [
    "from dataprep.clean import validate_fi_veronumero\n",
    "print(validate_fi_veronumero(\"123456789123\"))\n",
    "print(validate_fi_veronumero(\"12345678912A\"))\n",
    "print(validate_fi_veronumero('BE 428759497'))\n",
    "print(validate_fi_veronumero('BE431150351'))\n",
    "print(validate_fi_veronumero(\"004085616\"))\n",
    "print(validate_fi_veronumero(\"hello\"))\n",
    "print(validate_fi_veronumero(np.nan))\n",
    "print(validate_fi_veronumero(\"NULL\"))"
   ]
  },
  {
   "cell_type": "markdown",
   "id": "referenced-floating",
   "metadata": {},
   "source": [
    "### Series"
   ]
  },
  {
   "cell_type": "code",
   "execution_count": null,
   "id": "aboriginal-circle",
   "metadata": {},
   "outputs": [],
   "source": [
    "validate_fi_veronumero(df[\"veronumero\"])"
   ]
  },
  {
   "cell_type": "markdown",
   "id": "native-organization",
   "metadata": {},
   "source": [
    "### DataFrame + Specify Column"
   ]
  },
  {
   "cell_type": "code",
   "execution_count": null,
   "id": "mobile-mayor",
   "metadata": {},
   "outputs": [],
   "source": [
    "validate_fi_veronumero(df, column=\"veronumero\")"
   ]
  },
  {
   "cell_type": "markdown",
   "id": "right-arrangement",
   "metadata": {},
   "source": [
    "### Only DataFrame"
   ]
  },
  {
   "cell_type": "code",
   "execution_count": null,
   "id": "peaceful-fifth",
   "metadata": {
    "scrolled": true
   },
   "outputs": [],
   "source": [
    "validate_fi_veronumero(df)"
   ]
  },
  {
   "cell_type": "code",
   "execution_count": null,
   "id": "automatic-exchange",
   "metadata": {},
   "outputs": [],
   "source": []
  }
 ],
 "metadata": {
  "kernelspec": {
   "display_name": "Python 3",
   "language": "python",
   "name": "python3"
  },
  "language_info": {
   "codemirror_mode": {
    "name": "ipython",
    "version": 3
   },
   "file_extension": ".py",
   "mimetype": "text/x-python",
   "name": "python",
   "nbconvert_exporter": "python",
   "pygments_lexer": "ipython3",
   "version": "3.6.12"
  }
 },
 "nbformat": 4,
 "nbformat_minor": 5
}

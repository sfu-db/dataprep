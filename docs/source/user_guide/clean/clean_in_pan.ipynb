{
 "cells": [
  {
   "cell_type": "raw",
   "id": "north-tooth",
   "metadata": {},
   "source": [
    ".. _pan_userguide:\n",
    "\n",
    "Indian Permanent Account Numbers\n",
    "================================"
   ]
  },
  {
   "cell_type": "raw",
   "id": "unlimited-purpose",
   "metadata": {},
   "source": [
    "Introduction\n",
    "------------\n",
    "\n",
    "The function :func:`clean_in_pan() <dataprep.clean.clean_in_pan.clean_in_pan>` cleans a column containing Indian Permanent Account number (PAN) strings, and standardizes them in a given format. The function :func:`validate_in_pan() <dataprep.clean.clean_in_pan.validate_in_pan>` validates either a single PAN strings, a column of PAN strings or a DataFrame of PAN strings, returning `True` if the value is valid, and `False` otherwise."
   ]
  },
  {
   "cell_type": "markdown",
   "id": "stupid-venice",
   "metadata": {},
   "source": [
    "PAN strings can be converted to the following formats via the `output_format` parameter:\n",
    "\n",
    "* `compact`: only number strings without any seperators or whitespace, like \"ACUPA7085R\"\n",
    "* `standard`: PAN strings with proper whitespace in the proper places. Note that in the case of PAN, the compact format is the same as the standard one.\n",
    "* `info`: return a dictionary containing information that can be decoded from the PAN, like {'card_holder_type': 'Individual', 'initial': 'A'}.\n",
    "* `mask`: mask the PAN as per CBDT masking standard, like \"ACUPAXXXXR\".\n",
    "\n",
    "Invalid parsing is handled with the `errors` parameter:\n",
    "\n",
    "* `coerce` (default): invalid parsing will be set to NaN\n",
    "* `ignore`: invalid parsing will return the input\n",
    "* `raise`: invalid parsing will raise an exception\n",
    "\n",
    "The following sections demonstrate the functionality of `clean_in_pan()` and `validate_in_pan()`. "
   ]
  },
  {
   "cell_type": "markdown",
   "id": "integrated-result",
   "metadata": {},
   "source": [
    "### An example dataset containing PAN strings"
   ]
  },
  {
   "cell_type": "code",
   "execution_count": null,
   "id": "chief-commons",
   "metadata": {},
   "outputs": [],
   "source": [
    "import pandas as pd\n",
    "import numpy as np\n",
    "df = pd.DataFrame(\n",
    "    {\n",
    "        \"pan\": [\n",
    "            'ACUPA7085R',\n",
    "            '234123412347',\n",
    "            '7542011030',\n",
    "            '7552A10004',\n",
    "            '8019010008',\n",
    "            \"hello\",\n",
    "            np.nan,\n",
    "            \"NULL\",\n",
    "        ], \n",
    "        \"address\": [\n",
    "            \"123 Pine Ave.\",\n",
    "            \"main st\",\n",
    "            \"1234 west main heights 57033\",\n",
    "            \"apt 1 789 s maple rd manhattan\",\n",
    "            \"robie house, 789 north main street\",\n",
    "            \"1111 S Figueroa St, Los Angeles, CA 90015\",\n",
    "            \"(staples center) 1111 S Figueroa St, Los Angeles\",\n",
    "            \"hello\",\n",
    "        ]\n",
    "    }\n",
    ")\n",
    "df"
   ]
  },
  {
   "cell_type": "markdown",
   "id": "steady-brunswick",
   "metadata": {},
   "source": [
    "## 1. Default `clean_in_pan`\n",
    "\n",
    "By default, `clean_in_pan` will clean pan strings and output them in the standard format with proper separators."
   ]
  },
  {
   "cell_type": "code",
   "execution_count": null,
   "id": "aerial-nursery",
   "metadata": {},
   "outputs": [],
   "source": [
    "from dataprep.clean import clean_in_pan\n",
    "clean_in_pan(df, column = \"pan\")"
   ]
  },
  {
   "cell_type": "markdown",
   "id": "expected-cannon",
   "metadata": {},
   "source": [
    "## 2. Output formats"
   ]
  },
  {
   "cell_type": "markdown",
   "id": "downtown-courage",
   "metadata": {},
   "source": [
    "This section demonstrates the output parameter."
   ]
  },
  {
   "cell_type": "markdown",
   "id": "promotional-casino",
   "metadata": {},
   "source": [
    "### `standard` (default)"
   ]
  },
  {
   "cell_type": "code",
   "execution_count": null,
   "id": "frequent-interpretation",
   "metadata": {
    "scrolled": true
   },
   "outputs": [],
   "source": [
    "clean_in_pan(df, column = \"pan\", output_format=\"standard\")"
   ]
  },
  {
   "cell_type": "markdown",
   "id": "minimal-laundry",
   "metadata": {},
   "source": [
    "### `compact`"
   ]
  },
  {
   "cell_type": "code",
   "execution_count": null,
   "id": "circular-aberdeen",
   "metadata": {},
   "outputs": [],
   "source": [
    "clean_in_pan(df, column = \"pan\", output_format=\"compact\")"
   ]
  },
  {
   "cell_type": "markdown",
   "id": "framed-generation",
   "metadata": {},
   "source": [
    "### `info`"
   ]
  },
  {
   "cell_type": "code",
   "execution_count": null,
   "id": "swiss-proposition",
   "metadata": {},
   "outputs": [],
   "source": [
    "clean_in_pan(df, column = \"pan\", output_format=\"info\")"
   ]
  },
  {
   "cell_type": "markdown",
   "id": "continued-overview",
   "metadata": {},
   "source": [
    "### `mask`"
   ]
  },
  {
   "cell_type": "code",
   "execution_count": null,
   "id": "moved-supervisor",
   "metadata": {},
   "outputs": [],
   "source": [
    "clean_in_pan(df, column = \"pan\", output_format=\"mask\")"
   ]
  },
  {
   "cell_type": "markdown",
   "id": "dramatic-canadian",
   "metadata": {},
   "source": [
    "## 3. `inplace` parameter\n",
    "\n",
    "This deletes the given column from the returned DataFrame. \n",
    "A new column containing cleaned PAN strings is added with a title in the format `\"{original title}_clean\"`."
   ]
  },
  {
   "cell_type": "code",
   "execution_count": null,
   "id": "automotive-saying",
   "metadata": {},
   "outputs": [],
   "source": [
    "clean_in_pan(df, column=\"pan\", inplace=True)"
   ]
  },
  {
   "cell_type": "markdown",
   "id": "american-employer",
   "metadata": {},
   "source": [
    "## 4. `errors` parameter"
   ]
  },
  {
   "cell_type": "markdown",
   "id": "hollywood-emission",
   "metadata": {},
   "source": [
    "### `coerce` (default)"
   ]
  },
  {
   "cell_type": "code",
   "execution_count": null,
   "id": "informed-serial",
   "metadata": {},
   "outputs": [],
   "source": [
    "clean_in_pan(df, \"pan\", errors=\"coerce\")"
   ]
  },
  {
   "cell_type": "markdown",
   "id": "satisfied-poverty",
   "metadata": {},
   "source": [
    "### `ignore`"
   ]
  },
  {
   "cell_type": "code",
   "execution_count": null,
   "id": "opposite-drinking",
   "metadata": {},
   "outputs": [],
   "source": [
    "clean_in_pan(df, \"pan\", errors=\"ignore\")"
   ]
  },
  {
   "cell_type": "markdown",
   "id": "twelve-thompson",
   "metadata": {},
   "source": [
    "## 4. `validate_in_pan()`"
   ]
  },
  {
   "cell_type": "markdown",
   "id": "early-atlantic",
   "metadata": {},
   "source": [
    "`validate_in_pan()` returns `True` when the input is a valid PAN. Otherwise it returns `False`.\n",
    "\n",
    "The input of `validate_in_pan()` can be a string, a Pandas DataSeries, a Dask DataSeries, a Pandas DataFrame and a dask DataFrame.\n",
    "\n",
    "When the input is a string, a Pandas DataSeries or a Dask DataSeries, user doesn't need to specify a column name to be validated. \n",
    "\n",
    "When the input is a Pandas DataFrame or a dask DataFrame, user can both specify or not specify a column name to be validated. If user specify the column name, `validate_in_pan()` only returns the validation result for the specified column. If user doesn't specify the column name, `validate_in_pan()` returns the validation result for the whole DataFrame."
   ]
  },
  {
   "cell_type": "code",
   "execution_count": null,
   "id": "exterior-rugby",
   "metadata": {},
   "outputs": [],
   "source": [
    "from dataprep.clean import validate_in_pan\n",
    "print(validate_in_pan('ACUPA7085R'))\n",
    "print(validate_in_pan('234123412347'))\n",
    "print(validate_in_pan('7542011030'))\n",
    "print(validate_in_pan('7552A10004'))\n",
    "print(validate_in_pan('8019010008'))\n",
    "print(validate_in_pan(\"hello\"))\n",
    "print(validate_in_pan(np.nan))\n",
    "print(validate_in_pan(\"NULL\"))"
   ]
  },
  {
   "cell_type": "markdown",
   "id": "binding-final",
   "metadata": {},
   "source": [
    "### Series"
   ]
  },
  {
   "cell_type": "code",
   "execution_count": null,
   "id": "million-appearance",
   "metadata": {},
   "outputs": [],
   "source": [
    "validate_in_pan(df[\"pan\"])"
   ]
  },
  {
   "cell_type": "markdown",
   "id": "modified-pastor",
   "metadata": {},
   "source": [
    "### DataFrame + Specify Column"
   ]
  },
  {
   "cell_type": "code",
   "execution_count": null,
   "id": "going-tanzania",
   "metadata": {},
   "outputs": [],
   "source": [
    "validate_in_pan(df, column=\"pan\")"
   ]
  },
  {
   "cell_type": "markdown",
   "id": "fewer-roller",
   "metadata": {},
   "source": [
    "### Only DataFrame"
   ]
  },
  {
   "cell_type": "code",
   "execution_count": null,
   "id": "awful-analysis",
   "metadata": {},
   "outputs": [],
   "source": [
    "validate_in_pan(df)"
   ]
  },
  {
   "cell_type": "code",
   "execution_count": null,
   "id": "ignored-prize",
   "metadata": {},
   "outputs": [],
   "source": []
  }
 ],
 "metadata": {
  "kernelspec": {
   "display_name": "Python 3",
   "language": "python",
   "name": "python3"
  },
  "language_info": {
   "codemirror_mode": {
    "name": "ipython",
    "version": 3
   },
   "file_extension": ".py",
   "mimetype": "text/x-python",
   "name": "python",
   "nbconvert_exporter": "python",
   "pygments_lexer": "ipython3",
   "version": "3.6.12"
  }
 },
 "nbformat": 4,
 "nbformat_minor": 5
}

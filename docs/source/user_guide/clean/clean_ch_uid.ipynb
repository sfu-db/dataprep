{
 "cells": [
  {
   "cell_type": "raw",
   "id": "favorite-therapy",
   "metadata": {},
   "source": [
    ".. _uid_userguide:\n",
    "\n",
    "Swiss Business Identifiers\n",
    "=========================="
   ]
  },
  {
   "cell_type": "raw",
   "id": "related-topic",
   "metadata": {},
   "source": [
    "Introduction\n",
    "------------\n",
    "\n",
    "The function :func:`clean_ch_uid() <dataprep.clean.clean_ch_uid.clean_ch_uid>` cleans a column containing Swiss business identifier (UID) strings, and standardizes them in a given format. The function :func:`validate_ch_uid() <dataprep.clean.clean_ch_uid.validate_ch_uid>` validates either a single UID strings, a column of UID strings or a DataFrame of UID strings, returning `True` if the value is valid, and `False` otherwise."
   ]
  },
  {
   "cell_type": "markdown",
   "id": "duplicate-chile",
   "metadata": {},
   "source": [
    "UID strings can be converted to the following formats via the `output_format` parameter:\n",
    "\n",
    "* `compact`: only number strings without any seperators or whitespace, like \"CHE100155212\"\n",
    "* `standard`: UID strings with proper whitespace in the proper places, like \"CHE-100.155.212\"\n",
    "\n",
    "Invalid parsing is handled with the `errors` parameter:\n",
    "\n",
    "* `coerce` (default): invalid parsing will be set to NaN\n",
    "* `ignore`: invalid parsing will return the input\n",
    "* `raise`: invalid parsing will raise an exception\n",
    "\n",
    "The following sections demonstrate the functionality of `clean_ch_uid()` and `validate_ch_uid()`. "
   ]
  },
  {
   "cell_type": "markdown",
   "id": "engaged-naples",
   "metadata": {},
   "source": [
    "### An example dataset containing UID strings"
   ]
  },
  {
   "cell_type": "code",
   "execution_count": null,
   "id": "civilian-barcelona",
   "metadata": {},
   "outputs": [],
   "source": [
    "import pandas as pd\n",
    "import numpy as np\n",
    "df = pd.DataFrame(\n",
    "    {\n",
    "        \"uid\": [\n",
    "            \"CHE100155212\",\n",
    "            \"CHE-100.155.213\",\n",
    "            \"51824753556\",\n",
    "            \"51 824 753 556\",\n",
    "            \"hello\",\n",
    "            np.nan,\n",
    "            \"NULL\"\n",
    "        ], \n",
    "        \"address\": [\n",
    "            \"123 Pine Ave.\",\n",
    "            \"main st\",\n",
    "            \"1234 west main heights 57033\",\n",
    "            \"apt 1 789 s maple rd manhattan\",\n",
    "            \"robie house, 789 north main street\",\n",
    "            \"(staples center) 1111 S Figueroa St, Los Angeles\",\n",
    "            \"hello\",\n",
    "        ]\n",
    "    }\n",
    ")\n",
    "df"
   ]
  },
  {
   "cell_type": "markdown",
   "id": "recorded-conspiracy",
   "metadata": {},
   "source": [
    "## 1. Default `clean_ch_uid`\n",
    "\n",
    "By default, `clean_ch_uid` will clean uid strings and output them in the standard format with proper separators."
   ]
  },
  {
   "cell_type": "code",
   "execution_count": null,
   "id": "fallen-skating",
   "metadata": {},
   "outputs": [],
   "source": [
    "from dataprep.clean import clean_ch_uid\n",
    "clean_ch_uid(df, column = \"uid\")"
   ]
  },
  {
   "cell_type": "markdown",
   "id": "solved-collective",
   "metadata": {},
   "source": [
    "## 2. Output formats"
   ]
  },
  {
   "cell_type": "markdown",
   "id": "sexual-vienna",
   "metadata": {},
   "source": [
    "This section demonstrates the output parameter."
   ]
  },
  {
   "cell_type": "markdown",
   "id": "annoying-tension",
   "metadata": {},
   "source": [
    "### `standard` (default)"
   ]
  },
  {
   "cell_type": "code",
   "execution_count": null,
   "id": "executed-conclusion",
   "metadata": {},
   "outputs": [],
   "source": [
    "clean_ch_uid(df, column = \"uid\", output_format=\"standard\")"
   ]
  },
  {
   "cell_type": "markdown",
   "id": "mediterranean-single",
   "metadata": {},
   "source": [
    "### `compact`"
   ]
  },
  {
   "cell_type": "code",
   "execution_count": null,
   "id": "union-center",
   "metadata": {},
   "outputs": [],
   "source": [
    "clean_ch_uid(df, column = \"uid\", output_format=\"compact\")"
   ]
  },
  {
   "cell_type": "markdown",
   "id": "biological-mediterranean",
   "metadata": {},
   "source": [
    "## 3. `inplace` parameter\n",
    "\n",
    "This deletes the given column from the returned DataFrame. \n",
    "A new column containing cleaned UID strings is added with a title in the format `\"{original title}_clean\"`."
   ]
  },
  {
   "cell_type": "code",
   "execution_count": null,
   "id": "demanding-vault",
   "metadata": {},
   "outputs": [],
   "source": [
    "clean_ch_uid(df, column=\"uid\", inplace=True)"
   ]
  },
  {
   "cell_type": "markdown",
   "id": "transsexual-underground",
   "metadata": {},
   "source": [
    "## 4. `errors` parameter"
   ]
  },
  {
   "cell_type": "markdown",
   "id": "robust-drive",
   "metadata": {},
   "source": [
    "### `coerce` (default)"
   ]
  },
  {
   "cell_type": "code",
   "execution_count": null,
   "id": "considerable-calendar",
   "metadata": {},
   "outputs": [],
   "source": [
    "clean_ch_uid(df, \"uid\", errors=\"coerce\")"
   ]
  },
  {
   "cell_type": "markdown",
   "id": "structural-external",
   "metadata": {},
   "source": [
    "### `ignore`"
   ]
  },
  {
   "cell_type": "code",
   "execution_count": null,
   "id": "continuous-decision",
   "metadata": {},
   "outputs": [],
   "source": [
    "clean_ch_uid(df, \"uid\", errors=\"ignore\")"
   ]
  },
  {
   "cell_type": "markdown",
   "id": "liable-columbia",
   "metadata": {},
   "source": [
    "## 4. `validate_ch_uid()`"
   ]
  },
  {
   "cell_type": "markdown",
   "id": "treated-thickness",
   "metadata": {},
   "source": [
    "`validate_ch_uid()` returns `True` when the input is a valid UID. Otherwise it returns `False`.\n",
    "\n",
    "The input of `validate_ch_uid()` can be a string, a Pandas DataSeries, a Dask DataSeries, a Pandas DataFrame and a dask DataFrame.\n",
    "\n",
    "When the input is a string, a Pandas DataSeries or a Dask DataSeries, user doesn't need to specify a column name to be validated. \n",
    "\n",
    "When the input is a Pandas DataFrame or a dask DataFrame, user can both specify or not specify a column name to be validated. If user specify the column name, `validate_ch_uid()` only returns the validation result for the specified column. If user doesn't specify the column name, `validate_ch_uid()` returns the validation result for the whole DataFrame."
   ]
  },
  {
   "cell_type": "code",
   "execution_count": null,
   "id": "suspended-filter",
   "metadata": {},
   "outputs": [],
   "source": [
    "from dataprep.clean import validate_ch_uid\n",
    "print(validate_ch_uid(\"CHE100155212\"))\n",
    "print(validate_ch_uid(\"CHE-100.155.213\"))\n",
    "print(validate_ch_uid(\"51824753556\"))\n",
    "print(validate_ch_uid(\"51 824 753 556\"))\n",
    "print(validate_ch_uid(\"hello\"))\n",
    "print(validate_ch_uid(np.nan))\n",
    "print(validate_ch_uid(\"NULL\"))"
   ]
  },
  {
   "cell_type": "markdown",
   "id": "minor-temple",
   "metadata": {},
   "source": [
    "### Series"
   ]
  },
  {
   "cell_type": "code",
   "execution_count": null,
   "id": "separated-research",
   "metadata": {},
   "outputs": [],
   "source": [
    "validate_ch_uid(df[\"uid\"])"
   ]
  },
  {
   "cell_type": "markdown",
   "id": "focal-injury",
   "metadata": {},
   "source": [
    "### DataFrame + Specify Column"
   ]
  },
  {
   "cell_type": "code",
   "execution_count": null,
   "id": "private-intellectual",
   "metadata": {},
   "outputs": [],
   "source": [
    "validate_ch_uid(df, column=\"uid\")"
   ]
  },
  {
   "cell_type": "markdown",
   "id": "norman-asthma",
   "metadata": {},
   "source": [
    "### Only DataFrame"
   ]
  },
  {
   "cell_type": "code",
   "execution_count": null,
   "id": "lesser-subcommittee",
   "metadata": {},
   "outputs": [],
   "source": [
    "validate_ch_uid(df)"
   ]
  },
  {
   "cell_type": "code",
   "execution_count": null,
   "id": "national-acquisition",
   "metadata": {},
   "outputs": [],
   "source": []
  }
 ],
 "metadata": {
  "kernelspec": {
   "display_name": "Python 3",
   "language": "python",
   "name": "python3"
  },
  "language_info": {
   "codemirror_mode": {
    "name": "ipython",
    "version": 3
   },
   "file_extension": ".py",
   "mimetype": "text/x-python",
   "name": "python",
   "nbconvert_exporter": "python",
   "pygments_lexer": "ipython3",
   "version": "3.6.12"
  }
 },
 "nbformat": 4,
 "nbformat_minor": 5
}

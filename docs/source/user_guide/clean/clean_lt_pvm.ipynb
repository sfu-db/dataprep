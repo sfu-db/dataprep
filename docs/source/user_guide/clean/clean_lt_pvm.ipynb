{
 "cells": [
  {
   "cell_type": "markdown",
   "id": "closing-suffering",
   "metadata": {},
   "source": [
    "# Lithuanian PVM Numbers"
   ]
  },
  {
   "cell_type": "markdown",
   "id": "opening-anger",
   "metadata": {},
   "source": [
    "## Introduction"
   ]
  },
  {
   "cell_type": "markdown",
   "id": "headed-polls",
   "metadata": {},
   "source": [
    "The function `clean_lt_pvm()` cleans a column containing Lithuanian PVM number (PVM) strings, and standardizes them in a given format. The function `validate_lt_pvm()` validates either a single PVM strings, a column of PVM strings or a DataFrame of PVM strings, returning `True` if the value is valid, and `False` otherwise."
   ]
  },
  {
   "cell_type": "markdown",
   "id": "brazilian-longitude",
   "metadata": {},
   "source": [
    "PVM strings can be converted to the following formats via the `output_format` parameter:\n",
    "\n",
    "* `compact`: only number strings without any seperators or whitespace, like \"119511515\"\n",
    "* `standard`: PVM strings with proper whitespace in the proper places. Note that in the case of PVM, the compact format is the same as the standard one.\n",
    "\n",
    "Invalid parsing is handled with the `errors` parameter:\n",
    "\n",
    "* `coerce` (default): invalid parsing will be set to NaN\n",
    "* `ignore`: invalid parsing will return the input\n",
    "* `raise`: invalid parsing will raise an exception\n",
    "\n",
    "The following sections demonstrate the functionality of `clean_lt_pvm()` and `validate_lt_pvm()`. "
   ]
  },
  {
   "cell_type": "markdown",
   "id": "regulation-piece",
   "metadata": {},
   "source": [
    "### An example dataset containing PVM strings"
   ]
  },
  {
   "cell_type": "code",
   "execution_count": null,
   "id": "environmental-breath",
   "metadata": {},
   "outputs": [],
   "source": [
    "import pandas as pd\n",
    "import numpy as np\n",
    "df = pd.DataFrame(\n",
    "    {\n",
    "        \"pvm\": [\n",
    "            '119511515',\n",
    "            '100001919018',\n",
    "            'BE 428759497',\n",
    "            'BE431150351',\n",
    "            \"002 724 334\",\n",
    "            \"hello\",\n",
    "            np.nan,\n",
    "            \"NULL\",\n",
    "        ], \n",
    "        \"address\": [\n",
    "            \"123 Pine Ave.\",\n",
    "            \"main st\",\n",
    "            \"1234 west main heights 57033\",\n",
    "            \"apt 1 789 s maple rd manhattan\",\n",
    "            \"robie house, 789 north main street\",\n",
    "            \"1111 S Figueroa St, Los Angeles, CA 90015\",\n",
    "            \"(staples center) 1111 S Figueroa St, Los Angeles\",\n",
    "            \"hello\",\n",
    "        ]\n",
    "    }\n",
    ")\n",
    "df"
   ]
  },
  {
   "cell_type": "markdown",
   "id": "unnecessary-rwanda",
   "metadata": {},
   "source": [
    "## 1. Default `clean_lt_pvm`\n",
    "\n",
    "By default, `clean_lt_pvm` will clean pvm strings and output them in the standard format with proper separators."
   ]
  },
  {
   "cell_type": "code",
   "execution_count": null,
   "id": "accessory-seafood",
   "metadata": {},
   "outputs": [],
   "source": [
    "from dataprep.clean import clean_lt_pvm\n",
    "clean_lt_pvm(df, column = \"pvm\")"
   ]
  },
  {
   "cell_type": "markdown",
   "id": "explicit-standing",
   "metadata": {},
   "source": [
    "## 2. Output formats"
   ]
  },
  {
   "cell_type": "markdown",
   "id": "sensitive-budget",
   "metadata": {},
   "source": [
    "This section demonstrates the output parameter."
   ]
  },
  {
   "cell_type": "markdown",
   "id": "unlike-execution",
   "metadata": {},
   "source": [
    "### `standard` (default)"
   ]
  },
  {
   "cell_type": "code",
   "execution_count": null,
   "id": "refined-purchase",
   "metadata": {},
   "outputs": [],
   "source": [
    "clean_lt_pvm(df, column = \"pvm\", output_format=\"standard\")"
   ]
  },
  {
   "cell_type": "markdown",
   "id": "israeli-cylinder",
   "metadata": {},
   "source": [
    "### `compact`"
   ]
  },
  {
   "cell_type": "code",
   "execution_count": null,
   "id": "cellular-asthma",
   "metadata": {},
   "outputs": [],
   "source": [
    "clean_lt_pvm(df, column = \"pvm\", output_format=\"compact\")"
   ]
  },
  {
   "cell_type": "markdown",
   "id": "affiliated-struggle",
   "metadata": {},
   "source": [
    "## 3. `inplace` parameter\n",
    "\n",
    "This deletes the given column from the returned DataFrame. \n",
    "A new column containing cleaned PVM strings is added with a title in the format `\"{original title}_clean\"`."
   ]
  },
  {
   "cell_type": "code",
   "execution_count": null,
   "id": "first-frank",
   "metadata": {},
   "outputs": [],
   "source": [
    "clean_lt_pvm(df, column=\"pvm\", inplace=True)"
   ]
  },
  {
   "cell_type": "markdown",
   "id": "interstate-detail",
   "metadata": {},
   "source": [
    "## 4. `errors` parameter"
   ]
  },
  {
   "cell_type": "markdown",
   "id": "whole-housing",
   "metadata": {},
   "source": [
    "### `coerce` (default)"
   ]
  },
  {
   "cell_type": "code",
   "execution_count": null,
   "id": "roman-jumping",
   "metadata": {},
   "outputs": [],
   "source": [
    "clean_lt_pvm(df, \"pvm\", errors=\"coerce\")"
   ]
  },
  {
   "cell_type": "markdown",
   "id": "endless-mystery",
   "metadata": {},
   "source": [
    "### `ignore`"
   ]
  },
  {
   "cell_type": "code",
   "execution_count": null,
   "id": "editorial-dress",
   "metadata": {},
   "outputs": [],
   "source": [
    "clean_lt_pvm(df, \"pvm\", errors=\"ignore\")"
   ]
  },
  {
   "cell_type": "markdown",
   "id": "composed-violence",
   "metadata": {},
   "source": [
    "## 4. `validate_lt_pvm()`"
   ]
  },
  {
   "cell_type": "markdown",
   "id": "threatened-brave",
   "metadata": {},
   "source": [
    "`validate_lt_pvm()` returns `True` when the input is a valid PVM. Otherwise it returns `False`.\n",
    "\n",
    "The input of `validate_lt_pvm()` can be a string, a Pandas DataSeries, a Dask DataSeries, a Pandas DataFrame and a dask DataFrame.\n",
    "\n",
    "When the input is a string, a Pandas DataSeries or a Dask DataSeries, user doesn't need to specify a column name to be validated. \n",
    "\n",
    "When the input is a Pandas DataFrame or a dask DataFrame, user can both specify or not specify a column name to be validated. If user specify the column name, `validate_lt_pvm()` only returns the validation result for the specified column. If user doesn't specify the column name, `validate_lt_pvm()` returns the validation result for the whole DataFrame."
   ]
  },
  {
   "cell_type": "code",
   "execution_count": null,
   "id": "seven-secretariat",
   "metadata": {},
   "outputs": [],
   "source": [
    "from dataprep.clean import validate_lt_pvm\n",
    "print(validate_lt_pvm(\"119511515\"))\n",
    "print(validate_lt_pvm(\"100001919018\"))\n",
    "print(validate_lt_pvm('BE 428759497'))\n",
    "print(validate_lt_pvm('BE431150351'))\n",
    "print(validate_lt_pvm(\"004085616\"))\n",
    "print(validate_lt_pvm(\"hello\"))\n",
    "print(validate_lt_pvm(np.nan))\n",
    "print(validate_lt_pvm(\"NULL\"))"
   ]
  },
  {
   "cell_type": "markdown",
   "id": "choice-shadow",
   "metadata": {},
   "source": [
    "### Series"
   ]
  },
  {
   "cell_type": "code",
   "execution_count": null,
   "id": "given-intranet",
   "metadata": {},
   "outputs": [],
   "source": [
    "validate_lt_pvm(df[\"pvm\"])"
   ]
  },
  {
   "cell_type": "markdown",
   "id": "ancient-portrait",
   "metadata": {},
   "source": [
    "### DataFrame + Specify Column"
   ]
  },
  {
   "cell_type": "code",
   "execution_count": null,
   "id": "skilled-flashing",
   "metadata": {},
   "outputs": [],
   "source": [
    "validate_lt_pvm(df, column=\"pvm\")"
   ]
  },
  {
   "cell_type": "markdown",
   "id": "statewide-south",
   "metadata": {},
   "source": [
    "### Only DataFrame"
   ]
  },
  {
   "cell_type": "code",
   "execution_count": null,
   "id": "drawn-cathedral",
   "metadata": {},
   "outputs": [],
   "source": [
    "validate_lt_pvm(df)"
   ]
  },
  {
   "cell_type": "code",
   "execution_count": null,
   "id": "academic-jordan",
   "metadata": {},
   "outputs": [],
   "source": []
  }
 ],
 "metadata": {
  "kernelspec": {
   "display_name": "Python 3",
   "language": "python",
   "name": "python3"
  },
  "language_info": {
   "codemirror_mode": {
    "name": "ipython",
    "version": 3
   },
   "file_extension": ".py",
   "mimetype": "text/x-python",
   "name": "python",
   "nbconvert_exporter": "python",
   "pygments_lexer": "ipython3",
   "version": "3.6.12"
  }
 },
 "nbformat": 4,
 "nbformat_minor": 5
}

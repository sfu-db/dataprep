{
 "cells": [
  {
   "cell_type": "markdown",
   "id": "strange-component",
   "metadata": {},
   "source": [
    "# South Korean Resident Registration Numbers"
   ]
  },
  {
   "cell_type": "markdown",
   "id": "global-fruit",
   "metadata": {},
   "source": [
    "## Introduction"
   ]
  },
  {
   "cell_type": "markdown",
   "id": "unusual-archives",
   "metadata": {},
   "source": [
    "The function `clean_kr_rrn()` cleans a column containing South Korean resident registration number (RRN) strings, and standardizes them in a given format. The function `validate_kr_rrn()` validates either a single RRN strings, a column of RRN strings or a DataFrame of RRN strings, returning `True` if the value is valid, and `False` otherwise."
   ]
  },
  {
   "cell_type": "markdown",
   "id": "exclusive-monte",
   "metadata": {},
   "source": [
    "RRN strings can be converted to the following formats via the `output_format` parameter:\n",
    "\n",
    "* `compact`: only number strings without any seperators or whitespace, like \"9710139019902\"\n",
    "* `standard`: RRN strings with proper whitespace in the proper places, like \"971013-9019902\"\n",
    "* `birthdate`: get the person's birthdate, like \"1897-10-13\".\n",
    "\n",
    "Invalid parsing is handled with the `errors` parameter:\n",
    "\n",
    "* `coerce` (default): invalid parsing will be set to NaN\n",
    "* `ignore`: invalid parsing will return the input\n",
    "* `raise`: invalid parsing will raise an exception\n",
    "\n",
    "The following sections demonstrate the functionality of `clean_kr_rrn()` and `validate_kr_rrn()`. "
   ]
  },
  {
   "cell_type": "markdown",
   "id": "delayed-constant",
   "metadata": {},
   "source": [
    "### An example dataset containing RRN strings"
   ]
  },
  {
   "cell_type": "code",
   "execution_count": null,
   "id": "distinguished-scotland",
   "metadata": {},
   "outputs": [],
   "source": [
    "import pandas as pd\n",
    "import numpy as np\n",
    "df = pd.DataFrame(\n",
    "    {\n",
    "        \"rrn\": [\n",
    "            \"971013-9019902\",\n",
    "            \"971013-9019903\",\n",
    "            \"999 999 999\",\n",
    "            \"004085616\",\n",
    "            \"002 724 334\",\n",
    "            \"hello\",\n",
    "            np.nan,\n",
    "            \"NULL\",\n",
    "        ], \n",
    "        \"address\": [\n",
    "            \"123 Pine Ave.\",\n",
    "            \"main st\",\n",
    "            \"1234 west main heights 57033\",\n",
    "            \"apt 1 789 s maple rd manhattan\",\n",
    "            \"robie house, 789 north main street\",\n",
    "            \"1111 S Figueroa St, Los Angeles, CA 90015\",\n",
    "            \"(staples center) 1111 S Figueroa St, Los Angeles\",\n",
    "            \"hello\",\n",
    "        ]\n",
    "    }\n",
    ")\n",
    "df"
   ]
  },
  {
   "cell_type": "markdown",
   "id": "described-boards",
   "metadata": {},
   "source": [
    "## 1. Default `clean_kr_rrn`\n",
    "\n",
    "By default, `clean_kr_rrn` will clean rrn strings and output them in the standard format with proper separators."
   ]
  },
  {
   "cell_type": "code",
   "execution_count": null,
   "id": "eligible-background",
   "metadata": {},
   "outputs": [],
   "source": [
    "from dataprep.clean import clean_kr_rrn\n",
    "clean_kr_rrn(df, column = \"rrn\")"
   ]
  },
  {
   "cell_type": "markdown",
   "id": "expressed-screening",
   "metadata": {},
   "source": [
    "## 2. Output formats"
   ]
  },
  {
   "cell_type": "markdown",
   "id": "twenty-provider",
   "metadata": {},
   "source": [
    "This section demonstrates the output parameter."
   ]
  },
  {
   "cell_type": "markdown",
   "id": "loose-desire",
   "metadata": {},
   "source": [
    "### `standard` (default)"
   ]
  },
  {
   "cell_type": "code",
   "execution_count": null,
   "id": "overhead-credits",
   "metadata": {},
   "outputs": [],
   "source": [
    "clean_kr_rrn(df, column = \"rrn\", output_format=\"standard\")"
   ]
  },
  {
   "cell_type": "markdown",
   "id": "suspended-sydney",
   "metadata": {},
   "source": [
    "### `compact`"
   ]
  },
  {
   "cell_type": "code",
   "execution_count": null,
   "id": "alive-following",
   "metadata": {},
   "outputs": [],
   "source": [
    "clean_kr_rrn(df, column = \"rrn\", output_format=\"compact\")"
   ]
  },
  {
   "cell_type": "markdown",
   "id": "criminal-facing",
   "metadata": {},
   "source": [
    "### `birthdate`"
   ]
  },
  {
   "cell_type": "code",
   "execution_count": null,
   "id": "athletic-crystal",
   "metadata": {},
   "outputs": [],
   "source": [
    "clean_kr_rrn(df, column = \"rrn\", output_format=\"birthdate\")"
   ]
  },
  {
   "cell_type": "markdown",
   "id": "productive-filing",
   "metadata": {},
   "source": [
    "## 3. `inplace` parameter\n",
    "\n",
    "This deletes the given column from the returned DataFrame. \n",
    "A new column containing cleaned RRN strings is added with a title in the format `\"{original title}_clean\"`."
   ]
  },
  {
   "cell_type": "code",
   "execution_count": null,
   "id": "indirect-zimbabwe",
   "metadata": {},
   "outputs": [],
   "source": [
    "clean_kr_rrn(df, column=\"rrn\", inplace=True)"
   ]
  },
  {
   "cell_type": "markdown",
   "id": "worldwide-tuning",
   "metadata": {},
   "source": [
    "## 4. `errors` parameter"
   ]
  },
  {
   "cell_type": "markdown",
   "id": "miniature-drink",
   "metadata": {},
   "source": [
    "### `coerce` (default)"
   ]
  },
  {
   "cell_type": "code",
   "execution_count": null,
   "id": "noticed-smoke",
   "metadata": {},
   "outputs": [],
   "source": [
    "clean_kr_rrn(df, \"rrn\", errors=\"coerce\")"
   ]
  },
  {
   "cell_type": "markdown",
   "id": "foreign-colombia",
   "metadata": {},
   "source": [
    "### `ignore`"
   ]
  },
  {
   "cell_type": "code",
   "execution_count": null,
   "id": "upper-adoption",
   "metadata": {},
   "outputs": [],
   "source": [
    "clean_kr_rrn(df, \"rrn\", errors=\"ignore\")"
   ]
  },
  {
   "cell_type": "markdown",
   "id": "patient-piece",
   "metadata": {},
   "source": [
    "## 4. `validate_kr_rrn()`"
   ]
  },
  {
   "cell_type": "markdown",
   "id": "outstanding-pattern",
   "metadata": {},
   "source": [
    "`validate_kr_rrn()` returns `True` when the input is a valid RRN. Otherwise it returns `False`.\n",
    "\n",
    "The input of `validate_kr_rrn()` can be a string, a Pandas DataSeries, a Dask DataSeries, a Pandas DataFrame and a dask DataFrame.\n",
    "\n",
    "When the input is a string, a Pandas DataSeries or a Dask DataSeries, user doesn't need to specify a column name to be validated. \n",
    "\n",
    "When the input is a Pandas DataFrame or a dask DataFrame, user can both specify or not specify a column name to be validated. If user specify the column name, `validate_kr_rrn()` only returns the validation result for the specified column. If user doesn't specify the column name, `validate_kr_rrn()` returns the validation result for the whole DataFrame."
   ]
  },
  {
   "cell_type": "code",
   "execution_count": null,
   "id": "satisfactory-plumbing",
   "metadata": {},
   "outputs": [],
   "source": [
    "from dataprep.clean import validate_kr_rrn\n",
    "print(validate_kr_rrn(\"971013-9019902\"))\n",
    "print(validate_kr_rrn(\"971013-9019903\"))\n",
    "print(validate_kr_rrn(\"999 999 999\"))\n",
    "print(validate_kr_rrn(\"51824753556\"))\n",
    "print(validate_kr_rrn(\"004085616\"))\n",
    "print(validate_kr_rrn(\"hello\"))\n",
    "print(validate_kr_rrn(np.nan))\n",
    "print(validate_kr_rrn(\"NULL\"))"
   ]
  },
  {
   "cell_type": "markdown",
   "id": "comparative-optics",
   "metadata": {},
   "source": [
    "### Series"
   ]
  },
  {
   "cell_type": "code",
   "execution_count": null,
   "id": "thousand-excerpt",
   "metadata": {},
   "outputs": [],
   "source": [
    "validate_kr_rrn(df[\"rrn\"])"
   ]
  },
  {
   "cell_type": "markdown",
   "id": "aware-decrease",
   "metadata": {},
   "source": [
    "### DataFrame + Specify Column"
   ]
  },
  {
   "cell_type": "code",
   "execution_count": null,
   "id": "egyptian-moscow",
   "metadata": {},
   "outputs": [],
   "source": [
    "validate_kr_rrn(df, column=\"rrn\")"
   ]
  },
  {
   "cell_type": "markdown",
   "id": "behavioral-installation",
   "metadata": {},
   "source": [
    "### Only DataFrame"
   ]
  },
  {
   "cell_type": "code",
   "execution_count": null,
   "id": "hourly-perspective",
   "metadata": {},
   "outputs": [],
   "source": [
    "validate_kr_rrn(df)"
   ]
  },
  {
   "cell_type": "code",
   "execution_count": null,
   "id": "heavy-shell",
   "metadata": {},
   "outputs": [],
   "source": []
  }
 ],
 "metadata": {
  "kernelspec": {
   "display_name": "Python 3",
   "language": "python",
   "name": "python3"
  },
  "language_info": {
   "codemirror_mode": {
    "name": "ipython",
    "version": 3
   },
   "file_extension": ".py",
   "mimetype": "text/x-python",
   "name": "python",
   "nbconvert_exporter": "python",
   "pygments_lexer": "ipython3",
   "version": "3.6.12"
  }
 },
 "nbformat": 4,
 "nbformat_minor": 5
}

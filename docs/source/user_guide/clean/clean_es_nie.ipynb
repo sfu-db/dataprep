{
 "cells": [
  {
   "cell_type": "raw",
   "id": "major-instrument",
   "metadata": {},
   "source": [
    ".. _nie_userguide:\n",
    "\n",
    "Spanish Foreigner Identity Codes\n",
    "================================"
   ]
  },
  {
   "cell_type": "raw",
   "id": "colonial-horizon",
   "metadata": {},
   "source": [
    "Introduction\n",
    "------------\n",
    "\n",
    "The function :func:`clean_es_nie() <dataprep.clean.clean_es_nie.clean_es_nie>` cleans a column containing Spanish foreigner identity code (NIE) strings, and standardizes them in a given format. The function :func:`validate_es_nie() <dataprep.clean.clean_es_nie.validate_es_nie>` validates either a single NIE strings, a column of NIE strings or a DataFrame of NIE strings, returning `True` if the value is valid, and `False` otherwise."
   ]
  },
  {
   "cell_type": "markdown",
   "id": "combined-navigator",
   "metadata": {},
   "source": [
    "NIE strings can be converted to the following formats via the `output_format` parameter:\n",
    "\n",
    "* `compact`: only number strings without any seperators or whitespace, like \"X2482300W\"\n",
    "* `standard`: NIE strings with proper whitespace in the proper places. Note that in the case of NIE, the compact format is the same as the standard one.\n",
    "\n",
    "Invalid parsing is handled with the `errors` parameter:\n",
    "\n",
    "* `coerce` (default): invalid parsing will be set to NaN\n",
    "* `ignore`: invalid parsing will return the input\n",
    "* `raise`: invalid parsing will raise an exception\n",
    "\n",
    "The following sections demonstrate the functionality of `clean_es_nie()` and `validate_es_nie()`. "
   ]
  },
  {
   "cell_type": "markdown",
   "id": "fallen-irrigation",
   "metadata": {},
   "source": [
    "### An example dataset containing NIE strings"
   ]
  },
  {
   "cell_type": "code",
   "execution_count": null,
   "id": "detected-essence",
   "metadata": {},
   "outputs": [],
   "source": [
    "import pandas as pd\n",
    "import numpy as np\n",
    "df = pd.DataFrame(\n",
    "    {\n",
    "        \"nie\": [\n",
    "            'x-2482300w',\n",
    "            'x-2482300a',\n",
    "            'BE 428759497',\n",
    "            'BE431150351',\n",
    "            \"002 724 334\",\n",
    "            \"hello\",\n",
    "            np.nan,\n",
    "            \"NULL\",\n",
    "        ], \n",
    "        \"address\": [\n",
    "            \"123 Pine Ave.\",\n",
    "            \"main st\",\n",
    "            \"1234 west main heights 57033\",\n",
    "            \"apt 1 789 s maple rd manhattan\",\n",
    "            \"robie house, 789 north main street\",\n",
    "            \"1111 S Figueroa St, Los Angeles, CA 90015\",\n",
    "            \"(staples center) 1111 S Figueroa St, Los Angeles\",\n",
    "            \"hello\",\n",
    "        ]\n",
    "    }\n",
    ")\n",
    "df"
   ]
  },
  {
   "cell_type": "markdown",
   "id": "closing-merit",
   "metadata": {},
   "source": [
    "## 1. Default `clean_es_nie`\n",
    "\n",
    "By default, `clean_es_nie` will clean nie strings and output them in the standard format with proper separators."
   ]
  },
  {
   "cell_type": "code",
   "execution_count": null,
   "id": "eleven-count",
   "metadata": {},
   "outputs": [],
   "source": [
    "from dataprep.clean import clean_es_nie\n",
    "clean_es_nie(df, column = \"nie\")"
   ]
  },
  {
   "cell_type": "markdown",
   "id": "reverse-billy",
   "metadata": {},
   "source": [
    "## 2. Output formats"
   ]
  },
  {
   "cell_type": "markdown",
   "id": "critical-brief",
   "metadata": {},
   "source": [
    "This section demonstrates the output parameter."
   ]
  },
  {
   "cell_type": "markdown",
   "id": "romance-reasoning",
   "metadata": {},
   "source": [
    "### `standard` (default)"
   ]
  },
  {
   "cell_type": "code",
   "execution_count": null,
   "id": "arranged-cannon",
   "metadata": {},
   "outputs": [],
   "source": [
    "clean_es_nie(df, column = \"nie\", output_format=\"standard\")"
   ]
  },
  {
   "cell_type": "markdown",
   "id": "clinical-drain",
   "metadata": {},
   "source": [
    "### `compact`"
   ]
  },
  {
   "cell_type": "code",
   "execution_count": null,
   "id": "authorized-pledge",
   "metadata": {},
   "outputs": [],
   "source": [
    "clean_es_nie(df, column = \"nie\", output_format=\"compact\")"
   ]
  },
  {
   "cell_type": "markdown",
   "id": "diagnostic-setup",
   "metadata": {},
   "source": [
    "## 3. `inplace` parameter\n",
    "\n",
    "This deletes the given column from the returned DataFrame. \n",
    "A new column containing cleaned NIE strings is added with a title in the format `\"{original title}_clean\"`."
   ]
  },
  {
   "cell_type": "code",
   "execution_count": null,
   "id": "abstract-tournament",
   "metadata": {},
   "outputs": [],
   "source": [
    "clean_es_nie(df, column=\"nie\", inplace=True)"
   ]
  },
  {
   "cell_type": "markdown",
   "id": "initial-eugene",
   "metadata": {},
   "source": [
    "## 4. `errors` parameter"
   ]
  },
  {
   "cell_type": "markdown",
   "id": "elegant-chicago",
   "metadata": {},
   "source": [
    "### `coerce` (default)"
   ]
  },
  {
   "cell_type": "code",
   "execution_count": null,
   "id": "automotive-allocation",
   "metadata": {},
   "outputs": [],
   "source": [
    "clean_es_nie(df, \"nie\", errors=\"coerce\")"
   ]
  },
  {
   "cell_type": "markdown",
   "id": "tight-chance",
   "metadata": {},
   "source": [
    "### `ignore`"
   ]
  },
  {
   "cell_type": "code",
   "execution_count": null,
   "id": "mysterious-basket",
   "metadata": {},
   "outputs": [],
   "source": [
    "clean_es_nie(df, \"nie\", errors=\"ignore\")"
   ]
  },
  {
   "cell_type": "markdown",
   "id": "advance-karma",
   "metadata": {},
   "source": [
    "## 4. `validate_es_nie()`"
   ]
  },
  {
   "cell_type": "markdown",
   "id": "sustained-cambodia",
   "metadata": {},
   "source": [
    "`validate_es_nie()` returns `True` when the input is a valid NIE. Otherwise it returns `False`.\n",
    "\n",
    "The input of `validate_es_nie()` can be a string, a Pandas DataSeries, a Dask DataSeries, a Pandas DataFrame and a dask DataFrame.\n",
    "\n",
    "When the input is a string, a Pandas DataSeries or a Dask DataSeries, user doesn't need to specify a column name to be validated. \n",
    "\n",
    "When the input is a Pandas DataFrame or a dask DataFrame, user can both specify or not specify a column name to be validated. If user specify the column name, `validate_es_nie()` only returns the validation result for the specified column. If user doesn't specify the column name, `validate_es_nie()` returns the validation result for the whole DataFrame."
   ]
  },
  {
   "cell_type": "code",
   "execution_count": null,
   "id": "executed-leader",
   "metadata": {},
   "outputs": [],
   "source": [
    "from dataprep.clean import validate_es_nie\n",
    "print(validate_es_nie(\"x-2482300w\"))\n",
    "print(validate_es_nie(\"x-2482300a\"))\n",
    "print(validate_es_nie('BE 428759497'))\n",
    "print(validate_es_nie('BE431150351'))\n",
    "print(validate_es_nie(\"004085616\"))\n",
    "print(validate_es_nie(\"hello\"))\n",
    "print(validate_es_nie(np.nan))\n",
    "print(validate_es_nie(\"NULL\"))"
   ]
  },
  {
   "cell_type": "markdown",
   "id": "referenced-weather",
   "metadata": {},
   "source": [
    "### Series"
   ]
  },
  {
   "cell_type": "code",
   "execution_count": null,
   "id": "classical-agenda",
   "metadata": {},
   "outputs": [],
   "source": [
    "validate_es_nie(df[\"nie\"])"
   ]
  },
  {
   "cell_type": "markdown",
   "id": "reverse-valve",
   "metadata": {},
   "source": [
    "### DataFrame + Specify Column"
   ]
  },
  {
   "cell_type": "code",
   "execution_count": null,
   "id": "better-boston",
   "metadata": {},
   "outputs": [],
   "source": [
    "validate_es_nie(df, column=\"nie\")"
   ]
  },
  {
   "cell_type": "markdown",
   "id": "particular-fireplace",
   "metadata": {},
   "source": [
    "### Only DataFrame"
   ]
  },
  {
   "cell_type": "code",
   "execution_count": null,
   "id": "affecting-province",
   "metadata": {
    "scrolled": true
   },
   "outputs": [],
   "source": [
    "validate_es_nie(df)"
   ]
  },
  {
   "cell_type": "code",
   "execution_count": null,
   "id": "strange-honey",
   "metadata": {},
   "outputs": [],
   "source": []
  }
 ],
 "metadata": {
  "kernelspec": {
   "display_name": "Python 3",
   "language": "python",
   "name": "python3"
  },
  "language_info": {
   "codemirror_mode": {
    "name": "ipython",
    "version": 3
   },
   "file_extension": ".py",
   "mimetype": "text/x-python",
   "name": "python",
   "nbconvert_exporter": "python",
   "pygments_lexer": "ipython3",
   "version": "3.6.12"
  }
 },
 "nbformat": 4,
 "nbformat_minor": 5
}

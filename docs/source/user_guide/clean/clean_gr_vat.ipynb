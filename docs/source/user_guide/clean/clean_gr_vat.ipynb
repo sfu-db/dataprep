{
 "cells": [
  {
   "cell_type": "markdown",
   "id": "infectious-tyler",
   "metadata": {},
   "source": [
    "# Greek VAT Numbers"
   ]
  },
  {
   "cell_type": "markdown",
   "id": "dedicated-appendix",
   "metadata": {},
   "source": [
    "## Introduction"
   ]
  },
  {
   "cell_type": "markdown",
   "id": "popular-prescription",
   "metadata": {},
   "source": [
    "The function `clean_gr_vat()` cleans a column containing Greek VAT number (VAT) strings, and standardizes them in a given format. The function `validate_gr_vat()` validates either a single VAT strings, a column of VAT strings or a DataFrame of VAT strings, returning `True` if the value is valid, and `False` otherwise."
   ]
  },
  {
   "cell_type": "markdown",
   "id": "false-quick",
   "metadata": {},
   "source": [
    "VAT strings can be converted to the following formats via the `output_format` parameter:\n",
    "\n",
    "* `compact`: only number strings without any seperators or whitespace, like \"094259216\"\n",
    "* `standard`: VAT strings with proper whitespace in the proper places. Note that in the case of VAT, the compact format is the same as the standard one.\n",
    "\n",
    "Invalid parsing is handled with the `errors` parameter:\n",
    "\n",
    "* `coerce` (default): invalid parsing will be set to NaN\n",
    "* `ignore`: invalid parsing will return the input\n",
    "* `raise`: invalid parsing will raise an exception\n",
    "\n",
    "The following sections demonstrate the functionality of `clean_gr_vat()` and `validate_gr_vat()`. "
   ]
  },
  {
   "cell_type": "markdown",
   "id": "frequent-pound",
   "metadata": {},
   "source": [
    "### An example dataset containing VAT strings"
   ]
  },
  {
   "cell_type": "code",
   "execution_count": null,
   "id": "careful-retreat",
   "metadata": {},
   "outputs": [],
   "source": [
    "import pandas as pd\n",
    "import numpy as np\n",
    "df = pd.DataFrame(\n",
    "    {\n",
    "        \"vat\": [\n",
    "            'EL 094259216',\n",
    "            'EL 123456781',\n",
    "            'BE 428759497',\n",
    "            'BE431150351',\n",
    "            \"002 724 334\",\n",
    "            \"hello\",\n",
    "            np.nan,\n",
    "            \"NULL\",\n",
    "        ], \n",
    "        \"address\": [\n",
    "            \"123 Pine Ave.\",\n",
    "            \"main st\",\n",
    "            \"1234 west main heights 57033\",\n",
    "            \"apt 1 789 s maple rd manhattan\",\n",
    "            \"robie house, 789 north main street\",\n",
    "            \"1111 S Figueroa St, Los Angeles, CA 90015\",\n",
    "            \"(staples center) 1111 S Figueroa St, Los Angeles\",\n",
    "            \"hello\",\n",
    "        ]\n",
    "    }\n",
    ")\n",
    "df"
   ]
  },
  {
   "cell_type": "markdown",
   "id": "fitting-shadow",
   "metadata": {},
   "source": [
    "## 1. Default `clean_gr_vat`\n",
    "\n",
    "By default, `clean_gr_vat` will clean vat strings and output them in the standard format with proper separators."
   ]
  },
  {
   "cell_type": "code",
   "execution_count": null,
   "id": "verbal-incidence",
   "metadata": {},
   "outputs": [],
   "source": [
    "from dataprep.clean import clean_gr_vat\n",
    "clean_gr_vat(df, column = \"vat\")"
   ]
  },
  {
   "cell_type": "markdown",
   "id": "desirable-fiction",
   "metadata": {},
   "source": [
    "## 2. Output formats"
   ]
  },
  {
   "cell_type": "markdown",
   "id": "realistic-coast",
   "metadata": {},
   "source": [
    "This section demonstrates the output parameter."
   ]
  },
  {
   "cell_type": "markdown",
   "id": "gross-digest",
   "metadata": {},
   "source": [
    "### `standard` (default)"
   ]
  },
  {
   "cell_type": "code",
   "execution_count": null,
   "id": "preceding-gibson",
   "metadata": {},
   "outputs": [],
   "source": [
    "clean_gr_vat(df, column = \"vat\", output_format=\"standard\")"
   ]
  },
  {
   "cell_type": "markdown",
   "id": "fabulous-chester",
   "metadata": {},
   "source": [
    "### `compact`"
   ]
  },
  {
   "cell_type": "code",
   "execution_count": null,
   "id": "civil-bishop",
   "metadata": {},
   "outputs": [],
   "source": [
    "clean_gr_vat(df, column = \"vat\", output_format=\"compact\")"
   ]
  },
  {
   "cell_type": "markdown",
   "id": "applicable-bibliography",
   "metadata": {},
   "source": [
    "## 3. `inplace` parameter\n",
    "\n",
    "This deletes the given column from the returned DataFrame. \n",
    "A new column containing cleaned VAT strings is added with a title in the format `\"{original title}_clean\"`."
   ]
  },
  {
   "cell_type": "code",
   "execution_count": null,
   "id": "modern-current",
   "metadata": {},
   "outputs": [],
   "source": [
    "clean_gr_vat(df, column=\"vat\", inplace=True)"
   ]
  },
  {
   "cell_type": "markdown",
   "id": "banned-protest",
   "metadata": {},
   "source": [
    "## 4. `errors` parameter"
   ]
  },
  {
   "cell_type": "markdown",
   "id": "respective-worth",
   "metadata": {},
   "source": [
    "### `coerce` (default)"
   ]
  },
  {
   "cell_type": "code",
   "execution_count": null,
   "id": "composed-hindu",
   "metadata": {},
   "outputs": [],
   "source": [
    "clean_gr_vat(df, \"vat\", errors=\"coerce\")"
   ]
  },
  {
   "cell_type": "markdown",
   "id": "controlling-career",
   "metadata": {},
   "source": [
    "### `ignore`"
   ]
  },
  {
   "cell_type": "code",
   "execution_count": null,
   "id": "requested-supervision",
   "metadata": {},
   "outputs": [],
   "source": [
    "clean_gr_vat(df, \"vat\", errors=\"ignore\")"
   ]
  },
  {
   "cell_type": "markdown",
   "id": "realistic-bulgaria",
   "metadata": {},
   "source": [
    "## 4. `validate_gr_vat()`"
   ]
  },
  {
   "cell_type": "markdown",
   "id": "promising-alert",
   "metadata": {},
   "source": [
    "`validate_gr_vat()` returns `True` when the input is a valid VAT. Otherwise it returns `False`.\n",
    "\n",
    "The input of `validate_gr_vat()` can be a string, a Pandas DataSeries, a Dask DataSeries, a Pandas DataFrame and a dask DataFrame.\n",
    "\n",
    "When the input is a string, a Pandas DataSeries or a Dask DataSeries, user doesn't need to specify a column name to be validated. \n",
    "\n",
    "When the input is a Pandas DataFrame or a dask DataFrame, user can both specify or not specify a column name to be validated. If user specify the column name, `validate_gr_vat()` only returns the validation result for the specified column. If user doesn't specify the column name, `validate_gr_vat()` returns the validation result for the whole DataFrame."
   ]
  },
  {
   "cell_type": "code",
   "execution_count": null,
   "id": "improved-blues",
   "metadata": {},
   "outputs": [],
   "source": [
    "from dataprep.clean import validate_gr_vat\n",
    "print(validate_gr_vat(\"EL 094259216\"))\n",
    "print(validate_gr_vat(\"EL 123456781\"))\n",
    "print(validate_gr_vat('BE 428759497'))\n",
    "print(validate_gr_vat('BE431150351'))\n",
    "print(validate_gr_vat(\"004085616\"))\n",
    "print(validate_gr_vat(\"hello\"))\n",
    "print(validate_gr_vat(np.nan))\n",
    "print(validate_gr_vat(\"NULL\"))"
   ]
  },
  {
   "cell_type": "markdown",
   "id": "beginning-seven",
   "metadata": {},
   "source": [
    "### Series"
   ]
  },
  {
   "cell_type": "code",
   "execution_count": null,
   "id": "automatic-irrigation",
   "metadata": {},
   "outputs": [],
   "source": [
    "validate_gr_vat(df[\"vat\"])"
   ]
  },
  {
   "cell_type": "markdown",
   "id": "artistic-footage",
   "metadata": {},
   "source": [
    "### DataFrame + Specify Column"
   ]
  },
  {
   "cell_type": "code",
   "execution_count": null,
   "id": "focal-webcam",
   "metadata": {},
   "outputs": [],
   "source": [
    "validate_gr_vat(df, column=\"vat\")"
   ]
  },
  {
   "cell_type": "markdown",
   "id": "european-carrier",
   "metadata": {},
   "source": [
    "### Only DataFrame"
   ]
  },
  {
   "cell_type": "code",
   "execution_count": null,
   "id": "about-screw",
   "metadata": {},
   "outputs": [],
   "source": [
    "validate_gr_vat(df)"
   ]
  },
  {
   "cell_type": "code",
   "execution_count": null,
   "id": "black-dodge",
   "metadata": {},
   "outputs": [],
   "source": []
  }
 ],
 "metadata": {
  "kernelspec": {
   "display_name": "Python 3",
   "language": "python",
   "name": "python3"
  },
  "language_info": {
   "codemirror_mode": {
    "name": "ipython",
    "version": 3
   },
   "file_extension": ".py",
   "mimetype": "text/x-python",
   "name": "python",
   "nbconvert_exporter": "python",
   "pygments_lexer": "ipython3",
   "version": "3.6.12"
  }
 },
 "nbformat": 4,
 "nbformat_minor": 5
}

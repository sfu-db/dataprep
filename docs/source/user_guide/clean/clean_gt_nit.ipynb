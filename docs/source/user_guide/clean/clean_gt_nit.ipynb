{
 "cells": [
  {
   "cell_type": "markdown",
   "id": "threatened-shepherd",
   "metadata": {},
   "source": [
    "# Guatemala Tax Numbers"
   ]
  },
  {
   "cell_type": "markdown",
   "id": "collect-smile",
   "metadata": {},
   "source": [
    "## Introduction"
   ]
  },
  {
   "cell_type": "markdown",
   "id": "elementary-grove",
   "metadata": {},
   "source": [
    "The function `clean_gt_nit()` cleans a column containing Guatemala tax number (NIT) strings, and standardizes them in a given format. The function `validate_gt_nit()` validates either a single NIT strings, a column of NIT strings or a DataFrame of NIT strings, returning `True` if the value is valid, and `False` otherwise."
   ]
  },
  {
   "cell_type": "markdown",
   "id": "controversial-atlantic",
   "metadata": {},
   "source": [
    "NIT strings can be converted to the following formats via the `output_format` parameter:\n",
    "\n",
    "* `compact`: only number strings without any seperators or whitespace, like \"39525503\"\n",
    "* `standard`: NIT strings with proper whitespace in the proper places, like \"3952550-3\"\n",
    "\n",
    "Invalid parsing is handled with the `errors` parameter:\n",
    "\n",
    "* `coerce` (default): invalid parsing will be set to NaN\n",
    "* `ignore`: invalid parsing will return the input\n",
    "* `raise`: invalid parsing will raise an exception\n",
    "\n",
    "The following sections demonstrate the functionality of `clean_gt_nit()` and `validate_gt_nit()`. "
   ]
  },
  {
   "cell_type": "markdown",
   "id": "olive-brazilian",
   "metadata": {},
   "source": [
    "### An example dataset containing NIT strings"
   ]
  },
  {
   "cell_type": "code",
   "execution_count": null,
   "id": "enabling-accuracy",
   "metadata": {},
   "outputs": [],
   "source": [
    "import pandas as pd\n",
    "import numpy as np\n",
    "df = pd.DataFrame(\n",
    "    {\n",
    "        \"nit\": [\n",
    "            \"39525503\",\n",
    "            \"8977112-0\",\n",
    "            \"51824753556\",\n",
    "            \"51 824 753 556\",\n",
    "            \"hello\",\n",
    "            np.nan,\n",
    "            \"NULL\"\n",
    "        ], \n",
    "        \"address\": [\n",
    "            \"123 Pine Ave.\",\n",
    "            \"main st\",\n",
    "            \"1234 west main heights 57033\",\n",
    "            \"apt 1 789 s maple rd manhattan\",\n",
    "            \"robie house, 789 north main street\",\n",
    "            \"(staples center) 1111 S Figueroa St, Los Angeles\",\n",
    "            \"hello\",\n",
    "        ]\n",
    "    }\n",
    ")\n",
    "df"
   ]
  },
  {
   "cell_type": "markdown",
   "id": "substantial-effects",
   "metadata": {},
   "source": [
    "## 1. Default `clean_gt_nit`\n",
    "\n",
    "By default, `clean_gt_nit` will clean nit strings and output them in the standard format with proper separators."
   ]
  },
  {
   "cell_type": "code",
   "execution_count": null,
   "id": "auburn-convenience",
   "metadata": {},
   "outputs": [],
   "source": [
    "from dataprep.clean import clean_gt_nit\n",
    "clean_gt_nit(df, column = \"nit\")"
   ]
  },
  {
   "cell_type": "markdown",
   "id": "bright-retailer",
   "metadata": {},
   "source": [
    "## 2. Output formats"
   ]
  },
  {
   "cell_type": "markdown",
   "id": "light-radius",
   "metadata": {},
   "source": [
    "This section demonstrates the output parameter."
   ]
  },
  {
   "cell_type": "markdown",
   "id": "defined-express",
   "metadata": {},
   "source": [
    "### `standard` (default)"
   ]
  },
  {
   "cell_type": "code",
   "execution_count": null,
   "id": "incredible-scanning",
   "metadata": {},
   "outputs": [],
   "source": [
    "clean_gt_nit(df, column = \"nit\", output_format=\"standard\")"
   ]
  },
  {
   "cell_type": "markdown",
   "id": "super-consensus",
   "metadata": {},
   "source": [
    "### `compact`"
   ]
  },
  {
   "cell_type": "code",
   "execution_count": null,
   "id": "operating-certificate",
   "metadata": {},
   "outputs": [],
   "source": [
    "clean_gt_nit(df, column = \"nit\", output_format=\"compact\")"
   ]
  },
  {
   "cell_type": "markdown",
   "id": "corrected-wedding",
   "metadata": {},
   "source": [
    "## 3. `inplace` parameter\n",
    "\n",
    "This deletes the given column from the returned DataFrame. \n",
    "A new column containing cleaned NIT strings is added with a title in the format `\"{original title}_clean\"`."
   ]
  },
  {
   "cell_type": "code",
   "execution_count": null,
   "id": "apart-needle",
   "metadata": {},
   "outputs": [],
   "source": [
    "clean_gt_nit(df, column=\"nit\", inplace=True)"
   ]
  },
  {
   "cell_type": "markdown",
   "id": "forced-knife",
   "metadata": {},
   "source": [
    "## 4. `errors` parameter"
   ]
  },
  {
   "cell_type": "markdown",
   "id": "based-aviation",
   "metadata": {},
   "source": [
    "### `coerce` (default)"
   ]
  },
  {
   "cell_type": "code",
   "execution_count": null,
   "id": "frequent-institute",
   "metadata": {},
   "outputs": [],
   "source": [
    "clean_gt_nit(df, \"nit\", errors=\"coerce\")"
   ]
  },
  {
   "cell_type": "markdown",
   "id": "harmful-prime",
   "metadata": {},
   "source": [
    "### `ignore`"
   ]
  },
  {
   "cell_type": "code",
   "execution_count": null,
   "id": "finished-interference",
   "metadata": {},
   "outputs": [],
   "source": [
    "clean_gt_nit(df, \"nit\", errors=\"ignore\")"
   ]
  },
  {
   "cell_type": "markdown",
   "id": "naughty-rendering",
   "metadata": {},
   "source": [
    "## 4. `validate_gt_nit()`"
   ]
  },
  {
   "cell_type": "markdown",
   "id": "sporting-enforcement",
   "metadata": {},
   "source": [
    "`validate_gt_nit()` returns `True` when the input is a valid NIT. Otherwise it returns `False`.\n",
    "\n",
    "The input of `validate_gt_nit()` can be a string, a Pandas DataSeries, a Dask DataSeries, a Pandas DataFrame and a dask DataFrame.\n",
    "\n",
    "When the input is a string, a Pandas DataSeries or a Dask DataSeries, user doesn't need to specify a column name to be validated. \n",
    "\n",
    "When the input is a Pandas DataFrame or a dask DataFrame, user can both specify or not specify a column name to be validated. If user specify the column name, `validate_gt_nit()` only returns the validation result for the specified column. If user doesn't specify the column name, `validate_gt_nit()` returns the validation result for the whole DataFrame."
   ]
  },
  {
   "cell_type": "code",
   "execution_count": null,
   "id": "caring-slovenia",
   "metadata": {},
   "outputs": [],
   "source": [
    "from dataprep.clean import validate_gt_nit\n",
    "print(validate_gt_nit(\"39525503\"))\n",
    "print(validate_gt_nit(\"8977112-0\"))\n",
    "print(validate_gt_nit(\"51824753556\"))\n",
    "print(validate_gt_nit(\"51 824 753 556\"))\n",
    "print(validate_gt_nit(\"hello\"))\n",
    "print(validate_gt_nit(np.nan))\n",
    "print(validate_gt_nit(\"NULL\"))"
   ]
  },
  {
   "cell_type": "markdown",
   "id": "military-modern",
   "metadata": {},
   "source": [
    "### Series"
   ]
  },
  {
   "cell_type": "code",
   "execution_count": null,
   "id": "alpha-tours",
   "metadata": {},
   "outputs": [],
   "source": [
    "validate_gt_nit(df[\"nit\"])"
   ]
  },
  {
   "cell_type": "markdown",
   "id": "ignored-waste",
   "metadata": {},
   "source": [
    "### DataFrame + Specify Column"
   ]
  },
  {
   "cell_type": "code",
   "execution_count": null,
   "id": "animal-abuse",
   "metadata": {},
   "outputs": [],
   "source": [
    "validate_gt_nit(df, column=\"nit\")"
   ]
  },
  {
   "cell_type": "markdown",
   "id": "fitted-carolina",
   "metadata": {},
   "source": [
    "### Only DataFrame"
   ]
  },
  {
   "cell_type": "code",
   "execution_count": null,
   "id": "tamil-basic",
   "metadata": {
    "scrolled": true
   },
   "outputs": [],
   "source": [
    "validate_gt_nit(df)"
   ]
  },
  {
   "cell_type": "code",
   "execution_count": null,
   "id": "informal-coral",
   "metadata": {},
   "outputs": [],
   "source": []
  }
 ],
 "metadata": {
  "kernelspec": {
   "display_name": "Python 3",
   "language": "python",
   "name": "python3"
  },
  "language_info": {
   "codemirror_mode": {
    "name": "ipython",
    "version": 3
   },
   "file_extension": ".py",
   "mimetype": "text/x-python",
   "name": "python",
   "nbconvert_exporter": "python",
   "pygments_lexer": "ipython3",
   "version": "3.6.12"
  }
 },
 "nbformat": 4,
 "nbformat_minor": 5
}

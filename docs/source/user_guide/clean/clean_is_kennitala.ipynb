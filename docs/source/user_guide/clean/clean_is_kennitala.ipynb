{
 "cells": [
  {
   "cell_type": "raw",
   "id": "patient-victim",
   "metadata": {},
   "source": [
    ".. _kennitala_userguide:\n",
    "\n",
    "Icelandic Identity Codes\n",
    "========================"
   ]
  },
  {
   "cell_type": "raw",
   "id": "addressed-newport",
   "metadata": {},
   "source": [
    "Introduction\n",
    "------------\n",
    "\n",
    "The function :func:`clean_is_kennitala() <dataprep.clean.clean_is_kennitala.clean_is_kennitala>` cleans a column containing Icelandic identity code (Kennitala) strings, and standardizes them in a given format. The function :func:`validate_is_kennitala() <dataprep.clean.clean_is_kennitala.validate_is_kennitala>` validates either a single Kennitala strings, a column of Kennitala strings or a DataFrame of Kennitala strings, returning `True` if the value is valid, and `False` otherwise."
   ]
  },
  {
   "cell_type": "markdown",
   "id": "interested-raise",
   "metadata": {},
   "source": [
    "Kennitala strings can be converted to the following formats via the `output_format` parameter:\n",
    "\n",
    "* `compact`: only number strings without any seperators or whitespace, like \"1201743399\"\n",
    "* `standard`: Kennitala strings with proper whitespace in the proper places, like \"120174-3399\"\n",
    "\n",
    "Invalid parsing is handled with the `errors` parameter:\n",
    "\n",
    "* `coerce` (default): invalid parsing will be set to NaN\n",
    "* `ignore`: invalid parsing will return the input\n",
    "* `raise`: invalid parsing will raise an exception\n",
    "\n",
    "The following sections demonstrate the functionality of `clean_is_kennitala()` and `validate_is_kennitala()`. "
   ]
  },
  {
   "cell_type": "markdown",
   "id": "statewide-stanford",
   "metadata": {},
   "source": [
    "### An example dataset containing Kennitala strings"
   ]
  },
  {
   "cell_type": "code",
   "execution_count": null,
   "id": "rental-comedy",
   "metadata": {},
   "outputs": [],
   "source": [
    "import pandas as pd\n",
    "import numpy as np\n",
    "df = pd.DataFrame(\n",
    "    {\n",
    "        \"kennitala\": [\n",
    "            \"1201743399\",\n",
    "            \"320174-3399\",\n",
    "            \"51824753556\",\n",
    "            \"51 824 753 556\",\n",
    "            \"hello\",\n",
    "            np.nan,\n",
    "            \"NULL\"\n",
    "        ], \n",
    "        \"address\": [\n",
    "            \"123 Pine Ave.\",\n",
    "            \"main st\",\n",
    "            \"1234 west main heights 57033\",\n",
    "            \"apt 1 789 s maple rd manhattan\",\n",
    "            \"robie house, 789 north main street\",\n",
    "            \"(staples center) 1111 S Figueroa St, Los Angeles\",\n",
    "            \"hello\",\n",
    "        ]\n",
    "    }\n",
    ")\n",
    "df"
   ]
  },
  {
   "cell_type": "markdown",
   "id": "marked-exclusive",
   "metadata": {},
   "source": [
    "## 1. Default `clean_is_kennitala`\n",
    "\n",
    "By default, `clean_is_kennitala` will clean kennitala strings and output them in the standard format with proper separators."
   ]
  },
  {
   "cell_type": "code",
   "execution_count": null,
   "id": "wooden-nursing",
   "metadata": {},
   "outputs": [],
   "source": [
    "from dataprep.clean import clean_is_kennitala\n",
    "clean_is_kennitala(df, column = \"kennitala\")"
   ]
  },
  {
   "cell_type": "markdown",
   "id": "accomplished-greensboro",
   "metadata": {},
   "source": [
    "## 2. Output formats"
   ]
  },
  {
   "cell_type": "markdown",
   "id": "common-student",
   "metadata": {},
   "source": [
    "This section demonstrates the output parameter."
   ]
  },
  {
   "cell_type": "markdown",
   "id": "equipped-macro",
   "metadata": {},
   "source": [
    "### `standard` (default)"
   ]
  },
  {
   "cell_type": "code",
   "execution_count": null,
   "id": "contemporary-sense",
   "metadata": {},
   "outputs": [],
   "source": [
    "clean_is_kennitala(df, column = \"kennitala\", output_format=\"standard\")"
   ]
  },
  {
   "cell_type": "markdown",
   "id": "serial-capitol",
   "metadata": {},
   "source": [
    "### `compact`"
   ]
  },
  {
   "cell_type": "code",
   "execution_count": null,
   "id": "alert-growing",
   "metadata": {},
   "outputs": [],
   "source": [
    "clean_is_kennitala(df, column = \"kennitala\", output_format=\"compact\")"
   ]
  },
  {
   "cell_type": "markdown",
   "id": "integrated-airport",
   "metadata": {},
   "source": [
    "## 3. `inplace` parameter\n",
    "\n",
    "This deletes the given column from the returned DataFrame. \n",
    "A new column containing cleaned Kennitala strings is added with a title in the format `\"{original title}_clean\"`."
   ]
  },
  {
   "cell_type": "code",
   "execution_count": null,
   "id": "marked-marsh",
   "metadata": {},
   "outputs": [],
   "source": [
    "clean_is_kennitala(df, column=\"kennitala\", inplace=True)"
   ]
  },
  {
   "cell_type": "markdown",
   "id": "organized-library",
   "metadata": {},
   "source": [
    "## 4. `errors` parameter"
   ]
  },
  {
   "cell_type": "markdown",
   "id": "derived-attendance",
   "metadata": {},
   "source": [
    "### `coerce` (default)"
   ]
  },
  {
   "cell_type": "code",
   "execution_count": null,
   "id": "norwegian-thermal",
   "metadata": {},
   "outputs": [],
   "source": [
    "clean_is_kennitala(df, \"kennitala\", errors=\"coerce\")"
   ]
  },
  {
   "cell_type": "markdown",
   "id": "southern-client",
   "metadata": {},
   "source": [
    "### `ignore`"
   ]
  },
  {
   "cell_type": "code",
   "execution_count": null,
   "id": "prompt-chester",
   "metadata": {},
   "outputs": [],
   "source": [
    "clean_is_kennitala(df, \"kennitala\", errors=\"ignore\")"
   ]
  },
  {
   "cell_type": "markdown",
   "id": "progressive-pakistan",
   "metadata": {},
   "source": [
    "## 4. `validate_is_kennitala()`"
   ]
  },
  {
   "cell_type": "markdown",
   "id": "eligible-entrepreneur",
   "metadata": {},
   "source": [
    "`validate_is_kennitala()` returns `True` when the input is a valid Kennitala. Otherwise it returns `False`.\n",
    "\n",
    "The input of `validate_is_kennitala()` can be a string, a Pandas DataSeries, a Dask DataSeries, a Pandas DataFrame and a dask DataFrame.\n",
    "\n",
    "When the input is a string, a Pandas DataSeries or a Dask DataSeries, user doesn't need to specify a column name to be validated. \n",
    "\n",
    "When the input is a Pandas DataFrame or a dask DataFrame, user can both specify or not specify a column name to be validated. If user specify the column name, `validate_is_kennitala()` only returns the validation result for the specified column. If user doesn't specify the column name, `validate_is_kennitala()` returns the validation result for the whole DataFrame."
   ]
  },
  {
   "cell_type": "code",
   "execution_count": null,
   "id": "loaded-dynamics",
   "metadata": {},
   "outputs": [],
   "source": [
    "from dataprep.clean import validate_is_kennitala\n",
    "print(validate_is_kennitala(\"1201743399\"))\n",
    "print(validate_is_kennitala(\"320174-3399\"))\n",
    "print(validate_is_kennitala(\"51824753556\"))\n",
    "print(validate_is_kennitala(\"51 824 753 556\"))\n",
    "print(validate_is_kennitala(\"hello\"))\n",
    "print(validate_is_kennitala(np.nan))\n",
    "print(validate_is_kennitala(\"NULL\"))"
   ]
  },
  {
   "cell_type": "markdown",
   "id": "significant-value",
   "metadata": {},
   "source": [
    "### Series"
   ]
  },
  {
   "cell_type": "code",
   "execution_count": null,
   "id": "average-billion",
   "metadata": {},
   "outputs": [],
   "source": [
    "validate_is_kennitala(df[\"kennitala\"])"
   ]
  },
  {
   "cell_type": "markdown",
   "id": "written-commonwealth",
   "metadata": {},
   "source": [
    "### DataFrame + Specify Column"
   ]
  },
  {
   "cell_type": "code",
   "execution_count": null,
   "id": "broke-newman",
   "metadata": {},
   "outputs": [],
   "source": [
    "validate_is_kennitala(df, column=\"kennitala\")"
   ]
  },
  {
   "cell_type": "markdown",
   "id": "focused-malta",
   "metadata": {},
   "source": [
    "### Only DataFrame"
   ]
  },
  {
   "cell_type": "code",
   "execution_count": null,
   "id": "racial-functionality",
   "metadata": {
    "scrolled": true
   },
   "outputs": [],
   "source": [
    "validate_is_kennitala(df)"
   ]
  },
  {
   "cell_type": "code",
   "execution_count": null,
   "id": "grand-uzbekistan",
   "metadata": {},
   "outputs": [],
   "source": []
  }
 ],
 "metadata": {
  "kernelspec": {
   "display_name": "Python 3",
   "language": "python",
   "name": "python3"
  },
  "language_info": {
   "codemirror_mode": {
    "name": "ipython",
    "version": 3
   },
   "file_extension": ".py",
   "mimetype": "text/x-python",
   "name": "python",
   "nbconvert_exporter": "python",
   "pygments_lexer": "ipython3",
   "version": "3.6.12"
  }
 },
 "nbformat": 4,
 "nbformat_minor": 5
}

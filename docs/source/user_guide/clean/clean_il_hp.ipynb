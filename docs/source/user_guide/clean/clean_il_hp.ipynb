{
 "cells": [
  {
   "cell_type": "raw",
   "id": "meaning-equity",
   "metadata": {},
   "source": [
    ".. _hp_userguide:\n",
    "\n",
    "Israeli Company Numbers\n",
    "======================="
   ]
  },
  {
   "cell_type": "raw",
   "id": "qualified-shower",
   "metadata": {},
   "source": [
    "Introduction\n",
    "------------\n",
    "\n",
    "The function :func:`clean_il_hp() <dataprep.clean.clean_il_hp.clean_il_hp>` cleans a column containing Israeli company number (HP) strings, and standardizes them in a given format. The function :func:`validate_il_hp() <dataprep.clean.clean_il_hp.validate_il_hp>` validates either a single HP strings, a column of HP strings or a DataFrame of HP strings, returning `True` if the value is valid, and `False` otherwise."
   ]
  },
  {
   "cell_type": "markdown",
   "id": "freelance-nation",
   "metadata": {},
   "source": [
    "HP strings can be converted to the following formats via the `output_format` parameter:\n",
    "\n",
    "* `compact`: only number strings without any seperators or whitespace, like \"516179157\"\n",
    "* `standard`: HP strings with proper whitespace in the proper places. Note that in the case of HP, the compact format is the same as the standard one.\n",
    "\n",
    "Invalid parsing is handled with the `errors` parameter:\n",
    "\n",
    "* `coerce` (default): invalid parsing will be set to NaN\n",
    "* `ignore`: invalid parsing will return the input\n",
    "* `raise`: invalid parsing will raise an exception\n",
    "\n",
    "The following sections demonstrate the functionality of `clean_il_hp()` and `validate_il_hp()`. "
   ]
  },
  {
   "cell_type": "markdown",
   "id": "separate-howard",
   "metadata": {},
   "source": [
    "### An example dataset containing HP strings"
   ]
  },
  {
   "cell_type": "code",
   "execution_count": null,
   "id": "useful-professional",
   "metadata": {},
   "outputs": [],
   "source": [
    "import pandas as pd\n",
    "import numpy as np\n",
    "df = pd.DataFrame(\n",
    "    {\n",
    "        \"hp\": [\n",
    "            ' 5161 79157 ',\n",
    "            '516179150',\n",
    "            'BE 428759497',\n",
    "            'BE431150351',\n",
    "            \"002 724 334\",\n",
    "            \"hello\",\n",
    "            np.nan,\n",
    "            \"NULL\",\n",
    "        ], \n",
    "        \"address\": [\n",
    "            \"123 Pine Ave.\",\n",
    "            \"main st\",\n",
    "            \"1234 west main heights 57033\",\n",
    "            \"apt 1 789 s maple rd manhattan\",\n",
    "            \"robie house, 789 north main street\",\n",
    "            \"1111 S Figueroa St, Los Angeles, CA 90015\",\n",
    "            \"(staples center) 1111 S Figueroa St, Los Angeles\",\n",
    "            \"hello\",\n",
    "        ]\n",
    "    }\n",
    ")\n",
    "df"
   ]
  },
  {
   "cell_type": "markdown",
   "id": "charming-providence",
   "metadata": {},
   "source": [
    "## 1. Default `clean_il_hp`\n",
    "\n",
    "By default, `clean_il_hp` will clean hp strings and output them in the standard format with proper separators."
   ]
  },
  {
   "cell_type": "code",
   "execution_count": null,
   "id": "supported-slovakia",
   "metadata": {},
   "outputs": [],
   "source": [
    "from dataprep.clean import clean_il_hp\n",
    "clean_il_hp(df, column = \"hp\")"
   ]
  },
  {
   "cell_type": "markdown",
   "id": "confirmed-nowhere",
   "metadata": {},
   "source": [
    "## 2. Output formats"
   ]
  },
  {
   "cell_type": "markdown",
   "id": "atmospheric-performance",
   "metadata": {},
   "source": [
    "This section demonstrates the output parameter."
   ]
  },
  {
   "cell_type": "markdown",
   "id": "driven-electric",
   "metadata": {},
   "source": [
    "### `standard` (default)"
   ]
  },
  {
   "cell_type": "code",
   "execution_count": null,
   "id": "resistant-agency",
   "metadata": {},
   "outputs": [],
   "source": [
    "clean_il_hp(df, column = \"hp\", output_format=\"standard\")"
   ]
  },
  {
   "cell_type": "markdown",
   "id": "suspended-shield",
   "metadata": {},
   "source": [
    "### `compact`"
   ]
  },
  {
   "cell_type": "code",
   "execution_count": null,
   "id": "necessary-wildlife",
   "metadata": {},
   "outputs": [],
   "source": [
    "clean_il_hp(df, column = \"hp\", output_format=\"compact\")"
   ]
  },
  {
   "cell_type": "markdown",
   "id": "duplicate-culture",
   "metadata": {},
   "source": [
    "## 3. `inplace` parameter\n",
    "\n",
    "This deletes the given column from the returned DataFrame. \n",
    "A new column containing cleaned HP strings is added with a title in the format `\"{original title}_clean\"`."
   ]
  },
  {
   "cell_type": "code",
   "execution_count": null,
   "id": "smaller-meditation",
   "metadata": {},
   "outputs": [],
   "source": [
    "clean_il_hp(df, column=\"hp\", inplace=True)"
   ]
  },
  {
   "cell_type": "markdown",
   "id": "superior-satin",
   "metadata": {},
   "source": [
    "## 4. `errors` parameter"
   ]
  },
  {
   "cell_type": "markdown",
   "id": "flying-karaoke",
   "metadata": {},
   "source": [
    "### `coerce` (default)"
   ]
  },
  {
   "cell_type": "code",
   "execution_count": null,
   "id": "liked-headset",
   "metadata": {},
   "outputs": [],
   "source": [
    "clean_il_hp(df, \"hp\", errors=\"coerce\")"
   ]
  },
  {
   "cell_type": "markdown",
   "id": "emotional-customer",
   "metadata": {},
   "source": [
    "### `ignore`"
   ]
  },
  {
   "cell_type": "code",
   "execution_count": null,
   "id": "handmade-appreciation",
   "metadata": {},
   "outputs": [],
   "source": [
    "clean_il_hp(df, \"hp\", errors=\"ignore\")"
   ]
  },
  {
   "cell_type": "markdown",
   "id": "imperial-compilation",
   "metadata": {},
   "source": [
    "## 4. `validate_il_hp()`"
   ]
  },
  {
   "cell_type": "markdown",
   "id": "bridal-alliance",
   "metadata": {},
   "source": [
    "`validate_il_hp()` returns `True` when the input is a valid HP. Otherwise it returns `False`.\n",
    "\n",
    "The input of `validate_il_hp()` can be a string, a Pandas DataSeries, a Dask DataSeries, a Pandas DataFrame and a dask DataFrame.\n",
    "\n",
    "When the input is a string, a Pandas DataSeries or a Dask DataSeries, user doesn't need to specify a column name to be validated. \n",
    "\n",
    "When the input is a Pandas DataFrame or a dask DataFrame, user can both specify or not specify a column name to be validated. If user specify the column name, `validate_il_hp()` only returns the validation result for the specified column. If user doesn't specify the column name, `validate_il_hp()` returns the validation result for the whole DataFrame."
   ]
  },
  {
   "cell_type": "code",
   "execution_count": null,
   "id": "earned-thesis",
   "metadata": {},
   "outputs": [],
   "source": [
    "from dataprep.clean import validate_il_hp\n",
    "print(validate_il_hp(' 5161 79157 '))\n",
    "print(validate_il_hp('516179150'))\n",
    "print(validate_il_hp('BE 428759497'))\n",
    "print(validate_il_hp('BE431150351'))\n",
    "print(validate_il_hp(\"004085616\"))\n",
    "print(validate_il_hp(\"hello\"))\n",
    "print(validate_il_hp(np.nan))\n",
    "print(validate_il_hp(\"NULL\"))"
   ]
  },
  {
   "cell_type": "markdown",
   "id": "critical-residence",
   "metadata": {},
   "source": [
    "### Series"
   ]
  },
  {
   "cell_type": "code",
   "execution_count": null,
   "id": "bearing-connecticut",
   "metadata": {},
   "outputs": [],
   "source": [
    "validate_il_hp(df[\"hp\"])"
   ]
  },
  {
   "cell_type": "markdown",
   "id": "falling-travel",
   "metadata": {},
   "source": [
    "### DataFrame + Specify Column"
   ]
  },
  {
   "cell_type": "code",
   "execution_count": null,
   "id": "restricted-facial",
   "metadata": {},
   "outputs": [],
   "source": [
    "validate_il_hp(df, column=\"hp\")"
   ]
  },
  {
   "cell_type": "markdown",
   "id": "minute-graphics",
   "metadata": {},
   "source": [
    "### Only DataFrame"
   ]
  },
  {
   "cell_type": "code",
   "execution_count": null,
   "id": "established-jacob",
   "metadata": {
    "scrolled": true
   },
   "outputs": [],
   "source": [
    "validate_il_hp(df)"
   ]
  },
  {
   "cell_type": "code",
   "execution_count": null,
   "id": "respiratory-reproduction",
   "metadata": {},
   "outputs": [],
   "source": []
  }
 ],
 "metadata": {
  "kernelspec": {
   "display_name": "Python 3",
   "language": "python",
   "name": "python3"
  },
  "language_info": {
   "codemirror_mode": {
    "name": "ipython",
    "version": 3
   },
   "file_extension": ".py",
   "mimetype": "text/x-python",
   "name": "python",
   "nbconvert_exporter": "python",
   "pygments_lexer": "ipython3",
   "version": "3.6.12"
  }
 },
 "nbformat": 4,
 "nbformat_minor": 5
}

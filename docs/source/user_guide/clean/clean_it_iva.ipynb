{
 "cells": [
  {
   "cell_type": "raw",
   "id": "exotic-maryland",
   "metadata": {},
   "source": [
    ".. _iva_userguide:\n",
    "\n",
    "Italian IVA Numbers\n",
    "==================="
   ]
  },
  {
   "cell_type": "raw",
   "id": "distributed-yukon",
   "metadata": {},
   "source": [
    "Introduction\n",
    "------------\n",
    "\n",
    "The function :func:`clean_it_iva() <dataprep.clean.clean_it_iva.clean_it_iva>` cleans a column containing Italian IVA number (IVA) strings, and standardizes them in a given format. The function :func:`validate_it_iva() <dataprep.clean.clean_it_iva.validate_it_iva>` validates either a single IVA strings, a column of IVA strings or a DataFrame of IVA strings, returning `True` if the value is valid, and `False` otherwise."
   ]
  },
  {
   "cell_type": "markdown",
   "id": "quality-jenny",
   "metadata": {},
   "source": [
    "IVA strings can be converted to the following formats via the `output_format` parameter:\n",
    "\n",
    "* `compact`: only number strings without any seperators or whitespace, like \"00743110157\"\n",
    "* `standard`: IVA strings with proper whitespace in the proper places. Note that in the case of IVA, the compact format is the same as the standard one.\n",
    "\n",
    "Invalid parsing is handled with the `errors` parameter:\n",
    "\n",
    "* `coerce` (default): invalid parsing will be set to NaN\n",
    "* `ignore`: invalid parsing will return the input\n",
    "* `raise`: invalid parsing will raise an exception\n",
    "\n",
    "The following sections demonstrate the functionality of `clean_it_iva()` and `validate_it_iva()`. "
   ]
  },
  {
   "cell_type": "markdown",
   "id": "protecting-republican",
   "metadata": {},
   "source": [
    "### An example dataset containing IVA strings"
   ]
  },
  {
   "cell_type": "code",
   "execution_count": null,
   "id": "upset-trance",
   "metadata": {},
   "outputs": [],
   "source": [
    "import pandas as pd\n",
    "import numpy as np\n",
    "df = pd.DataFrame(\n",
    "    {\n",
    "        \"iva\": [\n",
    "            'IT 00743110157',\n",
    "            '00743110158',\n",
    "            'BE 428759497',\n",
    "            'BE431150351',\n",
    "            \"002 724 334\",\n",
    "            \"hello\",\n",
    "            np.nan,\n",
    "            \"NULL\",\n",
    "        ], \n",
    "        \"address\": [\n",
    "            \"123 Pine Ave.\",\n",
    "            \"main st\",\n",
    "            \"1234 west main heights 57033\",\n",
    "            \"apt 1 789 s maple rd manhattan\",\n",
    "            \"robie house, 789 north main street\",\n",
    "            \"1111 S Figueroa St, Los Angeles, CA 90015\",\n",
    "            \"(staples center) 1111 S Figueroa St, Los Angeles\",\n",
    "            \"hello\",\n",
    "        ]\n",
    "    }\n",
    ")\n",
    "df"
   ]
  },
  {
   "cell_type": "markdown",
   "id": "german-relation",
   "metadata": {},
   "source": [
    "## 1. Default `clean_it_iva`\n",
    "\n",
    "By default, `clean_it_iva` will clean iva strings and output them in the standard format with proper separators."
   ]
  },
  {
   "cell_type": "code",
   "execution_count": null,
   "id": "according-swimming",
   "metadata": {},
   "outputs": [],
   "source": [
    "from dataprep.clean import clean_it_iva\n",
    "clean_it_iva(df, column = \"iva\")"
   ]
  },
  {
   "cell_type": "markdown",
   "id": "balanced-wholesale",
   "metadata": {},
   "source": [
    "## 2. Output formats"
   ]
  },
  {
   "cell_type": "markdown",
   "id": "micro-tender",
   "metadata": {},
   "source": [
    "This section demonstrates the output parameter."
   ]
  },
  {
   "cell_type": "markdown",
   "id": "alternative-breakdown",
   "metadata": {},
   "source": [
    "### `standard` (default)"
   ]
  },
  {
   "cell_type": "code",
   "execution_count": null,
   "id": "arranged-torture",
   "metadata": {},
   "outputs": [],
   "source": [
    "clean_it_iva(df, column = \"iva\", output_format=\"standard\")"
   ]
  },
  {
   "cell_type": "markdown",
   "id": "european-triumph",
   "metadata": {},
   "source": [
    "### `compact`"
   ]
  },
  {
   "cell_type": "code",
   "execution_count": null,
   "id": "anticipated-assault",
   "metadata": {},
   "outputs": [],
   "source": [
    "clean_it_iva(df, column = \"iva\", output_format=\"compact\")"
   ]
  },
  {
   "cell_type": "markdown",
   "id": "supposed-trade",
   "metadata": {},
   "source": [
    "## 3. `inplace` parameter\n",
    "\n",
    "This deletes the given column from the returned DataFrame. \n",
    "A new column containing cleaned IVA strings is added with a title in the format `\"{original title}_clean\"`."
   ]
  },
  {
   "cell_type": "code",
   "execution_count": null,
   "id": "urban-alarm",
   "metadata": {},
   "outputs": [],
   "source": [
    "clean_it_iva(df, column=\"iva\", inplace=True)"
   ]
  },
  {
   "cell_type": "markdown",
   "id": "occupied-accreditation",
   "metadata": {},
   "source": [
    "## 4. `errors` parameter"
   ]
  },
  {
   "cell_type": "markdown",
   "id": "worldwide-tokyo",
   "metadata": {},
   "source": [
    "### `coerce` (default)"
   ]
  },
  {
   "cell_type": "code",
   "execution_count": null,
   "id": "handmade-albert",
   "metadata": {},
   "outputs": [],
   "source": [
    "clean_it_iva(df, \"iva\", errors=\"coerce\")"
   ]
  },
  {
   "cell_type": "markdown",
   "id": "similar-reality",
   "metadata": {},
   "source": [
    "### `ignore`"
   ]
  },
  {
   "cell_type": "code",
   "execution_count": null,
   "id": "nearby-ivory",
   "metadata": {},
   "outputs": [],
   "source": [
    "clean_it_iva(df, \"iva\", errors=\"ignore\")"
   ]
  },
  {
   "cell_type": "markdown",
   "id": "comfortable-boring",
   "metadata": {},
   "source": [
    "## 4. `validate_it_iva()`"
   ]
  },
  {
   "cell_type": "markdown",
   "id": "developmental-jewel",
   "metadata": {},
   "source": [
    "`validate_it_iva()` returns `True` when the input is a valid IVA. Otherwise it returns `False`.\n",
    "\n",
    "The input of `validate_it_iva()` can be a string, a Pandas DataSeries, a Dask DataSeries, a Pandas DataFrame and a dask DataFrame.\n",
    "\n",
    "When the input is a string, a Pandas DataSeries or a Dask DataSeries, user doesn't need to specify a column name to be validated. \n",
    "\n",
    "When the input is a Pandas DataFrame or a dask DataFrame, user can both specify or not specify a column name to be validated. If user specify the column name, `validate_it_iva()` only returns the validation result for the specified column. If user doesn't specify the column name, `validate_it_iva()` returns the validation result for the whole DataFrame."
   ]
  },
  {
   "cell_type": "code",
   "execution_count": null,
   "id": "right-baltimore",
   "metadata": {},
   "outputs": [],
   "source": [
    "from dataprep.clean import validate_it_iva\n",
    "print(validate_it_iva(\"IT 00743110157\"))\n",
    "print(validate_it_iva(\"00743110158\"))\n",
    "print(validate_it_iva('BE 428759497'))\n",
    "print(validate_it_iva('BE431150351'))\n",
    "print(validate_it_iva(\"004085616\"))\n",
    "print(validate_it_iva(\"hello\"))\n",
    "print(validate_it_iva(np.nan))\n",
    "print(validate_it_iva(\"NULL\"))"
   ]
  },
  {
   "cell_type": "markdown",
   "id": "potential-bleeding",
   "metadata": {},
   "source": [
    "### Series"
   ]
  },
  {
   "cell_type": "code",
   "execution_count": null,
   "id": "dirty-champagne",
   "metadata": {},
   "outputs": [],
   "source": [
    "validate_it_iva(df[\"iva\"])"
   ]
  },
  {
   "cell_type": "markdown",
   "id": "endless-forest",
   "metadata": {},
   "source": [
    "### DataFrame + Specify Column"
   ]
  },
  {
   "cell_type": "code",
   "execution_count": null,
   "id": "effective-impression",
   "metadata": {},
   "outputs": [],
   "source": [
    "validate_it_iva(df, column=\"iva\")"
   ]
  },
  {
   "cell_type": "markdown",
   "id": "smoking-electronics",
   "metadata": {},
   "source": [
    "### Only DataFrame"
   ]
  },
  {
   "cell_type": "code",
   "execution_count": null,
   "id": "charitable-fireplace",
   "metadata": {},
   "outputs": [],
   "source": [
    "validate_it_iva(df)"
   ]
  },
  {
   "cell_type": "code",
   "execution_count": null,
   "id": "democratic-tomato",
   "metadata": {},
   "outputs": [],
   "source": []
  }
 ],
 "metadata": {
  "kernelspec": {
   "display_name": "Python 3",
   "language": "python",
   "name": "python3"
  },
  "language_info": {
   "codemirror_mode": {
    "name": "ipython",
    "version": 3
   },
   "file_extension": ".py",
   "mimetype": "text/x-python",
   "name": "python",
   "nbconvert_exporter": "python",
   "pygments_lexer": "ipython3",
   "version": "3.6.12"
  }
 },
 "nbformat": 4,
 "nbformat_minor": 5
}

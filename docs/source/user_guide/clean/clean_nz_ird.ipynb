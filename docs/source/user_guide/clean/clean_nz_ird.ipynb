{
 "cells": [
  {
   "cell_type": "raw",
   "id": "advisory-slovakia",
   "metadata": {},
   "source": [
    ".. _ird_userguide:\n",
    "\n",
    "New Zealand IRD Numbers\n",
    "======================="
   ]
  },
  {
   "cell_type": "raw",
   "id": "heard-fraction",
   "metadata": {},
   "source": [
    "Introduction\n",
    "------------\n",
    "\n",
    "The function :func:`clean_nz_ird() <dataprep.clean.clean_nz_ird.clean_nz_ird>` cleans a column containing New Zealand IRD number (IRD) strings, and standardizes them in a given format. The function :func:`validate_nz_ird() <dataprep.clean.clean_nz_ird.validate_nz_ird>` validates either a single IRD strings, a column of IRD strings or a DataFrame of IRD strings, returning `True` if the value is valid, and `False` otherwise."
   ]
  },
  {
   "cell_type": "markdown",
   "id": "sustained-bridge",
   "metadata": {},
   "source": [
    "IRD strings can be converted to the following formats via the `output_format` parameter:\n",
    "\n",
    "* `compact`: only number strings without any seperators or whitespace, like \"49091850\"\n",
    "* `standard`: IRD strings with proper whitespace in the proper places, like \"49-091-850\"\n",
    "\n",
    "Invalid parsing is handled with the `errors` parameter:\n",
    "\n",
    "* `coerce` (default): invalid parsing will be set to NaN\n",
    "* `ignore`: invalid parsing will return the input\n",
    "* `raise`: invalid parsing will raise an exception\n",
    "\n",
    "The following sections demonstrate the functionality of `clean_nz_ird()` and `validate_nz_ird()`. "
   ]
  },
  {
   "cell_type": "markdown",
   "id": "strategic-cycle",
   "metadata": {},
   "source": [
    "### An example dataset containing IRD strings"
   ]
  },
  {
   "cell_type": "code",
   "execution_count": null,
   "id": "played-depth",
   "metadata": {},
   "outputs": [],
   "source": [
    "import pandas as pd\n",
    "import numpy as np\n",
    "df = pd.DataFrame(\n",
    "    {\n",
    "        \"ird\": [\n",
    "            \"49091850\",\n",
    "            \"136410133\",\n",
    "            \"51824753556\",\n",
    "            \"51 824 753 556\",\n",
    "            \"hello\",\n",
    "            np.nan,\n",
    "            \"NULL\"\n",
    "        ], \n",
    "        \"address\": [\n",
    "            \"123 Pine Ave.\",\n",
    "            \"main st\",\n",
    "            \"1234 west main heights 57033\",\n",
    "            \"apt 1 789 s maple rd manhattan\",\n",
    "            \"robie house, 789 north main street\",\n",
    "            \"(staples center) 1111 S Figueroa St, Los Angeles\",\n",
    "            \"hello\",\n",
    "        ]\n",
    "    }\n",
    ")\n",
    "df"
   ]
  },
  {
   "cell_type": "markdown",
   "id": "naked-creature",
   "metadata": {},
   "source": [
    "## 1. Default `clean_nz_ird`\n",
    "\n",
    "By default, `clean_nz_ird` will clean ird strings and output them in the standard format with proper separators."
   ]
  },
  {
   "cell_type": "code",
   "execution_count": null,
   "id": "floral-expense",
   "metadata": {},
   "outputs": [],
   "source": [
    "from dataprep.clean import clean_nz_ird\n",
    "clean_nz_ird(df, column = \"ird\")"
   ]
  },
  {
   "cell_type": "markdown",
   "id": "substantial-bloom",
   "metadata": {},
   "source": [
    "## 2. Output formats"
   ]
  },
  {
   "cell_type": "markdown",
   "id": "intelligent-colombia",
   "metadata": {},
   "source": [
    "This section demonstrates the output parameter."
   ]
  },
  {
   "cell_type": "markdown",
   "id": "surgical-sociology",
   "metadata": {},
   "source": [
    "### `standard` (default)"
   ]
  },
  {
   "cell_type": "code",
   "execution_count": null,
   "id": "continental-roulette",
   "metadata": {},
   "outputs": [],
   "source": [
    "clean_nz_ird(df, column = \"ird\", output_format=\"standard\")"
   ]
  },
  {
   "cell_type": "markdown",
   "id": "crude-winner",
   "metadata": {},
   "source": [
    "### `compact`"
   ]
  },
  {
   "cell_type": "code",
   "execution_count": null,
   "id": "operational-confidence",
   "metadata": {},
   "outputs": [],
   "source": [
    "clean_nz_ird(df, column = \"ird\", output_format=\"compact\")"
   ]
  },
  {
   "cell_type": "markdown",
   "id": "compound-directive",
   "metadata": {},
   "source": [
    "## 3. `inplace` parameter\n",
    "\n",
    "This deletes the given column from the returned DataFrame. \n",
    "A new column containing cleaned IRD strings is added with a title in the format `\"{original title}_clean\"`."
   ]
  },
  {
   "cell_type": "code",
   "execution_count": null,
   "id": "emerging-dream",
   "metadata": {},
   "outputs": [],
   "source": [
    "clean_nz_ird(df, column=\"ird\", inplace=True)"
   ]
  },
  {
   "cell_type": "markdown",
   "id": "pursuant-religion",
   "metadata": {},
   "source": [
    "## 4. `errors` parameter"
   ]
  },
  {
   "cell_type": "markdown",
   "id": "supreme-audio",
   "metadata": {},
   "source": [
    "### `coerce` (default)"
   ]
  },
  {
   "cell_type": "code",
   "execution_count": null,
   "id": "greenhouse-junior",
   "metadata": {},
   "outputs": [],
   "source": [
    "clean_nz_ird(df, \"ird\", errors=\"coerce\")"
   ]
  },
  {
   "cell_type": "markdown",
   "id": "alternate-fusion",
   "metadata": {},
   "source": [
    "### `ignore`"
   ]
  },
  {
   "cell_type": "code",
   "execution_count": null,
   "id": "protecting-margin",
   "metadata": {},
   "outputs": [],
   "source": [
    "clean_nz_ird(df, \"ird\", errors=\"ignore\")"
   ]
  },
  {
   "cell_type": "markdown",
   "id": "modern-spell",
   "metadata": {},
   "source": [
    "## 4. `validate_nz_ird()`"
   ]
  },
  {
   "cell_type": "markdown",
   "id": "accompanied-ocean",
   "metadata": {},
   "source": [
    "`validate_nz_ird()` returns `True` when the input is a valid IRD. Otherwise it returns `False`.\n",
    "\n",
    "The input of `validate_nz_ird()` can be a string, a Pandas DataSeries, a Dask DataSeries, a Pandas DataFrame and a dask DataFrame.\n",
    "\n",
    "When the input is a string, a Pandas DataSeries or a Dask DataSeries, user doesn't need to specify a column name to be validated. \n",
    "\n",
    "When the input is a Pandas DataFrame or a dask DataFrame, user can both specify or not specify a column name to be validated. If user specify the column name, `validate_nz_ird()` only returns the validation result for the specified column. If user doesn't specify the column name, `validate_nz_ird()` returns the validation result for the whole DataFrame."
   ]
  },
  {
   "cell_type": "code",
   "execution_count": null,
   "id": "increasing-thomson",
   "metadata": {},
   "outputs": [],
   "source": [
    "from dataprep.clean import validate_nz_ird\n",
    "print(validate_nz_ird(\"49091850\"))\n",
    "print(validate_nz_ird(\"136410133\"))\n",
    "print(validate_nz_ird(\"51824753556\"))\n",
    "print(validate_nz_ird(\"51 824 753 556\"))\n",
    "print(validate_nz_ird(\"hello\"))\n",
    "print(validate_nz_ird(np.nan))\n",
    "print(validate_nz_ird(\"NULL\"))"
   ]
  },
  {
   "cell_type": "markdown",
   "id": "periodic-words",
   "metadata": {},
   "source": [
    "### Series"
   ]
  },
  {
   "cell_type": "code",
   "execution_count": null,
   "id": "skilled-praise",
   "metadata": {},
   "outputs": [],
   "source": [
    "validate_nz_ird(df[\"ird\"])"
   ]
  },
  {
   "cell_type": "markdown",
   "id": "young-innocent",
   "metadata": {},
   "source": [
    "### DataFrame + Specify Column"
   ]
  },
  {
   "cell_type": "code",
   "execution_count": null,
   "id": "liked-salvation",
   "metadata": {},
   "outputs": [],
   "source": [
    "validate_nz_ird(df, column=\"ird\")"
   ]
  },
  {
   "cell_type": "markdown",
   "id": "valid-setting",
   "metadata": {},
   "source": [
    "### Only DataFrame"
   ]
  },
  {
   "cell_type": "code",
   "execution_count": null,
   "id": "outer-fifty",
   "metadata": {},
   "outputs": [],
   "source": [
    "validate_nz_ird(df)"
   ]
  },
  {
   "cell_type": "code",
   "execution_count": null,
   "id": "baking-shadow",
   "metadata": {},
   "outputs": [],
   "source": []
  }
 ],
 "metadata": {
  "kernelspec": {
   "display_name": "Python 3",
   "language": "python",
   "name": "python3"
  },
  "language_info": {
   "codemirror_mode": {
    "name": "ipython",
    "version": 3
   },
   "file_extension": ".py",
   "mimetype": "text/x-python",
   "name": "python",
   "nbconvert_exporter": "python",
   "pygments_lexer": "ipython3",
   "version": "3.6.12"
  }
 },
 "nbformat": 4,
 "nbformat_minor": 5
}

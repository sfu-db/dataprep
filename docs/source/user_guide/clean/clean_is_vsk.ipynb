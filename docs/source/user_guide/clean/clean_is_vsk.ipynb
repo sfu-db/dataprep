{
 "cells": [
  {
   "cell_type": "raw",
   "id": "industrial-corruption",
   "metadata": {},
   "source": [
    ".. _vsk_userguide:\n",
    "\n",
    "Icelandic VSK Numbers\n",
    "====================="
   ]
  },
  {
   "cell_type": "raw",
   "id": "technical-folder",
   "metadata": {},
   "source": [
    "Introduction\n",
    "------------\n",
    "\n",
    "The function :func:`clean_is_vsk() <dataprep.clean.clean_is_vsk.clean_is_vsk>` cleans a column containing Icelandic VSK number (VSK) strings, and standardizes them in a given format. The function :func:`validate_is_vsk() <dataprep.clean.clean_is_vsk.validate_is_vsk>` validates either a single VSK strings, a column of VSK strings or a DataFrame of VSK strings, returning `True` if the value is valid, and `False` otherwise."
   ]
  },
  {
   "cell_type": "markdown",
   "id": "buried-diving",
   "metadata": {},
   "source": [
    "VSK strings can be converted to the following formats via the `output_format` parameter:\n",
    "\n",
    "* `compact`: only number strings without any seperators or whitespace, like \"00621\"\n",
    "* `standard`: VSK strings with proper whitespace in the proper places. Note that in the case of VSK, the compact format is the same as the standard one.\n",
    "\n",
    "Invalid parsing is handled with the `errors` parameter:\n",
    "\n",
    "* `coerce` (default): invalid parsing will be set to NaN\n",
    "* `ignore`: invalid parsing will return the input\n",
    "* `raise`: invalid parsing will raise an exception\n",
    "\n",
    "The following sections demonstrate the functionality of `clean_is_vsk()` and `validate_is_vsk()`. "
   ]
  },
  {
   "cell_type": "markdown",
   "id": "exciting-piece",
   "metadata": {},
   "source": [
    "### An example dataset containing VSK strings"
   ]
  },
  {
   "cell_type": "code",
   "execution_count": null,
   "id": "renewable-premium",
   "metadata": {},
   "outputs": [],
   "source": [
    "import pandas as pd\n",
    "import numpy as np\n",
    "df = pd.DataFrame(\n",
    "    {\n",
    "        \"vsk\": [\n",
    "            'IS 00621',\n",
    "            'IS 0062199',\n",
    "            'BE 428759497',\n",
    "            'BE431150351',\n",
    "            \"002 724 334\",\n",
    "            \"hello\",\n",
    "            np.nan,\n",
    "            \"NULL\",\n",
    "        ], \n",
    "        \"address\": [\n",
    "            \"123 Pine Ave.\",\n",
    "            \"main st\",\n",
    "            \"1234 west main heights 57033\",\n",
    "            \"apt 1 789 s maple rd manhattan\",\n",
    "            \"robie house, 789 north main street\",\n",
    "            \"1111 S Figueroa St, Los Angeles, CA 90015\",\n",
    "            \"(staples center) 1111 S Figueroa St, Los Angeles\",\n",
    "            \"hello\",\n",
    "        ]\n",
    "    }\n",
    ")\n",
    "df"
   ]
  },
  {
   "cell_type": "markdown",
   "id": "natural-barrel",
   "metadata": {},
   "source": [
    "## 1. Default `clean_is_vsk`\n",
    "\n",
    "By default, `clean_is_vsk` will clean vsk strings and output them in the standard format with proper separators."
   ]
  },
  {
   "cell_type": "code",
   "execution_count": null,
   "id": "sunset-gather",
   "metadata": {},
   "outputs": [],
   "source": [
    "from dataprep.clean import clean_is_vsk\n",
    "clean_is_vsk(df, column = \"vsk\")"
   ]
  },
  {
   "cell_type": "markdown",
   "id": "knowing-delight",
   "metadata": {},
   "source": [
    "## 2. Output formats"
   ]
  },
  {
   "cell_type": "markdown",
   "id": "brief-furniture",
   "metadata": {},
   "source": [
    "This section demonstrates the output parameter."
   ]
  },
  {
   "cell_type": "markdown",
   "id": "buried-nepal",
   "metadata": {},
   "source": [
    "### `standard` (default)"
   ]
  },
  {
   "cell_type": "code",
   "execution_count": null,
   "id": "detailed-valuation",
   "metadata": {},
   "outputs": [],
   "source": [
    "clean_is_vsk(df, column = \"vsk\", output_format=\"standard\")"
   ]
  },
  {
   "cell_type": "markdown",
   "id": "regional-aluminum",
   "metadata": {},
   "source": [
    "### `compact`"
   ]
  },
  {
   "cell_type": "code",
   "execution_count": null,
   "id": "listed-labor",
   "metadata": {},
   "outputs": [],
   "source": [
    "clean_is_vsk(df, column = \"vsk\", output_format=\"compact\")"
   ]
  },
  {
   "cell_type": "markdown",
   "id": "geographic-combine",
   "metadata": {},
   "source": [
    "## 3. `inplace` parameter\n",
    "\n",
    "This deletes the given column from the returned DataFrame. \n",
    "A new column containing cleaned VSK strings is added with a title in the format `\"{original title}_clean\"`."
   ]
  },
  {
   "cell_type": "code",
   "execution_count": null,
   "id": "personalized-feature",
   "metadata": {},
   "outputs": [],
   "source": [
    "clean_is_vsk(df, column=\"vsk\", inplace=True)"
   ]
  },
  {
   "cell_type": "markdown",
   "id": "instructional-sierra",
   "metadata": {},
   "source": [
    "## 4. `errors` parameter"
   ]
  },
  {
   "cell_type": "markdown",
   "id": "geological-little",
   "metadata": {},
   "source": [
    "### `coerce` (default)"
   ]
  },
  {
   "cell_type": "code",
   "execution_count": null,
   "id": "worse-fifth",
   "metadata": {},
   "outputs": [],
   "source": [
    "clean_is_vsk(df, \"vsk\", errors=\"coerce\")"
   ]
  },
  {
   "cell_type": "markdown",
   "id": "smoking-unknown",
   "metadata": {},
   "source": [
    "### `ignore`"
   ]
  },
  {
   "cell_type": "code",
   "execution_count": null,
   "id": "vulnerable-ridge",
   "metadata": {},
   "outputs": [],
   "source": [
    "clean_is_vsk(df, \"vsk\", errors=\"ignore\")"
   ]
  },
  {
   "cell_type": "markdown",
   "id": "outer-generic",
   "metadata": {},
   "source": [
    "## 4. `validate_is_vsk()`"
   ]
  },
  {
   "cell_type": "markdown",
   "id": "thick-inflation",
   "metadata": {},
   "source": [
    "`validate_is_vsk()` returns `True` when the input is a valid VSK. Otherwise it returns `False`.\n",
    "\n",
    "The input of `validate_is_vsk()` can be a string, a Pandas DataSeries, a Dask DataSeries, a Pandas DataFrame and a dask DataFrame.\n",
    "\n",
    "When the input is a string, a Pandas DataSeries or a Dask DataSeries, user doesn't need to specify a column name to be validated. \n",
    "\n",
    "When the input is a Pandas DataFrame or a dask DataFrame, user can both specify or not specify a column name to be validated. If user specify the column name, `validate_is_vsk()` only returns the validation result for the specified column. If user doesn't specify the column name, `validate_is_vsk()` returns the validation result for the whole DataFrame."
   ]
  },
  {
   "cell_type": "code",
   "execution_count": null,
   "id": "auburn-advisory",
   "metadata": {},
   "outputs": [],
   "source": [
    "from dataprep.clean import validate_is_vsk\n",
    "print(validate_is_vsk('IS 00621'))\n",
    "print(validate_is_vsk('IS 0062199'))\n",
    "print(validate_is_vsk('BE 428759497'))\n",
    "print(validate_is_vsk('BE431150351'))\n",
    "print(validate_is_vsk(\"004085616\"))\n",
    "print(validate_is_vsk(\"hello\"))\n",
    "print(validate_is_vsk(np.nan))\n",
    "print(validate_is_vsk(\"NULL\"))"
   ]
  },
  {
   "cell_type": "markdown",
   "id": "gentle-denial",
   "metadata": {},
   "source": [
    "### Series"
   ]
  },
  {
   "cell_type": "code",
   "execution_count": null,
   "id": "organic-shadow",
   "metadata": {},
   "outputs": [],
   "source": [
    "validate_is_vsk(df[\"vsk\"])"
   ]
  },
  {
   "cell_type": "markdown",
   "id": "global-thompson",
   "metadata": {},
   "source": [
    "### DataFrame + Specify Column"
   ]
  },
  {
   "cell_type": "code",
   "execution_count": null,
   "id": "designing-liberty",
   "metadata": {},
   "outputs": [],
   "source": [
    "validate_is_vsk(df, column=\"vsk\")"
   ]
  },
  {
   "cell_type": "markdown",
   "id": "distinguished-wisconsin",
   "metadata": {},
   "source": [
    "### Only DataFrame"
   ]
  },
  {
   "cell_type": "code",
   "execution_count": null,
   "id": "distributed-graduate",
   "metadata": {},
   "outputs": [],
   "source": [
    "validate_is_vsk(df)"
   ]
  },
  {
   "cell_type": "code",
   "execution_count": null,
   "id": "south-klein",
   "metadata": {},
   "outputs": [],
   "source": []
  }
 ],
 "metadata": {
  "kernelspec": {
   "display_name": "Python 3",
   "language": "python",
   "name": "python3"
  },
  "language_info": {
   "codemirror_mode": {
    "name": "ipython",
    "version": 3
   },
   "file_extension": ".py",
   "mimetype": "text/x-python",
   "name": "python",
   "nbconvert_exporter": "python",
   "pygments_lexer": "ipython3",
   "version": "3.6.12"
  }
 },
 "nbformat": 4,
 "nbformat_minor": 5
}

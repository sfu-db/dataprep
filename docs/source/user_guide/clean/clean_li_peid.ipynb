{
 "cells": [
  {
   "cell_type": "markdown",
   "id": "northern-julian",
   "metadata": {},
   "source": [
    "# Liechtenstein Tax Code For Individuals And Entities"
   ]
  },
  {
   "cell_type": "markdown",
   "id": "physical-determination",
   "metadata": {},
   "source": [
    "## Introduction"
   ]
  },
  {
   "cell_type": "markdown",
   "id": "dated-orange",
   "metadata": {},
   "source": [
    "The function `clean_li_peid()` cleans a column containing Liechtenstein tax code for individuals and entity (PEID) strings, and standardizes them in a given format. The function `validate_li_peid()` validates either a single PEID strings, a column of PEID strings or a DataFrame of PEID strings, returning `True` if the value is valid, and `False` otherwise."
   ]
  },
  {
   "cell_type": "markdown",
   "id": "invalid-diagnosis",
   "metadata": {},
   "source": [
    "PEID strings can be converted to the following formats via the `output_format` parameter:\n",
    "\n",
    "* `compact`: only number strings without any seperators or whitespace, like \"1234567\"\n",
    "* `standard`: PEID strings with proper whitespace in the proper places. Note that in the case of PEID, the compact format is the same as the standard one.\n",
    "\n",
    "Invalid parsing is handled with the `errors` parameter:\n",
    "\n",
    "* `coerce` (default): invalid parsing will be set to NaN\n",
    "* `ignore`: invalid parsing will return the input\n",
    "* `raise`: invalid parsing will raise an exception\n",
    "\n",
    "The following sections demonstrate the functionality of `clean_li_peid()` and `validate_li_peid()`. "
   ]
  },
  {
   "cell_type": "markdown",
   "id": "optimum-passion",
   "metadata": {},
   "source": [
    "### An example dataset containing PEID strings"
   ]
  },
  {
   "cell_type": "code",
   "execution_count": null,
   "id": "independent-conflict",
   "metadata": {},
   "outputs": [],
   "source": [
    "import pandas as pd\n",
    "import numpy as np\n",
    "df = pd.DataFrame(\n",
    "    {\n",
    "        \"peid\": [\n",
    "            '00001234567',\n",
    "            '00001234568913454545',\n",
    "            'BE 428759497',\n",
    "            'BE431150351',\n",
    "            \"002 724 334\",\n",
    "            \"hello\",\n",
    "            np.nan,\n",
    "            \"NULL\",\n",
    "        ], \n",
    "        \"address\": [\n",
    "            \"123 Pine Ave.\",\n",
    "            \"main st\",\n",
    "            \"1234 west main heights 57033\",\n",
    "            \"apt 1 789 s maple rd manhattan\",\n",
    "            \"robie house, 789 north main street\",\n",
    "            \"1111 S Figueroa St, Los Angeles, CA 90015\",\n",
    "            \"(staples center) 1111 S Figueroa St, Los Angeles\",\n",
    "            \"hello\",\n",
    "        ]\n",
    "    }\n",
    ")\n",
    "df"
   ]
  },
  {
   "cell_type": "markdown",
   "id": "binding-sessions",
   "metadata": {},
   "source": [
    "## 1. Default `clean_li_peid`\n",
    "\n",
    "By default, `clean_li_peid` will clean peid strings and output them in the standard format with proper separators."
   ]
  },
  {
   "cell_type": "code",
   "execution_count": null,
   "id": "swiss-observation",
   "metadata": {},
   "outputs": [],
   "source": [
    "from dataprep.clean import clean_li_peid\n",
    "clean_li_peid(df, column = \"peid\")"
   ]
  },
  {
   "cell_type": "markdown",
   "id": "protecting-elephant",
   "metadata": {},
   "source": [
    "## 2. Output formats"
   ]
  },
  {
   "cell_type": "markdown",
   "id": "military-watch",
   "metadata": {},
   "source": [
    "This section demonstrates the output parameter."
   ]
  },
  {
   "cell_type": "markdown",
   "id": "higher-interference",
   "metadata": {},
   "source": [
    "### `standard` (default)"
   ]
  },
  {
   "cell_type": "code",
   "execution_count": null,
   "id": "recent-resident",
   "metadata": {},
   "outputs": [],
   "source": [
    "clean_li_peid(df, column = \"peid\", output_format=\"standard\")"
   ]
  },
  {
   "cell_type": "markdown",
   "id": "hired-kingdom",
   "metadata": {},
   "source": [
    "### `compact`"
   ]
  },
  {
   "cell_type": "code",
   "execution_count": null,
   "id": "clear-grounds",
   "metadata": {},
   "outputs": [],
   "source": [
    "clean_li_peid(df, column = \"peid\", output_format=\"compact\")"
   ]
  },
  {
   "cell_type": "markdown",
   "id": "mathematical-benefit",
   "metadata": {},
   "source": [
    "## 3. `inplace` parameter\n",
    "\n",
    "This deletes the given column from the returned DataFrame. \n",
    "A new column containing cleaned PEID strings is added with a title in the format `\"{original title}_clean\"`."
   ]
  },
  {
   "cell_type": "code",
   "execution_count": null,
   "id": "liked-anthropology",
   "metadata": {},
   "outputs": [],
   "source": [
    "clean_li_peid(df, column=\"peid\", inplace=True)"
   ]
  },
  {
   "cell_type": "markdown",
   "id": "neither-twist",
   "metadata": {},
   "source": [
    "## 4. `errors` parameter"
   ]
  },
  {
   "cell_type": "markdown",
   "id": "higher-punishment",
   "metadata": {},
   "source": [
    "### `coerce` (default)"
   ]
  },
  {
   "cell_type": "code",
   "execution_count": null,
   "id": "novel-percentage",
   "metadata": {},
   "outputs": [],
   "source": [
    "clean_li_peid(df, \"peid\", errors=\"coerce\")"
   ]
  },
  {
   "cell_type": "markdown",
   "id": "constitutional-cancer",
   "metadata": {},
   "source": [
    "### `ignore`"
   ]
  },
  {
   "cell_type": "code",
   "execution_count": null,
   "id": "average-decimal",
   "metadata": {},
   "outputs": [],
   "source": [
    "clean_li_peid(df, \"peid\", errors=\"ignore\")"
   ]
  },
  {
   "cell_type": "markdown",
   "id": "deluxe-daisy",
   "metadata": {},
   "source": [
    "## 4. `validate_li_peid()`"
   ]
  },
  {
   "cell_type": "markdown",
   "id": "hispanic-grove",
   "metadata": {},
   "source": [
    "`validate_li_peid()` returns `True` when the input is a valid PEID. Otherwise it returns `False`.\n",
    "\n",
    "The input of `validate_li_peid()` can be a string, a Pandas DataSeries, a Dask DataSeries, a Pandas DataFrame and a dask DataFrame.\n",
    "\n",
    "When the input is a string, a Pandas DataSeries or a Dask DataSeries, user doesn't need to specify a column name to be validated. \n",
    "\n",
    "When the input is a Pandas DataFrame or a dask DataFrame, user can both specify or not specify a column name to be validated. If user specify the column name, `validate_li_peid()` only returns the validation result for the specified column. If user doesn't specify the column name, `validate_li_peid()` returns the validation result for the whole DataFrame."
   ]
  },
  {
   "cell_type": "code",
   "execution_count": null,
   "id": "blank-teaching",
   "metadata": {},
   "outputs": [],
   "source": [
    "from dataprep.clean import validate_li_peid\n",
    "print(validate_li_peid(\"00001234567\"))\n",
    "print(validate_li_peid(\"00001234568913454545\"))\n",
    "print(validate_li_peid('BE 428759497'))\n",
    "print(validate_li_peid('BE431150351'))\n",
    "print(validate_li_peid(\"004085616\"))\n",
    "print(validate_li_peid(\"hello\"))\n",
    "print(validate_li_peid(np.nan))\n",
    "print(validate_li_peid(\"NULL\"))"
   ]
  },
  {
   "cell_type": "markdown",
   "id": "organized-leonard",
   "metadata": {},
   "source": [
    "### Series"
   ]
  },
  {
   "cell_type": "code",
   "execution_count": null,
   "id": "seventh-fisher",
   "metadata": {},
   "outputs": [],
   "source": [
    "validate_li_peid(df[\"peid\"])"
   ]
  },
  {
   "cell_type": "markdown",
   "id": "sharing-chess",
   "metadata": {},
   "source": [
    "### DataFrame + Specify Column"
   ]
  },
  {
   "cell_type": "code",
   "execution_count": null,
   "id": "cultural-phone",
   "metadata": {},
   "outputs": [],
   "source": [
    "validate_li_peid(df, column=\"peid\")"
   ]
  },
  {
   "cell_type": "markdown",
   "id": "million-prompt",
   "metadata": {},
   "source": [
    "### Only DataFrame"
   ]
  },
  {
   "cell_type": "code",
   "execution_count": null,
   "id": "simplified-colombia",
   "metadata": {},
   "outputs": [],
   "source": [
    "validate_li_peid(df)"
   ]
  },
  {
   "cell_type": "code",
   "execution_count": null,
   "id": "attended-terry",
   "metadata": {},
   "outputs": [],
   "source": []
  }
 ],
 "metadata": {
  "kernelspec": {
   "display_name": "Python 3",
   "language": "python",
   "name": "python3"
  },
  "language_info": {
   "codemirror_mode": {
    "name": "ipython",
    "version": 3
   },
   "file_extension": ".py",
   "mimetype": "text/x-python",
   "name": "python",
   "nbconvert_exporter": "python",
   "pygments_lexer": "ipython3",
   "version": "3.6.12"
  }
 },
 "nbformat": 4,
 "nbformat_minor": 5
}

{
 "cells": [
  {
   "cell_type": "raw",
   "id": "religious-account",
   "metadata": {},
   "source": [
    ".. _banknote_userguide:\n",
    "\n",
    "Euro Banknote Serial Numbers\n",
    "============================"
   ]
  },
  {
   "cell_type": "raw",
   "id": "comparable-macro",
   "metadata": {},
   "source": [
    "Introduction\n",
    "------------\n",
    "\n",
    "The function :func:`clean_eu_banknote() <dataprep.clean.clean_eu_banknote.clean_eu_banknote>` cleans a column containing Euro banknote serial number strings, and standardizes them in a given format. The function :func:`validate_eu_banknote() <dataprep.clean.clean_eu_banknote.validate_eu_banknote>` validates either a single Euro banknote strings, a column of Euro banknote strings or a DataFrame of Euro banknote strings, returning `True` if the value is valid, and `False` otherwise."
   ]
  },
  {
   "cell_type": "markdown",
   "id": "finished-operator",
   "metadata": {},
   "source": [
    "Euro banknote strings can be converted to the following formats via the `output_format` parameter:\n",
    "\n",
    "* `compact`: only number strings without any seperators or whitespace, like \"P36007033744\"\n",
    "* `standard`: Euro banknote strings with proper whitespace in the proper places. Note that in the case of Euro banknote, the compact format is the same as the standard one.\n",
    "\n",
    "Invalid parsing is handled with the `errors` parameter:\n",
    "\n",
    "* `coerce` (default): invalid parsing will be set to NaN\n",
    "* `ignore`: invalid parsing will return the input\n",
    "* `raise`: invalid parsing will raise an exception\n",
    "\n",
    "The following sections demonstrate the functionality of `clean_eu_banknote()` and `validate_eu_banknote()`. "
   ]
  },
  {
   "cell_type": "markdown",
   "id": "geological-atlanta",
   "metadata": {},
   "source": [
    "### An example dataset containing Euro banknote strings"
   ]
  },
  {
   "cell_type": "code",
   "execution_count": null,
   "id": "answering-forestry",
   "metadata": {},
   "outputs": [],
   "source": [
    "import pandas as pd\n",
    "import numpy as np\n",
    "df = pd.DataFrame(\n",
    "    {\n",
    "        \"banknote\": [\n",
    "            'P36007033744',\n",
    "            'P36007033743',\n",
    "            'BE 428759497',\n",
    "            'BE431150351',\n",
    "            \"002 724 334\",\n",
    "            \"hello\",\n",
    "            np.nan,\n",
    "            \"NULL\",\n",
    "        ], \n",
    "        \"address\": [\n",
    "            \"123 Pine Ave.\",\n",
    "            \"main st\",\n",
    "            \"1234 west main heights 57033\",\n",
    "            \"apt 1 789 s maple rd manhattan\",\n",
    "            \"robie house, 789 north main street\",\n",
    "            \"1111 S Figueroa St, Los Angeles, CA 90015\",\n",
    "            \"(staples center) 1111 S Figueroa St, Los Angeles\",\n",
    "            \"hello\",\n",
    "        ]\n",
    "    }\n",
    ")\n",
    "df"
   ]
  },
  {
   "cell_type": "markdown",
   "id": "worth-germany",
   "metadata": {},
   "source": [
    "## 1. Default `clean_eu_banknote`\n",
    "\n",
    "By default, `clean_eu_banknote` will clean banknote strings and output them in the standard format with proper separators."
   ]
  },
  {
   "cell_type": "code",
   "execution_count": null,
   "id": "raised-victor",
   "metadata": {},
   "outputs": [],
   "source": [
    "from dataprep.clean import clean_eu_banknote\n",
    "clean_eu_banknote(df, column = \"banknote\")"
   ]
  },
  {
   "cell_type": "markdown",
   "id": "surgical-vacuum",
   "metadata": {},
   "source": [
    "## 2. Output formats"
   ]
  },
  {
   "cell_type": "markdown",
   "id": "figured-voluntary",
   "metadata": {},
   "source": [
    "This section demonstrates the output parameter."
   ]
  },
  {
   "cell_type": "markdown",
   "id": "spiritual-divide",
   "metadata": {},
   "source": [
    "### `standard` (default)"
   ]
  },
  {
   "cell_type": "code",
   "execution_count": null,
   "id": "suited-globe",
   "metadata": {},
   "outputs": [],
   "source": [
    "clean_eu_banknote(df, column = \"banknote\", output_format=\"standard\")"
   ]
  },
  {
   "cell_type": "markdown",
   "id": "delayed-mechanics",
   "metadata": {},
   "source": [
    "### `compact`"
   ]
  },
  {
   "cell_type": "code",
   "execution_count": null,
   "id": "backed-maldives",
   "metadata": {},
   "outputs": [],
   "source": [
    "clean_eu_banknote(df, column = \"banknote\", output_format=\"compact\")"
   ]
  },
  {
   "cell_type": "markdown",
   "id": "israeli-statistics",
   "metadata": {},
   "source": [
    "## 3. `inplace` parameter\n",
    "\n",
    "This deletes the given column from the returned DataFrame. \n",
    "A new column containing cleaned Euro banknote strings is added with a title in the format `\"{original title}_clean\"`."
   ]
  },
  {
   "cell_type": "code",
   "execution_count": null,
   "id": "matched-sampling",
   "metadata": {},
   "outputs": [],
   "source": [
    "clean_eu_banknote(df, column=\"banknote\", inplace=True)"
   ]
  },
  {
   "cell_type": "markdown",
   "id": "rubber-draft",
   "metadata": {},
   "source": [
    "## 4. `errors` parameter"
   ]
  },
  {
   "cell_type": "markdown",
   "id": "departmental-priest",
   "metadata": {},
   "source": [
    "### `coerce` (default)"
   ]
  },
  {
   "cell_type": "code",
   "execution_count": null,
   "id": "saving-accordance",
   "metadata": {},
   "outputs": [],
   "source": [
    "clean_eu_banknote(df, \"banknote\", errors=\"coerce\")"
   ]
  },
  {
   "cell_type": "markdown",
   "id": "premier-wallpaper",
   "metadata": {},
   "source": [
    "### `ignore`"
   ]
  },
  {
   "cell_type": "code",
   "execution_count": null,
   "id": "prerequisite-amplifier",
   "metadata": {},
   "outputs": [],
   "source": [
    "clean_eu_banknote(df, \"banknote\", errors=\"ignore\")"
   ]
  },
  {
   "cell_type": "markdown",
   "id": "every-constant",
   "metadata": {},
   "source": [
    "## 4. `validate_eu_banknote()`"
   ]
  },
  {
   "cell_type": "markdown",
   "id": "million-waterproof",
   "metadata": {},
   "source": [
    "`validate_eu_banknote()` returns `True` when the input is a valid Euro banknote. Otherwise it returns `False`.\n",
    "\n",
    "The input of `validate_eu_banknote()` can be a string, a Pandas DataSeries, a Dask DataSeries, a Pandas DataFrame and a dask DataFrame.\n",
    "\n",
    "When the input is a string, a Pandas DataSeries or a Dask DataSeries, user doesn't need to specify a column name to be validated. \n",
    "\n",
    "When the input is a Pandas DataFrame or a dask DataFrame, user can both specify or not specify a column name to be validated. If user specify the column name, `validate_eu_banknote()` only returns the validation result for the specified column. If user doesn't specify the column name, `validate_eu_banknote()` returns the validation result for the whole DataFrame."
   ]
  },
  {
   "cell_type": "code",
   "execution_count": null,
   "id": "renewable-possibility",
   "metadata": {},
   "outputs": [],
   "source": [
    "from dataprep.clean import validate_eu_banknote\n",
    "print(validate_eu_banknote(\"P36007033744\"))\n",
    "print(validate_eu_banknote(\"P36007033743\"))\n",
    "print(validate_eu_banknote('BE 428759497'))\n",
    "print(validate_eu_banknote('BE431150351'))\n",
    "print(validate_eu_banknote(\"004085616\"))\n",
    "print(validate_eu_banknote(\"hello\"))\n",
    "print(validate_eu_banknote(np.nan))\n",
    "print(validate_eu_banknote(\"NULL\"))"
   ]
  },
  {
   "cell_type": "markdown",
   "id": "separate-prince",
   "metadata": {},
   "source": [
    "### Series"
   ]
  },
  {
   "cell_type": "code",
   "execution_count": null,
   "id": "assumed-permit",
   "metadata": {},
   "outputs": [],
   "source": [
    "validate_eu_banknote(df[\"banknote\"])"
   ]
  },
  {
   "cell_type": "markdown",
   "id": "assisted-edward",
   "metadata": {},
   "source": [
    "### DataFrame + Specify Column"
   ]
  },
  {
   "cell_type": "code",
   "execution_count": null,
   "id": "eastern-story",
   "metadata": {},
   "outputs": [],
   "source": [
    "validate_eu_banknote(df, column=\"banknote\")"
   ]
  },
  {
   "cell_type": "markdown",
   "id": "valuable-gallery",
   "metadata": {},
   "source": [
    "### Only DataFrame"
   ]
  },
  {
   "cell_type": "code",
   "execution_count": null,
   "id": "adopted-event",
   "metadata": {},
   "outputs": [],
   "source": [
    "validate_eu_banknote(df)"
   ]
  },
  {
   "cell_type": "code",
   "execution_count": null,
   "id": "valid-comparison",
   "metadata": {},
   "outputs": [],
   "source": []
  }
 ],
 "metadata": {
  "kernelspec": {
   "display_name": "Python 3",
   "language": "python",
   "name": "python3"
  },
  "language_info": {
   "codemirror_mode": {
    "name": "ipython",
    "version": 3
   },
   "file_extension": ".py",
   "mimetype": "text/x-python",
   "name": "python",
   "nbconvert_exporter": "python",
   "pygments_lexer": "ipython3",
   "version": "3.6.12"
  }
 },
 "nbformat": 4,
 "nbformat_minor": 5
}

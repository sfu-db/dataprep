{
 "cells": [
  {
   "cell_type": "markdown",
   "id": "statutory-charm",
   "metadata": {},
   "source": [
    "# United Kingdom Unique Taxpayer References"
   ]
  },
  {
   "cell_type": "markdown",
   "id": "statistical-selling",
   "metadata": {},
   "source": [
    "## Introduction"
   ]
  },
  {
   "cell_type": "markdown",
   "id": "foreign-fetish",
   "metadata": {},
   "source": [
    "The function `clean_gb_utr()` cleans a column containing United Kingdom Unique Taxpayer Reference (UTR) strings, and standardizes them in a given format. The function `validate_gb_utr()` validates either a single UTR strings, a column of UTR strings or a DataFrame of UTR strings, returning `True` if the value is valid, and `False` otherwise."
   ]
  },
  {
   "cell_type": "markdown",
   "id": "failing-costs",
   "metadata": {},
   "source": [
    "UTR strings can be converted to the following formats via the `output_format` parameter:\n",
    "\n",
    "* `compact`: only number strings without any seperators or whitespace, like \"1955839661\"\n",
    "* `standard`: UTR strings with proper whitespace in the proper places. Note that in the case of UTR, the compact format is the same as the standard one.\n",
    "\n",
    "Invalid parsing is handled with the `errors` parameter:\n",
    "\n",
    "* `coerce` (default): invalid parsing will be set to NaN\n",
    "* `ignore`: invalid parsing will return the input\n",
    "* `raise`: invalid parsing will raise an exception\n",
    "\n",
    "The following sections demonstrate the functionality of `clean_gb_utr()` and `validate_gb_utr()`. "
   ]
  },
  {
   "cell_type": "markdown",
   "id": "hindu-scholar",
   "metadata": {},
   "source": [
    "### An example dataset containing UTR strings"
   ]
  },
  {
   "cell_type": "code",
   "execution_count": null,
   "id": "abstract-geometry",
   "metadata": {},
   "outputs": [],
   "source": [
    "import pandas as pd\n",
    "import numpy as np\n",
    "df = pd.DataFrame(\n",
    "    {\n",
    "        \"utr\": [\n",
    "            '1955839661',\n",
    "            '2955839661',\n",
    "            'BE 428759497',\n",
    "            'BE431150351',\n",
    "            \"002 724 334\",\n",
    "            \"hello\",\n",
    "            np.nan,\n",
    "            \"NULL\",\n",
    "        ], \n",
    "        \"address\": [\n",
    "            \"123 Pine Ave.\",\n",
    "            \"main st\",\n",
    "            \"1234 west main heights 57033\",\n",
    "            \"apt 1 789 s maple rd manhattan\",\n",
    "            \"robie house, 789 north main street\",\n",
    "            \"1111 S Figueroa St, Los Angeles, CA 90015\",\n",
    "            \"(staples center) 1111 S Figueroa St, Los Angeles\",\n",
    "            \"hello\",\n",
    "        ]\n",
    "    }\n",
    ")\n",
    "df"
   ]
  },
  {
   "cell_type": "markdown",
   "id": "fourth-invitation",
   "metadata": {},
   "source": [
    "## 1. Default `clean_gb_utr`\n",
    "\n",
    "By default, `clean_gb_utr` will clean utr strings and output them in the standard format with proper separators."
   ]
  },
  {
   "cell_type": "code",
   "execution_count": null,
   "id": "polyphonic-oracle",
   "metadata": {},
   "outputs": [],
   "source": [
    "from dataprep.clean import clean_gb_utr\n",
    "clean_gb_utr(df, column = \"utr\")"
   ]
  },
  {
   "cell_type": "markdown",
   "id": "sunset-description",
   "metadata": {},
   "source": [
    "## 2. Output formats"
   ]
  },
  {
   "cell_type": "markdown",
   "id": "revolutionary-sierra",
   "metadata": {},
   "source": [
    "This section demonstrates the output parameter."
   ]
  },
  {
   "cell_type": "markdown",
   "id": "cultural-killer",
   "metadata": {},
   "source": [
    "### `standard` (default)"
   ]
  },
  {
   "cell_type": "code",
   "execution_count": null,
   "id": "sonic-observer",
   "metadata": {},
   "outputs": [],
   "source": [
    "clean_gb_utr(df, column = \"utr\", output_format=\"standard\")"
   ]
  },
  {
   "cell_type": "markdown",
   "id": "reliable-windows",
   "metadata": {},
   "source": [
    "### `compact`"
   ]
  },
  {
   "cell_type": "code",
   "execution_count": null,
   "id": "nominated-standard",
   "metadata": {},
   "outputs": [],
   "source": [
    "clean_gb_utr(df, column = \"utr\", output_format=\"compact\")"
   ]
  },
  {
   "cell_type": "markdown",
   "id": "boring-northwest",
   "metadata": {},
   "source": [
    "## 3. `inplace` parameter\n",
    "\n",
    "This deletes the given column from the returned DataFrame. \n",
    "A new column containing cleaned UTR strings is added with a title in the format `\"{original title}_clean\"`."
   ]
  },
  {
   "cell_type": "code",
   "execution_count": null,
   "id": "finnish-prophet",
   "metadata": {},
   "outputs": [],
   "source": [
    "clean_gb_utr(df, column=\"utr\", inplace=True)"
   ]
  },
  {
   "cell_type": "markdown",
   "id": "swedish-melbourne",
   "metadata": {},
   "source": [
    "## 4. `errors` parameter"
   ]
  },
  {
   "cell_type": "markdown",
   "id": "subsequent-standard",
   "metadata": {},
   "source": [
    "### `coerce` (default)"
   ]
  },
  {
   "cell_type": "code",
   "execution_count": null,
   "id": "pressed-implement",
   "metadata": {},
   "outputs": [],
   "source": [
    "clean_gb_utr(df, \"utr\", errors=\"coerce\")"
   ]
  },
  {
   "cell_type": "markdown",
   "id": "lesbian-advocacy",
   "metadata": {},
   "source": [
    "### `ignore`"
   ]
  },
  {
   "cell_type": "code",
   "execution_count": null,
   "id": "floral-liability",
   "metadata": {},
   "outputs": [],
   "source": [
    "clean_gb_utr(df, \"utr\", errors=\"ignore\")"
   ]
  },
  {
   "cell_type": "markdown",
   "id": "other-luxembourg",
   "metadata": {},
   "source": [
    "## 4. `validate_gb_utr()`"
   ]
  },
  {
   "cell_type": "markdown",
   "id": "anticipated-sperm",
   "metadata": {},
   "source": [
    "`validate_gb_utr()` returns `True` when the input is a valid UTR. Otherwise it returns `False`.\n",
    "\n",
    "The input of `validate_gb_utr()` can be a string, a Pandas DataSeries, a Dask DataSeries, a Pandas DataFrame and a dask DataFrame.\n",
    "\n",
    "When the input is a string, a Pandas DataSeries or a Dask DataSeries, user doesn't need to specify a column name to be validated. \n",
    "\n",
    "When the input is a Pandas DataFrame or a dask DataFrame, user can both specify or not specify a column name to be validated. If user specify the column name, `validate_gb_utr()` only returns the validation result for the specified column. If user doesn't specify the column name, `validate_gb_utr()` returns the validation result for the whole DataFrame."
   ]
  },
  {
   "cell_type": "code",
   "execution_count": null,
   "id": "filled-tsunami",
   "metadata": {},
   "outputs": [],
   "source": [
    "from dataprep.clean import validate_gb_utr\n",
    "print(validate_gb_utr(\"1955839661\"))\n",
    "print(validate_gb_utr(\"2955839661\"))\n",
    "print(validate_gb_utr('BE 428759497'))\n",
    "print(validate_gb_utr('BE431150351'))\n",
    "print(validate_gb_utr(\"004085616\"))\n",
    "print(validate_gb_utr(\"hello\"))\n",
    "print(validate_gb_utr(np.nan))\n",
    "print(validate_gb_utr(\"NULL\"))"
   ]
  },
  {
   "cell_type": "markdown",
   "id": "concrete-counter",
   "metadata": {},
   "source": [
    "### Series"
   ]
  },
  {
   "cell_type": "code",
   "execution_count": null,
   "id": "opposite-graphic",
   "metadata": {},
   "outputs": [],
   "source": [
    "validate_gb_utr(df[\"utr\"])"
   ]
  },
  {
   "cell_type": "markdown",
   "id": "arranged-canberra",
   "metadata": {},
   "source": [
    "### DataFrame + Specify Column"
   ]
  },
  {
   "cell_type": "code",
   "execution_count": null,
   "id": "acquired-passenger",
   "metadata": {},
   "outputs": [],
   "source": [
    "validate_gb_utr(df, column=\"utr\")"
   ]
  },
  {
   "cell_type": "markdown",
   "id": "descending-offering",
   "metadata": {},
   "source": [
    "### Only DataFrame"
   ]
  },
  {
   "cell_type": "code",
   "execution_count": null,
   "id": "oriental-lincoln",
   "metadata": {},
   "outputs": [],
   "source": [
    "validate_gb_utr(df)"
   ]
  },
  {
   "cell_type": "code",
   "execution_count": null,
   "id": "eligible-poison",
   "metadata": {},
   "outputs": [],
   "source": []
  }
 ],
 "metadata": {
  "kernelspec": {
   "display_name": "Python 3",
   "language": "python",
   "name": "python3"
  },
  "language_info": {
   "codemirror_mode": {
    "name": "ipython",
    "version": 3
   },
   "file_extension": ".py",
   "mimetype": "text/x-python",
   "name": "python",
   "nbconvert_exporter": "python",
   "pygments_lexer": "ipython3",
   "version": "3.6.12"
  }
 },
 "nbformat": 4,
 "nbformat_minor": 5
}

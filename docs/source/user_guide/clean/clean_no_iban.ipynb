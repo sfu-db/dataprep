{
 "cells": [
  {
   "cell_type": "raw",
   "id": "deadly-model",
   "metadata": {},
   "source": [
    ".. _iban_userguide:\n",
    "\n",
    "Norwegian IBANs\n",
    "==============="
   ]
  },
  {
   "cell_type": "raw",
   "id": "heard-brief",
   "metadata": {},
   "source": [
    "Introduction\n",
    "------------\n",
    "\n",
    "The function :func:`clean_no_iban() <dataprep.clean.clean_no_iban.clean_no_iban>` cleans a column containing Norwegian IBAN (IBAN) strings, and standardizes them in a given format. The function :func:`validate_no_iban() <dataprep.clean.clean_no_iban.validate_no_iban>` validates either a single IBAN strings, a column of IBAN strings or a DataFrame of IBAN strings, returning `True` if the value is valid, and `False` otherwise."
   ]
  },
  {
   "cell_type": "markdown",
   "id": "incredible-litigation",
   "metadata": {},
   "source": [
    "IBAN strings can be converted to the following formats via the `output_format` parameter:\n",
    "\n",
    "* `compact`: only number strings without any seperators or whitespace, like \"NO9386011117947\"\n",
    "* `standard`: IBAN strings with proper whitespace in the proper places, like \"NO93 8601 1117 947\"\n",
    "* `kontonr`: return the Norwegian bank account part of the number, like \"86011117947\".\n",
    "\n",
    "Invalid parsing is handled with the `errors` parameter:\n",
    "\n",
    "* `coerce` (default): invalid parsing will be set to NaN\n",
    "* `ignore`: invalid parsing will return the input\n",
    "* `raise`: invalid parsing will raise an exception\n",
    "\n",
    "The following sections demonstrate the functionality of `clean_no_iban()` and `validate_no_iban()`. "
   ]
  },
  {
   "cell_type": "markdown",
   "id": "parallel-republican",
   "metadata": {},
   "source": [
    "### An example dataset containing IBAN strings"
   ]
  },
  {
   "cell_type": "code",
   "execution_count": null,
   "id": "broad-peripheral",
   "metadata": {
    "scrolled": true
   },
   "outputs": [],
   "source": [
    "import pandas as pd\n",
    "import numpy as np\n",
    "df = pd.DataFrame(\n",
    "    {\n",
    "        \"iban\": [\n",
    "            'NO9386011117947',\n",
    "            'NO92 8601 1117 947',\n",
    "            \"999 999 999\",\n",
    "            \"004085616\",\n",
    "            \"002 724 334\",\n",
    "            \"hello\",\n",
    "            np.nan,\n",
    "            \"NULL\",\n",
    "        ], \n",
    "        \"address\": [\n",
    "            \"123 Pine Ave.\",\n",
    "            \"main st\",\n",
    "            \"1234 west main heights 57033\",\n",
    "            \"apt 1 789 s maple rd manhattan\",\n",
    "            \"robie house, 789 north main street\",\n",
    "            \"1111 S Figueroa St, Los Angeles, CA 90015\",\n",
    "            \"(staples center) 1111 S Figueroa St, Los Angeles\",\n",
    "            \"hello\",\n",
    "        ]\n",
    "    }\n",
    ")\n",
    "df"
   ]
  },
  {
   "cell_type": "markdown",
   "id": "unlike-tongue",
   "metadata": {},
   "source": [
    "## 1. Default `clean_no_iban`\n",
    "\n",
    "By default, `clean_no_iban` will clean iban strings and output them in the standard format with proper separators."
   ]
  },
  {
   "cell_type": "code",
   "execution_count": null,
   "id": "perceived-elder",
   "metadata": {},
   "outputs": [],
   "source": [
    "from dataprep.clean import clean_no_iban\n",
    "clean_no_iban(df, column = \"iban\")"
   ]
  },
  {
   "cell_type": "markdown",
   "id": "limiting-outreach",
   "metadata": {},
   "source": [
    "## 2. Output formats"
   ]
  },
  {
   "cell_type": "markdown",
   "id": "removable-egyptian",
   "metadata": {},
   "source": [
    "This section demonstrates the output parameter."
   ]
  },
  {
   "cell_type": "markdown",
   "id": "commercial-planner",
   "metadata": {},
   "source": [
    "### `standard` (default)"
   ]
  },
  {
   "cell_type": "code",
   "execution_count": null,
   "id": "overhead-seating",
   "metadata": {},
   "outputs": [],
   "source": [
    "clean_no_iban(df, column = \"iban\", output_format=\"standard\")"
   ]
  },
  {
   "cell_type": "markdown",
   "id": "joint-operations",
   "metadata": {},
   "source": [
    "### `compact`"
   ]
  },
  {
   "cell_type": "code",
   "execution_count": null,
   "id": "molecular-rapid",
   "metadata": {},
   "outputs": [],
   "source": [
    "clean_no_iban(df, column = \"iban\", output_format=\"compact\")"
   ]
  },
  {
   "cell_type": "markdown",
   "id": "included-plain",
   "metadata": {},
   "source": [
    "### `kontonr`"
   ]
  },
  {
   "cell_type": "code",
   "execution_count": null,
   "id": "potential-concentration",
   "metadata": {},
   "outputs": [],
   "source": [
    "clean_no_iban(df, column = \"iban\", output_format=\"kontonr\")"
   ]
  },
  {
   "cell_type": "markdown",
   "id": "french-wallpaper",
   "metadata": {},
   "source": [
    "## 3. `inplace` parameter\n",
    "\n",
    "This deletes the given column from the returned DataFrame. \n",
    "A new column containing cleaned IBAN strings is added with a title in the format `\"{original title}_clean\"`."
   ]
  },
  {
   "cell_type": "code",
   "execution_count": null,
   "id": "amazing-relay",
   "metadata": {},
   "outputs": [],
   "source": [
    "clean_no_iban(df, column=\"iban\", inplace=True)"
   ]
  },
  {
   "cell_type": "markdown",
   "id": "stupid-symposium",
   "metadata": {},
   "source": [
    "## 4. `errors` parameter"
   ]
  },
  {
   "cell_type": "markdown",
   "id": "seventh-twelve",
   "metadata": {},
   "source": [
    "### `coerce` (default)"
   ]
  },
  {
   "cell_type": "code",
   "execution_count": null,
   "id": "expressed-slovenia",
   "metadata": {},
   "outputs": [],
   "source": [
    "clean_no_iban(df, \"iban\", errors=\"coerce\")"
   ]
  },
  {
   "cell_type": "markdown",
   "id": "relevant-rwanda",
   "metadata": {},
   "source": [
    "### `ignore`"
   ]
  },
  {
   "cell_type": "code",
   "execution_count": null,
   "id": "isolated-niger",
   "metadata": {},
   "outputs": [],
   "source": [
    "clean_no_iban(df, \"iban\", errors=\"ignore\")"
   ]
  },
  {
   "cell_type": "markdown",
   "id": "peripheral-agriculture",
   "metadata": {},
   "source": [
    "## 4. `validate_no_iban()`"
   ]
  },
  {
   "cell_type": "markdown",
   "id": "stable-confusion",
   "metadata": {},
   "source": [
    "`validate_no_iban()` returns `True` when the input is a valid IBAN. Otherwise it returns `False`.\n",
    "\n",
    "The input of `validate_no_iban()` can be a string, a Pandas DataSeries, a Dask DataSeries, a Pandas DataFrame and a dask DataFrame.\n",
    "\n",
    "When the input is a string, a Pandas DataSeries or a Dask DataSeries, user doesn't need to specify a column name to be validated. \n",
    "\n",
    "When the input is a Pandas DataFrame or a dask DataFrame, user can both specify or not specify a column name to be validated. If user specify the column name, `validate_no_iban()` only returns the validation result for the specified column. If user doesn't specify the column name, `validate_no_iban()` returns the validation result for the whole DataFrame."
   ]
  },
  {
   "cell_type": "code",
   "execution_count": null,
   "id": "digital-palmer",
   "metadata": {},
   "outputs": [],
   "source": [
    "from dataprep.clean import validate_no_iban\n",
    "print(validate_no_iban(\"NO9386011117947\"))\n",
    "print(validate_no_iban(\"NO92 8601 1117 947\"))\n",
    "print(validate_no_iban(\"999 999 999\"))\n",
    "print(validate_no_iban(\"51824753556\"))\n",
    "print(validate_no_iban(\"004085616\"))\n",
    "print(validate_no_iban(\"hello\"))\n",
    "print(validate_no_iban(np.nan))\n",
    "print(validate_no_iban(\"NULL\"))"
   ]
  },
  {
   "cell_type": "markdown",
   "id": "valuable-grill",
   "metadata": {},
   "source": [
    "### Series"
   ]
  },
  {
   "cell_type": "code",
   "execution_count": null,
   "id": "final-jefferson",
   "metadata": {},
   "outputs": [],
   "source": [
    "validate_no_iban(df[\"iban\"])"
   ]
  },
  {
   "cell_type": "markdown",
   "id": "orange-rogers",
   "metadata": {},
   "source": [
    "### DataFrame + Specify Column"
   ]
  },
  {
   "cell_type": "code",
   "execution_count": null,
   "id": "informative-makeup",
   "metadata": {},
   "outputs": [],
   "source": [
    "validate_no_iban(df, column=\"iban\")"
   ]
  },
  {
   "cell_type": "markdown",
   "id": "white-engineering",
   "metadata": {},
   "source": [
    "### Only DataFrame"
   ]
  },
  {
   "cell_type": "code",
   "execution_count": null,
   "id": "consecutive-syria",
   "metadata": {},
   "outputs": [],
   "source": [
    "validate_no_iban(df)"
   ]
  },
  {
   "cell_type": "code",
   "execution_count": null,
   "id": "difficult-worst",
   "metadata": {},
   "outputs": [],
   "source": []
  }
 ],
 "metadata": {
  "kernelspec": {
   "display_name": "Python 3",
   "language": "python",
   "name": "python3"
  },
  "language_info": {
   "codemirror_mode": {
    "name": "ipython",
    "version": 3
   },
   "file_extension": ".py",
   "mimetype": "text/x-python",
   "name": "python",
   "nbconvert_exporter": "python",
   "pygments_lexer": "ipython3",
   "version": "3.6.12"
  }
 },
 "nbformat": 4,
 "nbformat_minor": 5
}

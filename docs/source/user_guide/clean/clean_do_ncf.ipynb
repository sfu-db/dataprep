{
 "cells": [
  {
   "cell_type": "markdown",
   "id": "lovely-slovakia",
   "metadata": {},
   "source": [
    "# Dominican Republic Invoice Numbers"
   ]
  },
  {
   "cell_type": "markdown",
   "id": "statutory-allocation",
   "metadata": {},
   "source": [
    "## Introduction"
   ]
  },
  {
   "cell_type": "markdown",
   "id": "sunrise-shoot",
   "metadata": {},
   "source": [
    "The function `clean_do_ncf()` cleans a column containing Dominican Republic invoice number (NCF) strings, and standardizes them in a given format. The function `validate_do_ncf()` validates either a single NCF strings, a column of NCF strings or a DataFrame of NCF strings, returning `True` if the value is valid, and `False` otherwise."
   ]
  },
  {
   "cell_type": "markdown",
   "id": "federal-executive",
   "metadata": {},
   "source": [
    "NCF strings can be converted to the following formats via the `output_format` parameter:\n",
    "\n",
    "* `compact`: only number strings without any seperators or whitespace, like \"E310000000005\"\n",
    "* `standard`: NCF strings with proper whitespace in the proper places. Note that in the case of NCF, the compact format is the same as the standard one.\n",
    "\n",
    "Invalid parsing is handled with the `errors` parameter:\n",
    "\n",
    "* `coerce` (default): invalid parsing will be set to NaN\n",
    "* `ignore`: invalid parsing will return the input\n",
    "* `raise`: invalid parsing will raise an exception\n",
    "\n",
    "The following sections demonstrate the functionality of `clean_do_ncf()` and `validate_do_ncf()`. "
   ]
  },
  {
   "cell_type": "markdown",
   "id": "collaborative-trigger",
   "metadata": {},
   "source": [
    "### An example dataset containing NCF strings"
   ]
  },
  {
   "cell_type": "code",
   "execution_count": null,
   "id": "automotive-socket",
   "metadata": {},
   "outputs": [],
   "source": [
    "import pandas as pd\n",
    "import numpy as np\n",
    "df = pd.DataFrame(\n",
    "    {\n",
    "        \"ncf\": [\n",
    "            'E310000000005',\n",
    "            'Z0100000005',\n",
    "            'BE 428759497',\n",
    "            'BE431150351',\n",
    "            \"002 724 334\",\n",
    "            \"hello\",\n",
    "            np.nan,\n",
    "            \"NULL\",\n",
    "        ], \n",
    "        \"address\": [\n",
    "            \"123 Pine Ave.\",\n",
    "            \"main st\",\n",
    "            \"1234 west main heights 57033\",\n",
    "            \"apt 1 789 s maple rd manhattan\",\n",
    "            \"robie house, 789 north main street\",\n",
    "            \"1111 S Figueroa St, Los Angeles, CA 90015\",\n",
    "            \"(staples center) 1111 S Figueroa St, Los Angeles\",\n",
    "            \"hello\",\n",
    "        ]\n",
    "    }\n",
    ")\n",
    "df"
   ]
  },
  {
   "cell_type": "markdown",
   "id": "rotary-aaron",
   "metadata": {},
   "source": [
    "## 1. Default `clean_do_ncf`\n",
    "\n",
    "By default, `clean_do_ncf` will clean ncf strings and output them in the standard format with proper separators."
   ]
  },
  {
   "cell_type": "code",
   "execution_count": null,
   "id": "wicked-celtic",
   "metadata": {},
   "outputs": [],
   "source": [
    "from dataprep.clean import clean_do_ncf\n",
    "clean_do_ncf(df, column = \"ncf\")"
   ]
  },
  {
   "cell_type": "markdown",
   "id": "rough-guess",
   "metadata": {},
   "source": [
    "## 2. Output formats"
   ]
  },
  {
   "cell_type": "markdown",
   "id": "orange-honor",
   "metadata": {},
   "source": [
    "This section demonstrates the output parameter."
   ]
  },
  {
   "cell_type": "markdown",
   "id": "mobile-capital",
   "metadata": {},
   "source": [
    "### `standard` (default)"
   ]
  },
  {
   "cell_type": "code",
   "execution_count": null,
   "id": "increasing-annex",
   "metadata": {},
   "outputs": [],
   "source": [
    "clean_do_ncf(df, column = \"ncf\", output_format=\"standard\")"
   ]
  },
  {
   "cell_type": "markdown",
   "id": "beginning-shark",
   "metadata": {},
   "source": [
    "### `compact`"
   ]
  },
  {
   "cell_type": "code",
   "execution_count": null,
   "id": "hollow-affiliate",
   "metadata": {},
   "outputs": [],
   "source": [
    "clean_do_ncf(df, column = \"ncf\", output_format=\"compact\")"
   ]
  },
  {
   "cell_type": "markdown",
   "id": "numeric-athletics",
   "metadata": {},
   "source": [
    "## 3. `inplace` parameter\n",
    "\n",
    "This deletes the given column from the returned DataFrame. \n",
    "A new column containing cleaned NCF strings is added with a title in the format `\"{original title}_clean\"`."
   ]
  },
  {
   "cell_type": "code",
   "execution_count": null,
   "id": "infrared-hazard",
   "metadata": {},
   "outputs": [],
   "source": [
    "clean_do_ncf(df, column=\"ncf\", inplace=True)"
   ]
  },
  {
   "cell_type": "markdown",
   "id": "competent-april",
   "metadata": {},
   "source": [
    "## 4. `errors` parameter"
   ]
  },
  {
   "cell_type": "markdown",
   "id": "altered-search",
   "metadata": {},
   "source": [
    "### `coerce` (default)"
   ]
  },
  {
   "cell_type": "code",
   "execution_count": null,
   "id": "vulnerable-breed",
   "metadata": {},
   "outputs": [],
   "source": [
    "clean_do_ncf(df, \"ncf\", errors=\"coerce\")"
   ]
  },
  {
   "cell_type": "markdown",
   "id": "diagnostic-bidding",
   "metadata": {},
   "source": [
    "### `ignore`"
   ]
  },
  {
   "cell_type": "code",
   "execution_count": null,
   "id": "amazing-furniture",
   "metadata": {},
   "outputs": [],
   "source": [
    "clean_do_ncf(df, \"ncf\", errors=\"ignore\")"
   ]
  },
  {
   "cell_type": "markdown",
   "id": "bulgarian-structure",
   "metadata": {},
   "source": [
    "## 4. `validate_do_ncf()`"
   ]
  },
  {
   "cell_type": "markdown",
   "id": "knowing-spirit",
   "metadata": {},
   "source": [
    "`validate_do_ncf()` returns `True` when the input is a valid NCF. Otherwise it returns `False`.\n",
    "\n",
    "The input of `validate_do_ncf()` can be a string, a Pandas DataSeries, a Dask DataSeries, a Pandas DataFrame and a dask DataFrame.\n",
    "\n",
    "When the input is a string, a Pandas DataSeries or a Dask DataSeries, user doesn't need to specify a column name to be validated. \n",
    "\n",
    "When the input is a Pandas DataFrame or a dask DataFrame, user can both specify or not specify a column name to be validated. If user specify the column name, `validate_do_ncf()` only returns the validation result for the specified column. If user doesn't specify the column name, `validate_do_ncf()` returns the validation result for the whole DataFrame."
   ]
  },
  {
   "cell_type": "code",
   "execution_count": null,
   "id": "awful-spider",
   "metadata": {},
   "outputs": [],
   "source": [
    "from dataprep.clean import validate_do_ncf\n",
    "print(validate_do_ncf(\"E310000000005\"))\n",
    "print(validate_do_ncf(\"Z0100000005\"))\n",
    "print(validate_do_ncf('BE 428759497'))\n",
    "print(validate_do_ncf('BE431150351'))\n",
    "print(validate_do_ncf(\"004085616\"))\n",
    "print(validate_do_ncf(\"hello\"))\n",
    "print(validate_do_ncf(np.nan))\n",
    "print(validate_do_ncf(\"NULL\"))"
   ]
  },
  {
   "cell_type": "markdown",
   "id": "persistent-pacific",
   "metadata": {},
   "source": [
    "### Series"
   ]
  },
  {
   "cell_type": "code",
   "execution_count": null,
   "id": "american-venezuela",
   "metadata": {},
   "outputs": [],
   "source": [
    "validate_do_ncf(df[\"ncf\"])"
   ]
  },
  {
   "cell_type": "markdown",
   "id": "computational-tomato",
   "metadata": {},
   "source": [
    "### DataFrame + Specify Column"
   ]
  },
  {
   "cell_type": "code",
   "execution_count": null,
   "id": "regional-pavilion",
   "metadata": {
    "scrolled": true
   },
   "outputs": [],
   "source": [
    "validate_do_ncf(df, column=\"ncf\")"
   ]
  },
  {
   "cell_type": "markdown",
   "id": "noted-breast",
   "metadata": {},
   "source": [
    "### Only DataFrame"
   ]
  },
  {
   "cell_type": "code",
   "execution_count": null,
   "id": "completed-scholarship",
   "metadata": {},
   "outputs": [],
   "source": [
    "validate_do_ncf(df)"
   ]
  },
  {
   "cell_type": "code",
   "execution_count": null,
   "id": "theoretical-chance",
   "metadata": {},
   "outputs": [],
   "source": []
  }
 ],
 "metadata": {
  "kernelspec": {
   "display_name": "Python 3",
   "language": "python",
   "name": "python3"
  },
  "language_info": {
   "codemirror_mode": {
    "name": "ipython",
    "version": 3
   },
   "file_extension": ".py",
   "mimetype": "text/x-python",
   "name": "python",
   "nbconvert_exporter": "python",
   "pygments_lexer": "ipython3",
   "version": "3.6.12"
  }
 },
 "nbformat": 4,
 "nbformat_minor": 5
}

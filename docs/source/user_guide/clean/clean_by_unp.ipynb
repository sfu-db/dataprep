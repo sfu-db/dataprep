{
 "cells": [
  {
   "cell_type": "markdown",
   "id": "alternative-button",
   "metadata": {},
   "source": [
    "# Belarusian UNP Numbers"
   ]
  },
  {
   "cell_type": "markdown",
   "id": "painted-development",
   "metadata": {},
   "source": [
    "## Introduction"
   ]
  },
  {
   "cell_type": "markdown",
   "id": "restricted-account",
   "metadata": {},
   "source": [
    "The function `clean_by_unp()` cleans a column containing Belarusian UNP numbers (UNP) strings, and standardizes them in a given format. The function `validate_by_unp()` validates either a single UNP strings, a column of UNP strings or a DataFrame of UNP strings, returning `True` if the value is valid, and `False` otherwise."
   ]
  },
  {
   "cell_type": "markdown",
   "id": "dramatic-ending",
   "metadata": {},
   "source": [
    "UNP strings can be converted to the following formats via the `output_format` parameter:\n",
    "\n",
    "* `compact`: only number strings without any seperators or whitespace, like \"MA1953684\"\n",
    "* `standard`: UNP strings with proper whitespace in the proper places. Note that in the case of UNP, the compact format is the same as the standard one.\n",
    "\n",
    "Invalid parsing is handled with the `errors` parameter:\n",
    "\n",
    "* `coerce` (default): invalid parsing will be set to NaN\n",
    "* `ignore`: invalid parsing will return the input\n",
    "* `raise`: invalid parsing will raise an exception\n",
    "\n",
    "The following sections demonstrate the functionality of `clean_by_unp()` and `validate_by_unp()`. "
   ]
  },
  {
   "cell_type": "markdown",
   "id": "trained-webcam",
   "metadata": {},
   "source": [
    "### An example dataset containing UNP strings"
   ]
  },
  {
   "cell_type": "code",
   "execution_count": null,
   "id": "civic-transcript",
   "metadata": {},
   "outputs": [],
   "source": [
    "import pandas as pd\n",
    "import numpy as np\n",
    "df = pd.DataFrame(\n",
    "    {\n",
    "        \"unp\": [\n",
    "            '200988541',\n",
    "            'УНП MA1953684',\n",
    "            '200988542',\n",
    "            'BE431150351',\n",
    "            \"002 724 334\",\n",
    "            \"hello\",\n",
    "            np.nan,\n",
    "            \"NULL\",\n",
    "        ], \n",
    "        \"address\": [\n",
    "            \"123 Pine Ave.\",\n",
    "            \"main st\",\n",
    "            \"1234 west main heights 57033\",\n",
    "            \"apt 1 789 s maple rd manhattan\",\n",
    "            \"robie house, 789 north main street\",\n",
    "            \"1111 S Figueroa St, Los Angeles, CA 90015\",\n",
    "            \"(staples center) 1111 S Figueroa St, Los Angeles\",\n",
    "            \"hello\",\n",
    "        ]\n",
    "    }\n",
    ")\n",
    "df"
   ]
  },
  {
   "cell_type": "markdown",
   "id": "floral-lodge",
   "metadata": {},
   "source": [
    "## 1. Default `clean_by_unp`\n",
    "\n",
    "By default, `clean_by_unp` will clean unp strings and output them in the standard format with proper separators."
   ]
  },
  {
   "cell_type": "code",
   "execution_count": null,
   "id": "liable-october",
   "metadata": {},
   "outputs": [],
   "source": [
    "from dataprep.clean import clean_by_unp\n",
    "clean_by_unp(df, column = \"unp\")"
   ]
  },
  {
   "cell_type": "markdown",
   "id": "spread-engineer",
   "metadata": {},
   "source": [
    "## 2. Output formats"
   ]
  },
  {
   "cell_type": "markdown",
   "id": "handled-pittsburgh",
   "metadata": {},
   "source": [
    "This section demonstrates the output parameter."
   ]
  },
  {
   "cell_type": "markdown",
   "id": "blind-bonus",
   "metadata": {},
   "source": [
    "### `standard` (default)"
   ]
  },
  {
   "cell_type": "code",
   "execution_count": null,
   "id": "chicken-consensus",
   "metadata": {},
   "outputs": [],
   "source": [
    "clean_by_unp(df, column = \"unp\", output_format=\"standard\")"
   ]
  },
  {
   "cell_type": "markdown",
   "id": "dutch-cannon",
   "metadata": {},
   "source": [
    "### `compact`"
   ]
  },
  {
   "cell_type": "code",
   "execution_count": null,
   "id": "engaged-parcel",
   "metadata": {},
   "outputs": [],
   "source": [
    "clean_by_unp(df, column = \"unp\", output_format=\"compact\")"
   ]
  },
  {
   "cell_type": "markdown",
   "id": "anonymous-strain",
   "metadata": {},
   "source": [
    "## 3. `inplace` parameter\n",
    "\n",
    "This deletes the given column from the returned DataFrame. \n",
    "A new column containing cleaned UNP strings is added with a title in the format `\"{original title}_clean\"`."
   ]
  },
  {
   "cell_type": "code",
   "execution_count": null,
   "id": "global-baseball",
   "metadata": {},
   "outputs": [],
   "source": [
    "clean_by_unp(df, column=\"unp\", inplace=True)"
   ]
  },
  {
   "cell_type": "markdown",
   "id": "executed-prevention",
   "metadata": {},
   "source": [
    "## 4. `errors` parameter"
   ]
  },
  {
   "cell_type": "markdown",
   "id": "soviet-dispute",
   "metadata": {},
   "source": [
    "### `coerce` (default)"
   ]
  },
  {
   "cell_type": "code",
   "execution_count": null,
   "id": "opponent-disposal",
   "metadata": {},
   "outputs": [],
   "source": [
    "clean_by_unp(df, \"unp\", errors=\"coerce\")"
   ]
  },
  {
   "cell_type": "markdown",
   "id": "blind-indonesia",
   "metadata": {},
   "source": [
    "### `ignore`"
   ]
  },
  {
   "cell_type": "code",
   "execution_count": null,
   "id": "metropolitan-retail",
   "metadata": {},
   "outputs": [],
   "source": [
    "clean_by_unp(df, \"unp\", errors=\"ignore\")"
   ]
  },
  {
   "cell_type": "markdown",
   "id": "forty-amsterdam",
   "metadata": {},
   "source": [
    "## 4. `validate_by_unp()`"
   ]
  },
  {
   "cell_type": "markdown",
   "id": "atlantic-prior",
   "metadata": {},
   "source": [
    "`validate_by_unp()` returns `True` when the input is a valid UNP. Otherwise it returns `False`.\n",
    "\n",
    "The input of `validate_by_unp()` can be a string, a Pandas DataSeries, a Dask DataSeries, a Pandas DataFrame and a dask DataFrame.\n",
    "\n",
    "When the input is a string, a Pandas DataSeries or a Dask DataSeries, user doesn't need to specify a column name to be validated. \n",
    "\n",
    "When the input is a Pandas DataFrame or a dask DataFrame, user can both specify or not specify a column name to be validated. If user specify the column name, `validate_by_unp()` only returns the validation result for the specified column. If user doesn't specify the column name, `validate_by_unp()` returns the validation result for the whole DataFrame."
   ]
  },
  {
   "cell_type": "code",
   "execution_count": null,
   "id": "regional-proportion",
   "metadata": {},
   "outputs": [],
   "source": [
    "from dataprep.clean import validate_by_unp\n",
    "print(validate_by_unp('200988541'))\n",
    "print(validate_by_unp('УНП MA1953684'))\n",
    "print(validate_by_unp('200988542'))\n",
    "print(validate_by_unp('BE431150351'))\n",
    "print(validate_by_unp(\"004085616\"))\n",
    "print(validate_by_unp(\"hello\"))\n",
    "print(validate_by_unp(np.nan))\n",
    "print(validate_by_unp(\"NULL\"))"
   ]
  },
  {
   "cell_type": "markdown",
   "id": "resident-allocation",
   "metadata": {},
   "source": [
    "### Series"
   ]
  },
  {
   "cell_type": "code",
   "execution_count": null,
   "id": "qualified-simulation",
   "metadata": {},
   "outputs": [],
   "source": [
    "validate_by_unp(df[\"unp\"])"
   ]
  },
  {
   "cell_type": "markdown",
   "id": "systematic-segment",
   "metadata": {},
   "source": [
    "### DataFrame + Specify Column"
   ]
  },
  {
   "cell_type": "code",
   "execution_count": null,
   "id": "cubic-shore",
   "metadata": {},
   "outputs": [],
   "source": [
    "validate_by_unp(df, column=\"unp\")"
   ]
  },
  {
   "cell_type": "markdown",
   "id": "fixed-orbit",
   "metadata": {},
   "source": [
    "### Only DataFrame"
   ]
  },
  {
   "cell_type": "code",
   "execution_count": null,
   "id": "weekly-assault",
   "metadata": {},
   "outputs": [],
   "source": [
    "validate_by_unp(df)"
   ]
  },
  {
   "cell_type": "code",
   "execution_count": null,
   "id": "developed-laser",
   "metadata": {},
   "outputs": [],
   "source": []
  }
 ],
 "metadata": {
  "kernelspec": {
   "display_name": "Python 3",
   "language": "python",
   "name": "python3"
  },
  "language_info": {
   "codemirror_mode": {
    "name": "ipython",
    "version": 3
   },
   "file_extension": ".py",
   "mimetype": "text/x-python",
   "name": "python",
   "nbconvert_exporter": "python",
   "pygments_lexer": "ipython3",
   "version": "3.6.12"
  }
 },
 "nbformat": 4,
 "nbformat_minor": 5
}

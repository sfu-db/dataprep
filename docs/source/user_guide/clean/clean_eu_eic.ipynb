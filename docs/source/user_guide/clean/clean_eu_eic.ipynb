{
 "cells": [
  {
   "cell_type": "raw",
   "id": "alert-dominican",
   "metadata": {},
   "source": [
    ".. _eic_userguide:\n",
    "\n",
    "European Energy Identification Codes\n",
    "===================================="
   ]
  },
  {
   "cell_type": "raw",
   "id": "obvious-indian",
   "metadata": {},
   "source": [
    "Introduction\n",
    "------------\n",
    "\n",
    "The function :func:`clean_eu_eic() <dataprep.clean.clean_eu_eic.clean_eu_eic>` cleans a column containing European Energy Identification Code (EIC) strings, and standardizes them in a given format. The function :func:`validate_eu_eic() <dataprep.clean.clean_eu_eic.validate_eu_eic>` validates either a single EIC strings, a column of EIC strings or a DataFrame of EIC strings, returning `True` if the value is valid, and `False` otherwise."
   ]
  },
  {
   "cell_type": "markdown",
   "id": "defensive-hepatitis",
   "metadata": {},
   "source": [
    "EIC strings can be converted to the following formats via the `output_format` parameter:\n",
    "\n",
    "* `compact`: only number strings without any seperators or whitespace, like \"22XWATTPLUS----G\"\n",
    "* `standard`: EIC strings with proper whitespace in the proper places. Note that in the case of EIC, the compact format is the same as the standard one.\n",
    "\n",
    "Invalid parsing is handled with the `errors` parameter:\n",
    "\n",
    "* `coerce` (default): invalid parsing will be set to NaN\n",
    "* `ignore`: invalid parsing will return the input\n",
    "* `raise`: invalid parsing will raise an exception\n",
    "\n",
    "The following sections demonstrate the functionality of `clean_eu_eic()` and `validate_eu_eic()`. "
   ]
  },
  {
   "cell_type": "markdown",
   "id": "absent-composer",
   "metadata": {},
   "source": [
    "### An example dataset containing EIC strings"
   ]
  },
  {
   "cell_type": "code",
   "execution_count": null,
   "id": "requested-maine",
   "metadata": {},
   "outputs": [],
   "source": [
    "import pandas as pd\n",
    "import numpy as np\n",
    "df = pd.DataFrame(\n",
    "    {\n",
    "        \"eic\": [\n",
    "            '22XWATTPLUS----G',\n",
    "            '22XWATTPLUS----X',\n",
    "            'BE 428759497',\n",
    "            'BE431150351',\n",
    "            \"002 724 334\",\n",
    "            \"hello\",\n",
    "            np.nan,\n",
    "            \"NULL\",\n",
    "        ], \n",
    "        \"address\": [\n",
    "            \"123 Pine Ave.\",\n",
    "            \"main st\",\n",
    "            \"1234 west main heights 57033\",\n",
    "            \"apt 1 789 s maple rd manhattan\",\n",
    "            \"robie house, 789 north main street\",\n",
    "            \"1111 S Figueroa St, Los Angeles, CA 90015\",\n",
    "            \"(staples center) 1111 S Figueroa St, Los Angeles\",\n",
    "            \"hello\",\n",
    "        ]\n",
    "    }\n",
    ")\n",
    "df"
   ]
  },
  {
   "cell_type": "markdown",
   "id": "alternative-donna",
   "metadata": {},
   "source": [
    "## 1. Default `clean_eu_eic`\n",
    "\n",
    "By default, `clean_eu_eic` will clean eic strings and output them in the standard format with proper separators."
   ]
  },
  {
   "cell_type": "code",
   "execution_count": null,
   "id": "arbitrary-cartoon",
   "metadata": {},
   "outputs": [],
   "source": [
    "from dataprep.clean import clean_eu_eic\n",
    "clean_eu_eic(df, column = \"eic\")"
   ]
  },
  {
   "cell_type": "markdown",
   "id": "compact-receiver",
   "metadata": {},
   "source": [
    "## 2. Output formats"
   ]
  },
  {
   "cell_type": "markdown",
   "id": "southwest-combine",
   "metadata": {},
   "source": [
    "This section demonstrates the output parameter."
   ]
  },
  {
   "cell_type": "markdown",
   "id": "liquid-least",
   "metadata": {},
   "source": [
    "### `standard` (default)"
   ]
  },
  {
   "cell_type": "code",
   "execution_count": null,
   "id": "revolutionary-slovenia",
   "metadata": {},
   "outputs": [],
   "source": [
    "clean_eu_eic(df, column = \"eic\", output_format=\"standard\")"
   ]
  },
  {
   "cell_type": "markdown",
   "id": "sharing-singer",
   "metadata": {},
   "source": [
    "### `compact`"
   ]
  },
  {
   "cell_type": "code",
   "execution_count": null,
   "id": "human-testimony",
   "metadata": {},
   "outputs": [],
   "source": [
    "clean_eu_eic(df, column = \"eic\", output_format=\"compact\")"
   ]
  },
  {
   "cell_type": "markdown",
   "id": "confidential-token",
   "metadata": {},
   "source": [
    "## 3. `inplace` parameter\n",
    "\n",
    "This deletes the given column from the returned DataFrame. \n",
    "A new column containing cleaned EIC strings is added with a title in the format `\"{original title}_clean\"`."
   ]
  },
  {
   "cell_type": "code",
   "execution_count": null,
   "id": "occupational-artwork",
   "metadata": {},
   "outputs": [],
   "source": [
    "clean_eu_eic(df, column=\"eic\", inplace=True)"
   ]
  },
  {
   "cell_type": "markdown",
   "id": "known-friendship",
   "metadata": {},
   "source": [
    "## 4. `errors` parameter"
   ]
  },
  {
   "cell_type": "markdown",
   "id": "fifteen-monitor",
   "metadata": {},
   "source": [
    "### `coerce` (default)"
   ]
  },
  {
   "cell_type": "code",
   "execution_count": null,
   "id": "previous-bruce",
   "metadata": {},
   "outputs": [],
   "source": [
    "clean_eu_eic(df, \"eic\", errors=\"coerce\")"
   ]
  },
  {
   "cell_type": "markdown",
   "id": "nasty-interstate",
   "metadata": {},
   "source": [
    "### `ignore`"
   ]
  },
  {
   "cell_type": "code",
   "execution_count": null,
   "id": "round-ambassador",
   "metadata": {},
   "outputs": [],
   "source": [
    "clean_eu_eic(df, \"eic\", errors=\"ignore\")"
   ]
  },
  {
   "cell_type": "markdown",
   "id": "constitutional-robert",
   "metadata": {},
   "source": [
    "## 4. `validate_eu_eic()`"
   ]
  },
  {
   "cell_type": "markdown",
   "id": "brown-feedback",
   "metadata": {},
   "source": [
    "`validate_eu_eic()` returns `True` when the input is a valid EIC. Otherwise it returns `False`.\n",
    "\n",
    "The input of `validate_eu_eic()` can be a string, a Pandas DataSeries, a Dask DataSeries, a Pandas DataFrame and a dask DataFrame.\n",
    "\n",
    "When the input is a string, a Pandas DataSeries or a Dask DataSeries, user doesn't need to specify a column name to be validated. \n",
    "\n",
    "When the input is a Pandas DataFrame or a dask DataFrame, user can both specify or not specify a column name to be validated. If user specify the column name, `validate_eu_eic()` only returns the validation result for the specified column. If user doesn't specify the column name, `validate_eu_eic()` returns the validation result for the whole DataFrame."
   ]
  },
  {
   "cell_type": "code",
   "execution_count": null,
   "id": "earlier-savage",
   "metadata": {},
   "outputs": [],
   "source": [
    "from dataprep.clean import validate_eu_eic\n",
    "print(validate_eu_eic('22XWATTPLUS----G'))\n",
    "print(validate_eu_eic('22XWATTPLUS----X'))\n",
    "print(validate_eu_eic('BE 428759497'))\n",
    "print(validate_eu_eic('BE431150351'))\n",
    "print(validate_eu_eic(\"004085616\"))\n",
    "print(validate_eu_eic(\"hello\"))\n",
    "print(validate_eu_eic(np.nan))\n",
    "print(validate_eu_eic(\"NULL\"))"
   ]
  },
  {
   "cell_type": "markdown",
   "id": "seventh-spending",
   "metadata": {},
   "source": [
    "### Series"
   ]
  },
  {
   "cell_type": "code",
   "execution_count": null,
   "id": "pleased-speech",
   "metadata": {},
   "outputs": [],
   "source": [
    "validate_eu_eic(df[\"eic\"])"
   ]
  },
  {
   "cell_type": "markdown",
   "id": "faced-conservation",
   "metadata": {},
   "source": [
    "### DataFrame + Specify Column"
   ]
  },
  {
   "cell_type": "code",
   "execution_count": null,
   "id": "bizarre-aurora",
   "metadata": {},
   "outputs": [],
   "source": [
    "validate_eu_eic(df, column=\"eic\")"
   ]
  },
  {
   "cell_type": "markdown",
   "id": "clear-sixth",
   "metadata": {},
   "source": [
    "### Only DataFrame"
   ]
  },
  {
   "cell_type": "code",
   "execution_count": null,
   "id": "african-equivalent",
   "metadata": {},
   "outputs": [],
   "source": [
    "validate_eu_eic(df)"
   ]
  },
  {
   "cell_type": "code",
   "execution_count": null,
   "id": "julian-criticism",
   "metadata": {},
   "outputs": [],
   "source": []
  }
 ],
 "metadata": {
  "kernelspec": {
   "display_name": "Python 3",
   "language": "python",
   "name": "python3"
  },
  "language_info": {
   "codemirror_mode": {
    "name": "ipython",
    "version": 3
   },
   "file_extension": ".py",
   "mimetype": "text/x-python",
   "name": "python",
   "nbconvert_exporter": "python",
   "pygments_lexer": "ipython3",
   "version": "3.6.12"
  }
 },
 "nbformat": 4,
 "nbformat_minor": 5
}

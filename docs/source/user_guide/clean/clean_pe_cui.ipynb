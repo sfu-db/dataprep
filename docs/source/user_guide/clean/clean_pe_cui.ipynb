{
 "cells": [
  {
   "cell_type": "raw",
   "id": "similar-competition",
   "metadata": {},
   "source": [
    ".. _cui_userguide:\n",
    "\n",
    "Peruvian Personal Numbers\n",
    "========================="
   ]
  },
  {
   "cell_type": "raw",
   "id": "perfect-happiness",
   "metadata": {},
   "source": [
    "Introduction\n",
    "------------\n",
    "\n",
    "The function :func:`clean_pe_cui() <dataprep.clean.clean_pe_cui.clean_pe_cui>` cleans a column containing Peruvian personal number (CUI) strings, and standardizes them in a given format. The function :func:`validate_pe_cui() <dataprep.clean.clean_pe_cui.validate_pe_cui>` validates either a single CUI strings, a column of CUI strings or a DataFrame of CUI strings, returning `True` if the value is valid, and `False` otherwise."
   ]
  },
  {
   "cell_type": "markdown",
   "id": "loving-peoples",
   "metadata": {},
   "source": [
    "CUI strings can be converted to the following formats via the `output_format` parameter:\n",
    "\n",
    "* `compact`: only number strings without any seperators or whitespace, like \"10117410\"\n",
    "* `standard`: CUI strings with proper whitespace in the proper places. Note that in the case of CUI, the compact format is the same as the standard one.\n",
    "* `ruc`: convert the number to a valid RUC, like \"10101174102\".\n",
    "\n",
    "Invalid parsing is handled with the `errors` parameter:\n",
    "\n",
    "* `coerce` (default): invalid parsing will be set to NaN\n",
    "* `ignore`: invalid parsing will return the input\n",
    "* `raise`: invalid parsing will raise an exception\n",
    "\n",
    "The following sections demonstrate the functionality of `clean_pe_cui()` and `validate_pe_cui()`. "
   ]
  },
  {
   "cell_type": "markdown",
   "id": "animal-pressing",
   "metadata": {},
   "source": [
    "### An example dataset containing CUI strings"
   ]
  },
  {
   "cell_type": "code",
   "execution_count": null,
   "id": "central-priest",
   "metadata": {},
   "outputs": [],
   "source": [
    "import pandas as pd\n",
    "import numpy as np\n",
    "df = pd.DataFrame(\n",
    "    {\n",
    "        \"cui\": [\n",
    "            \"10117410\",\n",
    "            \"10117410-3\",\n",
    "            '7542011030',\n",
    "            '7552A10004',\n",
    "            '8019010008',\n",
    "            \"hello\",\n",
    "            np.nan,\n",
    "            \"NULL\",\n",
    "        ], \n",
    "        \"address\": [\n",
    "            \"123 Pine Ave.\",\n",
    "            \"main st\",\n",
    "            \"1234 west main heights 57033\",\n",
    "            \"apt 1 789 s maple rd manhattan\",\n",
    "            \"robie house, 789 north main street\",\n",
    "            \"1111 S Figueroa St, Los Angeles, CA 90015\",\n",
    "            \"(staples center) 1111 S Figueroa St, Los Angeles\",\n",
    "            \"hello\",\n",
    "        ]\n",
    "    }\n",
    ")\n",
    "df"
   ]
  },
  {
   "cell_type": "markdown",
   "id": "seven-sierra",
   "metadata": {},
   "source": [
    "## 1. Default `clean_pe_cui`\n",
    "\n",
    "By default, `clean_pe_cui` will clean cui strings and output them in the standard format with proper separators."
   ]
  },
  {
   "cell_type": "code",
   "execution_count": null,
   "id": "entitled-boundary",
   "metadata": {
    "scrolled": true
   },
   "outputs": [],
   "source": [
    "from dataprep.clean import clean_pe_cui\n",
    "clean_pe_cui(df, column = \"cui\")"
   ]
  },
  {
   "cell_type": "markdown",
   "id": "through-treatment",
   "metadata": {},
   "source": [
    "## 2. Output formats"
   ]
  },
  {
   "cell_type": "markdown",
   "id": "formal-civilization",
   "metadata": {},
   "source": [
    "This section demonstrates the output parameter."
   ]
  },
  {
   "cell_type": "markdown",
   "id": "familiar-saskatchewan",
   "metadata": {},
   "source": [
    "### `standard` (default)"
   ]
  },
  {
   "cell_type": "code",
   "execution_count": null,
   "id": "scheduled-stewart",
   "metadata": {},
   "outputs": [],
   "source": [
    "clean_pe_cui(df, column = \"cui\", output_format=\"standard\")"
   ]
  },
  {
   "cell_type": "markdown",
   "id": "unnecessary-intent",
   "metadata": {},
   "source": [
    "### `compact`"
   ]
  },
  {
   "cell_type": "code",
   "execution_count": null,
   "id": "creative-glory",
   "metadata": {},
   "outputs": [],
   "source": [
    "clean_pe_cui(df, column = \"cui\", output_format=\"compact\")"
   ]
  },
  {
   "cell_type": "markdown",
   "id": "mexican-leeds",
   "metadata": {},
   "source": [
    "### `ruc`"
   ]
  },
  {
   "cell_type": "code",
   "execution_count": null,
   "id": "fresh-citizenship",
   "metadata": {},
   "outputs": [],
   "source": [
    "clean_pe_cui(df, column = \"cui\", output_format=\"ruc\")"
   ]
  },
  {
   "cell_type": "markdown",
   "id": "recovered-suspension",
   "metadata": {},
   "source": [
    "## 3. `inplace` parameter\n",
    "\n",
    "This deletes the given column from the returned DataFrame. \n",
    "A new column containing cleaned CUI strings is added with a title in the format `\"{original title}_clean\"`."
   ]
  },
  {
   "cell_type": "code",
   "execution_count": null,
   "id": "variable-queen",
   "metadata": {},
   "outputs": [],
   "source": [
    "clean_pe_cui(df, column=\"cui\", inplace=True)"
   ]
  },
  {
   "cell_type": "markdown",
   "id": "approximate-seeking",
   "metadata": {},
   "source": [
    "## 4. `errors` parameter"
   ]
  },
  {
   "cell_type": "markdown",
   "id": "institutional-marketing",
   "metadata": {},
   "source": [
    "### `coerce` (default)"
   ]
  },
  {
   "cell_type": "code",
   "execution_count": null,
   "id": "identified-dialogue",
   "metadata": {},
   "outputs": [],
   "source": [
    "clean_pe_cui(df, \"cui\", errors=\"coerce\")"
   ]
  },
  {
   "cell_type": "markdown",
   "id": "polished-forestry",
   "metadata": {},
   "source": [
    "### `ignore`"
   ]
  },
  {
   "cell_type": "code",
   "execution_count": null,
   "id": "distinguished-plymouth",
   "metadata": {},
   "outputs": [],
   "source": [
    "clean_pe_cui(df, \"cui\", errors=\"ignore\")"
   ]
  },
  {
   "cell_type": "markdown",
   "id": "critical-caribbean",
   "metadata": {},
   "source": [
    "## 4. `validate_pe_cui()`"
   ]
  },
  {
   "cell_type": "markdown",
   "id": "straight-functionality",
   "metadata": {},
   "source": [
    "`validate_pe_cui()` returns `True` when the input is a valid CUI. Otherwise it returns `False`.\n",
    "\n",
    "The input of `validate_pe_cui()` can be a string, a Pandas DataSeries, a Dask DataSeries, a Pandas DataFrame and a dask DataFrame.\n",
    "\n",
    "When the input is a string, a Pandas DataSeries or a Dask DataSeries, user doesn't need to specify a column name to be validated. \n",
    "\n",
    "When the input is a Pandas DataFrame or a dask DataFrame, user can both specify or not specify a column name to be validated. If user specify the column name, `validate_pe_cui()` only returns the validation result for the specified column. If user doesn't specify the column name, `validate_pe_cui()` returns the validation result for the whole DataFrame."
   ]
  },
  {
   "cell_type": "code",
   "execution_count": null,
   "id": "framed-combine",
   "metadata": {},
   "outputs": [],
   "source": [
    "from dataprep.clean import validate_pe_cui\n",
    "print(validate_pe_cui('10117410'))\n",
    "print(validate_pe_cui('10117410-3'))\n",
    "print(validate_pe_cui('7542011030'))\n",
    "print(validate_pe_cui('7552A10004'))\n",
    "print(validate_pe_cui('8019010008'))\n",
    "print(validate_pe_cui(\"hello\"))\n",
    "print(validate_pe_cui(np.nan))\n",
    "print(validate_pe_cui(\"NULL\"))"
   ]
  },
  {
   "cell_type": "markdown",
   "id": "general-norman",
   "metadata": {},
   "source": [
    "### Series"
   ]
  },
  {
   "cell_type": "code",
   "execution_count": null,
   "id": "oriental-berry",
   "metadata": {},
   "outputs": [],
   "source": [
    "validate_pe_cui(df[\"cui\"])"
   ]
  },
  {
   "cell_type": "markdown",
   "id": "theoretical-chair",
   "metadata": {},
   "source": [
    "### DataFrame + Specify Column"
   ]
  },
  {
   "cell_type": "code",
   "execution_count": null,
   "id": "sized-patrol",
   "metadata": {},
   "outputs": [],
   "source": [
    "validate_pe_cui(df, column=\"cui\")"
   ]
  },
  {
   "cell_type": "markdown",
   "id": "rational-reserve",
   "metadata": {},
   "source": [
    "### Only DataFrame"
   ]
  },
  {
   "cell_type": "code",
   "execution_count": null,
   "id": "substantial-revolution",
   "metadata": {},
   "outputs": [],
   "source": [
    "validate_pe_cui(df)"
   ]
  },
  {
   "cell_type": "code",
   "execution_count": null,
   "id": "arctic-cooling",
   "metadata": {},
   "outputs": [],
   "source": []
  }
 ],
 "metadata": {
  "kernelspec": {
   "display_name": "Python 3",
   "language": "python",
   "name": "python3"
  },
  "language_info": {
   "codemirror_mode": {
    "name": "ipython",
    "version": 3
   },
   "file_extension": ".py",
   "mimetype": "text/x-python",
   "name": "python",
   "nbconvert_exporter": "python",
   "pygments_lexer": "ipython3",
   "version": "3.6.12"
  }
 },
 "nbformat": 4,
 "nbformat_minor": 5
}

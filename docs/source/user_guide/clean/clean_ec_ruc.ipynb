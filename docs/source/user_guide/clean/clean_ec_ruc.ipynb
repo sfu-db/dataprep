{
 "cells": [
  {
   "cell_type": "raw",
   "id": "native-story",
   "metadata": {},
   "source": [
    ".. _ruc_userguide:\n",
    "\n",
    "Ecuadorian Company Tax Numbers\n",
    "=============================="
   ]
  },
  {
   "cell_type": "raw",
   "id": "bizarre-secretariat",
   "metadata": {},
   "source": [
    "Introduction\n",
    "------------\n",
    "\n",
    "The function :func:`clean_ec_ruc() <dataprep.clean.clean_ec_ruc.clean_ec_ruc>` cleans a column containing Ecuadorian company tax number (RUC) strings, and standardizes them in a given format. The function :func:`validate_ec_ruc() <dataprep.clean.clean_ec_ruc.validate_ec_ruc>` validates either a single RUC strings, a column of RUC strings or a DataFrame of RUC strings, returning `True` if the value is valid, and `False` otherwise."
   ]
  },
  {
   "cell_type": "markdown",
   "id": "lesbian-bulletin",
   "metadata": {},
   "source": [
    "RUC strings can be converted to the following formats via the `output_format` parameter:\n",
    "\n",
    "* `compact`: only number strings without any seperators or whitespace, like \"1792060346001\"\n",
    "* `standard`: RUC strings with proper whitespace in the proper places. Note that in the case of RUC, the compact format is the same as the standard one.\n",
    "\n",
    "Invalid parsing is handled with the `errors` parameter:\n",
    "\n",
    "* `coerce` (default): invalid parsing will be set to NaN\n",
    "* `ignore`: invalid parsing will return the input\n",
    "* `raise`: invalid parsing will raise an exception\n",
    "\n",
    "The following sections demonstrate the functionality of `clean_ec_ruc()` and `validate_ec_ruc()`. "
   ]
  },
  {
   "cell_type": "markdown",
   "id": "acknowledged-deficit",
   "metadata": {},
   "source": [
    "### An example dataset containing RUC strings"
   ]
  },
  {
   "cell_type": "code",
   "execution_count": null,
   "id": "unexpected-amazon",
   "metadata": {},
   "outputs": [],
   "source": [
    "import pandas as pd\n",
    "import numpy as np\n",
    "df = pd.DataFrame(\n",
    "    {\n",
    "        \"ruc\": [\n",
    "            '1792060346-001',\n",
    "            '1763154690001',\n",
    "            'BE 428759497',\n",
    "            'BE431150351',\n",
    "            \"002 724 334\",\n",
    "            \"hello\",\n",
    "            np.nan,\n",
    "            \"NULL\",\n",
    "        ], \n",
    "        \"address\": [\n",
    "            \"123 Pine Ave.\",\n",
    "            \"main st\",\n",
    "            \"1234 west main heights 57033\",\n",
    "            \"apt 1 789 s maple rd manhattan\",\n",
    "            \"robie house, 789 north main street\",\n",
    "            \"1111 S Figueroa St, Los Angeles, CA 90015\",\n",
    "            \"(staples center) 1111 S Figueroa St, Los Angeles\",\n",
    "            \"hello\",\n",
    "        ]\n",
    "    }\n",
    ")\n",
    "df"
   ]
  },
  {
   "cell_type": "markdown",
   "id": "checked-tongue",
   "metadata": {},
   "source": [
    "## 1. Default `clean_ec_ruc`\n",
    "\n",
    "By default, `clean_ec_ruc` will clean ruc strings and output them in the standard format with proper separators."
   ]
  },
  {
   "cell_type": "code",
   "execution_count": null,
   "id": "spiritual-parker",
   "metadata": {},
   "outputs": [],
   "source": [
    "from dataprep.clean import clean_ec_ruc\n",
    "clean_ec_ruc(df, column = \"ruc\")"
   ]
  },
  {
   "cell_type": "markdown",
   "id": "secure-liability",
   "metadata": {},
   "source": [
    "## 2. Output formats"
   ]
  },
  {
   "cell_type": "markdown",
   "id": "everyday-sleep",
   "metadata": {},
   "source": [
    "This section demonstrates the output parameter."
   ]
  },
  {
   "cell_type": "markdown",
   "id": "prerequisite-gibson",
   "metadata": {},
   "source": [
    "### `standard` (default)"
   ]
  },
  {
   "cell_type": "code",
   "execution_count": null,
   "id": "blond-prediction",
   "metadata": {},
   "outputs": [],
   "source": [
    "clean_ec_ruc(df, column = \"ruc\", output_format=\"standard\")"
   ]
  },
  {
   "cell_type": "markdown",
   "id": "pretty-humor",
   "metadata": {},
   "source": [
    "### `compact`"
   ]
  },
  {
   "cell_type": "code",
   "execution_count": null,
   "id": "exotic-phrase",
   "metadata": {},
   "outputs": [],
   "source": [
    "clean_ec_ruc(df, column = \"ruc\", output_format=\"compact\")"
   ]
  },
  {
   "cell_type": "markdown",
   "id": "parliamentary-roommate",
   "metadata": {},
   "source": [
    "## 3. `inplace` parameter\n",
    "\n",
    "This deletes the given column from the returned DataFrame. \n",
    "A new column containing cleaned RUC strings is added with a title in the format `\"{original title}_clean\"`."
   ]
  },
  {
   "cell_type": "code",
   "execution_count": null,
   "id": "loose-cyprus",
   "metadata": {},
   "outputs": [],
   "source": [
    "clean_ec_ruc(df, column=\"ruc\", inplace=True)"
   ]
  },
  {
   "cell_type": "markdown",
   "id": "selective-apache",
   "metadata": {},
   "source": [
    "## 4. `errors` parameter"
   ]
  },
  {
   "cell_type": "markdown",
   "id": "running-container",
   "metadata": {},
   "source": [
    "### `coerce` (default)"
   ]
  },
  {
   "cell_type": "code",
   "execution_count": null,
   "id": "positive-banking",
   "metadata": {},
   "outputs": [],
   "source": [
    "clean_ec_ruc(df, \"ruc\", errors=\"coerce\")"
   ]
  },
  {
   "cell_type": "markdown",
   "id": "statutory-handle",
   "metadata": {},
   "source": [
    "### `ignore`"
   ]
  },
  {
   "cell_type": "code",
   "execution_count": null,
   "id": "capital-pointer",
   "metadata": {},
   "outputs": [],
   "source": [
    "clean_ec_ruc(df, \"ruc\", errors=\"ignore\")"
   ]
  },
  {
   "cell_type": "markdown",
   "id": "solid-haiti",
   "metadata": {},
   "source": [
    "## 4. `validate_ec_ruc()`"
   ]
  },
  {
   "cell_type": "markdown",
   "id": "separate-assumption",
   "metadata": {},
   "source": [
    "`validate_ec_ruc()` returns `True` when the input is a valid RUC. Otherwise it returns `False`.\n",
    "\n",
    "The input of `validate_ec_ruc()` can be a string, a Pandas DataSeries, a Dask DataSeries, a Pandas DataFrame and a dask DataFrame.\n",
    "\n",
    "When the input is a string, a Pandas DataSeries or a Dask DataSeries, user doesn't need to specify a column name to be validated. \n",
    "\n",
    "When the input is a Pandas DataFrame or a dask DataFrame, user can both specify or not specify a column name to be validated. If user specify the column name, `validate_ec_ruc()` only returns the validation result for the specified column. If user doesn't specify the column name, `validate_ec_ruc()` returns the validation result for the whole DataFrame."
   ]
  },
  {
   "cell_type": "code",
   "execution_count": null,
   "id": "considerable-acrobat",
   "metadata": {},
   "outputs": [],
   "source": [
    "from dataprep.clean import validate_ec_ruc\n",
    "print(validate_ec_ruc(\"1792060346-001\"))\n",
    "print(validate_ec_ruc(\"1763154690001\"))\n",
    "print(validate_ec_ruc('BE 428759497'))\n",
    "print(validate_ec_ruc('BE431150351'))\n",
    "print(validate_ec_ruc(\"004085616\"))\n",
    "print(validate_ec_ruc(\"hello\"))\n",
    "print(validate_ec_ruc(np.nan))\n",
    "print(validate_ec_ruc(\"NULL\"))"
   ]
  },
  {
   "cell_type": "markdown",
   "id": "difficult-external",
   "metadata": {},
   "source": [
    "### Series"
   ]
  },
  {
   "cell_type": "code",
   "execution_count": null,
   "id": "exposed-vermont",
   "metadata": {},
   "outputs": [],
   "source": [
    "validate_ec_ruc(df[\"ruc\"])"
   ]
  },
  {
   "cell_type": "markdown",
   "id": "documented-cooperation",
   "metadata": {},
   "source": [
    "### DataFrame + Specify Column"
   ]
  },
  {
   "cell_type": "code",
   "execution_count": null,
   "id": "economic-mention",
   "metadata": {},
   "outputs": [],
   "source": [
    "validate_ec_ruc(df, column=\"ruc\")"
   ]
  },
  {
   "cell_type": "markdown",
   "id": "sixth-staff",
   "metadata": {},
   "source": [
    "### Only DataFrame"
   ]
  },
  {
   "cell_type": "code",
   "execution_count": null,
   "id": "introductory-sunset",
   "metadata": {
    "scrolled": true
   },
   "outputs": [],
   "source": [
    "validate_ec_ruc(df)"
   ]
  },
  {
   "cell_type": "code",
   "execution_count": null,
   "id": "returning-mailing",
   "metadata": {},
   "outputs": [],
   "source": []
  }
 ],
 "metadata": {
  "kernelspec": {
   "display_name": "Python 3",
   "language": "python",
   "name": "python3"
  },
  "language_info": {
   "codemirror_mode": {
    "name": "ipython",
    "version": 3
   },
   "file_extension": ".py",
   "mimetype": "text/x-python",
   "name": "python",
   "nbconvert_exporter": "python",
   "pygments_lexer": "ipython3",
   "version": "3.6.12"
  }
 },
 "nbformat": 4,
 "nbformat_minor": 5
}

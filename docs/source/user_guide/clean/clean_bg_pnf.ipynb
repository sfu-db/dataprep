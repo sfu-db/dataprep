{
 "cells": [
  {
   "cell_type": "raw",
   "id": "wrapped-tattoo",
   "metadata": {},
   "source": [
    ".. _pnf_userguide:\n",
    "\n",
    "Bulgarian Personal Numbers\n",
    "=========================="
   ]
  },
  {
   "cell_type": "raw",
   "id": "varying-radio",
   "metadata": {},
   "source": [
    "Introduction\n",
    "------------\n",
    "\n",
    "The function :func:`clean_bg_pnf() <dataprep.clean.clean_bg_pnf.clean_bg_pnf>` cleans a column containing Bulgarian personal number of a foreigner, and standardizes them in a given format. The function :func:`validate_bg_pnf() <dataprep.clean.clean_bg_pnf.validate_bg_pnf>` validates either a single PNF strings, a column of PNF strings or a DataFrame of PNF strings, returning `True` if the value is valid, and `False` otherwise."
   ]
  },
  {
   "cell_type": "markdown",
   "id": "intellectual-beverage",
   "metadata": {},
   "source": [
    "PNF strings can be converted to the following formats via the `output_format` parameter:\n",
    "\n",
    "* `compact`: only number strings without any seperators or whitespace, like \"7111042925\"\n",
    "* `standard`: PNF strings with proper whitespace in the proper places. Note that in the case of PNF, the compact format is the same as the standard one.\n",
    "\n",
    "Invalid parsing is handled with the `errors` parameter:\n",
    "\n",
    "* `coerce` (default): invalid parsing will be set to NaN\n",
    "* `ignore`: invalid parsing will return the input\n",
    "* `raise`: invalid parsing will raise an exception\n",
    "\n",
    "The following sections demonstrate the functionality of `clean_bg_pnf()` and `validate_bg_pnf()`. "
   ]
  },
  {
   "cell_type": "markdown",
   "id": "strategic-actress",
   "metadata": {},
   "source": [
    "### An example dataset containing PNF strings"
   ]
  },
  {
   "cell_type": "code",
   "execution_count": null,
   "id": "serious-batch",
   "metadata": {},
   "outputs": [],
   "source": [
    "import pandas as pd\n",
    "import numpy as np\n",
    "df = pd.DataFrame(\n",
    "    {\n",
    "        \"pnf\": [\n",
    "            '7111 042 925',\n",
    "            '7111042922',  # invalid check digit\n",
    "            '71110A2922',  # invalid digit\n",
    "            \"002 724 334\", # not PNF\n",
    "            \"hello\",\n",
    "            np.nan,\n",
    "            \"NULL\",\n",
    "        ], \n",
    "        \"address\": [\n",
    "            \"123 Pine Ave.\",\n",
    "            \"main st\",\n",
    "            \"1234 west main heights 57033\",\n",
    "            \"apt 1 789 s maple rd manhattan\",\n",
    "            \"1111 S Figueroa St, Los Angeles, CA 90015\",\n",
    "            \"(staples center) 1111 S Figueroa St, Los Angeles\",\n",
    "            \"hello\",\n",
    "        ]\n",
    "    }\n",
    ")\n",
    "df"
   ]
  },
  {
   "cell_type": "markdown",
   "id": "active-bracket",
   "metadata": {},
   "source": [
    "## 1. Default `clean_bg_pnf`\n",
    "\n",
    "By default, `clean_bg_pnf` will clean pnf strings and output them in the standard format with proper separators."
   ]
  },
  {
   "cell_type": "code",
   "execution_count": null,
   "id": "certified-concern",
   "metadata": {},
   "outputs": [],
   "source": [
    "from dataprep.clean import clean_bg_pnf\n",
    "clean_bg_pnf(df, column = \"pnf\")"
   ]
  },
  {
   "cell_type": "markdown",
   "id": "ignored-registrar",
   "metadata": {},
   "source": [
    "## 2. Output formats"
   ]
  },
  {
   "cell_type": "markdown",
   "id": "progressive-bible",
   "metadata": {},
   "source": [
    "This section demonstrates the output parameter."
   ]
  },
  {
   "cell_type": "markdown",
   "id": "rolled-perfume",
   "metadata": {},
   "source": [
    "### `standard` (default)"
   ]
  },
  {
   "cell_type": "code",
   "execution_count": null,
   "id": "worst-probe",
   "metadata": {},
   "outputs": [],
   "source": [
    "clean_bg_pnf(df, column = \"pnf\", output_format=\"standard\")"
   ]
  },
  {
   "cell_type": "markdown",
   "id": "architectural-mixer",
   "metadata": {},
   "source": [
    "### `compact`"
   ]
  },
  {
   "cell_type": "code",
   "execution_count": null,
   "id": "conventional-stake",
   "metadata": {},
   "outputs": [],
   "source": [
    "clean_bg_pnf(df, column = \"pnf\", output_format=\"compact\")"
   ]
  },
  {
   "cell_type": "markdown",
   "id": "polish-tribe",
   "metadata": {},
   "source": [
    "## 3. `inplace` parameter\n",
    "\n",
    "This deletes the given column from the returned DataFrame. \n",
    "A new column containing cleaned PNF strings is added with a title in the format `\"{original title}_clean\"`."
   ]
  },
  {
   "cell_type": "code",
   "execution_count": null,
   "id": "diverse-hopkins",
   "metadata": {},
   "outputs": [],
   "source": [
    "clean_bg_pnf(df, column=\"pnf\", inplace=True)"
   ]
  },
  {
   "cell_type": "markdown",
   "id": "growing-mercury",
   "metadata": {},
   "source": [
    "## 4. `errors` parameter"
   ]
  },
  {
   "cell_type": "markdown",
   "id": "broken-rugby",
   "metadata": {},
   "source": [
    "### `coerce` (default)"
   ]
  },
  {
   "cell_type": "code",
   "execution_count": null,
   "id": "saved-firmware",
   "metadata": {},
   "outputs": [],
   "source": [
    "clean_bg_pnf(df, \"pnf\", errors=\"coerce\")"
   ]
  },
  {
   "cell_type": "markdown",
   "id": "sapphire-mentor",
   "metadata": {},
   "source": [
    "### `ignore`"
   ]
  },
  {
   "cell_type": "code",
   "execution_count": null,
   "id": "funded-canadian",
   "metadata": {},
   "outputs": [],
   "source": [
    "clean_bg_pnf(df, \"pnf\", errors=\"ignore\")"
   ]
  },
  {
   "cell_type": "markdown",
   "id": "located-timer",
   "metadata": {},
   "source": [
    "## 4. `validate_bg_pnf()`"
   ]
  },
  {
   "cell_type": "markdown",
   "id": "incomplete-egyptian",
   "metadata": {},
   "source": [
    "`validate_bg_pnf()` returns `True` when the input is a valid PNF. Otherwise it returns `False`.\n",
    "\n",
    "The input of `validate_bg_pnf()` can be a string, a Pandas DataSeries, a Dask DataSeries, a Pandas DataFrame and a dask DataFrame.\n",
    "\n",
    "When the input is a string, a Pandas DataSeries or a Dask DataSeries, user doesn't need to specify a column name to be validated. \n",
    "\n",
    "When the input is a Pandas DataFrame or a dask DataFrame, user can both specify or not specify a column name to be validated. If user specify the column name, `validate_bg_pnf()` only returns the validation result for the specified column. If user doesn't specify the column name, `validate_bg_pnf()` returns the validation result for the whole DataFrame."
   ]
  },
  {
   "cell_type": "code",
   "execution_count": null,
   "id": "ruled-doctrine",
   "metadata": {},
   "outputs": [],
   "source": [
    "from dataprep.clean import validate_bg_pnf\n",
    "print(validate_bg_pnf('7111 042 925'))\n",
    "print(validate_bg_pnf('7111042922'))\n",
    "print(validate_bg_pnf('71110A2922' ))\n",
    "print(validate_bg_pnf('BE431150351'))\n",
    "print(validate_bg_pnf(\"004085616\"))\n",
    "print(validate_bg_pnf(\"hello\"))\n",
    "print(validate_bg_pnf(np.nan))\n",
    "print(validate_bg_pnf(\"NULL\"))"
   ]
  },
  {
   "cell_type": "markdown",
   "id": "special-bolivia",
   "metadata": {},
   "source": [
    "### Series"
   ]
  },
  {
   "cell_type": "code",
   "execution_count": null,
   "id": "irish-chase",
   "metadata": {},
   "outputs": [],
   "source": [
    "validate_bg_pnf(df[\"pnf\"])"
   ]
  },
  {
   "cell_type": "markdown",
   "id": "racial-studio",
   "metadata": {},
   "source": [
    "### DataFrame + Specify Column"
   ]
  },
  {
   "cell_type": "code",
   "execution_count": null,
   "id": "fleet-encounter",
   "metadata": {},
   "outputs": [],
   "source": [
    "validate_bg_pnf(df, column=\"pnf\")"
   ]
  },
  {
   "cell_type": "markdown",
   "id": "centered-trunk",
   "metadata": {},
   "source": [
    "### Only DataFrame"
   ]
  },
  {
   "cell_type": "code",
   "execution_count": null,
   "id": "narrative-aging",
   "metadata": {},
   "outputs": [],
   "source": [
    "validate_bg_pnf(df)"
   ]
  },
  {
   "cell_type": "code",
   "execution_count": null,
   "id": "decent-dodge",
   "metadata": {},
   "outputs": [],
   "source": []
  }
 ],
 "metadata": {
  "kernelspec": {
   "display_name": "Python 3",
   "language": "python",
   "name": "python3"
  },
  "language_info": {
   "codemirror_mode": {
    "name": "ipython",
    "version": 3
   },
   "file_extension": ".py",
   "mimetype": "text/x-python",
   "name": "python",
   "nbconvert_exporter": "python",
   "pygments_lexer": "ipython3",
   "version": "3.6.12"
  }
 },
 "nbformat": 4,
 "nbformat_minor": 5
}

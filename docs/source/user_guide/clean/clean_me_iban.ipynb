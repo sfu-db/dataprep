{
 "cells": [
  {
   "cell_type": "raw",
   "id": "behavioral-sharing",
   "metadata": {},
   "source": [
    ".. _iban_userguide:\n",
    "\n",
    "Montenegro IBANs\n",
    "================"
   ]
  },
  {
   "cell_type": "raw",
   "id": "cloudy-waterproof",
   "metadata": {},
   "source": [
    "Introduction\n",
    "------------\n",
    "\n",
    "The function :func:`clean_me_iban() <dataprep.clean.clean_me_iban.clean_me_iban>` cleans a column containing Montenegro IBAN (IBAN) strings, and standardizes them in a given format. The function :func:`validate_me_iban() <dataprep.clean.clean_me_iban.validate_me_iban>` validates either a single IBAN strings, a column of IBAN strings or a DataFrame of IBAN strings, returning `True` if the value is valid, and `False` otherwise."
   ]
  },
  {
   "cell_type": "markdown",
   "id": "refined-simpson",
   "metadata": {},
   "source": [
    "IBAN strings can be converted to the following formats via the `output_format` parameter:\n",
    "\n",
    "* `compact`: only number strings without any seperators or whitespace, like \"ME25510000000006234133\"\n",
    "* `standard`: IBAN strings with proper whitespace in the proper places, like \"ME 2551 0000 0000 0623 4133\"\n",
    "\n",
    "Invalid parsing is handled with the `errors` parameter:\n",
    "\n",
    "* `coerce` (default): invalid parsing will be set to NaN\n",
    "* `ignore`: invalid parsing will return the input\n",
    "* `raise`: invalid parsing will raise an exception\n",
    "\n",
    "The following sections demonstrate the functionality of `clean_me_iban()` and `validate_me_iban()`. "
   ]
  },
  {
   "cell_type": "markdown",
   "id": "domestic-soldier",
   "metadata": {},
   "source": [
    "### An example dataset containing IBAN strings"
   ]
  },
  {
   "cell_type": "code",
   "execution_count": null,
   "id": "silent-tunisia",
   "metadata": {},
   "outputs": [],
   "source": [
    "import pandas as pd\n",
    "import numpy as np\n",
    "df = pd.DataFrame(\n",
    "    {\n",
    "        \"iban\": [\n",
    "            \"ME25510000000006234133\",\n",
    "            \"ME52510000000006234132\",\n",
    "            \"51824753556\",\n",
    "            \"51 824 753 556\",\n",
    "            \"hello\",\n",
    "            np.nan,\n",
    "            \"NULL\"\n",
    "        ], \n",
    "        \"address\": [\n",
    "            \"123 Pine Ave.\",\n",
    "            \"main st\",\n",
    "            \"1234 west main heights 57033\",\n",
    "            \"apt 1 789 s maple rd manhattan\",\n",
    "            \"robie house, 789 north main street\",\n",
    "            \"(staples center) 1111 S Figueroa St, Los Angeles\",\n",
    "            \"hello\",\n",
    "        ]\n",
    "    }\n",
    ")\n",
    "df"
   ]
  },
  {
   "cell_type": "markdown",
   "id": "collective-moment",
   "metadata": {},
   "source": [
    "## 1. Default `clean_me_iban`\n",
    "\n",
    "By default, `clean_me_iban` will clean iban strings and output them in the standard format with proper separators."
   ]
  },
  {
   "cell_type": "code",
   "execution_count": null,
   "id": "minute-battlefield",
   "metadata": {},
   "outputs": [],
   "source": [
    "from dataprep.clean import clean_me_iban\n",
    "clean_me_iban(df, column = \"iban\")"
   ]
  },
  {
   "cell_type": "markdown",
   "id": "indoor-habitat",
   "metadata": {},
   "source": [
    "## 2. Output formats"
   ]
  },
  {
   "cell_type": "markdown",
   "id": "enhanced-neighbor",
   "metadata": {},
   "source": [
    "This section demonstrates the output parameter."
   ]
  },
  {
   "cell_type": "markdown",
   "id": "future-leeds",
   "metadata": {},
   "source": [
    "### `standard` (default)"
   ]
  },
  {
   "cell_type": "code",
   "execution_count": null,
   "id": "ignored-termination",
   "metadata": {},
   "outputs": [],
   "source": [
    "clean_me_iban(df, column = \"iban\", output_format=\"standard\")"
   ]
  },
  {
   "cell_type": "markdown",
   "id": "aggregate-piece",
   "metadata": {},
   "source": [
    "### `compact`"
   ]
  },
  {
   "cell_type": "code",
   "execution_count": null,
   "id": "excessive-cigarette",
   "metadata": {},
   "outputs": [],
   "source": [
    "clean_me_iban(df, column = \"iban\", output_format=\"compact\")"
   ]
  },
  {
   "cell_type": "markdown",
   "id": "inside-grain",
   "metadata": {},
   "source": [
    "## 3. `inplace` parameter\n",
    "\n",
    "This deletes the given column from the returned DataFrame. \n",
    "A new column containing cleaned IBAN strings is added with a title in the format `\"{original title}_clean\"`."
   ]
  },
  {
   "cell_type": "code",
   "execution_count": null,
   "id": "descending-password",
   "metadata": {},
   "outputs": [],
   "source": [
    "clean_me_iban(df, column=\"iban\", inplace=True)"
   ]
  },
  {
   "cell_type": "markdown",
   "id": "natural-scene",
   "metadata": {},
   "source": [
    "## 4. `errors` parameter"
   ]
  },
  {
   "cell_type": "markdown",
   "id": "insured-drink",
   "metadata": {},
   "source": [
    "### `coerce` (default)"
   ]
  },
  {
   "cell_type": "code",
   "execution_count": null,
   "id": "thermal-pittsburgh",
   "metadata": {},
   "outputs": [],
   "source": [
    "clean_me_iban(df, \"iban\", errors=\"coerce\")"
   ]
  },
  {
   "cell_type": "markdown",
   "id": "pressing-wrestling",
   "metadata": {},
   "source": [
    "### `ignore`"
   ]
  },
  {
   "cell_type": "code",
   "execution_count": null,
   "id": "binary-warren",
   "metadata": {},
   "outputs": [],
   "source": [
    "clean_me_iban(df, \"iban\", errors=\"ignore\")"
   ]
  },
  {
   "cell_type": "markdown",
   "id": "informal-renewal",
   "metadata": {},
   "source": [
    "## 4. `validate_me_iban()`"
   ]
  },
  {
   "cell_type": "markdown",
   "id": "immediate-inspector",
   "metadata": {},
   "source": [
    "`validate_me_iban()` returns `True` when the input is a valid IBAN. Otherwise it returns `False`.\n",
    "\n",
    "The input of `validate_me_iban()` can be a string, a Pandas DataSeries, a Dask DataSeries, a Pandas DataFrame and a dask DataFrame.\n",
    "\n",
    "When the input is a string, a Pandas DataSeries or a Dask DataSeries, user doesn't need to specify a column name to be validated. \n",
    "\n",
    "When the input is a Pandas DataFrame or a dask DataFrame, user can both specify or not specify a column name to be validated. If user specify the column name, `validate_me_iban()` only returns the validation result for the specified column. If user doesn't specify the column name, `validate_me_iban()` returns the validation result for the whole DataFrame."
   ]
  },
  {
   "cell_type": "code",
   "execution_count": null,
   "id": "fabulous-leonard",
   "metadata": {},
   "outputs": [],
   "source": [
    "from dataprep.clean import validate_me_iban\n",
    "print(validate_me_iban(\"ME25510000000006234133\"))\n",
    "print(validate_me_iban(\"ME52510000000006234132\"))\n",
    "print(validate_me_iban(\"51824753556\"))\n",
    "print(validate_me_iban(\"51 824 753 556\"))\n",
    "print(validate_me_iban(\"hello\"))\n",
    "print(validate_me_iban(np.nan))\n",
    "print(validate_me_iban(\"NULL\"))"
   ]
  },
  {
   "cell_type": "markdown",
   "id": "documentary-invite",
   "metadata": {},
   "source": [
    "### Series"
   ]
  },
  {
   "cell_type": "code",
   "execution_count": null,
   "id": "excess-assault",
   "metadata": {},
   "outputs": [],
   "source": [
    "validate_me_iban(df[\"iban\"])"
   ]
  },
  {
   "cell_type": "markdown",
   "id": "senior-arrest",
   "metadata": {},
   "source": [
    "### DataFrame + Specify Column"
   ]
  },
  {
   "cell_type": "code",
   "execution_count": null,
   "id": "broke-poster",
   "metadata": {},
   "outputs": [],
   "source": [
    "validate_me_iban(df, column=\"iban\")"
   ]
  },
  {
   "cell_type": "markdown",
   "id": "analyzed-carrier",
   "metadata": {},
   "source": [
    "### Only DataFrame"
   ]
  },
  {
   "cell_type": "code",
   "execution_count": null,
   "id": "professional-recovery",
   "metadata": {
    "scrolled": true
   },
   "outputs": [],
   "source": [
    "validate_me_iban(df)"
   ]
  },
  {
   "cell_type": "code",
   "execution_count": null,
   "id": "chemical-tracker",
   "metadata": {},
   "outputs": [],
   "source": []
  }
 ],
 "metadata": {
  "kernelspec": {
   "display_name": "Python 3",
   "language": "python",
   "name": "python3"
  },
  "language_info": {
   "codemirror_mode": {
    "name": "ipython",
    "version": 3
   },
   "file_extension": ".py",
   "mimetype": "text/x-python",
   "name": "python",
   "nbconvert_exporter": "python",
   "pygments_lexer": "ipython3",
   "version": "3.6.12"
  }
 },
 "nbformat": 4,
 "nbformat_minor": 5
}

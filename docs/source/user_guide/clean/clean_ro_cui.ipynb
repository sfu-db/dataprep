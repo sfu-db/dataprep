{
 "cells": [
  {
   "cell_type": "markdown",
   "id": "cooked-promotion",
   "metadata": {},
   "source": [
    "# Romanian Company Identifiers"
   ]
  },
  {
   "cell_type": "markdown",
   "id": "subtle-webcam",
   "metadata": {},
   "source": [
    "## Introduction"
   ]
  },
  {
   "cell_type": "markdown",
   "id": "general-produce",
   "metadata": {},
   "source": [
    "The function `clean_ro_cui()` cleans a column containing Romanian company identifier (CUI) strings, and standardizes them in a given format. The function `validate_ro_cui()` validates either a single CUI strings, a column of CUI strings or a DataFrame of CUI strings, returning `True` if the value is valid, and `False` otherwise."
   ]
  },
  {
   "cell_type": "markdown",
   "id": "concerned-invitation",
   "metadata": {},
   "source": [
    "CUI strings can be converted to the following formats via the `output_format` parameter:\n",
    "\n",
    "* `compact`: only number strings without any seperators or whitespace, like \"18547290\"\n",
    "* `standard`: CUI strings with proper whitespace in the proper places. Note that in the case of CUI, the compact format is the same as the standard one.\n",
    "\n",
    "Invalid parsing is handled with the `errors` parameter:\n",
    "\n",
    "* `coerce` (default): invalid parsing will be set to NaN\n",
    "* `ignore`: invalid parsing will return the input\n",
    "* `raise`: invalid parsing will raise an exception\n",
    "\n",
    "The following sections demonstrate the functionality of `clean_ro_cui()` and `validate_ro_cui()`. "
   ]
  },
  {
   "cell_type": "markdown",
   "id": "pretty-schedule",
   "metadata": {},
   "source": [
    "### An example dataset containing CUI strings"
   ]
  },
  {
   "cell_type": "code",
   "execution_count": null,
   "id": "random-southeast",
   "metadata": {},
   "outputs": [],
   "source": [
    "import pandas as pd\n",
    "import numpy as np\n",
    "df = pd.DataFrame(\n",
    "    {\n",
    "        \"cui\": [\n",
    "            \"185 472 90\",\n",
    "            \"185 472 91\",\n",
    "            'BE 428759497',\n",
    "            'BE431150351',\n",
    "            \"002 724 334\",\n",
    "            \"hello\",\n",
    "            np.nan,\n",
    "            \"NULL\",\n",
    "        ], \n",
    "        \"address\": [\n",
    "            \"123 Pine Ave.\",\n",
    "            \"main st\",\n",
    "            \"1234 west main heights 57033\",\n",
    "            \"apt 1 789 s maple rd manhattan\",\n",
    "            \"robie house, 789 north main street\",\n",
    "            \"1111 S Figueroa St, Los Angeles, CA 90015\",\n",
    "            \"(staples center) 1111 S Figueroa St, Los Angeles\",\n",
    "            \"hello\",\n",
    "        ]\n",
    "    }\n",
    ")\n",
    "df"
   ]
  },
  {
   "cell_type": "markdown",
   "id": "owned-system",
   "metadata": {},
   "source": [
    "## 1. Default `clean_ro_cui`\n",
    "\n",
    "By default, `clean_ro_cui` will clean cui strings and output them in the standard format with proper separators."
   ]
  },
  {
   "cell_type": "code",
   "execution_count": null,
   "id": "deadly-mayor",
   "metadata": {},
   "outputs": [],
   "source": [
    "from dataprep.clean import clean_ro_cui\n",
    "clean_ro_cui(df, column = \"cui\")"
   ]
  },
  {
   "cell_type": "markdown",
   "id": "derived-stranger",
   "metadata": {},
   "source": [
    "## 2. Output formats"
   ]
  },
  {
   "cell_type": "markdown",
   "id": "automated-broadcasting",
   "metadata": {},
   "source": [
    "This section demonstrates the output parameter."
   ]
  },
  {
   "cell_type": "markdown",
   "id": "breeding-guinea",
   "metadata": {},
   "source": [
    "### `standard` (default)"
   ]
  },
  {
   "cell_type": "code",
   "execution_count": null,
   "id": "controlled-baking",
   "metadata": {},
   "outputs": [],
   "source": [
    "clean_ro_cui(df, column = \"cui\", output_format=\"standard\")"
   ]
  },
  {
   "cell_type": "markdown",
   "id": "cheap-challenge",
   "metadata": {},
   "source": [
    "### `compact`"
   ]
  },
  {
   "cell_type": "code",
   "execution_count": null,
   "id": "reasonable-thesaurus",
   "metadata": {},
   "outputs": [],
   "source": [
    "clean_ro_cui(df, column = \"cui\", output_format=\"compact\")"
   ]
  },
  {
   "cell_type": "markdown",
   "id": "quarterly-albuquerque",
   "metadata": {},
   "source": [
    "## 3. `inplace` parameter\n",
    "\n",
    "This deletes the given column from the returned DataFrame. \n",
    "A new column containing cleaned CUI strings is added with a title in the format `\"{original title}_clean\"`."
   ]
  },
  {
   "cell_type": "code",
   "execution_count": null,
   "id": "spatial-speed",
   "metadata": {},
   "outputs": [],
   "source": [
    "clean_ro_cui(df, column=\"cui\", inplace=True)"
   ]
  },
  {
   "cell_type": "markdown",
   "id": "attended-marsh",
   "metadata": {},
   "source": [
    "## 4. `errors` parameter"
   ]
  },
  {
   "cell_type": "markdown",
   "id": "proper-ebony",
   "metadata": {},
   "source": [
    "### `coerce` (default)"
   ]
  },
  {
   "cell_type": "code",
   "execution_count": null,
   "id": "satisfactory-barcelona",
   "metadata": {},
   "outputs": [],
   "source": [
    "clean_ro_cui(df, \"cui\", errors=\"coerce\")"
   ]
  },
  {
   "cell_type": "markdown",
   "id": "drawn-sixth",
   "metadata": {},
   "source": [
    "### `ignore`"
   ]
  },
  {
   "cell_type": "code",
   "execution_count": null,
   "id": "absolute-africa",
   "metadata": {},
   "outputs": [],
   "source": [
    "clean_ro_cui(df, \"cui\", errors=\"ignore\")"
   ]
  },
  {
   "cell_type": "markdown",
   "id": "comprehensive-symphony",
   "metadata": {},
   "source": [
    "## 4. `validate_ro_cui()`"
   ]
  },
  {
   "cell_type": "markdown",
   "id": "loving-feeding",
   "metadata": {},
   "source": [
    "`validate_ro_cui()` returns `True` when the input is a valid CUI. Otherwise it returns `False`.\n",
    "\n",
    "The input of `validate_ro_cui()` can be a string, a Pandas DataSeries, a Dask DataSeries, a Pandas DataFrame and a dask DataFrame.\n",
    "\n",
    "When the input is a string, a Pandas DataSeries or a Dask DataSeries, user doesn't need to specify a column name to be validated. \n",
    "\n",
    "When the input is a Pandas DataFrame or a dask DataFrame, user can both specify or not specify a column name to be validated. If user specify the column name, `validate_ro_cui()` only returns the validation result for the specified column. If user doesn't specify the column name, `validate_ro_cui()` returns the validation result for the whole DataFrame."
   ]
  },
  {
   "cell_type": "code",
   "execution_count": null,
   "id": "numerous-ceramic",
   "metadata": {},
   "outputs": [],
   "source": [
    "from dataprep.clean import validate_ro_cui\n",
    "print(validate_ro_cui(\"185 472 90\"))\n",
    "print(validate_ro_cui(\"185 472 91\"))\n",
    "print(validate_ro_cui('BE 428759497'))\n",
    "print(validate_ro_cui('BE431150351'))\n",
    "print(validate_ro_cui(\"004085616\"))\n",
    "print(validate_ro_cui(\"hello\"))\n",
    "print(validate_ro_cui(np.nan))\n",
    "print(validate_ro_cui(\"NULL\"))"
   ]
  },
  {
   "cell_type": "markdown",
   "id": "revised-colorado",
   "metadata": {},
   "source": [
    "### Series"
   ]
  },
  {
   "cell_type": "code",
   "execution_count": null,
   "id": "generic-traveler",
   "metadata": {},
   "outputs": [],
   "source": [
    "validate_ro_cui(df[\"cui\"])"
   ]
  },
  {
   "cell_type": "markdown",
   "id": "continental-donna",
   "metadata": {},
   "source": [
    "### DataFrame + Specify Column"
   ]
  },
  {
   "cell_type": "code",
   "execution_count": null,
   "id": "worse-paragraph",
   "metadata": {},
   "outputs": [],
   "source": [
    "validate_ro_cui(df, column=\"cui\")"
   ]
  },
  {
   "cell_type": "markdown",
   "id": "dried-sterling",
   "metadata": {},
   "source": [
    "### Only DataFrame"
   ]
  },
  {
   "cell_type": "code",
   "execution_count": null,
   "id": "artistic-pitch",
   "metadata": {},
   "outputs": [],
   "source": [
    "validate_ro_cui(df)"
   ]
  },
  {
   "cell_type": "code",
   "execution_count": null,
   "id": "arctic-titanium",
   "metadata": {},
   "outputs": [],
   "source": []
  }
 ],
 "metadata": {
  "kernelspec": {
   "display_name": "Python 3",
   "language": "python",
   "name": "python3"
  },
  "language_info": {
   "codemirror_mode": {
    "name": "ipython",
    "version": 3
   },
   "file_extension": ".py",
   "mimetype": "text/x-python",
   "name": "python",
   "nbconvert_exporter": "python",
   "pygments_lexer": "ipython3",
   "version": "3.6.12"
  }
 },
 "nbformat": 4,
 "nbformat_minor": 5
}

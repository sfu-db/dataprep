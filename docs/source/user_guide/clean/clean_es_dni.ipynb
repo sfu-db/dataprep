{
 "cells": [
  {
   "cell_type": "raw",
   "id": "meaningful-criticism",
   "metadata": {},
   "source": [
    ".. _dni_userguide:\n",
    "\n",
    "Spanish Personal Identity Codes\n",
    "==============================="
   ]
  },
  {
   "cell_type": "raw",
   "id": "automated-sharing",
   "metadata": {},
   "source": [
    "Introduction\n",
    "------------\n",
    "\n",
    "The function :func:`clean_es_dni() <dataprep.clean.clean_es_dni.clean_es_dni>` cleans a column containing Spanish personal identity code (DNI) strings, and standardizes them in a given format. The function :func:`validate_es_dni() <dataprep.clean.clean_es_dni.validate_es_dni>` validates either a single DNI strings, a column of DNI strings or a DataFrame of DNI strings, returning `True` if the value is valid, and `False` otherwise."
   ]
  },
  {
   "cell_type": "markdown",
   "id": "disabled-firewall",
   "metadata": {},
   "source": [
    "DNI strings can be converted to the following formats via the `output_format` parameter:\n",
    "\n",
    "* `compact`: only number strings without any seperators or whitespace, like \"54362315K\"\n",
    "* `standard`: DNI strings with proper whitespace in the proper places. Note that in the case of DNI, the compact format is the same as the standard one.\n",
    "\n",
    "Invalid parsing is handled with the `errors` parameter:\n",
    "\n",
    "* `coerce` (default): invalid parsing will be set to NaN\n",
    "* `ignore`: invalid parsing will return the input\n",
    "* `raise`: invalid parsing will raise an exception\n",
    "\n",
    "The following sections demonstrate the functionality of `clean_es_dni()` and `validate_es_dni()`. "
   ]
  },
  {
   "cell_type": "markdown",
   "id": "designing-paris",
   "metadata": {},
   "source": [
    "### An example dataset containing DNI strings"
   ]
  },
  {
   "cell_type": "code",
   "execution_count": null,
   "id": "planned-species",
   "metadata": {},
   "outputs": [],
   "source": [
    "import pandas as pd\n",
    "import numpy as np\n",
    "df = pd.DataFrame(\n",
    "    {\n",
    "        \"dni\": [\n",
    "            '54362315-K',\n",
    "            '54362315',\n",
    "            'BE 428759497',\n",
    "            'BE431150351',\n",
    "            \"002 724 334\",\n",
    "            \"hello\",\n",
    "            np.nan,\n",
    "            \"NULL\",\n",
    "        ], \n",
    "        \"address\": [\n",
    "            \"123 Pine Ave.\",\n",
    "            \"main st\",\n",
    "            \"1234 west main heights 57033\",\n",
    "            \"apt 1 789 s maple rd manhattan\",\n",
    "            \"robie house, 789 north main street\",\n",
    "            \"1111 S Figueroa St, Los Angeles, CA 90015\",\n",
    "            \"(staples center) 1111 S Figueroa St, Los Angeles\",\n",
    "            \"hello\",\n",
    "        ]\n",
    "    }\n",
    ")\n",
    "df"
   ]
  },
  {
   "cell_type": "markdown",
   "id": "fifty-perception",
   "metadata": {},
   "source": [
    "## 1. Default `clean_es_dni`\n",
    "\n",
    "By default, `clean_es_dni` will clean dni strings and output them in the standard format with proper separators."
   ]
  },
  {
   "cell_type": "code",
   "execution_count": null,
   "id": "digital-yemen",
   "metadata": {},
   "outputs": [],
   "source": [
    "from dataprep.clean import clean_es_dni\n",
    "clean_es_dni(df, column = \"dni\")"
   ]
  },
  {
   "cell_type": "markdown",
   "id": "convertible-frost",
   "metadata": {},
   "source": [
    "## 2. Output formats"
   ]
  },
  {
   "cell_type": "markdown",
   "id": "material-tenant",
   "metadata": {},
   "source": [
    "This section demonstrates the output parameter."
   ]
  },
  {
   "cell_type": "markdown",
   "id": "normal-entrance",
   "metadata": {},
   "source": [
    "### `standard` (default)"
   ]
  },
  {
   "cell_type": "code",
   "execution_count": null,
   "id": "unavailable-beads",
   "metadata": {},
   "outputs": [],
   "source": [
    "clean_es_dni(df, column = \"dni\", output_format=\"standard\")"
   ]
  },
  {
   "cell_type": "markdown",
   "id": "musical-premium",
   "metadata": {},
   "source": [
    "### `compact`"
   ]
  },
  {
   "cell_type": "code",
   "execution_count": null,
   "id": "creative-decade",
   "metadata": {},
   "outputs": [],
   "source": [
    "clean_es_dni(df, column = \"dni\", output_format=\"compact\")"
   ]
  },
  {
   "cell_type": "markdown",
   "id": "north-newcastle",
   "metadata": {},
   "source": [
    "## 3. `inplace` parameter\n",
    "\n",
    "This deletes the given column from the returned DataFrame. \n",
    "A new column containing cleaned DNI strings is added with a title in the format `\"{original title}_clean\"`."
   ]
  },
  {
   "cell_type": "code",
   "execution_count": null,
   "id": "independent-tooth",
   "metadata": {},
   "outputs": [],
   "source": [
    "clean_es_dni(df, column=\"dni\", inplace=True)"
   ]
  },
  {
   "cell_type": "markdown",
   "id": "therapeutic-sphere",
   "metadata": {},
   "source": [
    "## 4. `errors` parameter"
   ]
  },
  {
   "cell_type": "markdown",
   "id": "possible-lyric",
   "metadata": {},
   "source": [
    "### `coerce` (default)"
   ]
  },
  {
   "cell_type": "code",
   "execution_count": null,
   "id": "attended-level",
   "metadata": {},
   "outputs": [],
   "source": [
    "clean_es_dni(df, \"dni\", errors=\"coerce\")"
   ]
  },
  {
   "cell_type": "markdown",
   "id": "narrative-husband",
   "metadata": {},
   "source": [
    "### `ignore`"
   ]
  },
  {
   "cell_type": "code",
   "execution_count": null,
   "id": "polished-northeast",
   "metadata": {},
   "outputs": [],
   "source": [
    "clean_es_dni(df, \"dni\", errors=\"ignore\")"
   ]
  },
  {
   "cell_type": "markdown",
   "id": "valuable-wheat",
   "metadata": {},
   "source": [
    "## 4. `validate_es_dni()`"
   ]
  },
  {
   "cell_type": "markdown",
   "id": "expanded-prior",
   "metadata": {},
   "source": [
    "`validate_es_dni()` returns `True` when the input is a valid DNI. Otherwise it returns `False`.\n",
    "\n",
    "The input of `validate_es_dni()` can be a string, a Pandas DataSeries, a Dask DataSeries, a Pandas DataFrame and a dask DataFrame.\n",
    "\n",
    "When the input is a string, a Pandas DataSeries or a Dask DataSeries, user doesn't need to specify a column name to be validated. \n",
    "\n",
    "When the input is a Pandas DataFrame or a dask DataFrame, user can both specify or not specify a column name to be validated. If user specify the column name, `validate_es_dni()` only returns the validation result for the specified column. If user doesn't specify the column name, `validate_es_dni()` returns the validation result for the whole DataFrame."
   ]
  },
  {
   "cell_type": "code",
   "execution_count": null,
   "id": "alien-respect",
   "metadata": {},
   "outputs": [],
   "source": [
    "from dataprep.clean import validate_es_dni\n",
    "print(validate_es_dni(\"54362315-K\"))\n",
    "print(validate_es_dni(\"54362315\"))\n",
    "print(validate_es_dni('BE 428759497'))\n",
    "print(validate_es_dni('BE431150351'))\n",
    "print(validate_es_dni(\"004085616\"))\n",
    "print(validate_es_dni(\"hello\"))\n",
    "print(validate_es_dni(np.nan))\n",
    "print(validate_es_dni(\"NULL\"))"
   ]
  },
  {
   "cell_type": "markdown",
   "id": "wound-muslim",
   "metadata": {},
   "source": [
    "### Series"
   ]
  },
  {
   "cell_type": "code",
   "execution_count": null,
   "id": "declared-median",
   "metadata": {},
   "outputs": [],
   "source": [
    "validate_es_dni(df[\"dni\"])"
   ]
  },
  {
   "cell_type": "markdown",
   "id": "direct-boring",
   "metadata": {},
   "source": [
    "### DataFrame + Specify Column"
   ]
  },
  {
   "cell_type": "code",
   "execution_count": null,
   "id": "embedded-hawaiian",
   "metadata": {},
   "outputs": [],
   "source": [
    "validate_es_dni(df, column=\"dni\")"
   ]
  },
  {
   "cell_type": "markdown",
   "id": "social-honduras",
   "metadata": {},
   "source": [
    "### Only DataFrame"
   ]
  },
  {
   "cell_type": "code",
   "execution_count": null,
   "id": "curious-copying",
   "metadata": {},
   "outputs": [],
   "source": [
    "validate_es_dni(df)"
   ]
  },
  {
   "cell_type": "code",
   "execution_count": null,
   "id": "surface-definition",
   "metadata": {},
   "outputs": [],
   "source": []
  }
 ],
 "metadata": {
  "kernelspec": {
   "display_name": "Python 3",
   "language": "python",
   "name": "python3"
  },
  "language_info": {
   "codemirror_mode": {
    "name": "ipython",
    "version": 3
   },
   "file_extension": ".py",
   "mimetype": "text/x-python",
   "name": "python",
   "nbconvert_exporter": "python",
   "pygments_lexer": "ipython3",
   "version": "3.6.12"
  }
 },
 "nbformat": 4,
 "nbformat_minor": 5
}

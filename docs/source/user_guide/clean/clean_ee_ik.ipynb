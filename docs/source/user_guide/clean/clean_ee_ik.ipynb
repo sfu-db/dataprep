{
 "cells": [
  {
   "cell_type": "markdown",
   "id": "ignored-addition",
   "metadata": {},
   "source": [
    "# Estonian Personcal ID Numbers"
   ]
  },
  {
   "cell_type": "markdown",
   "id": "partial-turkey",
   "metadata": {},
   "source": [
    "## Introduction"
   ]
  },
  {
   "cell_type": "markdown",
   "id": "italic-hunter",
   "metadata": {},
   "source": [
    "The function `clean_ee_ik()` cleans a column containing Estonian Personcal ID number (IK) strings, and standardizes them in a given format. The function `validate_ee_ik()` validates either a single IK strings, a column of IK strings or a DataFrame of IK strings, returning `True` if the value is valid, and `False` otherwise."
   ]
  },
  {
   "cell_type": "markdown",
   "id": "challenging-extraction",
   "metadata": {},
   "source": [
    "IK strings can be converted to the following formats via the `output_format` parameter:\n",
    "\n",
    "* `compact`: only number strings without any seperators or whitespace, like \"36805280109\"\n",
    "* `standard`: IK strings with proper whitespace in the proper places. Note that in the case of IK, the compact format is the same as the standard one.\n",
    "* `birthdate`: split the date parts from the number and return the birth date, like \"1875-03-16\".\n",
    "* `gender`: get the person's birth gender ('M' or 'F').\n",
    "\n",
    "Invalid parsing is handled with the `errors` parameter:\n",
    "\n",
    "* `coerce` (default): invalid parsing will be set to NaN\n",
    "* `ignore`: invalid parsing will return the input\n",
    "* `raise`: invalid parsing will raise an exception\n",
    "\n",
    "The following sections demonstrate the functionality of `clean_ee_ik()` and `validate_ee_ik()`. "
   ]
  },
  {
   "cell_type": "markdown",
   "id": "entitled-community",
   "metadata": {},
   "source": [
    "### An example dataset containing IK strings"
   ]
  },
  {
   "cell_type": "code",
   "execution_count": null,
   "id": "flying-chamber",
   "metadata": {},
   "outputs": [],
   "source": [
    "import pandas as pd\n",
    "import numpy as np\n",
    "df = pd.DataFrame(\n",
    "    {\n",
    "        \"ik\": [\n",
    "            '36805280109',\n",
    "            '36805280108',\n",
    "            '7542011030',\n",
    "            '7552A10004',  # invalid digit\n",
    "            '8019010008',  # invalid date\n",
    "            \"hello\",\n",
    "            np.nan,\n",
    "            \"NULL\",\n",
    "        ], \n",
    "        \"address\": [\n",
    "            \"123 Pine Ave.\",\n",
    "            \"main st\",\n",
    "            \"1234 west main heights 57033\",\n",
    "            \"apt 1 789 s maple rd manhattan\",\n",
    "            \"robie house, 789 north main street\",\n",
    "            \"1111 S Figueroa St, Los Angeles, CA 90015\",\n",
    "            \"(staples center) 1111 S Figueroa St, Los Angeles\",\n",
    "            \"hello\",\n",
    "        ]\n",
    "    }\n",
    ")\n",
    "df"
   ]
  },
  {
   "cell_type": "markdown",
   "id": "fantastic-sellers",
   "metadata": {},
   "source": [
    "## 1. Default `clean_ee_ik`\n",
    "\n",
    "By default, `clean_ee_ik` will clean ik strings and output them in the standard format with proper separators."
   ]
  },
  {
   "cell_type": "code",
   "execution_count": null,
   "id": "according-president",
   "metadata": {},
   "outputs": [],
   "source": [
    "from dataprep.clean import clean_ee_ik\n",
    "clean_ee_ik(df, column = \"ik\")"
   ]
  },
  {
   "cell_type": "markdown",
   "id": "timely-translator",
   "metadata": {},
   "source": [
    "## 2. Output formats"
   ]
  },
  {
   "cell_type": "markdown",
   "id": "trying-closer",
   "metadata": {},
   "source": [
    "This section demonstrates the output parameter."
   ]
  },
  {
   "cell_type": "markdown",
   "id": "returning-discount",
   "metadata": {},
   "source": [
    "### `standard` (default)"
   ]
  },
  {
   "cell_type": "code",
   "execution_count": null,
   "id": "automatic-anime",
   "metadata": {},
   "outputs": [],
   "source": [
    "clean_ee_ik(df, column = \"ik\", output_format=\"standard\")"
   ]
  },
  {
   "cell_type": "markdown",
   "id": "executive-protection",
   "metadata": {},
   "source": [
    "### `compact`"
   ]
  },
  {
   "cell_type": "code",
   "execution_count": null,
   "id": "varying-cigarette",
   "metadata": {},
   "outputs": [],
   "source": [
    "clean_ee_ik(df, column = \"ik\", output_format=\"compact\")"
   ]
  },
  {
   "cell_type": "markdown",
   "id": "electric-despite",
   "metadata": {},
   "source": [
    "### `birthdate`"
   ]
  },
  {
   "cell_type": "code",
   "execution_count": null,
   "id": "burning-experiment",
   "metadata": {},
   "outputs": [],
   "source": [
    "clean_ee_ik(df, column = \"ik\", output_format=\"birthdate\")"
   ]
  },
  {
   "cell_type": "markdown",
   "id": "equipped-translator",
   "metadata": {},
   "source": [
    "## 3. `inplace` parameter\n",
    "\n",
    "This deletes the given column from the returned DataFrame. \n",
    "A new column containing cleaned IK strings is added with a title in the format `\"{original title}_clean\"`."
   ]
  },
  {
   "cell_type": "code",
   "execution_count": null,
   "id": "backed-excerpt",
   "metadata": {},
   "outputs": [],
   "source": [
    "clean_ee_ik(df, column=\"ik\", inplace=True)"
   ]
  },
  {
   "cell_type": "markdown",
   "id": "laden-rental",
   "metadata": {},
   "source": [
    "## 4. `errors` parameter"
   ]
  },
  {
   "cell_type": "markdown",
   "id": "celtic-mountain",
   "metadata": {},
   "source": [
    "### `coerce` (default)"
   ]
  },
  {
   "cell_type": "code",
   "execution_count": null,
   "id": "subsequent-intro",
   "metadata": {},
   "outputs": [],
   "source": [
    "clean_ee_ik(df, \"ik\", errors=\"coerce\")"
   ]
  },
  {
   "cell_type": "markdown",
   "id": "faced-vanilla",
   "metadata": {},
   "source": [
    "### `ignore`"
   ]
  },
  {
   "cell_type": "code",
   "execution_count": null,
   "id": "personal-feelings",
   "metadata": {},
   "outputs": [],
   "source": [
    "clean_ee_ik(df, \"ik\", errors=\"ignore\")"
   ]
  },
  {
   "cell_type": "markdown",
   "id": "loving-landscape",
   "metadata": {},
   "source": [
    "## 4. `validate_ee_ik()`"
   ]
  },
  {
   "cell_type": "markdown",
   "id": "recent-clinic",
   "metadata": {},
   "source": [
    "`validate_ee_ik()` returns `True` when the input is a valid IK. Otherwise it returns `False`.\n",
    "\n",
    "The input of `validate_ee_ik()` can be a string, a Pandas DataSeries, a Dask DataSeries, a Pandas DataFrame and a dask DataFrame.\n",
    "\n",
    "When the input is a string, a Pandas DataSeries or a Dask DataSeries, user doesn't need to specify a column name to be validated. \n",
    "\n",
    "When the input is a Pandas DataFrame or a dask DataFrame, user can both specify or not specify a column name to be validated. If user specify the column name, `validate_ee_ik()` only returns the validation result for the specified column. If user doesn't specify the column name, `validate_ee_ik()` returns the validation result for the whole DataFrame."
   ]
  },
  {
   "cell_type": "code",
   "execution_count": null,
   "id": "worthy-onion",
   "metadata": {},
   "outputs": [],
   "source": [
    "from dataprep.clean import validate_ee_ik\n",
    "print(validate_ee_ik('36805280109'))\n",
    "print(validate_ee_ik('36805280108'))\n",
    "print(validate_ee_ik('7542011030'))\n",
    "print(validate_ee_ik('7552A10004'))\n",
    "print(validate_ee_ik('8019010008'))\n",
    "print(validate_ee_ik(\"hello\"))\n",
    "print(validate_ee_ik(np.nan))\n",
    "print(validate_ee_ik(\"NULL\"))"
   ]
  },
  {
   "cell_type": "markdown",
   "id": "destroyed-concord",
   "metadata": {},
   "source": [
    "### Series"
   ]
  },
  {
   "cell_type": "code",
   "execution_count": null,
   "id": "elementary-hardware",
   "metadata": {},
   "outputs": [],
   "source": [
    "validate_ee_ik(df[\"ik\"])"
   ]
  },
  {
   "cell_type": "markdown",
   "id": "numeric-liabilities",
   "metadata": {},
   "source": [
    "### DataFrame + Specify Column"
   ]
  },
  {
   "cell_type": "code",
   "execution_count": null,
   "id": "activated-jimmy",
   "metadata": {},
   "outputs": [],
   "source": [
    "validate_ee_ik(df, column=\"ik\")"
   ]
  },
  {
   "cell_type": "markdown",
   "id": "greek-balance",
   "metadata": {},
   "source": [
    "### Only DataFrame"
   ]
  },
  {
   "cell_type": "code",
   "execution_count": null,
   "id": "imported-realtor",
   "metadata": {},
   "outputs": [],
   "source": [
    "validate_ee_ik(df)"
   ]
  },
  {
   "cell_type": "code",
   "execution_count": null,
   "id": "hindu-resort",
   "metadata": {},
   "outputs": [],
   "source": []
  }
 ],
 "metadata": {
  "kernelspec": {
   "display_name": "Python 3",
   "language": "python",
   "name": "python3"
  },
  "language_info": {
   "codemirror_mode": {
    "name": "ipython",
    "version": 3
   },
   "file_extension": ".py",
   "mimetype": "text/x-python",
   "name": "python",
   "nbconvert_exporter": "python",
   "pygments_lexer": "ipython3",
   "version": "3.6.12"
  }
 },
 "nbformat": 4,
 "nbformat_minor": 5
}

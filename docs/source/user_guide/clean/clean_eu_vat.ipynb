{
 "cells": [
  {
   "cell_type": "raw",
   "id": "worst-input",
   "metadata": {},
   "source": [
    ".. _vat_userguide:\n",
    "\n",
    "European VAT Numbers\n",
    "===================="
   ]
  },
  {
   "cell_type": "raw",
   "id": "advance-faith",
   "metadata": {},
   "source": [
    "Introduction\n",
    "------------\n",
    "\n",
    "The function :func:`clean_eu_vat() <dataprep.clean.clean_eu_vat.clean_eu_vat>` cleans a column containing European VAT number (VAT) strings, and standardizes them in a given format. The function :func:`validate_eu_vat() <dataprep.clean.clean_eu_vat.validate_eu_vat>` validates either a single VAT strings, a column of VAT strings or a DataFrame of VAT strings, returning `True` if the value is valid, and `False` otherwise."
   ]
  },
  {
   "cell_type": "markdown",
   "id": "optional-jacob",
   "metadata": {},
   "source": [
    "VAT strings can be converted to the following formats via the `output_format` parameter:\n",
    "\n",
    "* `compact`: only number strings without any seperators or whitespace, like \"ATU57194903\"\n",
    "* `standard`: VAT strings with proper whitespace in the proper places. Note that in the case of VAT, the compact format is the same as the standard one.\n",
    "* `country`: guess the country code based on the number and return a list of valid and lower case codes, like \"[at]\".\n",
    "\n",
    "Invalid parsing is handled with the `errors` parameter:\n",
    "\n",
    "* `coerce` (default): invalid parsing will be set to NaN\n",
    "* `ignore`: invalid parsing will return the input\n",
    "* `raise`: invalid parsing will raise an exception\n",
    "\n",
    "The following sections demonstrate the functionality of `clean_eu_vat()` and `validate_eu_vat()`. "
   ]
  },
  {
   "cell_type": "markdown",
   "id": "handmade-slovakia",
   "metadata": {},
   "source": [
    "### An example dataset containing VAT strings"
   ]
  },
  {
   "cell_type": "code",
   "execution_count": null,
   "id": "amateur-structure",
   "metadata": {},
   "outputs": [],
   "source": [
    "import pandas as pd\n",
    "import numpy as np\n",
    "df = pd.DataFrame(\n",
    "    {\n",
    "        \"vat\": [\n",
    "            'ATU 57194903',\n",
    "            'FR 61 954 506 077',\n",
    "            '7542011030',\n",
    "            '7552A10004',\n",
    "            '8019010008',\n",
    "            \"hello\",\n",
    "            np.nan,\n",
    "            \"NULL\",\n",
    "        ], \n",
    "        \"address\": [\n",
    "            \"123 Pine Ave.\",\n",
    "            \"main st\",\n",
    "            \"1234 west main heights 57033\",\n",
    "            \"apt 1 789 s maple rd manhattan\",\n",
    "            \"robie house, 789 north main street\",\n",
    "            \"1111 S Figueroa St, Los Angeles, CA 90015\",\n",
    "            \"(staples center) 1111 S Figueroa St, Los Angeles\",\n",
    "            \"hello\",\n",
    "        ]\n",
    "    }\n",
    ")\n",
    "df"
   ]
  },
  {
   "cell_type": "markdown",
   "id": "reported-above",
   "metadata": {},
   "source": [
    "## 1. Default `clean_eu_vat`\n",
    "\n",
    "By default, `clean_eu_vat` will clean vat strings and output them in the standard format with proper separators."
   ]
  },
  {
   "cell_type": "code",
   "execution_count": null,
   "id": "narrative-account",
   "metadata": {},
   "outputs": [],
   "source": [
    "from dataprep.clean import clean_eu_vat\n",
    "clean_eu_vat(df, column = \"vat\")"
   ]
  },
  {
   "cell_type": "markdown",
   "id": "liquid-stadium",
   "metadata": {},
   "source": [
    "## 2. Output formats"
   ]
  },
  {
   "cell_type": "markdown",
   "id": "educated-louisiana",
   "metadata": {},
   "source": [
    "This section demonstrates the output parameter."
   ]
  },
  {
   "cell_type": "markdown",
   "id": "prompt-drove",
   "metadata": {},
   "source": [
    "### `standard` (default)"
   ]
  },
  {
   "cell_type": "code",
   "execution_count": null,
   "id": "ready-retro",
   "metadata": {},
   "outputs": [],
   "source": [
    "clean_eu_vat(df, column = \"vat\", output_format=\"standard\")"
   ]
  },
  {
   "cell_type": "markdown",
   "id": "civilian-kidney",
   "metadata": {},
   "source": [
    "### `compact`"
   ]
  },
  {
   "cell_type": "code",
   "execution_count": null,
   "id": "running-superintendent",
   "metadata": {},
   "outputs": [],
   "source": [
    "clean_eu_vat(df, column = \"vat\", output_format=\"compact\")"
   ]
  },
  {
   "cell_type": "markdown",
   "id": "pacific-stock",
   "metadata": {},
   "source": [
    "### `country`"
   ]
  },
  {
   "cell_type": "code",
   "execution_count": null,
   "id": "conceptual-ceiling",
   "metadata": {
    "scrolled": true
   },
   "outputs": [],
   "source": [
    "clean_eu_vat(df, column = \"vat\", output_format=\"country\")"
   ]
  },
  {
   "cell_type": "markdown",
   "id": "ideal-terminal",
   "metadata": {},
   "source": [
    "## 3. `inplace` parameter\n",
    "\n",
    "This deletes the given column from the returned DataFrame. \n",
    "A new column containing cleaned VAT strings is added with a title in the format `\"{original title}_clean\"`."
   ]
  },
  {
   "cell_type": "code",
   "execution_count": null,
   "id": "expensive-temple",
   "metadata": {},
   "outputs": [],
   "source": [
    "clean_eu_vat(df, column=\"vat\", inplace=True)"
   ]
  },
  {
   "cell_type": "markdown",
   "id": "worth-savings",
   "metadata": {},
   "source": [
    "## 4. `errors` parameter"
   ]
  },
  {
   "cell_type": "markdown",
   "id": "early-trance",
   "metadata": {},
   "source": [
    "### `coerce` (default)"
   ]
  },
  {
   "cell_type": "code",
   "execution_count": null,
   "id": "unlike-priority",
   "metadata": {},
   "outputs": [],
   "source": [
    "clean_eu_vat(df, \"vat\", errors=\"coerce\")"
   ]
  },
  {
   "cell_type": "markdown",
   "id": "premier-gregory",
   "metadata": {},
   "source": [
    "### `ignore`"
   ]
  },
  {
   "cell_type": "code",
   "execution_count": null,
   "id": "martial-edition",
   "metadata": {},
   "outputs": [],
   "source": [
    "clean_eu_vat(df, \"vat\", errors=\"ignore\")"
   ]
  },
  {
   "cell_type": "markdown",
   "id": "electoral-quantum",
   "metadata": {},
   "source": [
    "## 4. `validate_eu_vat()`"
   ]
  },
  {
   "cell_type": "markdown",
   "id": "closed-fleet",
   "metadata": {},
   "source": [
    "`validate_eu_vat()` returns `True` when the input is a valid VAT. Otherwise it returns `False`.\n",
    "\n",
    "The input of `validate_eu_vat()` can be a string, a Pandas DataSeries, a Dask DataSeries, a Pandas DataFrame and a dask DataFrame.\n",
    "\n",
    "When the input is a string, a Pandas DataSeries or a Dask DataSeries, user doesn't need to specify a column name to be validated. \n",
    "\n",
    "When the input is a Pandas DataFrame or a dask DataFrame, user can both specify or not specify a column name to be validated. If user specify the column name, `validate_eu_vat()` only returns the validation result for the specified column. If user doesn't specify the column name, `validate_eu_vat()` returns the validation result for the whole DataFrame."
   ]
  },
  {
   "cell_type": "code",
   "execution_count": null,
   "id": "attractive-vocabulary",
   "metadata": {},
   "outputs": [],
   "source": [
    "from dataprep.clean import validate_eu_vat\n",
    "print(validate_eu_vat('ATU 57194903'))\n",
    "print(validate_eu_vat('FR 61 954 506 077'))\n",
    "print(validate_eu_vat('7542011030'))\n",
    "print(validate_eu_vat('7552A10004'))\n",
    "print(validate_eu_vat('8019010008'))\n",
    "print(validate_eu_vat(\"hello\"))\n",
    "print(validate_eu_vat(np.nan))\n",
    "print(validate_eu_vat(\"NULL\"))"
   ]
  },
  {
   "cell_type": "markdown",
   "id": "nonprofit-january",
   "metadata": {},
   "source": [
    "### Series"
   ]
  },
  {
   "cell_type": "code",
   "execution_count": null,
   "id": "intimate-proxy",
   "metadata": {},
   "outputs": [],
   "source": [
    "validate_eu_vat(df[\"vat\"])"
   ]
  },
  {
   "cell_type": "markdown",
   "id": "sporting-battlefield",
   "metadata": {},
   "source": [
    "### DataFrame + Specify Column"
   ]
  },
  {
   "cell_type": "code",
   "execution_count": null,
   "id": "express-weekly",
   "metadata": {},
   "outputs": [],
   "source": [
    "validate_eu_vat(df, column=\"vat\")"
   ]
  },
  {
   "cell_type": "markdown",
   "id": "spectacular-seven",
   "metadata": {},
   "source": [
    "### Only DataFrame"
   ]
  },
  {
   "cell_type": "code",
   "execution_count": null,
   "id": "organic-norway",
   "metadata": {},
   "outputs": [],
   "source": [
    "validate_eu_vat(df)"
   ]
  },
  {
   "cell_type": "code",
   "execution_count": null,
   "id": "exact-carol",
   "metadata": {},
   "outputs": [],
   "source": []
  }
 ],
 "metadata": {
  "kernelspec": {
   "display_name": "Python 3",
   "language": "python",
   "name": "python3"
  },
  "language_info": {
   "codemirror_mode": {
    "name": "ipython",
    "version": 3
   },
   "file_extension": ".py",
   "mimetype": "text/x-python",
   "name": "python",
   "nbconvert_exporter": "python",
   "pygments_lexer": "ipython3",
   "version": "3.6.12"
  }
 },
 "nbformat": 4,
 "nbformat_minor": 5
}

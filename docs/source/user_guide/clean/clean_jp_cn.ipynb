{
 "cells": [
  {
   "cell_type": "markdown",
   "id": "intellectual-ancient",
   "metadata": {},
   "source": [
    "# Japanese Corporate Numbers"
   ]
  },
  {
   "cell_type": "markdown",
   "id": "included-crazy",
   "metadata": {},
   "source": [
    "## Introduction"
   ]
  },
  {
   "cell_type": "markdown",
   "id": "recognized-american",
   "metadata": {},
   "source": [
    "The function `clean_jp_cn()` cleans a column containing Japanese Corporate Number (CN) strings, and standardizes them in a given format. The function `validate_jp_cn()` validates either a single CN strings, a column of CN strings or a DataFrame of CN strings, returning `True` if the value is valid, and `False` otherwise."
   ]
  },
  {
   "cell_type": "markdown",
   "id": "dynamic-script",
   "metadata": {},
   "source": [
    "CN strings can be converted to the following formats via the `output_format` parameter:\n",
    "\n",
    "* `compact`: only number strings without any seperators or whitespace, like \"5835678256246\"\n",
    "* `standard`: CN strings with proper whitespace in the proper places, like \"5-8356-7825-6246\"\n",
    "\n",
    "Invalid parsing is handled with the `errors` parameter:\n",
    "\n",
    "* `coerce` (default): invalid parsing will be set to NaN\n",
    "* `ignore`: invalid parsing will return the input\n",
    "* `raise`: invalid parsing will raise an exception\n",
    "\n",
    "The following sections demonstrate the functionality of `clean_jp_cn()` and `validate_jp_cn()`. "
   ]
  },
  {
   "cell_type": "markdown",
   "id": "based-easter",
   "metadata": {},
   "source": [
    "### An example dataset containing CN strings"
   ]
  },
  {
   "cell_type": "code",
   "execution_count": null,
   "id": "apparent-ground",
   "metadata": {},
   "outputs": [],
   "source": [
    "import pandas as pd\n",
    "import numpy as np\n",
    "df = pd.DataFrame(\n",
    "    {\n",
    "        \"cn\": [\n",
    "            \"5835678256246\",\n",
    "            \"2-8356-7825-6246\",\n",
    "            \"51824753556\",\n",
    "            \"51 824 753 556\",\n",
    "            \"hello\",\n",
    "            np.nan,\n",
    "            \"NULL\"\n",
    "        ], \n",
    "        \"address\": [\n",
    "            \"123 Pine Ave.\",\n",
    "            \"main st\",\n",
    "            \"1234 west main heights 57033\",\n",
    "            \"apt 1 789 s maple rd manhattan\",\n",
    "            \"robie house, 789 north main street\",\n",
    "            \"(staples center) 1111 S Figueroa St, Los Angeles\",\n",
    "            \"hello\",\n",
    "        ]\n",
    "    }\n",
    ")\n",
    "df"
   ]
  },
  {
   "cell_type": "markdown",
   "id": "future-failing",
   "metadata": {},
   "source": [
    "## 1. Default `clean_jp_cn`\n",
    "\n",
    "By default, `clean_jp_cn` will clean cn strings and output them in the standard format with proper separators."
   ]
  },
  {
   "cell_type": "code",
   "execution_count": null,
   "id": "asian-heart",
   "metadata": {},
   "outputs": [],
   "source": [
    "from dataprep.clean import clean_jp_cn\n",
    "clean_jp_cn(df, column = \"cn\")"
   ]
  },
  {
   "cell_type": "markdown",
   "id": "incorrect-blogger",
   "metadata": {},
   "source": [
    "## 2. Output formats"
   ]
  },
  {
   "cell_type": "markdown",
   "id": "endangered-beatles",
   "metadata": {},
   "source": [
    "This section demonstrates the output parameter."
   ]
  },
  {
   "cell_type": "markdown",
   "id": "adapted-projection",
   "metadata": {},
   "source": [
    "### `standard` (default)"
   ]
  },
  {
   "cell_type": "code",
   "execution_count": null,
   "id": "deluxe-migration",
   "metadata": {},
   "outputs": [],
   "source": [
    "clean_jp_cn(df, column = \"cn\", output_format=\"standard\")"
   ]
  },
  {
   "cell_type": "markdown",
   "id": "moderate-skirt",
   "metadata": {},
   "source": [
    "### `compact`"
   ]
  },
  {
   "cell_type": "code",
   "execution_count": null,
   "id": "romantic-debut",
   "metadata": {},
   "outputs": [],
   "source": [
    "clean_jp_cn(df, column = \"cn\", output_format=\"compact\")"
   ]
  },
  {
   "cell_type": "markdown",
   "id": "rapid-character",
   "metadata": {},
   "source": [
    "## 3. `inplace` parameter\n",
    "\n",
    "This deletes the given column from the returned DataFrame. \n",
    "A new column containing cleaned CN strings is added with a title in the format `\"{original title}_clean\"`."
   ]
  },
  {
   "cell_type": "code",
   "execution_count": null,
   "id": "historical-oregon",
   "metadata": {},
   "outputs": [],
   "source": [
    "clean_jp_cn(df, column=\"cn\", inplace=True)"
   ]
  },
  {
   "cell_type": "markdown",
   "id": "italian-topic",
   "metadata": {},
   "source": [
    "## 4. `errors` parameter"
   ]
  },
  {
   "cell_type": "markdown",
   "id": "precise-firmware",
   "metadata": {},
   "source": [
    "### `coerce` (default)"
   ]
  },
  {
   "cell_type": "code",
   "execution_count": null,
   "id": "blind-medline",
   "metadata": {},
   "outputs": [],
   "source": [
    "clean_jp_cn(df, \"cn\", errors=\"coerce\")"
   ]
  },
  {
   "cell_type": "markdown",
   "id": "similar-dubai",
   "metadata": {},
   "source": [
    "### `ignore`"
   ]
  },
  {
   "cell_type": "code",
   "execution_count": null,
   "id": "previous-setup",
   "metadata": {},
   "outputs": [],
   "source": [
    "clean_jp_cn(df, \"cn\", errors=\"ignore\")"
   ]
  },
  {
   "cell_type": "markdown",
   "id": "brilliant-cooking",
   "metadata": {},
   "source": [
    "## 4. `validate_jp_cn()`"
   ]
  },
  {
   "cell_type": "markdown",
   "id": "religious-andorra",
   "metadata": {},
   "source": [
    "`validate_jp_cn()` returns `True` when the input is a valid CN. Otherwise it returns `False`.\n",
    "\n",
    "The input of `validate_jp_cn()` can be a string, a Pandas DataSeries, a Dask DataSeries, a Pandas DataFrame and a dask DataFrame.\n",
    "\n",
    "When the input is a string, a Pandas DataSeries or a Dask DataSeries, user doesn't need to specify a column name to be validated. \n",
    "\n",
    "When the input is a Pandas DataFrame or a dask DataFrame, user can both specify or not specify a column name to be validated. If user specify the column name, `validate_jp_cn()` only returns the validation result for the specified column. If user doesn't specify the column name, `validate_jp_cn()` returns the validation result for the whole DataFrame."
   ]
  },
  {
   "cell_type": "code",
   "execution_count": null,
   "id": "union-calculator",
   "metadata": {},
   "outputs": [],
   "source": [
    "from dataprep.clean import validate_jp_cn\n",
    "print(validate_jp_cn(\"5835678256246\"))\n",
    "print(validate_jp_cn(\"2-8356-7825-6246\"))\n",
    "print(validate_jp_cn(\"51824753556\"))\n",
    "print(validate_jp_cn(\"51 824 753 556\"))\n",
    "print(validate_jp_cn(\"hello\"))\n",
    "print(validate_jp_cn(np.nan))\n",
    "print(validate_jp_cn(\"NULL\"))"
   ]
  },
  {
   "cell_type": "markdown",
   "id": "accurate-industry",
   "metadata": {},
   "source": [
    "### Series"
   ]
  },
  {
   "cell_type": "code",
   "execution_count": null,
   "id": "august-restriction",
   "metadata": {},
   "outputs": [],
   "source": [
    "validate_jp_cn(df[\"cn\"])"
   ]
  },
  {
   "cell_type": "markdown",
   "id": "virgin-template",
   "metadata": {},
   "source": [
    "### DataFrame + Specify Column"
   ]
  },
  {
   "cell_type": "code",
   "execution_count": null,
   "id": "accepted-mixer",
   "metadata": {},
   "outputs": [],
   "source": [
    "validate_jp_cn(df, column=\"cn\")"
   ]
  },
  {
   "cell_type": "markdown",
   "id": "usual-cross",
   "metadata": {},
   "source": [
    "### Only DataFrame"
   ]
  },
  {
   "cell_type": "code",
   "execution_count": null,
   "id": "beautiful-evening",
   "metadata": {
    "scrolled": true
   },
   "outputs": [],
   "source": [
    "validate_jp_cn(df)"
   ]
  },
  {
   "cell_type": "code",
   "execution_count": null,
   "id": "residential-china",
   "metadata": {},
   "outputs": [],
   "source": []
  }
 ],
 "metadata": {
  "kernelspec": {
   "display_name": "Python 3",
   "language": "python",
   "name": "python3"
  },
  "language_info": {
   "codemirror_mode": {
    "name": "ipython",
    "version": 3
   },
   "file_extension": ".py",
   "mimetype": "text/x-python",
   "name": "python",
   "nbconvert_exporter": "python",
   "pygments_lexer": "ipython3",
   "version": "3.6.12"
  }
 },
 "nbformat": 4,
 "nbformat_minor": 5
}

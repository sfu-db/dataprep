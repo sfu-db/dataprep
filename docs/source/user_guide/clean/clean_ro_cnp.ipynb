{
 "cells": [
  {
   "cell_type": "raw",
   "id": "economic-collect",
   "metadata": {},
   "source": [
    ".. _cnp_userguide:\n",
    "\n",
    "Romanian Numerical Personal Codes\n",
    "================================="
   ]
  },
  {
   "cell_type": "raw",
   "id": "worth-mathematics",
   "metadata": {},
   "source": [
    "Introduction\n",
    "------------\n",
    "\n",
    "The function :func:`clean_ro_cnp() <dataprep.clean.clean_ro_cnp.clean_ro_cnp>` cleans a column containing Romanian Numerical Personal Code (CNP) strings, and standardizes them in a given format. The function :func:`validate_ro_cnp() <dataprep.clean.clean_ro_cnp.validate_ro_cnp>` validates either a single CNP strings, a column of CNP strings or a DataFrame of CNP strings, returning `True` if the value is valid, and `False` otherwise."
   ]
  },
  {
   "cell_type": "markdown",
   "id": "adjacent-necklace",
   "metadata": {},
   "source": [
    "CNP strings can be converted to the following formats via the `output_format` parameter:\n",
    "\n",
    "* `compact`: only number strings without any seperators or whitespace, like \"1630615123457\"\n",
    "* `standard`: CNP strings with proper whitespace in the proper places. Note that in the case of CNP, the compact format is the same as the standard one.\n",
    "* `birthdate`: split the date parts from the number and return the birth date, like \"1875-03-16\".\n",
    "\n",
    "Invalid parsing is handled with the `errors` parameter:\n",
    "\n",
    "* `coerce` (default): invalid parsing will be set to NaN\n",
    "* `ignore`: invalid parsing will return the input\n",
    "* `raise`: invalid parsing will raise an exception\n",
    "\n",
    "The following sections demonstrate the functionality of `clean_ro_cnp()` and `validate_ro_cnp()`. "
   ]
  },
  {
   "cell_type": "markdown",
   "id": "moving-transcription",
   "metadata": {},
   "source": [
    "### An example dataset containing CNP strings"
   ]
  },
  {
   "cell_type": "code",
   "execution_count": null,
   "id": "minor-canon",
   "metadata": {},
   "outputs": [],
   "source": [
    "import pandas as pd\n",
    "import numpy as np\n",
    "df = pd.DataFrame(\n",
    "    {\n",
    "        \"cnp\": [\n",
    "            \"1630615123457\",\n",
    "            \"0800101221142\",\n",
    "            '7542011030',\n",
    "            '7552A10004', \n",
    "            '8019010008',\n",
    "            \"hello\",\n",
    "            np.nan,\n",
    "            \"NULL\",\n",
    "        ], \n",
    "        \"address\": [\n",
    "            \"123 Pine Ave.\",\n",
    "            \"main st\",\n",
    "            \"1234 west main heights 57033\",\n",
    "            \"apt 1 789 s maple rd manhattan\",\n",
    "            \"robie house, 789 north main street\",\n",
    "            \"1111 S Figueroa St, Los Angeles, CA 90015\",\n",
    "            \"(staples center) 1111 S Figueroa St, Los Angeles\",\n",
    "            \"hello\",\n",
    "        ]\n",
    "    }\n",
    ")\n",
    "df"
   ]
  },
  {
   "cell_type": "markdown",
   "id": "metric-reputation",
   "metadata": {},
   "source": [
    "## 1. Default `clean_ro_cnp`\n",
    "\n",
    "By default, `clean_ro_cnp` will clean cnp strings and output them in the standard format with proper separators."
   ]
  },
  {
   "cell_type": "code",
   "execution_count": null,
   "id": "accurate-exhibit",
   "metadata": {},
   "outputs": [],
   "source": [
    "from dataprep.clean import clean_ro_cnp\n",
    "clean_ro_cnp(df, column = \"cnp\")"
   ]
  },
  {
   "cell_type": "markdown",
   "id": "convertible-transcription",
   "metadata": {},
   "source": [
    "## 2. Output formats"
   ]
  },
  {
   "cell_type": "markdown",
   "id": "enhanced-brighton",
   "metadata": {},
   "source": [
    "This section demonstrates the output parameter."
   ]
  },
  {
   "cell_type": "markdown",
   "id": "numerical-firmware",
   "metadata": {},
   "source": [
    "### `standard` (default)"
   ]
  },
  {
   "cell_type": "code",
   "execution_count": null,
   "id": "hidden-penetration",
   "metadata": {},
   "outputs": [],
   "source": [
    "clean_ro_cnp(df, column = \"cnp\", output_format=\"standard\")"
   ]
  },
  {
   "cell_type": "markdown",
   "id": "graduate-athletics",
   "metadata": {},
   "source": [
    "### `compact`"
   ]
  },
  {
   "cell_type": "code",
   "execution_count": null,
   "id": "presidential-watershed",
   "metadata": {},
   "outputs": [],
   "source": [
    "clean_ro_cnp(df, column = \"cnp\", output_format=\"compact\")"
   ]
  },
  {
   "cell_type": "markdown",
   "id": "complicated-mapping",
   "metadata": {},
   "source": [
    "### `birthdate`"
   ]
  },
  {
   "cell_type": "code",
   "execution_count": null,
   "id": "civil-judge",
   "metadata": {},
   "outputs": [],
   "source": [
    "clean_ro_cnp(df, column = \"cnp\", output_format=\"birthdate\")"
   ]
  },
  {
   "cell_type": "markdown",
   "id": "refined-optimization",
   "metadata": {},
   "source": [
    "## 3. `inplace` parameter\n",
    "\n",
    "This deletes the given column from the returned DataFrame. \n",
    "A new column containing cleaned CNP strings is added with a title in the format `\"{original title}_clean\"`."
   ]
  },
  {
   "cell_type": "code",
   "execution_count": null,
   "id": "first-disclaimer",
   "metadata": {},
   "outputs": [],
   "source": [
    "clean_ro_cnp(df, column=\"cnp\", inplace=True)"
   ]
  },
  {
   "cell_type": "markdown",
   "id": "front-twist",
   "metadata": {},
   "source": [
    "## 4. `errors` parameter"
   ]
  },
  {
   "cell_type": "markdown",
   "id": "favorite-glass",
   "metadata": {},
   "source": [
    "### `coerce` (default)"
   ]
  },
  {
   "cell_type": "code",
   "execution_count": null,
   "id": "cutting-african",
   "metadata": {},
   "outputs": [],
   "source": [
    "clean_ro_cnp(df, \"cnp\", errors=\"coerce\")"
   ]
  },
  {
   "cell_type": "markdown",
   "id": "technical-cutting",
   "metadata": {},
   "source": [
    "### `ignore`"
   ]
  },
  {
   "cell_type": "code",
   "execution_count": null,
   "id": "moved-contact",
   "metadata": {},
   "outputs": [],
   "source": [
    "clean_ro_cnp(df, \"cnp\", errors=\"ignore\")"
   ]
  },
  {
   "cell_type": "markdown",
   "id": "desperate-painting",
   "metadata": {},
   "source": [
    "## 4. `validate_ro_cnp()`"
   ]
  },
  {
   "cell_type": "markdown",
   "id": "intense-jewelry",
   "metadata": {},
   "source": [
    "`validate_ro_cnp()` returns `True` when the input is a valid CNP. Otherwise it returns `False`.\n",
    "\n",
    "The input of `validate_ro_cnp()` can be a string, a Pandas DataSeries, a Dask DataSeries, a Pandas DataFrame and a dask DataFrame.\n",
    "\n",
    "When the input is a string, a Pandas DataSeries or a Dask DataSeries, user doesn't need to specify a column name to be validated. \n",
    "\n",
    "When the input is a Pandas DataFrame or a dask DataFrame, user can both specify or not specify a column name to be validated. If user specify the column name, `validate_ro_cnp()` only returns the validation result for the specified column. If user doesn't specify the column name, `validate_ro_cnp()` returns the validation result for the whole DataFrame."
   ]
  },
  {
   "cell_type": "code",
   "execution_count": null,
   "id": "statutory-abuse",
   "metadata": {},
   "outputs": [],
   "source": [
    "from dataprep.clean import validate_ro_cnp\n",
    "print(validate_ro_cnp('1630615123457'))\n",
    "print(validate_ro_cnp('0800101221142'))\n",
    "print(validate_ro_cnp('7542011030'))\n",
    "print(validate_ro_cnp('7552A10004'))\n",
    "print(validate_ro_cnp('8019010008'))\n",
    "print(validate_ro_cnp(\"hello\"))\n",
    "print(validate_ro_cnp(np.nan))\n",
    "print(validate_ro_cnp(\"NULL\"))"
   ]
  },
  {
   "cell_type": "markdown",
   "id": "devoted-extreme",
   "metadata": {},
   "source": [
    "### Series"
   ]
  },
  {
   "cell_type": "code",
   "execution_count": null,
   "id": "alternative-windsor",
   "metadata": {},
   "outputs": [],
   "source": [
    "validate_ro_cnp(df[\"cnp\"])"
   ]
  },
  {
   "cell_type": "markdown",
   "id": "innovative-chicago",
   "metadata": {},
   "source": [
    "### DataFrame + Specify Column"
   ]
  },
  {
   "cell_type": "code",
   "execution_count": null,
   "id": "republican-guidance",
   "metadata": {},
   "outputs": [],
   "source": [
    "validate_ro_cnp(df, column=\"cnp\")"
   ]
  },
  {
   "cell_type": "markdown",
   "id": "continental-steps",
   "metadata": {},
   "source": [
    "### Only DataFrame"
   ]
  },
  {
   "cell_type": "code",
   "execution_count": null,
   "id": "covered-reach",
   "metadata": {},
   "outputs": [],
   "source": [
    "validate_ro_cnp(df)"
   ]
  },
  {
   "cell_type": "code",
   "execution_count": null,
   "id": "induced-equation",
   "metadata": {},
   "outputs": [],
   "source": []
  }
 ],
 "metadata": {
  "kernelspec": {
   "display_name": "Python 3",
   "language": "python",
   "name": "python3"
  },
  "language_info": {
   "codemirror_mode": {
    "name": "ipython",
    "version": 3
   },
   "file_extension": ".py",
   "mimetype": "text/x-python",
   "name": "python",
   "nbconvert_exporter": "python",
   "pygments_lexer": "ipython3",
   "version": "3.6.12"
  }
 },
 "nbformat": 4,
 "nbformat_minor": 5
}

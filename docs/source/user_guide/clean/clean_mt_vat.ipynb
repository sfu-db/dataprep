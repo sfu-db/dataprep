{
 "cells": [
  {
   "cell_type": "raw",
   "id": "choice-alabama",
   "metadata": {},
   "source": [
    ".. _vat_userguide:\n",
    "\n",
    "Maltese VAT Numbers\n",
    "==================="
   ]
  },
  {
   "cell_type": "raw",
   "id": "banned-rating",
   "metadata": {},
   "source": [
    "Introduction\n",
    "------------\n",
    "\n",
    "The function :func:`clean_mt_vat() <dataprep.clean.clean_mt_vat.clean_mt_vat>` cleans a column containing Maltese VAT number (VAT) strings, and standardizes them in a given format. The function :func:`validate_mt_vat() <dataprep.clean.clean_mt_vat.validate_mt_vat>` validates either a single VAT strings, a column of VAT strings or a DataFrame of VAT strings, returning `True` if the value is valid, and `False` otherwise."
   ]
  },
  {
   "cell_type": "markdown",
   "id": "massive-stylus",
   "metadata": {},
   "source": [
    "VAT strings can be converted to the following formats via the `output_format` parameter:\n",
    "\n",
    "* `compact`: only number strings without any seperators or whitespace, like \"11679112\"\n",
    "* `standard`: VAT strings with proper whitespace in the proper places. Note that in the case of VAT, the compact format is the same as the standard one.\n",
    "\n",
    "Invalid parsing is handled with the `errors` parameter:\n",
    "\n",
    "* `coerce` (default): invalid parsing will be set to NaN\n",
    "* `ignore`: invalid parsing will return the input\n",
    "* `raise`: invalid parsing will raise an exception\n",
    "\n",
    "The following sections demonstrate the functionality of `clean_mt_vat()` and `validate_mt_vat()`. "
   ]
  },
  {
   "cell_type": "markdown",
   "id": "floppy-latest",
   "metadata": {},
   "source": [
    "### An example dataset containing VAT strings"
   ]
  },
  {
   "cell_type": "code",
   "execution_count": null,
   "id": "structured-winter",
   "metadata": {},
   "outputs": [],
   "source": [
    "import pandas as pd\n",
    "import numpy as np\n",
    "df = pd.DataFrame(\n",
    "    {\n",
    "        \"vat\": [\n",
    "            'MT 1167-9112',\n",
    "            '1167-9113',\n",
    "            'BE 428759497',\n",
    "            'BE431150351',\n",
    "            \"002 724 334\",\n",
    "            \"hello\",\n",
    "            np.nan,\n",
    "            \"NULL\",\n",
    "        ], \n",
    "        \"address\": [\n",
    "            \"123 Pine Ave.\",\n",
    "            \"main st\",\n",
    "            \"1234 west main heights 57033\",\n",
    "            \"apt 1 789 s maple rd manhattan\",\n",
    "            \"robie house, 789 north main street\",\n",
    "            \"1111 S Figueroa St, Los Angeles, CA 90015\",\n",
    "            \"(staples center) 1111 S Figueroa St, Los Angeles\",\n",
    "            \"hello\",\n",
    "        ]\n",
    "    }\n",
    ")\n",
    "df"
   ]
  },
  {
   "cell_type": "markdown",
   "id": "awful-furniture",
   "metadata": {},
   "source": [
    "## 1. Default `clean_mt_vat`\n",
    "\n",
    "By default, `clean_mt_vat` will clean vat strings and output them in the standard format with proper separators."
   ]
  },
  {
   "cell_type": "code",
   "execution_count": null,
   "id": "subtle-swift",
   "metadata": {},
   "outputs": [],
   "source": [
    "from dataprep.clean import clean_mt_vat\n",
    "clean_mt_vat(df, column = \"vat\")"
   ]
  },
  {
   "cell_type": "markdown",
   "id": "urban-commitment",
   "metadata": {},
   "source": [
    "## 2. Output formats"
   ]
  },
  {
   "cell_type": "markdown",
   "id": "religious-harvey",
   "metadata": {},
   "source": [
    "This section demonstrates the output parameter."
   ]
  },
  {
   "cell_type": "markdown",
   "id": "silver-offense",
   "metadata": {},
   "source": [
    "### `standard` (default)"
   ]
  },
  {
   "cell_type": "code",
   "execution_count": null,
   "id": "sapphire-business",
   "metadata": {},
   "outputs": [],
   "source": [
    "clean_mt_vat(df, column = \"vat\", output_format=\"standard\")"
   ]
  },
  {
   "cell_type": "markdown",
   "id": "architectural-abortion",
   "metadata": {},
   "source": [
    "### `compact`"
   ]
  },
  {
   "cell_type": "code",
   "execution_count": null,
   "id": "correct-postcard",
   "metadata": {},
   "outputs": [],
   "source": [
    "clean_mt_vat(df, column = \"vat\", output_format=\"compact\")"
   ]
  },
  {
   "cell_type": "markdown",
   "id": "continuing-accordance",
   "metadata": {},
   "source": [
    "## 3. `inplace` parameter\n",
    "\n",
    "This deletes the given column from the returned DataFrame. \n",
    "A new column containing cleaned VAT strings is added with a title in the format `\"{original title}_clean\"`."
   ]
  },
  {
   "cell_type": "code",
   "execution_count": null,
   "id": "greek-eating",
   "metadata": {},
   "outputs": [],
   "source": [
    "clean_mt_vat(df, column=\"vat\", inplace=True)"
   ]
  },
  {
   "cell_type": "markdown",
   "id": "anonymous-interest",
   "metadata": {},
   "source": [
    "## 4. `errors` parameter"
   ]
  },
  {
   "cell_type": "markdown",
   "id": "sweet-therapy",
   "metadata": {},
   "source": [
    "### `coerce` (default)"
   ]
  },
  {
   "cell_type": "code",
   "execution_count": null,
   "id": "cellular-filling",
   "metadata": {},
   "outputs": [],
   "source": [
    "clean_mt_vat(df, \"vat\", errors=\"coerce\")"
   ]
  },
  {
   "cell_type": "markdown",
   "id": "equivalent-lender",
   "metadata": {},
   "source": [
    "### `ignore`"
   ]
  },
  {
   "cell_type": "code",
   "execution_count": null,
   "id": "absolute-spring",
   "metadata": {},
   "outputs": [],
   "source": [
    "clean_mt_vat(df, \"vat\", errors=\"ignore\")"
   ]
  },
  {
   "cell_type": "markdown",
   "id": "packed-relevance",
   "metadata": {},
   "source": [
    "## 4. `validate_mt_vat()`"
   ]
  },
  {
   "cell_type": "markdown",
   "id": "domestic-billion",
   "metadata": {},
   "source": [
    "`validate_mt_vat()` returns `True` when the input is a valid VAT. Otherwise it returns `False`.\n",
    "\n",
    "The input of `validate_mt_vat()` can be a string, a Pandas DataSeries, a Dask DataSeries, a Pandas DataFrame and a dask DataFrame.\n",
    "\n",
    "When the input is a string, a Pandas DataSeries or a Dask DataSeries, user doesn't need to specify a column name to be validated. \n",
    "\n",
    "When the input is a Pandas DataFrame or a dask DataFrame, user can both specify or not specify a column name to be validated. If user specify the column name, `validate_mt_vat()` only returns the validation result for the specified column. If user doesn't specify the column name, `validate_mt_vat()` returns the validation result for the whole DataFrame."
   ]
  },
  {
   "cell_type": "code",
   "execution_count": null,
   "id": "vietnamese-audit",
   "metadata": {},
   "outputs": [],
   "source": [
    "from dataprep.clean import validate_mt_vat\n",
    "print(validate_mt_vat(\"MT 1167-9112\"))\n",
    "print(validate_mt_vat(\"1167-9113\"))\n",
    "print(validate_mt_vat('BE 428759497'))\n",
    "print(validate_mt_vat('BE431150351'))\n",
    "print(validate_mt_vat(\"004085616\"))\n",
    "print(validate_mt_vat(\"hello\"))\n",
    "print(validate_mt_vat(np.nan))\n",
    "print(validate_mt_vat(\"NULL\"))"
   ]
  },
  {
   "cell_type": "markdown",
   "id": "exotic-scroll",
   "metadata": {},
   "source": [
    "### Series"
   ]
  },
  {
   "cell_type": "code",
   "execution_count": null,
   "id": "intellectual-conditions",
   "metadata": {},
   "outputs": [],
   "source": [
    "validate_mt_vat(df[\"vat\"])"
   ]
  },
  {
   "cell_type": "markdown",
   "id": "retired-intent",
   "metadata": {},
   "source": [
    "### DataFrame + Specify Column"
   ]
  },
  {
   "cell_type": "code",
   "execution_count": null,
   "id": "successful-stomach",
   "metadata": {},
   "outputs": [],
   "source": [
    "validate_mt_vat(df, column=\"vat\")"
   ]
  },
  {
   "cell_type": "markdown",
   "id": "emotional-wrist",
   "metadata": {},
   "source": [
    "### Only DataFrame"
   ]
  },
  {
   "cell_type": "code",
   "execution_count": null,
   "id": "deadly-sustainability",
   "metadata": {},
   "outputs": [],
   "source": [
    "validate_mt_vat(df)"
   ]
  },
  {
   "cell_type": "code",
   "execution_count": null,
   "id": "incorporated-debate",
   "metadata": {},
   "outputs": [],
   "source": []
  }
 ],
 "metadata": {
  "kernelspec": {
   "display_name": "Python 3",
   "language": "python",
   "name": "python3"
  },
  "language_info": {
   "codemirror_mode": {
    "name": "ipython",
    "version": 3
   },
   "file_extension": ".py",
   "mimetype": "text/x-python",
   "name": "python",
   "nbconvert_exporter": "python",
   "pygments_lexer": "ipython3",
   "version": "3.6.12"
  }
 },
 "nbformat": 4,
 "nbformat_minor": 5
}

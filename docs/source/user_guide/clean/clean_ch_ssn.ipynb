{
 "cells": [
  {
   "cell_type": "markdown",
   "id": "furnished-aerospace",
   "metadata": {},
   "source": [
    "# Swiss Social Security Numbers"
   ]
  },
  {
   "cell_type": "markdown",
   "id": "mineral-possibility",
   "metadata": {},
   "source": [
    "## Introduction"
   ]
  },
  {
   "cell_type": "markdown",
   "id": "recognized-intake",
   "metadata": {},
   "source": [
    "The function `clean_ch_ssn()` cleans a column containing Swiss social security number (SSN) strings, and standardizes them in a given format. The function `validate_ch_ssn()` validates either a single SSN strings, a column of SSN strings or a DataFrame of SSN strings, returning `True` if the value is valid, and `False` otherwise."
   ]
  },
  {
   "cell_type": "markdown",
   "id": "premier-thing",
   "metadata": {},
   "source": [
    "SSN strings can be converted to the following formats via the `output_format` parameter:\n",
    "\n",
    "* `compact`: only number strings without any seperators or whitespace, like \"7569217076985\"\n",
    "* `standard`: SSN strings with proper whitespace in the proper places, like \"756.9217.0769.85\"\n",
    "\n",
    "Invalid parsing is handled with the `errors` parameter:\n",
    "\n",
    "* `coerce` (default): invalid parsing will be set to NaN\n",
    "* `ignore`: invalid parsing will return the input\n",
    "* `raise`: invalid parsing will raise an exception\n",
    "\n",
    "The following sections demonstrate the functionality of `clean_ch_ssn()` and `validate_ch_ssn()`. "
   ]
  },
  {
   "cell_type": "markdown",
   "id": "unique-northwest",
   "metadata": {},
   "source": [
    "### An example dataset containing SSN strings"
   ]
  },
  {
   "cell_type": "code",
   "execution_count": null,
   "id": "active-criminal",
   "metadata": {},
   "outputs": [],
   "source": [
    "import pandas as pd\n",
    "import numpy as np\n",
    "df = pd.DataFrame(\n",
    "    {\n",
    "        \"ssn\": [\n",
    "            \"7569217076985\",\n",
    "            \"756.9217.0769.84\",\n",
    "            \"51824753556\",\n",
    "            \"51 824 753 556\",\n",
    "            \"hello\",\n",
    "            np.nan,\n",
    "            \"NULL\"\n",
    "        ], \n",
    "        \"address\": [\n",
    "            \"123 Pine Ave.\",\n",
    "            \"main st\",\n",
    "            \"1234 west main heights 57033\",\n",
    "            \"apt 1 789 s maple rd manhattan\",\n",
    "            \"robie house, 789 north main street\",\n",
    "            \"(staples center) 1111 S Figueroa St, Los Angeles\",\n",
    "            \"hello\",\n",
    "        ]\n",
    "    }\n",
    ")\n",
    "df"
   ]
  },
  {
   "cell_type": "markdown",
   "id": "pharmaceutical-junior",
   "metadata": {},
   "source": [
    "## 1. Default `clean_ch_ssn`\n",
    "\n",
    "By default, `clean_ch_ssn` will clean ssn strings and output them in the standard format with proper separators."
   ]
  },
  {
   "cell_type": "code",
   "execution_count": null,
   "id": "appropriate-spoke",
   "metadata": {},
   "outputs": [],
   "source": [
    "from dataprep.clean import clean_ch_ssn\n",
    "clean_ch_ssn(df, column = \"ssn\")"
   ]
  },
  {
   "cell_type": "markdown",
   "id": "stunning-trailer",
   "metadata": {},
   "source": [
    "## 2. Output formats"
   ]
  },
  {
   "cell_type": "markdown",
   "id": "olive-royal",
   "metadata": {},
   "source": [
    "This section demonstrates the output parameter."
   ]
  },
  {
   "cell_type": "markdown",
   "id": "antique-service",
   "metadata": {},
   "source": [
    "### `standard` (default)"
   ]
  },
  {
   "cell_type": "code",
   "execution_count": null,
   "id": "consistent-marina",
   "metadata": {},
   "outputs": [],
   "source": [
    "clean_ch_ssn(df, column = \"ssn\", output_format=\"standard\")"
   ]
  },
  {
   "cell_type": "markdown",
   "id": "spanish-visiting",
   "metadata": {},
   "source": [
    "### `compact`"
   ]
  },
  {
   "cell_type": "code",
   "execution_count": null,
   "id": "fourth-emphasis",
   "metadata": {},
   "outputs": [],
   "source": [
    "clean_ch_ssn(df, column = \"ssn\", output_format=\"compact\")"
   ]
  },
  {
   "cell_type": "markdown",
   "id": "quantitative-narrow",
   "metadata": {},
   "source": [
    "## 3. `inplace` parameter\n",
    "\n",
    "This deletes the given column from the returned DataFrame. \n",
    "A new column containing cleaned SSN strings is added with a title in the format `\"{original title}_clean\"`."
   ]
  },
  {
   "cell_type": "code",
   "execution_count": null,
   "id": "sexual-montgomery",
   "metadata": {},
   "outputs": [],
   "source": [
    "clean_ch_ssn(df, column=\"ssn\", inplace=True)"
   ]
  },
  {
   "cell_type": "markdown",
   "id": "ancient-reconstruction",
   "metadata": {},
   "source": [
    "## 4. `errors` parameter"
   ]
  },
  {
   "cell_type": "markdown",
   "id": "conventional-beach",
   "metadata": {},
   "source": [
    "### `coerce` (default)"
   ]
  },
  {
   "cell_type": "code",
   "execution_count": null,
   "id": "radio-cooler",
   "metadata": {},
   "outputs": [],
   "source": [
    "clean_ch_ssn(df, \"ssn\", errors=\"coerce\")"
   ]
  },
  {
   "cell_type": "markdown",
   "id": "rapid-clone",
   "metadata": {},
   "source": [
    "### `ignore`"
   ]
  },
  {
   "cell_type": "code",
   "execution_count": null,
   "id": "overall-passing",
   "metadata": {},
   "outputs": [],
   "source": [
    "clean_ch_ssn(df, \"ssn\", errors=\"ignore\")"
   ]
  },
  {
   "cell_type": "markdown",
   "id": "medieval-integer",
   "metadata": {},
   "source": [
    "## 4. `validate_ch_ssn()`"
   ]
  },
  {
   "cell_type": "markdown",
   "id": "fourth-scope",
   "metadata": {},
   "source": [
    "`validate_ch_ssn()` returns `True` when the input is a valid SSN. Otherwise it returns `False`.\n",
    "\n",
    "The input of `validate_ch_ssn()` can be a string, a Pandas DataSeries, a Dask DataSeries, a Pandas DataFrame and a dask DataFrame.\n",
    "\n",
    "When the input is a string, a Pandas DataSeries or a Dask DataSeries, user doesn't need to specify a column name to be validated. \n",
    "\n",
    "When the input is a Pandas DataFrame or a dask DataFrame, user can both specify or not specify a column name to be validated. If user specify the column name, `validate_ch_ssn()` only returns the validation result for the specified column. If user doesn't specify the column name, `validate_ch_ssn()` returns the validation result for the whole DataFrame."
   ]
  },
  {
   "cell_type": "code",
   "execution_count": null,
   "id": "pending-luxury",
   "metadata": {},
   "outputs": [],
   "source": [
    "from dataprep.clean import validate_ch_ssn\n",
    "print(validate_ch_ssn(\"7569217076985\"))\n",
    "print(validate_ch_ssn(\"756.9217.0769.84\"))\n",
    "print(validate_ch_ssn(\"51824753556\"))\n",
    "print(validate_ch_ssn(\"51 824 753 556\"))\n",
    "print(validate_ch_ssn(\"hello\"))\n",
    "print(validate_ch_ssn(np.nan))\n",
    "print(validate_ch_ssn(\"NULL\"))"
   ]
  },
  {
   "cell_type": "markdown",
   "id": "checked-friday",
   "metadata": {},
   "source": [
    "### Series"
   ]
  },
  {
   "cell_type": "code",
   "execution_count": null,
   "id": "median-spencer",
   "metadata": {},
   "outputs": [],
   "source": [
    "validate_ch_ssn(df[\"ssn\"])"
   ]
  },
  {
   "cell_type": "markdown",
   "id": "norwegian-technical",
   "metadata": {},
   "source": [
    "### DataFrame + Specify Column"
   ]
  },
  {
   "cell_type": "code",
   "execution_count": null,
   "id": "twelve-filename",
   "metadata": {},
   "outputs": [],
   "source": [
    "validate_ch_ssn(df, column=\"ssn\")"
   ]
  },
  {
   "cell_type": "markdown",
   "id": "narrow-profit",
   "metadata": {},
   "source": [
    "### Only DataFrame"
   ]
  },
  {
   "cell_type": "code",
   "execution_count": null,
   "id": "million-vulnerability",
   "metadata": {},
   "outputs": [],
   "source": [
    "validate_ch_ssn(df)"
   ]
  },
  {
   "cell_type": "code",
   "execution_count": null,
   "id": "convenient-monte",
   "metadata": {},
   "outputs": [],
   "source": []
  }
 ],
 "metadata": {
  "kernelspec": {
   "display_name": "Python 3",
   "language": "python",
   "name": "python3"
  },
  "language_info": {
   "codemirror_mode": {
    "name": "ipython",
    "version": 3
   },
   "file_extension": ".py",
   "mimetype": "text/x-python",
   "name": "python",
   "nbconvert_exporter": "python",
   "pygments_lexer": "ipython3",
   "version": "3.6.12"
  }
 },
 "nbformat": 4,
 "nbformat_minor": 5
}

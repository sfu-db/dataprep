{
 "cells": [
  {
   "cell_type": "raw",
   "id": "focal-customs",
   "metadata": {},
   "source": [
    ".. _ci_userguide:\n",
    "\n",
    "Ecuadorian Personal Identity Codes\n",
    "=================================="
   ]
  },
  {
   "cell_type": "raw",
   "id": "young-magnitude",
   "metadata": {},
   "source": [
    "Introduction\n",
    "------------\n",
    "\n",
    "The function :func:`clean_ec_ci() <dataprep.clean.clean_ec_ci.clean_ec_ci>` cleans a column containing Ecuadorian personal identity code (CI) strings, and standardizes them in a given format. The function :func:`validate_ec_ci() <dataprep.clean.clean_ec_ci.validate_ec_ci>` validates either a single CI strings, a column of CI strings or a DataFrame of CI strings, returning `True` if the value is valid, and `False` otherwise."
   ]
  },
  {
   "cell_type": "markdown",
   "id": "quarterly-injection",
   "metadata": {},
   "source": [
    "CI strings can be converted to the following formats via the `output_format` parameter:\n",
    "\n",
    "* `compact`: only number strings without any seperators or whitespace, like \"1714307103\"\n",
    "* `standard`: CI strings with proper whitespace in the proper places. Note that in the case of CI, the compact format is the same as the standard one.\n",
    "\n",
    "Invalid parsing is handled with the `errors` parameter:\n",
    "\n",
    "* `coerce` (default): invalid parsing will be set to NaN\n",
    "* `ignore`: invalid parsing will return the input\n",
    "* `raise`: invalid parsing will raise an exception\n",
    "\n",
    "The following sections demonstrate the functionality of `clean_ec_ci()` and `validate_ec_ci()`. "
   ]
  },
  {
   "cell_type": "markdown",
   "id": "robust-monte",
   "metadata": {},
   "source": [
    "### An example dataset containing CI strings"
   ]
  },
  {
   "cell_type": "code",
   "execution_count": null,
   "id": "minimal-actor",
   "metadata": {},
   "outputs": [],
   "source": [
    "import pandas as pd\n",
    "import numpy as np\n",
    "df = pd.DataFrame(\n",
    "    {\n",
    "        \"ci\": [\n",
    "            '171430710-3',\n",
    "            'BE431150351',\n",
    "            'BE 428759497',\n",
    "            'BE431150351',\n",
    "            \"002 724 334\",\n",
    "            \"hello\",\n",
    "            np.nan,\n",
    "            \"NULL\",\n",
    "        ], \n",
    "        \"address\": [\n",
    "            \"123 Pine Ave.\",\n",
    "            \"main st\",\n",
    "            \"1234 west main heights 57033\",\n",
    "            \"apt 1 789 s maple rd manhattan\",\n",
    "            \"robie house, 789 north main street\",\n",
    "            \"1111 S Figueroa St, Los Angeles, CA 90015\",\n",
    "            \"(staples center) 1111 S Figueroa St, Los Angeles\",\n",
    "            \"hello\",\n",
    "        ]\n",
    "    }\n",
    ")\n",
    "df"
   ]
  },
  {
   "cell_type": "markdown",
   "id": "behind-portuguese",
   "metadata": {},
   "source": [
    "## 1. Default `clean_ec_ci`\n",
    "\n",
    "By default, `clean_ec_ci` will clean ci strings and output them in the standard format with proper separators."
   ]
  },
  {
   "cell_type": "code",
   "execution_count": null,
   "id": "caring-davis",
   "metadata": {},
   "outputs": [],
   "source": [
    "from dataprep.clean import clean_ec_ci\n",
    "clean_ec_ci(df, column = \"ci\")"
   ]
  },
  {
   "cell_type": "markdown",
   "id": "attached-disclosure",
   "metadata": {},
   "source": [
    "## 2. Output formats"
   ]
  },
  {
   "cell_type": "markdown",
   "id": "liberal-indication",
   "metadata": {},
   "source": [
    "This section demonstrates the output parameter."
   ]
  },
  {
   "cell_type": "markdown",
   "id": "restricted-laptop",
   "metadata": {},
   "source": [
    "### `standard` (default)"
   ]
  },
  {
   "cell_type": "code",
   "execution_count": null,
   "id": "accepted-mitchell",
   "metadata": {},
   "outputs": [],
   "source": [
    "clean_ec_ci(df, column = \"ci\", output_format=\"standard\")"
   ]
  },
  {
   "cell_type": "markdown",
   "id": "ranging-failure",
   "metadata": {},
   "source": [
    "### `compact`"
   ]
  },
  {
   "cell_type": "code",
   "execution_count": null,
   "id": "stopped-virtue",
   "metadata": {},
   "outputs": [],
   "source": [
    "clean_ec_ci(df, column = \"ci\", output_format=\"compact\")"
   ]
  },
  {
   "cell_type": "markdown",
   "id": "controlling-savannah",
   "metadata": {},
   "source": [
    "## 3. `inplace` parameter\n",
    "\n",
    "This deletes the given column from the returned DataFrame. \n",
    "A new column containing cleaned CI strings is added with a title in the format `\"{original title}_clean\"`."
   ]
  },
  {
   "cell_type": "code",
   "execution_count": null,
   "id": "analyzed-colleague",
   "metadata": {},
   "outputs": [],
   "source": [
    "clean_ec_ci(df, column=\"ci\", inplace=True)"
   ]
  },
  {
   "cell_type": "markdown",
   "id": "earlier-substance",
   "metadata": {},
   "source": [
    "## 4. `errors` parameter"
   ]
  },
  {
   "cell_type": "markdown",
   "id": "artistic-robin",
   "metadata": {},
   "source": [
    "### `coerce` (default)"
   ]
  },
  {
   "cell_type": "code",
   "execution_count": null,
   "id": "animal-silence",
   "metadata": {},
   "outputs": [],
   "source": [
    "clean_ec_ci(df, \"ci\", errors=\"coerce\")"
   ]
  },
  {
   "cell_type": "markdown",
   "id": "empty-japan",
   "metadata": {},
   "source": [
    "### `ignore`"
   ]
  },
  {
   "cell_type": "code",
   "execution_count": null,
   "id": "marine-director",
   "metadata": {},
   "outputs": [],
   "source": [
    "clean_ec_ci(df, \"ci\", errors=\"ignore\")"
   ]
  },
  {
   "cell_type": "markdown",
   "id": "modular-zealand",
   "metadata": {},
   "source": [
    "## 4. `validate_ec_ci()`"
   ]
  },
  {
   "cell_type": "markdown",
   "id": "direct-settle",
   "metadata": {},
   "source": [
    "`validate_ec_ci()` returns `True` when the input is a valid CI. Otherwise it returns `False`.\n",
    "\n",
    "The input of `validate_ec_ci()` can be a string, a Pandas DataSeries, a Dask DataSeries, a Pandas DataFrame and a dask DataFrame.\n",
    "\n",
    "When the input is a string, a Pandas DataSeries or a Dask DataSeries, user doesn't need to specify a column name to be validated. \n",
    "\n",
    "When the input is a Pandas DataFrame or a dask DataFrame, user can both specify or not specify a column name to be validated. If user specify the column name, `validate_ec_ci()` only returns the validation result for the specified column. If user doesn't specify the column name, `validate_ec_ci()` returns the validation result for the whole DataFrame."
   ]
  },
  {
   "cell_type": "code",
   "execution_count": null,
   "id": "organizational-modification",
   "metadata": {},
   "outputs": [],
   "source": [
    "from dataprep.clean import validate_ec_ci\n",
    "print(validate_ec_ci(\"171430710-3\"))\n",
    "print(validate_ec_ci(\"BE431150351\"))\n",
    "print(validate_ec_ci('BE 428759497'))\n",
    "print(validate_ec_ci('BE431150351'))\n",
    "print(validate_ec_ci(\"004085616\"))\n",
    "print(validate_ec_ci(\"hello\"))\n",
    "print(validate_ec_ci(np.nan))\n",
    "print(validate_ec_ci(\"NULL\"))"
   ]
  },
  {
   "cell_type": "markdown",
   "id": "freelance-bulgaria",
   "metadata": {},
   "source": [
    "### Series"
   ]
  },
  {
   "cell_type": "code",
   "execution_count": null,
   "id": "modular-ethnic",
   "metadata": {},
   "outputs": [],
   "source": [
    "validate_ec_ci(df[\"ci\"])"
   ]
  },
  {
   "cell_type": "markdown",
   "id": "enclosed-cooler",
   "metadata": {},
   "source": [
    "### DataFrame + Specify Column"
   ]
  },
  {
   "cell_type": "code",
   "execution_count": null,
   "id": "reflected-norway",
   "metadata": {},
   "outputs": [],
   "source": [
    "validate_ec_ci(df, column=\"ci\")"
   ]
  },
  {
   "cell_type": "markdown",
   "id": "super-crack",
   "metadata": {},
   "source": [
    "### Only DataFrame"
   ]
  },
  {
   "cell_type": "code",
   "execution_count": null,
   "id": "renewable-debate",
   "metadata": {
    "scrolled": true
   },
   "outputs": [],
   "source": [
    "validate_ec_ci(df)"
   ]
  },
  {
   "cell_type": "code",
   "execution_count": null,
   "id": "reduced-senate",
   "metadata": {},
   "outputs": [],
   "source": []
  }
 ],
 "metadata": {
  "kernelspec": {
   "display_name": "Python 3",
   "language": "python",
   "name": "python3"
  },
  "language_info": {
   "codemirror_mode": {
    "name": "ipython",
    "version": 3
   },
   "file_extension": ".py",
   "mimetype": "text/x-python",
   "name": "python",
   "nbconvert_exporter": "python",
   "pygments_lexer": "ipython3",
   "version": "3.6.12"
  }
 },
 "nbformat": 4,
 "nbformat_minor": 5
}

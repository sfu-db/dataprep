{
 "cells": [
  {
   "cell_type": "raw",
   "id": "dressed-disclosure",
   "metadata": {},
   "source": [
    ".. _nip_userguide:\n",
    "\n",
    "Polish VAT Numbers\n",
    "=================="
   ]
  },
  {
   "cell_type": "raw",
   "id": "ultimate-theater",
   "metadata": {},
   "source": [
    "Introduction\n",
    "------------\n",
    "\n",
    "The function :func:`clean_pl_nip() <dataprep.clean.clean_pl_nip.clean_pl_nip>` cleans a column containing Polish VAT number (NIP) strings, and standardizes them in a given format. The function :func:`validate_pl_nip() <dataprep.clean.clean_pl_nip.validate_pl_nip>` validates either a single NIP strings, a column of NIP strings or a DataFrame of NIP strings, returning `True` if the value is valid, and `False` otherwise."
   ]
  },
  {
   "cell_type": "markdown",
   "id": "electoral-potter",
   "metadata": {},
   "source": [
    "NIP strings can be converted to the following formats via the `output_format` parameter:\n",
    "\n",
    "* `compact`: only number strings without any seperators or whitespace, like \"8567346215\"\n",
    "* `standard`: NIP strings with proper whitespace in the proper places, like \"856-734-62-15\"\n",
    "\n",
    "Invalid parsing is handled with the `errors` parameter:\n",
    "\n",
    "* `coerce` (default): invalid parsing will be set to NaN\n",
    "* `ignore`: invalid parsing will return the input\n",
    "* `raise`: invalid parsing will raise an exception\n",
    "\n",
    "The following sections demonstrate the functionality of `clean_pl_nip()` and `validate_pl_nip()`. "
   ]
  },
  {
   "cell_type": "markdown",
   "id": "excessive-identity",
   "metadata": {},
   "source": [
    "### An example dataset containing NIP strings"
   ]
  },
  {
   "cell_type": "code",
   "execution_count": null,
   "id": "variable-calendar",
   "metadata": {},
   "outputs": [],
   "source": [
    "import pandas as pd\n",
    "import numpy as np\n",
    "df = pd.DataFrame(\n",
    "    {\n",
    "        \"nip\": [\n",
    "            \"PL 8567346215\",\n",
    "            \"PL 8567346216\",\n",
    "            \"51824753556\",\n",
    "            \"51 824 753 556\",\n",
    "            \"hello\",\n",
    "            np.nan,\n",
    "            \"NULL\"\n",
    "        ], \n",
    "        \"address\": [\n",
    "            \"123 Pine Ave.\",\n",
    "            \"main st\",\n",
    "            \"1234 west main heights 57033\",\n",
    "            \"apt 1 789 s maple rd manhattan\",\n",
    "            \"robie house, 789 north main street\",\n",
    "            \"(staples center) 1111 S Figueroa St, Los Angeles\",\n",
    "            \"hello\",\n",
    "        ]\n",
    "    }\n",
    ")\n",
    "df"
   ]
  },
  {
   "cell_type": "markdown",
   "id": "smart-share",
   "metadata": {},
   "source": [
    "## 1. Default `clean_pl_nip`\n",
    "\n",
    "By default, `clean_pl_nip` will clean nip strings and output them in the standard format with proper separators."
   ]
  },
  {
   "cell_type": "code",
   "execution_count": null,
   "id": "raising-parts",
   "metadata": {},
   "outputs": [],
   "source": [
    "from dataprep.clean import clean_pl_nip\n",
    "clean_pl_nip(df, column = \"nip\")"
   ]
  },
  {
   "cell_type": "markdown",
   "id": "lonely-briefs",
   "metadata": {},
   "source": [
    "## 2. Output formats"
   ]
  },
  {
   "cell_type": "markdown",
   "id": "meaning-unemployment",
   "metadata": {},
   "source": [
    "This section demonstrates the output parameter."
   ]
  },
  {
   "cell_type": "markdown",
   "id": "advised-honolulu",
   "metadata": {},
   "source": [
    "### `standard` (default)"
   ]
  },
  {
   "cell_type": "code",
   "execution_count": null,
   "id": "virgin-glucose",
   "metadata": {},
   "outputs": [],
   "source": [
    "clean_pl_nip(df, column = \"nip\", output_format=\"standard\")"
   ]
  },
  {
   "cell_type": "markdown",
   "id": "computational-wildlife",
   "metadata": {},
   "source": [
    "### `compact`"
   ]
  },
  {
   "cell_type": "code",
   "execution_count": null,
   "id": "central-eating",
   "metadata": {},
   "outputs": [],
   "source": [
    "clean_pl_nip(df, column = \"nip\", output_format=\"compact\")"
   ]
  },
  {
   "cell_type": "markdown",
   "id": "rotary-significance",
   "metadata": {},
   "source": [
    "## 3. `inplace` parameter\n",
    "\n",
    "This deletes the given column from the returned DataFrame. \n",
    "A new column containing cleaned NIP strings is added with a title in the format `\"{original title}_clean\"`."
   ]
  },
  {
   "cell_type": "code",
   "execution_count": null,
   "id": "fatty-plate",
   "metadata": {},
   "outputs": [],
   "source": [
    "clean_pl_nip(df, column=\"nip\", inplace=True)"
   ]
  },
  {
   "cell_type": "markdown",
   "id": "amino-local",
   "metadata": {},
   "source": [
    "## 4. `errors` parameter"
   ]
  },
  {
   "cell_type": "markdown",
   "id": "right-external",
   "metadata": {},
   "source": [
    "### `coerce` (default)"
   ]
  },
  {
   "cell_type": "code",
   "execution_count": null,
   "id": "active-vienna",
   "metadata": {},
   "outputs": [],
   "source": [
    "clean_pl_nip(df, \"nip\", errors=\"coerce\")"
   ]
  },
  {
   "cell_type": "markdown",
   "id": "connected-exception",
   "metadata": {},
   "source": [
    "### `ignore`"
   ]
  },
  {
   "cell_type": "code",
   "execution_count": null,
   "id": "another-receptor",
   "metadata": {},
   "outputs": [],
   "source": [
    "clean_pl_nip(df, \"nip\", errors=\"ignore\")"
   ]
  },
  {
   "cell_type": "markdown",
   "id": "affecting-drinking",
   "metadata": {},
   "source": [
    "## 4. `validate_pl_nip()`"
   ]
  },
  {
   "cell_type": "markdown",
   "id": "controlling-roller",
   "metadata": {},
   "source": [
    "`validate_pl_nip()` returns `True` when the input is a valid NIP. Otherwise it returns `False`.\n",
    "\n",
    "The input of `validate_pl_nip()` can be a string, a Pandas DataSeries, a Dask DataSeries, a Pandas DataFrame and a dask DataFrame.\n",
    "\n",
    "When the input is a string, a Pandas DataSeries or a Dask DataSeries, user doesn't need to specify a column name to be validated. \n",
    "\n",
    "When the input is a Pandas DataFrame or a dask DataFrame, user can both specify or not specify a column name to be validated. If user specify the column name, `validate_pl_nip()` only returns the validation result for the specified column. If user doesn't specify the column name, `validate_pl_nip()` returns the validation result for the whole DataFrame."
   ]
  },
  {
   "cell_type": "code",
   "execution_count": null,
   "id": "structured-sixth",
   "metadata": {},
   "outputs": [],
   "source": [
    "from dataprep.clean import validate_pl_nip\n",
    "print(validate_pl_nip(\"PL 8567346215\"))\n",
    "print(validate_pl_nip(\"PL 8567346216\"))\n",
    "print(validate_pl_nip(\"51824753556\"))\n",
    "print(validate_pl_nip(\"51 824 753 556\"))\n",
    "print(validate_pl_nip(\"hello\"))\n",
    "print(validate_pl_nip(np.nan))\n",
    "print(validate_pl_nip(\"NULL\"))"
   ]
  },
  {
   "cell_type": "markdown",
   "id": "joined-reset",
   "metadata": {},
   "source": [
    "### Series"
   ]
  },
  {
   "cell_type": "code",
   "execution_count": null,
   "id": "phantom-sullivan",
   "metadata": {},
   "outputs": [],
   "source": [
    "validate_pl_nip(df[\"nip\"])"
   ]
  },
  {
   "cell_type": "markdown",
   "id": "patient-strain",
   "metadata": {},
   "source": [
    "### DataFrame + Specify Column"
   ]
  },
  {
   "cell_type": "code",
   "execution_count": null,
   "id": "anticipated-premium",
   "metadata": {},
   "outputs": [],
   "source": [
    "validate_pl_nip(df, column=\"nip\")"
   ]
  },
  {
   "cell_type": "markdown",
   "id": "swiss-syntax",
   "metadata": {},
   "source": [
    "### Only DataFrame"
   ]
  },
  {
   "cell_type": "code",
   "execution_count": null,
   "id": "integrated-commission",
   "metadata": {
    "scrolled": true
   },
   "outputs": [],
   "source": [
    "validate_pl_nip(df)"
   ]
  },
  {
   "cell_type": "code",
   "execution_count": null,
   "id": "neither-hepatitis",
   "metadata": {},
   "outputs": [],
   "source": []
  }
 ],
 "metadata": {
  "kernelspec": {
   "display_name": "Python 3",
   "language": "python",
   "name": "python3"
  },
  "language_info": {
   "codemirror_mode": {
    "name": "ipython",
    "version": 3
   },
   "file_extension": ".py",
   "mimetype": "text/x-python",
   "name": "python",
   "nbconvert_exporter": "python",
   "pygments_lexer": "ipython3",
   "version": "3.6.12"
  }
 },
 "nbformat": 4,
 "nbformat_minor": 5
}

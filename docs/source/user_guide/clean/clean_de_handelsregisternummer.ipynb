{
 "cells": [
  {
   "cell_type": "raw",
   "id": "geographic-yugoslavia",
   "metadata": {},
   "source": [
    ".. _handelsregisternummer_userguide:\n",
    "\n",
    "German Company Registry IDs\n",
    "==========================="
   ]
  },
  {
   "cell_type": "raw",
   "id": "convenient-newsletter",
   "metadata": {},
   "source": [
    "Introduction\n",
    "------------\n",
    "\n",
    "The function :func:`clean_de_handelsregisternummer() <dataprep.clean.clean_de_handelsregisternummer.clean_de_handelsregisternummer>` cleans a column containing German company registry id (handelsregisternummer) strings, and standardizes them in a given format. The function :func:`validate_de_handelsregisternummer() <dataprep.clean.clean_de_handelsregisternummer.validate_de_handelsregisternummer>` validates either a single handelsregisternummer strings, a column of handelsregisternummer strings or a DataFrame of handelsregisternummer strings, returning `True` if the value is valid, and `False` otherwise."
   ]
  },
  {
   "cell_type": "markdown",
   "id": "natural-casino",
   "metadata": {},
   "source": [
    "handelsregisternummer strings can be converted to the following formats via the `output_format` parameter:\n",
    "\n",
    "* `compact`: only number strings without any seperators or whitespace, like \"Aachen HRA 11223\"\n",
    "* `standard`: handelsregisternummer strings with proper whitespace in the proper places. Note that in the case of handelsregisternummer, the compact format is the same as the standard one.\n",
    "\n",
    "Invalid parsing is handled with the `errors` parameter:\n",
    "\n",
    "* `coerce` (default): invalid parsing will be set to NaN\n",
    "* `ignore`: invalid parsing will return the input\n",
    "* `raise`: invalid parsing will raise an exception\n",
    "\n",
    "The following sections demonstrate the functionality of `clean_de_handelsregisternummer()` and `validate_de_handelsregisternummer()`. "
   ]
  },
  {
   "cell_type": "markdown",
   "id": "unexpected-patio",
   "metadata": {},
   "source": [
    "### An example dataset containing handelsregisternummer strings"
   ]
  },
  {
   "cell_type": "code",
   "execution_count": null,
   "id": "drawn-neighbor",
   "metadata": {},
   "outputs": [],
   "source": [
    "import pandas as pd\n",
    "import numpy as np\n",
    "df = pd.DataFrame(\n",
    "    {\n",
    "        \"handelsregisternummer\": [\n",
    "            'Aachen HRA 11223',\n",
    "            'Aachen HRC 44123',\n",
    "            'BE 428759497',\n",
    "            'BE431150351',\n",
    "            \"002 724 334\",\n",
    "            \"hello\",\n",
    "            np.nan,\n",
    "            \"NULL\",\n",
    "        ], \n",
    "        \"address\": [\n",
    "            \"123 Pine Ave.\",\n",
    "            \"main st\",\n",
    "            \"1234 west main heights 57033\",\n",
    "            \"apt 1 789 s maple rd manhattan\",\n",
    "            \"robie house, 789 north main street\",\n",
    "            \"1111 S Figueroa St, Los Angeles, CA 90015\",\n",
    "            \"(staples center) 1111 S Figueroa St, Los Angeles\",\n",
    "            \"hello\",\n",
    "        ]\n",
    "    }\n",
    ")\n",
    "df"
   ]
  },
  {
   "cell_type": "markdown",
   "id": "apart-comfort",
   "metadata": {},
   "source": [
    "## 1. Default `clean_de_handelsregisternummer`\n",
    "\n",
    "By default, `clean_de_handelsregisternummer` will clean handelsregisternummer strings and output them in the standard format with proper separators."
   ]
  },
  {
   "cell_type": "code",
   "execution_count": null,
   "id": "nearby-plymouth",
   "metadata": {},
   "outputs": [],
   "source": [
    "from dataprep.clean import clean_de_handelsregisternummer\n",
    "clean_de_handelsregisternummer(df, column = \"handelsregisternummer\")"
   ]
  },
  {
   "cell_type": "markdown",
   "id": "human-humor",
   "metadata": {},
   "source": [
    "## 2. Output formats"
   ]
  },
  {
   "cell_type": "markdown",
   "id": "painted-bracket",
   "metadata": {},
   "source": [
    "This section demonstrates the output parameter."
   ]
  },
  {
   "cell_type": "markdown",
   "id": "historical-yemen",
   "metadata": {},
   "source": [
    "### `standard` (default)"
   ]
  },
  {
   "cell_type": "code",
   "execution_count": null,
   "id": "convenient-official",
   "metadata": {},
   "outputs": [],
   "source": [
    "clean_de_handelsregisternummer(df, column = \"handelsregisternummer\", output_format=\"standard\")"
   ]
  },
  {
   "cell_type": "markdown",
   "id": "employed-affairs",
   "metadata": {},
   "source": [
    "### `compact`"
   ]
  },
  {
   "cell_type": "code",
   "execution_count": null,
   "id": "heard-vegetable",
   "metadata": {},
   "outputs": [],
   "source": [
    "clean_de_handelsregisternummer(df, column = \"handelsregisternummer\", output_format=\"compact\")"
   ]
  },
  {
   "cell_type": "markdown",
   "id": "worthy-tunisia",
   "metadata": {},
   "source": [
    "## 3. `inplace` parameter\n",
    "\n",
    "This deletes the given column from the returned DataFrame. \n",
    "A new column containing cleaned handelsregisternummer strings is added with a title in the format `\"{original title}_clean\"`."
   ]
  },
  {
   "cell_type": "code",
   "execution_count": null,
   "id": "naked-childhood",
   "metadata": {},
   "outputs": [],
   "source": [
    "clean_de_handelsregisternummer(df, column=\"handelsregisternummer\", inplace=True)"
   ]
  },
  {
   "cell_type": "markdown",
   "id": "arctic-wright",
   "metadata": {},
   "source": [
    "## 4. `errors` parameter"
   ]
  },
  {
   "cell_type": "markdown",
   "id": "regulated-panel",
   "metadata": {},
   "source": [
    "### `coerce` (default)"
   ]
  },
  {
   "cell_type": "code",
   "execution_count": null,
   "id": "egyptian-modem",
   "metadata": {},
   "outputs": [],
   "source": [
    "clean_de_handelsregisternummer(df, \"handelsregisternummer\", errors=\"coerce\")"
   ]
  },
  {
   "cell_type": "markdown",
   "id": "collected-passing",
   "metadata": {},
   "source": [
    "### `ignore`"
   ]
  },
  {
   "cell_type": "code",
   "execution_count": null,
   "id": "metric-richmond",
   "metadata": {},
   "outputs": [],
   "source": [
    "clean_de_handelsregisternummer(df, \"handelsregisternummer\", errors=\"ignore\")"
   ]
  },
  {
   "cell_type": "markdown",
   "id": "later-christian",
   "metadata": {},
   "source": [
    "## 4. `validate_de_handelsregisternummer()`"
   ]
  },
  {
   "cell_type": "markdown",
   "id": "genuine-praise",
   "metadata": {},
   "source": [
    "`validate_de_handelsregisternummer()` returns `True` when the input is a valid handelsregisternummer. Otherwise it returns `False`.\n",
    "\n",
    "The input of `validate_de_handelsregisternummer()` can be a string, a Pandas DataSeries, a Dask DataSeries, a Pandas DataFrame and a dask DataFrame.\n",
    "\n",
    "When the input is a string, a Pandas DataSeries or a Dask DataSeries, user doesn't need to specify a column name to be validated. \n",
    "\n",
    "When the input is a Pandas DataFrame or a dask DataFrame, user can both specify or not specify a column name to be validated. If user specify the column name, `validate_de_handelsregisternummer()` only returns the validation result for the specified column. If user doesn't specify the column name, `validate_de_handelsregisternummer()` returns the validation result for the whole DataFrame."
   ]
  },
  {
   "cell_type": "code",
   "execution_count": null,
   "id": "behavioral-accommodation",
   "metadata": {},
   "outputs": [],
   "source": [
    "from dataprep.clean import validate_de_handelsregisternummer\n",
    "print(validate_de_handelsregisternummer('Aachen HRA 11223'))\n",
    "print(validate_de_handelsregisternummer('Aachen HRC 44123'))\n",
    "print(validate_de_handelsregisternummer('BE 428759497'))\n",
    "print(validate_de_handelsregisternummer('BE431150351'))\n",
    "print(validate_de_handelsregisternummer(\"004085616\"))\n",
    "print(validate_de_handelsregisternummer(\"hello\"))\n",
    "print(validate_de_handelsregisternummer(np.nan))\n",
    "print(validate_de_handelsregisternummer(\"NULL\"))"
   ]
  },
  {
   "cell_type": "markdown",
   "id": "homeless-indication",
   "metadata": {},
   "source": [
    "### Series"
   ]
  },
  {
   "cell_type": "code",
   "execution_count": null,
   "id": "talented-johnson",
   "metadata": {},
   "outputs": [],
   "source": [
    "validate_de_handelsregisternummer(df[\"handelsregisternummer\"])"
   ]
  },
  {
   "cell_type": "markdown",
   "id": "impressive-premiere",
   "metadata": {},
   "source": [
    "### DataFrame + Specify Column"
   ]
  },
  {
   "cell_type": "code",
   "execution_count": null,
   "id": "heated-taxation",
   "metadata": {},
   "outputs": [],
   "source": [
    "validate_de_handelsregisternummer(df, column=\"handelsregisternummer\")"
   ]
  },
  {
   "cell_type": "markdown",
   "id": "detected-binding",
   "metadata": {},
   "source": [
    "### Only DataFrame"
   ]
  },
  {
   "cell_type": "code",
   "execution_count": null,
   "id": "threatened-queue",
   "metadata": {},
   "outputs": [],
   "source": [
    "validate_de_handelsregisternummer(df)"
   ]
  },
  {
   "cell_type": "code",
   "execution_count": null,
   "id": "sporting-contest",
   "metadata": {},
   "outputs": [],
   "source": []
  }
 ],
 "metadata": {
  "kernelspec": {
   "display_name": "Python 3",
   "language": "python",
   "name": "python3"
  },
  "language_info": {
   "codemirror_mode": {
    "name": "ipython",
    "version": 3
   },
   "file_extension": ".py",
   "mimetype": "text/x-python",
   "name": "python",
   "nbconvert_exporter": "python",
   "pygments_lexer": "ipython3",
   "version": "3.6.12"
  }
 },
 "nbformat": 4,
 "nbformat_minor": 5
}

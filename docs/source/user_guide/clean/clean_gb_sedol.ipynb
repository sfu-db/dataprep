{
 "cells": [
  {
   "cell_type": "markdown",
   "id": "laughing-shelter",
   "metadata": {},
   "source": [
    "# Stock Exchange Daily Official List Numbers"
   ]
  },
  {
   "cell_type": "markdown",
   "id": "parliamentary-newspaper",
   "metadata": {},
   "source": [
    "## Introduction"
   ]
  },
  {
   "cell_type": "markdown",
   "id": "agricultural-korea",
   "metadata": {},
   "source": [
    "The function `clean_gb_sedol()` cleans a column containing Stock Exchange Daily Official List number (SEDOL) strings, and standardizes them in a given format. The function `validate_gb_sedol()` validates either a single SEDOL strings, a column of SEDOL strings or a DataFrame of SEDOL strings, returning `True` if the value is valid, and `False` otherwise."
   ]
  },
  {
   "cell_type": "markdown",
   "id": "packed-substitute",
   "metadata": {},
   "source": [
    "SEDOL strings can be converted to the following formats via the `output_format` parameter:\n",
    "\n",
    "* `compact`: only number strings without any seperators or whitespace, like \"B15KXQ8\"\n",
    "* `standard`: SEDOL strings with proper whitespace in the proper places. Note that in the case of SEDOL, the compact format is the same as the standard one.\n",
    "* `isin`: convert the number to an ISIN, like \"GB00B15KXQ89\".\n",
    "\n",
    "Invalid parsing is handled with the `errors` parameter:\n",
    "\n",
    "* `coerce` (default): invalid parsing will be set to NaN\n",
    "* `ignore`: invalid parsing will return the input\n",
    "* `raise`: invalid parsing will raise an exception\n",
    "\n",
    "The following sections demonstrate the functionality of `clean_gb_sedol()` and `validate_gb_sedol()`. "
   ]
  },
  {
   "cell_type": "markdown",
   "id": "declared-vault",
   "metadata": {},
   "source": [
    "### An example dataset containing SEDOL strings"
   ]
  },
  {
   "cell_type": "code",
   "execution_count": null,
   "id": "extended-spain",
   "metadata": {},
   "outputs": [],
   "source": [
    "import pandas as pd\n",
    "import numpy as np\n",
    "df = pd.DataFrame(\n",
    "    {\n",
    "        \"sedol\": [\n",
    "            'B15KXQ8',\n",
    "            'B15KXQ7',\n",
    "            '7542011030',\n",
    "            '7552A10004',\n",
    "            '8019010008',\n",
    "            \"hello\",\n",
    "            np.nan,\n",
    "            \"NULL\",\n",
    "        ], \n",
    "        \"address\": [\n",
    "            \"123 Pine Ave.\",\n",
    "            \"main st\",\n",
    "            \"1234 west main heights 57033\",\n",
    "            \"apt 1 789 s maple rd manhattan\",\n",
    "            \"robie house, 789 north main street\",\n",
    "            \"1111 S Figueroa St, Los Angeles, CA 90015\",\n",
    "            \"(staples center) 1111 S Figueroa St, Los Angeles\",\n",
    "            \"hello\",\n",
    "        ]\n",
    "    }\n",
    ")\n",
    "df"
   ]
  },
  {
   "cell_type": "markdown",
   "id": "placed-alarm",
   "metadata": {},
   "source": [
    "## 1. Default `clean_gb_sedol`\n",
    "\n",
    "By default, `clean_gb_sedol` will clean sedol strings and output them in the standard format with proper separators."
   ]
  },
  {
   "cell_type": "code",
   "execution_count": null,
   "id": "identified-messenger",
   "metadata": {},
   "outputs": [],
   "source": [
    "from dataprep.clean import clean_gb_sedol\n",
    "clean_gb_sedol(df, column = \"sedol\")"
   ]
  },
  {
   "cell_type": "markdown",
   "id": "engaging-cycling",
   "metadata": {},
   "source": [
    "## 2. Output formats"
   ]
  },
  {
   "cell_type": "markdown",
   "id": "sharing-citation",
   "metadata": {},
   "source": [
    "This section demonstrates the output parameter."
   ]
  },
  {
   "cell_type": "markdown",
   "id": "noted-lawrence",
   "metadata": {},
   "source": [
    "### `standard` (default)"
   ]
  },
  {
   "cell_type": "code",
   "execution_count": null,
   "id": "cubic-spyware",
   "metadata": {
    "scrolled": true
   },
   "outputs": [],
   "source": [
    "clean_gb_sedol(df, column = \"sedol\", output_format=\"standard\")"
   ]
  },
  {
   "cell_type": "markdown",
   "id": "running-liabilities",
   "metadata": {},
   "source": [
    "### `compact`"
   ]
  },
  {
   "cell_type": "code",
   "execution_count": null,
   "id": "posted-synthetic",
   "metadata": {},
   "outputs": [],
   "source": [
    "clean_gb_sedol(df, column = \"sedol\", output_format=\"compact\")"
   ]
  },
  {
   "cell_type": "markdown",
   "id": "loaded-pattern",
   "metadata": {},
   "source": [
    "### `isin`"
   ]
  },
  {
   "cell_type": "code",
   "execution_count": null,
   "id": "color-angle",
   "metadata": {},
   "outputs": [],
   "source": [
    "clean_gb_sedol(df, column = \"sedol\", output_format=\"isin\")"
   ]
  },
  {
   "cell_type": "markdown",
   "id": "fuzzy-section",
   "metadata": {},
   "source": [
    "## 3. `inplace` parameter\n",
    "\n",
    "This deletes the given column from the returned DataFrame. \n",
    "A new column containing cleaned SEDOL strings is added with a title in the format `\"{original title}_clean\"`."
   ]
  },
  {
   "cell_type": "code",
   "execution_count": null,
   "id": "developing-bones",
   "metadata": {},
   "outputs": [],
   "source": [
    "clean_gb_sedol(df, column=\"sedol\", inplace=True)"
   ]
  },
  {
   "cell_type": "markdown",
   "id": "stainless-republican",
   "metadata": {},
   "source": [
    "## 4. `errors` parameter"
   ]
  },
  {
   "cell_type": "markdown",
   "id": "monetary-confidence",
   "metadata": {},
   "source": [
    "### `coerce` (default)"
   ]
  },
  {
   "cell_type": "code",
   "execution_count": null,
   "id": "turned-buffalo",
   "metadata": {},
   "outputs": [],
   "source": [
    "clean_gb_sedol(df, \"sedol\", errors=\"coerce\")"
   ]
  },
  {
   "cell_type": "markdown",
   "id": "opponent-reach",
   "metadata": {},
   "source": [
    "### `ignore`"
   ]
  },
  {
   "cell_type": "code",
   "execution_count": null,
   "id": "legislative-extent",
   "metadata": {},
   "outputs": [],
   "source": [
    "clean_gb_sedol(df, \"sedol\", errors=\"ignore\")"
   ]
  },
  {
   "cell_type": "markdown",
   "id": "coordinated-postcard",
   "metadata": {},
   "source": [
    "## 4. `validate_gb_sedol()`"
   ]
  },
  {
   "cell_type": "markdown",
   "id": "cordless-deployment",
   "metadata": {},
   "source": [
    "`validate_gb_sedol()` returns `True` when the input is a valid SEDOL. Otherwise it returns `False`.\n",
    "\n",
    "The input of `validate_gb_sedol()` can be a string, a Pandas DataSeries, a Dask DataSeries, a Pandas DataFrame and a dask DataFrame.\n",
    "\n",
    "When the input is a string, a Pandas DataSeries or a Dask DataSeries, user doesn't need to specify a column name to be validated. \n",
    "\n",
    "When the input is a Pandas DataFrame or a dask DataFrame, user can both specify or not specify a column name to be validated. If user specify the column name, `validate_gb_sedol()` only returns the validation result for the specified column. If user doesn't specify the column name, `validate_gb_sedol()` returns the validation result for the whole DataFrame."
   ]
  },
  {
   "cell_type": "code",
   "execution_count": null,
   "id": "active-charles",
   "metadata": {},
   "outputs": [],
   "source": [
    "from dataprep.clean import validate_gb_sedol\n",
    "print(validate_gb_sedol('B15KXQ8'))\n",
    "print(validate_gb_sedol('B15KXQ7'))\n",
    "print(validate_gb_sedol('7542011030'))\n",
    "print(validate_gb_sedol('7552A10004'))\n",
    "print(validate_gb_sedol('8019010008'))\n",
    "print(validate_gb_sedol(\"hello\"))\n",
    "print(validate_gb_sedol(np.nan))\n",
    "print(validate_gb_sedol(\"NULL\"))"
   ]
  },
  {
   "cell_type": "markdown",
   "id": "attractive-executive",
   "metadata": {},
   "source": [
    "### Series"
   ]
  },
  {
   "cell_type": "code",
   "execution_count": null,
   "id": "corporate-directory",
   "metadata": {},
   "outputs": [],
   "source": [
    "validate_gb_sedol(df[\"sedol\"])"
   ]
  },
  {
   "cell_type": "markdown",
   "id": "saved-recipient",
   "metadata": {},
   "source": [
    "### DataFrame + Specify Column"
   ]
  },
  {
   "cell_type": "code",
   "execution_count": null,
   "id": "divine-kuwait",
   "metadata": {},
   "outputs": [],
   "source": [
    "validate_gb_sedol(df, column=\"sedol\")"
   ]
  },
  {
   "cell_type": "markdown",
   "id": "thorough-advance",
   "metadata": {},
   "source": [
    "### Only DataFrame"
   ]
  },
  {
   "cell_type": "code",
   "execution_count": null,
   "id": "medieval-finger",
   "metadata": {},
   "outputs": [],
   "source": [
    "validate_gb_sedol(df)"
   ]
  },
  {
   "cell_type": "code",
   "execution_count": null,
   "id": "portable-auction",
   "metadata": {},
   "outputs": [],
   "source": []
  }
 ],
 "metadata": {
  "kernelspec": {
   "display_name": "Python 3",
   "language": "python",
   "name": "python3"
  },
  "language_info": {
   "codemirror_mode": {
    "name": "ipython",
    "version": 3
   },
   "file_extension": ".py",
   "mimetype": "text/x-python",
   "name": "python",
   "nbconvert_exporter": "python",
   "pygments_lexer": "ipython3",
   "version": "3.6.12"
  }
 },
 "nbformat": 4,
 "nbformat_minor": 5
}

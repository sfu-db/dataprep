{
 "cells": [
  {
   "cell_type": "raw",
   "id": "incident-narrative",
   "metadata": {},
   "source": [
    ".. _tva_userguide:\n",
    "\n",
    "French TVA Numbers\n",
    "=================="
   ]
  },
  {
   "cell_type": "raw",
   "id": "needed-optimum",
   "metadata": {},
   "source": [
    "Introduction\n",
    "------------\n",
    "\n",
    "The function :func:`clean_fr_tva() <dataprep.clean.clean_fr_tva.clean_fr_tva>` cleans a column containing French TVA number (TVA) strings, and standardizes them in a given format. The function :func:`validate_fr_tva() <dataprep.clean.clean_fr_tva.validate_fr_tva>` validates either a single TVA strings, a column of TVA strings or a DataFrame of TVA strings, returning `True` if the value is valid, and `False` otherwise."
   ]
  },
  {
   "cell_type": "markdown",
   "id": "grateful-ceramic",
   "metadata": {},
   "source": [
    "TVA strings can be converted to the following formats via the `output_format` parameter:\n",
    "\n",
    "* `compact`: only number strings without any seperators or whitespace, like \"40303265045\"\n",
    "* `standard`: TVA strings with proper whitespace in the proper places. Note that in the case of TVA, the compact format is the same as the standard one.\n",
    "\n",
    "Invalid parsing is handled with the `errors` parameter:\n",
    "\n",
    "* `coerce` (default): invalid parsing will be set to NaN\n",
    "* `ignore`: invalid parsing will return the input\n",
    "* `raise`: invalid parsing will raise an exception\n",
    "\n",
    "The following sections demonstrate the functionality of `clean_fr_tva()` and `validate_fr_tva()`. "
   ]
  },
  {
   "cell_type": "markdown",
   "id": "wireless-authentication",
   "metadata": {},
   "source": [
    "### An example dataset containing TVA strings"
   ]
  },
  {
   "cell_type": "code",
   "execution_count": null,
   "id": "attached-prevention",
   "metadata": {},
   "outputs": [],
   "source": [
    "import pandas as pd\n",
    "import numpy as np\n",
    "df = pd.DataFrame(\n",
    "    {\n",
    "        \"tva\": [\n",
    "            'Fr 40 303 265 045',\n",
    "            '84 323 140 391',\n",
    "            'BE 428759497',\n",
    "            'BE431150351',\n",
    "            \"002 724 334\",\n",
    "            \"hello\",\n",
    "            np.nan,\n",
    "            \"NULL\",\n",
    "        ], \n",
    "        \"address\": [\n",
    "            \"123 Pine Ave.\",\n",
    "            \"main st\",\n",
    "            \"1234 west main heights 57033\",\n",
    "            \"apt 1 789 s maple rd manhattan\",\n",
    "            \"robie house, 789 north main street\",\n",
    "            \"1111 S Figueroa St, Los Angeles, CA 90015\",\n",
    "            \"(staples center) 1111 S Figueroa St, Los Angeles\",\n",
    "            \"hello\",\n",
    "        ]\n",
    "    }\n",
    ")\n",
    "df"
   ]
  },
  {
   "cell_type": "markdown",
   "id": "intimate-implementation",
   "metadata": {},
   "source": [
    "## 1. Default `clean_fr_tva`\n",
    "\n",
    "By default, `clean_fr_tva` will clean tva strings and output them in the standard format with proper separators."
   ]
  },
  {
   "cell_type": "code",
   "execution_count": null,
   "id": "dated-trademark",
   "metadata": {},
   "outputs": [],
   "source": [
    "from dataprep.clean import clean_fr_tva\n",
    "clean_fr_tva(df, column = \"tva\")"
   ]
  },
  {
   "cell_type": "markdown",
   "id": "forced-drama",
   "metadata": {},
   "source": [
    "## 2. Output formats"
   ]
  },
  {
   "cell_type": "markdown",
   "id": "economic-florida",
   "metadata": {},
   "source": [
    "This section demonstrates the output parameter."
   ]
  },
  {
   "cell_type": "markdown",
   "id": "religious-miracle",
   "metadata": {},
   "source": [
    "### `standard` (default)"
   ]
  },
  {
   "cell_type": "code",
   "execution_count": null,
   "id": "neither-prisoner",
   "metadata": {},
   "outputs": [],
   "source": [
    "clean_fr_tva(df, column = \"tva\", output_format=\"standard\")"
   ]
  },
  {
   "cell_type": "markdown",
   "id": "fitted-application",
   "metadata": {},
   "source": [
    "### `compact`"
   ]
  },
  {
   "cell_type": "code",
   "execution_count": null,
   "id": "rubber-framework",
   "metadata": {},
   "outputs": [],
   "source": [
    "clean_fr_tva(df, column = \"tva\", output_format=\"compact\")"
   ]
  },
  {
   "cell_type": "markdown",
   "id": "conceptual-remove",
   "metadata": {},
   "source": [
    "## 3. `inplace` parameter\n",
    "\n",
    "This deletes the given column from the returned DataFrame. \n",
    "A new column containing cleaned TVA strings is added with a title in the format `\"{original title}_clean\"`."
   ]
  },
  {
   "cell_type": "code",
   "execution_count": null,
   "id": "peaceful-setup",
   "metadata": {},
   "outputs": [],
   "source": [
    "clean_fr_tva(df, column=\"tva\", inplace=True)"
   ]
  },
  {
   "cell_type": "markdown",
   "id": "revised-factor",
   "metadata": {},
   "source": [
    "## 4. `errors` parameter"
   ]
  },
  {
   "cell_type": "markdown",
   "id": "dirty-delay",
   "metadata": {},
   "source": [
    "### `coerce` (default)"
   ]
  },
  {
   "cell_type": "code",
   "execution_count": null,
   "id": "burning-sudan",
   "metadata": {},
   "outputs": [],
   "source": [
    "clean_fr_tva(df, \"tva\", errors=\"coerce\")"
   ]
  },
  {
   "cell_type": "markdown",
   "id": "broadband-rugby",
   "metadata": {},
   "source": [
    "### `ignore`"
   ]
  },
  {
   "cell_type": "code",
   "execution_count": null,
   "id": "enormous-fight",
   "metadata": {},
   "outputs": [],
   "source": [
    "clean_fr_tva(df, \"tva\", errors=\"ignore\")"
   ]
  },
  {
   "cell_type": "markdown",
   "id": "typical-glass",
   "metadata": {},
   "source": [
    "## 4. `validate_fr_tva()`"
   ]
  },
  {
   "cell_type": "markdown",
   "id": "bigger-basis",
   "metadata": {},
   "source": [
    "`validate_fr_tva()` returns `True` when the input is a valid TVA. Otherwise it returns `False`.\n",
    "\n",
    "The input of `validate_fr_tva()` can be a string, a Pandas DataSeries, a Dask DataSeries, a Pandas DataFrame and a dask DataFrame.\n",
    "\n",
    "When the input is a string, a Pandas DataSeries or a Dask DataSeries, user doesn't need to specify a column name to be validated. \n",
    "\n",
    "When the input is a Pandas DataFrame or a dask DataFrame, user can both specify or not specify a column name to be validated. If user specify the column name, `validate_fr_tva()` only returns the validation result for the specified column. If user doesn't specify the column name, `validate_fr_tva()` returns the validation result for the whole DataFrame."
   ]
  },
  {
   "cell_type": "code",
   "execution_count": null,
   "id": "acquired-guitar",
   "metadata": {},
   "outputs": [],
   "source": [
    "from dataprep.clean import validate_fr_tva\n",
    "print(validate_fr_tva('Fr 40 303 265 045'))\n",
    "print(validate_fr_tva('84 323 140 391'))\n",
    "print(validate_fr_tva('BE 428759497'))\n",
    "print(validate_fr_tva('BE431150351'))\n",
    "print(validate_fr_tva(\"004085616\"))\n",
    "print(validate_fr_tva(\"hello\"))\n",
    "print(validate_fr_tva(np.nan))\n",
    "print(validate_fr_tva(\"NULL\"))"
   ]
  },
  {
   "cell_type": "markdown",
   "id": "referenced-motel",
   "metadata": {},
   "source": [
    "### Series"
   ]
  },
  {
   "cell_type": "code",
   "execution_count": null,
   "id": "noticed-freedom",
   "metadata": {},
   "outputs": [],
   "source": [
    "validate_fr_tva(df[\"tva\"])"
   ]
  },
  {
   "cell_type": "markdown",
   "id": "baking-bronze",
   "metadata": {},
   "source": [
    "### DataFrame + Specify Column"
   ]
  },
  {
   "cell_type": "code",
   "execution_count": null,
   "id": "interested-mixture",
   "metadata": {},
   "outputs": [],
   "source": [
    "validate_fr_tva(df, column=\"tva\")"
   ]
  },
  {
   "cell_type": "markdown",
   "id": "surgical-equation",
   "metadata": {},
   "source": [
    "### Only DataFrame"
   ]
  },
  {
   "cell_type": "code",
   "execution_count": null,
   "id": "enormous-commission",
   "metadata": {
    "scrolled": true
   },
   "outputs": [],
   "source": [
    "validate_fr_tva(df)"
   ]
  },
  {
   "cell_type": "code",
   "execution_count": null,
   "id": "smaller-director",
   "metadata": {},
   "outputs": [],
   "source": []
  }
 ],
 "metadata": {
  "kernelspec": {
   "display_name": "Python 3",
   "language": "python",
   "name": "python3"
  },
  "language_info": {
   "codemirror_mode": {
    "name": "ipython",
    "version": 3
   },
   "file_extension": ".py",
   "mimetype": "text/x-python",
   "name": "python",
   "nbconvert_exporter": "python",
   "pygments_lexer": "ipython3",
   "version": "3.6.12"
  }
 },
 "nbformat": 4,
 "nbformat_minor": 5
}

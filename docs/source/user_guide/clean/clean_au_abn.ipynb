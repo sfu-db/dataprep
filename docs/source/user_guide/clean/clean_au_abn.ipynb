{
 "cells": [
  {
   "cell_type": "markdown",
   "id": "changed-frame",
   "metadata": {},
   "source": [
    "# Australian Business Numbers"
   ]
  },
  {
   "cell_type": "markdown",
   "id": "preceding-evaluation",
   "metadata": {},
   "source": [
    "## Introduction"
   ]
  },
  {
   "cell_type": "markdown",
   "id": "floating-cookbook",
   "metadata": {},
   "source": [
    "The function `clean_au_abn()` cleans a column containing Australian Business Number (ABN) strings, and standardizes them in a given format. The function `validate_au_abn()` validates either a single ABN strings, a column of ABN strings or a DataFrame of ABN strings, returning `True` if the value is valid, and `False` otherwise.\n",
    "\n",
    "ABN strings can be converted to the following formats via the `output_format` parameter:\n",
    "\n",
    "* `compact`: only number strings without any seperators or whitespace, like \"51824753556\"\n",
    "* `standard`: ABN strings with proper whitespace in the proper places, like \"51 824 753 556\"\n",
    "\n",
    "Invalid parsing is handled with the `errors` parameter:\n",
    "\n",
    "* `coerce` (default): invalid parsing will be set to NaN\n",
    "* `ignore`: invalid parsing will return the input\n",
    "* `raise`: invalid parsing will raise an exception\n",
    "\n",
    "The following sections demonstrate the functionality of `clean_au_abn()` and `validate_au_abn()`. "
   ]
  },
  {
   "cell_type": "markdown",
   "id": "worst-springer",
   "metadata": {},
   "source": [
    "### An example dataset containing ABN strings"
   ]
  },
  {
   "cell_type": "code",
   "execution_count": null,
   "id": "perfect-nelson",
   "metadata": {},
   "outputs": [],
   "source": [
    "import pandas as pd\n",
    "import numpy as np\n",
    "df = pd.DataFrame(\n",
    "    {\n",
    "        \"abn\": [\n",
    "            \"83 914 571 673\",\n",
    "            \"99 999 999 999\",\n",
    "            \"51824753556\",\n",
    "            \"51 824 753 556\",\n",
    "            \"hello\",\n",
    "            np.nan,\n",
    "            \"NULL\"\n",
    "        ], \n",
    "        \"address\": [\n",
    "            \"123 Pine Ave.\",\n",
    "            \"main st\",\n",
    "            \"1234 west main heights 57033\",\n",
    "            \"apt 1 789 s maple rd manhattan\",\n",
    "            \"robie house, 789 north main street\",\n",
    "            \"(staples center) 1111 S Figueroa St, Los Angeles\",\n",
    "            \"hello\",\n",
    "        ]\n",
    "    }\n",
    ")\n",
    "df"
   ]
  },
  {
   "cell_type": "markdown",
   "id": "alternative-vermont",
   "metadata": {},
   "source": [
    "## 1. Default `clean_au_abn`\n",
    "\n",
    "By default, `clean_au_abn` will clean abn strings and output them in the standard format with proper separators."
   ]
  },
  {
   "cell_type": "code",
   "execution_count": null,
   "id": "twenty-encounter",
   "metadata": {},
   "outputs": [],
   "source": [
    "from dataprep.clean import clean_au_abn\n",
    "clean_au_abn(df, column = \"abn\")"
   ]
  },
  {
   "cell_type": "markdown",
   "id": "offshore-float",
   "metadata": {},
   "source": [
    "## 2. Output formats"
   ]
  },
  {
   "cell_type": "markdown",
   "id": "interim-movement",
   "metadata": {},
   "source": [
    "This section demonstrates the output parameter."
   ]
  },
  {
   "cell_type": "markdown",
   "id": "constitutional-snapshot",
   "metadata": {},
   "source": [
    "### `standard` (default)"
   ]
  },
  {
   "cell_type": "code",
   "execution_count": null,
   "id": "studied-twenty",
   "metadata": {},
   "outputs": [],
   "source": [
    "clean_au_abn(df, column = \"abn\", output_format=\"standard\")"
   ]
  },
  {
   "cell_type": "markdown",
   "id": "partial-official",
   "metadata": {},
   "source": [
    "### `compact`"
   ]
  },
  {
   "cell_type": "code",
   "execution_count": null,
   "id": "confidential-founder",
   "metadata": {},
   "outputs": [],
   "source": [
    "clean_au_abn(df, column = \"abn\", output_format=\"compact\")"
   ]
  },
  {
   "cell_type": "markdown",
   "id": "brutal-advocacy",
   "metadata": {},
   "source": [
    "## 3. `inplace` parameter\n",
    "\n",
    "This deletes the given column from the returned DataFrame. \n",
    "A new column containing cleaned ABN strings is added with a title in the format `\"{original title}_clean\"`."
   ]
  },
  {
   "cell_type": "code",
   "execution_count": null,
   "id": "ecological-parks",
   "metadata": {},
   "outputs": [],
   "source": [
    "clean_au_abn(df, column=\"abn\", inplace=True)"
   ]
  },
  {
   "cell_type": "markdown",
   "id": "brilliant-greek",
   "metadata": {},
   "source": [
    "## 4. `errors` parameter"
   ]
  },
  {
   "cell_type": "markdown",
   "id": "increasing-snake",
   "metadata": {},
   "source": [
    "### `coerce` (default)"
   ]
  },
  {
   "cell_type": "code",
   "execution_count": null,
   "id": "inner-property",
   "metadata": {},
   "outputs": [],
   "source": [
    "clean_au_abn(df, \"abn\", errors=\"coerce\")"
   ]
  },
  {
   "cell_type": "markdown",
   "id": "median-tongue",
   "metadata": {},
   "source": [
    "### `ignore`"
   ]
  },
  {
   "cell_type": "code",
   "execution_count": null,
   "id": "academic-broadcast",
   "metadata": {},
   "outputs": [],
   "source": [
    "clean_au_abn(df, \"abn\", errors=\"ignore\")"
   ]
  },
  {
   "cell_type": "markdown",
   "id": "adverse-jungle",
   "metadata": {},
   "source": [
    "## 4. `validate_au_abn()`"
   ]
  },
  {
   "cell_type": "markdown",
   "id": "wicked-rates",
   "metadata": {},
   "source": [
    "`validate_au_abn()` returns `True` when the input is a valid ABN. Otherwise it returns `False`.\n",
    "\n",
    "The input of `validate_au_abn()` can be a string, a Pandas DataSeries, a Dask DataSeries, a Pandas DataFrame and a dask DataFrame.\n",
    "\n",
    "When the input is a string, a Pandas DataSeries or a Dask DataSeries, user doesn't need to specify a column name to be validated. \n",
    "\n",
    "When the input is a Pandas DataFrame or a dask DataFrame, user can both specify or not specify a column name to be validated. If user specify the column name, `validate_au_abn()` only returns the validation result for the specified column. If user doesn't specify the column name, `validate_au_abn()` returns the validation result for the whole DataFrame."
   ]
  },
  {
   "cell_type": "code",
   "execution_count": null,
   "id": "neither-claim",
   "metadata": {},
   "outputs": [],
   "source": [
    "from dataprep.clean import validate_au_abn\n",
    "print(validate_au_abn(\"83 914 571 673\"))\n",
    "print(validate_au_abn(\"99 999 999 999\"))\n",
    "print(validate_au_abn(\"51824753556\"))\n",
    "print(validate_au_abn(\"51 824 753 556\"))\n",
    "print(validate_au_abn(\"hello\"))\n",
    "print(validate_au_abn(np.nan))\n",
    "print(validate_au_abn(\"NULL\"))"
   ]
  },
  {
   "cell_type": "markdown",
   "id": "caroline-florist",
   "metadata": {},
   "source": [
    "### Series"
   ]
  },
  {
   "cell_type": "code",
   "execution_count": null,
   "id": "wrong-video",
   "metadata": {},
   "outputs": [],
   "source": [
    "validate_au_abn(df[\"abn\"])"
   ]
  },
  {
   "cell_type": "markdown",
   "id": "palestinian-craft",
   "metadata": {},
   "source": [
    "### DataFrame + Specify Column"
   ]
  },
  {
   "cell_type": "code",
   "execution_count": null,
   "id": "rolled-sheffield",
   "metadata": {},
   "outputs": [],
   "source": [
    "validate_au_abn(df, column=\"abn\")"
   ]
  },
  {
   "cell_type": "markdown",
   "id": "chinese-proposition",
   "metadata": {},
   "source": [
    "### Only DataFrame"
   ]
  },
  {
   "cell_type": "code",
   "execution_count": null,
   "id": "sustainable-india",
   "metadata": {},
   "outputs": [],
   "source": [
    "validate_au_abn(df)"
   ]
  },
  {
   "cell_type": "code",
   "execution_count": null,
   "id": "secondary-italian",
   "metadata": {},
   "outputs": [],
   "source": []
  }
 ],
 "metadata": {
  "kernelspec": {
   "display_name": "Python 3",
   "language": "python",
   "name": "python3"
  },
  "language_info": {
   "codemirror_mode": {
    "name": "ipython",
    "version": 3
   },
   "file_extension": ".py",
   "mimetype": "text/x-python",
   "name": "python",
   "nbconvert_exporter": "python",
   "pygments_lexer": "ipython3",
   "version": "3.6.12"
  }
 },
 "nbformat": 4,
 "nbformat_minor": 5
}

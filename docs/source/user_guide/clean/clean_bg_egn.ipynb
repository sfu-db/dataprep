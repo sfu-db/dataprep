{
 "cells": [
  {
   "cell_type": "markdown",
   "id": "fifteen-innocent",
   "metadata": {},
   "source": [
    "# Bulgarian National Identification Numbers"
   ]
  },
  {
   "cell_type": "markdown",
   "id": "lovely-creature",
   "metadata": {},
   "source": [
    "## Introduction"
   ]
  },
  {
   "cell_type": "markdown",
   "id": "decimal-hygiene",
   "metadata": {},
   "source": [
    "The function :func:`clean_bg_egn()` cleans a column containing Bulgarian national identification numbers (EGN) strings, and standardizes them in a given format. The function :func:`validate_bg_egn()` validates either a single EGN strings, a column of EGN strings or a DataFrame of EGN strings, returning `True` if the value is valid, and `False` otherwise."
   ]
  },
  {
   "cell_type": "markdown",
   "id": "given-native",
   "metadata": {},
   "source": [
    "EGN strings can be converted to the following formats via the `output_format` parameter:\n",
    "\n",
    "* `compact`: only number strings without any seperators or whitespace, like \"7523169263\"\n",
    "* `standard`: EGN strings with proper whitespace in the proper places. Note that in the case of EGN, the compact format is the same as the standard one.\n",
    "* `birthdate`: split the date parts from the number and return the birth date, like \"1875-03-16\".\n",
    "\n",
    "Invalid parsing is handled with the `errors` parameter:\n",
    "\n",
    "* `coerce` (default): invalid parsing will be set to NaN\n",
    "* `ignore`: invalid parsing will return the input\n",
    "* `raise`: invalid parsing will raise an exception\n",
    "\n",
    "The following sections demonstrate the functionality of `clean_bg_egn()` and `validate_bg_egn()`. "
   ]
  },
  {
   "cell_type": "markdown",
   "id": "economic-hypothetical",
   "metadata": {},
   "source": [
    "### An example dataset containing EGN strings"
   ]
  },
  {
   "cell_type": "code",
   "execution_count": null,
   "id": "accompanied-advocate",
   "metadata": {},
   "outputs": [],
   "source": [
    "import pandas as pd\n",
    "import numpy as np\n",
    "df = pd.DataFrame(\n",
    "    {\n",
    "        \"egn\": [\n",
    "            '752316 926 3',\n",
    "            '8032056031',\n",
    "            '7542011030',\n",
    "            '7552A10004',  # invalid digit\n",
    "            '8019010008',  # invalid date\n",
    "            \"hello\",\n",
    "            np.nan,\n",
    "            \"NULL\",\n",
    "        ], \n",
    "        \"address\": [\n",
    "            \"123 Pine Ave.\",\n",
    "            \"main st\",\n",
    "            \"1234 west main heights 57033\",\n",
    "            \"apt 1 789 s maple rd manhattan\",\n",
    "            \"robie house, 789 north main street\",\n",
    "            \"1111 S Figueroa St, Los Angeles, CA 90015\",\n",
    "            \"(staples center) 1111 S Figueroa St, Los Angeles\",\n",
    "            \"hello\",\n",
    "        ]\n",
    "    }\n",
    ")\n",
    "df"
   ]
  },
  {
   "cell_type": "markdown",
   "id": "formal-stopping",
   "metadata": {},
   "source": [
    "## 1. Default `clean_bg_egn`\n",
    "\n",
    "By default, `clean_bg_egn` will clean egn strings and output them in the standard format with proper separators."
   ]
  },
  {
   "cell_type": "code",
   "execution_count": null,
   "id": "rough-clearance",
   "metadata": {},
   "outputs": [],
   "source": [
    "from dataprep.clean import clean_bg_egn\n",
    "clean_bg_egn(df, column = \"egn\")"
   ]
  },
  {
   "cell_type": "markdown",
   "id": "naked-symposium",
   "metadata": {},
   "source": [
    "## 2. Output formats"
   ]
  },
  {
   "cell_type": "markdown",
   "id": "stylish-humanitarian",
   "metadata": {},
   "source": [
    "This section demonstrates the output parameter."
   ]
  },
  {
   "cell_type": "markdown",
   "id": "printable-update",
   "metadata": {},
   "source": [
    "### `standard` (default)"
   ]
  },
  {
   "cell_type": "code",
   "execution_count": null,
   "id": "hearing-findings",
   "metadata": {},
   "outputs": [],
   "source": [
    "clean_bg_egn(df, column = \"egn\", output_format=\"standard\")"
   ]
  },
  {
   "cell_type": "markdown",
   "id": "extensive-lincoln",
   "metadata": {},
   "source": [
    "### `compact`"
   ]
  },
  {
   "cell_type": "code",
   "execution_count": null,
   "id": "hollow-outreach",
   "metadata": {},
   "outputs": [],
   "source": [
    "clean_bg_egn(df, column = \"egn\", output_format=\"compact\")"
   ]
  },
  {
   "cell_type": "markdown",
   "id": "pharmaceutical-therapist",
   "metadata": {},
   "source": [
    "### `birthdate`"
   ]
  },
  {
   "cell_type": "code",
   "execution_count": null,
   "id": "spectacular-outdoors",
   "metadata": {},
   "outputs": [],
   "source": [
    "clean_bg_egn(df, column = \"egn\", output_format=\"birthdate\")"
   ]
  },
  {
   "cell_type": "markdown",
   "id": "advisory-bikini",
   "metadata": {},
   "source": [
    "## 3. `inplace` parameter\n",
    "\n",
    "This deletes the given column from the returned DataFrame. \n",
    "A new column containing cleaned EGN strings is added with a title in the format `\"{original title}_clean\"`."
   ]
  },
  {
   "cell_type": "code",
   "execution_count": null,
   "id": "agreed-multimedia",
   "metadata": {},
   "outputs": [],
   "source": [
    "clean_bg_egn(df, column=\"egn\", inplace=True)"
   ]
  },
  {
   "cell_type": "markdown",
   "id": "prescription-carbon",
   "metadata": {},
   "source": [
    "## 4. `errors` parameter"
   ]
  },
  {
   "cell_type": "markdown",
   "id": "veterinary-dining",
   "metadata": {},
   "source": [
    "### `coerce` (default)"
   ]
  },
  {
   "cell_type": "code",
   "execution_count": null,
   "id": "interstate-debate",
   "metadata": {},
   "outputs": [],
   "source": [
    "clean_bg_egn(df, \"egn\", errors=\"coerce\")"
   ]
  },
  {
   "cell_type": "markdown",
   "id": "ready-microphone",
   "metadata": {},
   "source": [
    "### `ignore`"
   ]
  },
  {
   "cell_type": "code",
   "execution_count": null,
   "id": "cultural-castle",
   "metadata": {},
   "outputs": [],
   "source": [
    "clean_bg_egn(df, \"egn\", errors=\"ignore\")"
   ]
  },
  {
   "cell_type": "markdown",
   "id": "coastal-sunset",
   "metadata": {},
   "source": [
    "## 4. `validate_bg_egn()`"
   ]
  },
  {
   "cell_type": "markdown",
   "id": "handy-prairie",
   "metadata": {},
   "source": [
    "`validate_bg_egn()` returns `True` when the input is a valid EGN. Otherwise it returns `False`.\n",
    "\n",
    "The input of `validate_bg_egn()` can be a string, a Pandas DataSeries, a Dask DataSeries, a Pandas DataFrame and a dask DataFrame.\n",
    "\n",
    "When the input is a string, a Pandas DataSeries or a Dask DataSeries, user doesn't need to specify a column name to be validated. \n",
    "\n",
    "When the input is a Pandas DataFrame or a dask DataFrame, user can both specify or not specify a column name to be validated. If user specify the column name, `validate_bg_egn()` only returns the validation result for the specified column. If user doesn't specify the column name, `validate_bg_egn()` returns the validation result for the whole DataFrame."
   ]
  },
  {
   "cell_type": "code",
   "execution_count": null,
   "id": "loving-symphony",
   "metadata": {},
   "outputs": [],
   "source": [
    "from dataprep.clean import validate_bg_egn\n",
    "print(validate_bg_egn(' 752316 926 3'))\n",
    "print(validate_bg_egn('8032056031'))\n",
    "print(validate_bg_egn('7542011030'))\n",
    "print(validate_bg_egn('7552A10004'))\n",
    "print(validate_bg_egn('8019010008'))\n",
    "print(validate_bg_egn(\"hello\"))\n",
    "print(validate_bg_egn(np.nan))\n",
    "print(validate_bg_egn(\"NULL\"))"
   ]
  },
  {
   "cell_type": "markdown",
   "id": "eastern-minority",
   "metadata": {},
   "source": [
    "### Series"
   ]
  },
  {
   "cell_type": "code",
   "execution_count": null,
   "id": "established-airport",
   "metadata": {},
   "outputs": [],
   "source": [
    "validate_bg_egn(df[\"egn\"])"
   ]
  },
  {
   "cell_type": "markdown",
   "id": "polish-scanner",
   "metadata": {},
   "source": [
    "### DataFrame + Specify Column"
   ]
  },
  {
   "cell_type": "code",
   "execution_count": null,
   "id": "chicken-karma",
   "metadata": {},
   "outputs": [],
   "source": [
    "validate_bg_egn(df, column=\"egn\")"
   ]
  },
  {
   "cell_type": "markdown",
   "id": "planned-curtis",
   "metadata": {},
   "source": [
    "### Only DataFrame"
   ]
  },
  {
   "cell_type": "code",
   "execution_count": null,
   "id": "worth-handbook",
   "metadata": {},
   "outputs": [],
   "source": [
    "validate_bg_egn(df)"
   ]
  },
  {
   "cell_type": "code",
   "execution_count": null,
   "id": "continued-council",
   "metadata": {},
   "outputs": [],
   "source": []
  }
 ],
 "metadata": {
  "kernelspec": {
   "display_name": "Python 3",
   "language": "python",
   "name": "python3"
  },
  "language_info": {
   "codemirror_mode": {
    "name": "ipython",
    "version": 3
   },
   "file_extension": ".py",
   "mimetype": "text/x-python",
   "name": "python",
   "nbconvert_exporter": "python",
   "pygments_lexer": "ipython3",
   "version": "3.6.12"
  }
 },
 "nbformat": 4,
 "nbformat_minor": 5
}

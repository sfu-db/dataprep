{
 "cells": [
  {
   "cell_type": "raw",
   "id": "removable-cheat",
   "metadata": {},
   "source": [
    ".. _wkn_userguide:\n",
    "\n",
    "German Securities Identification Codes\n",
    "======================================"
   ]
  },
  {
   "cell_type": "raw",
   "id": "cheap-insurance",
   "metadata": {},
   "source": [
    "Introduction\n",
    "------------\n",
    "\n",
    "The function :func:`clean_de_wkn() <dataprep.clean.clean_de_wkn.clean_de_wkn>` cleans a column containing German Securities Identification Codes (WKN) strings, and standardizes them in a given format. The function :func:`validate_de_wkn() <dataprep.clean.clean_de_wkn.validate_de_wkn>` validates either a single WKN strings, a column of WKN strings or a DataFrame of WKN strings, returning `True` if the value is valid, and `False` otherwise."
   ]
  },
  {
   "cell_type": "markdown",
   "id": "acute-government",
   "metadata": {},
   "source": [
    "WKN strings can be converted to the following formats via the `output_format` parameter:\n",
    "\n",
    "* `compact`: only number strings without any seperators or whitespace, like \"A0MNRK\"\n",
    "* `standard`: WKN strings with proper whitespace in the proper places. Note that in the case of WKN, the compact format is the same as the standard one.\n",
    "* `isin`: convert the number to an ISIN, like \"DE000A0MNRK9\".\n",
    "\n",
    "Invalid parsing is handled with the `errors` parameter:\n",
    "\n",
    "* `coerce` (default): invalid parsing will be set to NaN\n",
    "* `ignore`: invalid parsing will return the input\n",
    "* `raise`: invalid parsing will raise an exception\n",
    "\n",
    "The following sections demonstrate the functionality of `clean_de_wkn()` and `validate_de_wkn()`. "
   ]
  },
  {
   "cell_type": "markdown",
   "id": "powerful-deposit",
   "metadata": {},
   "source": [
    "### An example dataset containing WKN strings"
   ]
  },
  {
   "cell_type": "code",
   "execution_count": null,
   "id": "chief-facing",
   "metadata": {},
   "outputs": [],
   "source": [
    "import pandas as pd\n",
    "import numpy as np\n",
    "df = pd.DataFrame(\n",
    "    {\n",
    "        \"wkn\": [\n",
    "            'A0MNRK',\n",
    "            'AOMNRK',\n",
    "            '7542011030',\n",
    "            '7552A10004',\n",
    "            '8019010008',\n",
    "            \"hello\",\n",
    "            np.nan,\n",
    "            \"NULL\",\n",
    "        ], \n",
    "        \"address\": [\n",
    "            \"123 Pine Ave.\",\n",
    "            \"main st\",\n",
    "            \"1234 west main heights 57033\",\n",
    "            \"apt 1 789 s maple rd manhattan\",\n",
    "            \"robie house, 789 north main street\",\n",
    "            \"1111 S Figueroa St, Los Angeles, CA 90015\",\n",
    "            \"(staples center) 1111 S Figueroa St, Los Angeles\",\n",
    "            \"hello\",\n",
    "        ]\n",
    "    }\n",
    ")\n",
    "df"
   ]
  },
  {
   "cell_type": "markdown",
   "id": "minute-complement",
   "metadata": {},
   "source": [
    "## 1. Default `clean_de_wkn`\n",
    "\n",
    "By default, `clean_de_wkn` will clean wkn strings and output them in the standard format with proper separators."
   ]
  },
  {
   "cell_type": "code",
   "execution_count": null,
   "id": "prostate-lingerie",
   "metadata": {},
   "outputs": [],
   "source": [
    "from dataprep.clean import clean_de_wkn\n",
    "clean_de_wkn(df, column = \"wkn\")"
   ]
  },
  {
   "cell_type": "markdown",
   "id": "instrumental-collection",
   "metadata": {},
   "source": [
    "## 2. Output formats"
   ]
  },
  {
   "cell_type": "markdown",
   "id": "little-intake",
   "metadata": {},
   "source": [
    "This section demonstrates the output parameter."
   ]
  },
  {
   "cell_type": "markdown",
   "id": "distinguished-marathon",
   "metadata": {},
   "source": [
    "### `standard` (default)"
   ]
  },
  {
   "cell_type": "code",
   "execution_count": null,
   "id": "purple-pastor",
   "metadata": {},
   "outputs": [],
   "source": [
    "clean_de_wkn(df, column = \"wkn\", output_format=\"standard\")"
   ]
  },
  {
   "cell_type": "markdown",
   "id": "impaired-pointer",
   "metadata": {},
   "source": [
    "### `compact`"
   ]
  },
  {
   "cell_type": "code",
   "execution_count": null,
   "id": "detailed-wealth",
   "metadata": {},
   "outputs": [],
   "source": [
    "clean_de_wkn(df, column = \"wkn\", output_format=\"compact\")"
   ]
  },
  {
   "cell_type": "markdown",
   "id": "flying-large",
   "metadata": {},
   "source": [
    "### `isin`"
   ]
  },
  {
   "cell_type": "code",
   "execution_count": null,
   "id": "proved-physiology",
   "metadata": {},
   "outputs": [],
   "source": [
    "clean_de_wkn(df, column = \"wkn\", output_format=\"isin\")"
   ]
  },
  {
   "cell_type": "markdown",
   "id": "planned-stanley",
   "metadata": {},
   "source": [
    "## 3. `inplace` parameter\n",
    "\n",
    "This deletes the given column from the returned DataFrame. \n",
    "A new column containing cleaned WKN strings is added with a title in the format `\"{original title}_clean\"`."
   ]
  },
  {
   "cell_type": "code",
   "execution_count": null,
   "id": "formal-jason",
   "metadata": {},
   "outputs": [],
   "source": [
    "clean_de_wkn(df, column=\"wkn\", inplace=True)"
   ]
  },
  {
   "cell_type": "markdown",
   "id": "polar-australian",
   "metadata": {},
   "source": [
    "## 4. `errors` parameter"
   ]
  },
  {
   "cell_type": "markdown",
   "id": "overhead-pollution",
   "metadata": {},
   "source": [
    "### `coerce` (default)"
   ]
  },
  {
   "cell_type": "code",
   "execution_count": null,
   "id": "boolean-partnership",
   "metadata": {},
   "outputs": [],
   "source": [
    "clean_de_wkn(df, \"wkn\", errors=\"coerce\")"
   ]
  },
  {
   "cell_type": "markdown",
   "id": "blond-dictionary",
   "metadata": {},
   "source": [
    "### `ignore`"
   ]
  },
  {
   "cell_type": "code",
   "execution_count": null,
   "id": "cathedral-inflation",
   "metadata": {},
   "outputs": [],
   "source": [
    "clean_de_wkn(df, \"wkn\", errors=\"ignore\")"
   ]
  },
  {
   "cell_type": "markdown",
   "id": "clean-keeping",
   "metadata": {},
   "source": [
    "## 4. `validate_de_wkn()`"
   ]
  },
  {
   "cell_type": "markdown",
   "id": "incoming-sphere",
   "metadata": {},
   "source": [
    "`validate_de_wkn()` returns `True` when the input is a valid WKN. Otherwise it returns `False`.\n",
    "\n",
    "The input of `validate_de_wkn()` can be a string, a Pandas DataSeries, a Dask DataSeries, a Pandas DataFrame and a dask DataFrame.\n",
    "\n",
    "When the input is a string, a Pandas DataSeries or a Dask DataSeries, user doesn't need to specify a column name to be validated. \n",
    "\n",
    "When the input is a Pandas DataFrame or a dask DataFrame, user can both specify or not specify a column name to be validated. If user specify the column name, `validate_de_wkn()` only returns the validation result for the specified column. If user doesn't specify the column name, `validate_de_wkn()` returns the validation result for the whole DataFrame."
   ]
  },
  {
   "cell_type": "code",
   "execution_count": null,
   "id": "potential-beauty",
   "metadata": {},
   "outputs": [],
   "source": [
    "from dataprep.clean import validate_de_wkn\n",
    "print(validate_de_wkn('A0MNRK'))\n",
    "print(validate_de_wkn('AOMNRK'))\n",
    "print(validate_de_wkn('7542011030'))\n",
    "print(validate_de_wkn('7552A10004'))\n",
    "print(validate_de_wkn('8019010008'))\n",
    "print(validate_de_wkn(\"hello\"))\n",
    "print(validate_de_wkn(np.nan))\n",
    "print(validate_de_wkn(\"NULL\"))"
   ]
  },
  {
   "cell_type": "markdown",
   "id": "infinite-gender",
   "metadata": {},
   "source": [
    "### Series"
   ]
  },
  {
   "cell_type": "code",
   "execution_count": null,
   "id": "streaming-seventh",
   "metadata": {},
   "outputs": [],
   "source": [
    "validate_de_wkn(df[\"wkn\"])"
   ]
  },
  {
   "cell_type": "markdown",
   "id": "promising-acquisition",
   "metadata": {},
   "source": [
    "### DataFrame + Specify Column"
   ]
  },
  {
   "cell_type": "code",
   "execution_count": null,
   "id": "diagnostic-verse",
   "metadata": {},
   "outputs": [],
   "source": [
    "validate_de_wkn(df, column=\"wkn\")"
   ]
  },
  {
   "cell_type": "markdown",
   "id": "concrete-integrity",
   "metadata": {},
   "source": [
    "### Only DataFrame"
   ]
  },
  {
   "cell_type": "code",
   "execution_count": null,
   "id": "coordinate-operations",
   "metadata": {},
   "outputs": [],
   "source": [
    "validate_de_wkn(df)"
   ]
  },
  {
   "cell_type": "code",
   "execution_count": null,
   "id": "suffering-premium",
   "metadata": {},
   "outputs": [],
   "source": []
  }
 ],
 "metadata": {
  "kernelspec": {
   "display_name": "Python 3",
   "language": "python",
   "name": "python3"
  },
  "language_info": {
   "codemirror_mode": {
    "name": "ipython",
    "version": 3
   },
   "file_extension": ".py",
   "mimetype": "text/x-python",
   "name": "python",
   "nbconvert_exporter": "python",
   "pygments_lexer": "ipython3",
   "version": "3.6.12"
  }
 },
 "nbformat": 4,
 "nbformat_minor": 5
}
